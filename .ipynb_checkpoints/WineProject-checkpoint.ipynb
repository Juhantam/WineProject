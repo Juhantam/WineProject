{
 "cells": [
  {
   "cell_type": "code",
   "execution_count": 63,
   "metadata": {},
   "outputs": [
    {
     "name": "stdout",
     "output_type": "stream",
     "text": [
      "Hello wine!\n"
     ]
    }
   ],
   "source": [
    "print(\"Hello wine!\")"
   ]
  },
  {
   "cell_type": "code",
   "execution_count": 64,
   "metadata": {},
   "outputs": [
    {
     "data": {
      "text/html": [
       "<div>\n",
       "<style scoped>\n",
       "    .dataframe tbody tr th:only-of-type {\n",
       "        vertical-align: middle;\n",
       "    }\n",
       "\n",
       "    .dataframe tbody tr th {\n",
       "        vertical-align: top;\n",
       "    }\n",
       "\n",
       "    .dataframe thead th {\n",
       "        text-align: right;\n",
       "    }\n",
       "</style>\n",
       "<table border=\"1\" class=\"dataframe\">\n",
       "  <thead>\n",
       "    <tr style=\"text-align: right;\">\n",
       "      <th></th>\n",
       "      <th>country</th>\n",
       "      <th>description</th>\n",
       "      <th>designation</th>\n",
       "      <th>points</th>\n",
       "      <th>price</th>\n",
       "      <th>province</th>\n",
       "      <th>region_1</th>\n",
       "      <th>region_2</th>\n",
       "      <th>taster_name</th>\n",
       "      <th>taster_twitter_handle</th>\n",
       "      <th>title</th>\n",
       "      <th>variety</th>\n",
       "      <th>winery</th>\n",
       "    </tr>\n",
       "  </thead>\n",
       "  <tbody>\n",
       "    <tr>\n",
       "      <th>0</th>\n",
       "      <td>Italy</td>\n",
       "      <td>Aromas include tropical fruit, broom, brimston...</td>\n",
       "      <td>Vulkà Bianco</td>\n",
       "      <td>87</td>\n",
       "      <td>NaN</td>\n",
       "      <td>Sicily &amp; Sardinia</td>\n",
       "      <td>Etna</td>\n",
       "      <td>NaN</td>\n",
       "      <td>Kerin O’Keefe</td>\n",
       "      <td>@kerinokeefe</td>\n",
       "      <td>Nicosia 2013 Vulkà Bianco  (Etna)</td>\n",
       "      <td>White Blend</td>\n",
       "      <td>Nicosia</td>\n",
       "    </tr>\n",
       "    <tr>\n",
       "      <th>1</th>\n",
       "      <td>Portugal</td>\n",
       "      <td>This is ripe and fruity, a wine that is smooth...</td>\n",
       "      <td>Avidagos</td>\n",
       "      <td>87</td>\n",
       "      <td>15.0</td>\n",
       "      <td>Douro</td>\n",
       "      <td>NaN</td>\n",
       "      <td>NaN</td>\n",
       "      <td>Roger Voss</td>\n",
       "      <td>@vossroger</td>\n",
       "      <td>Quinta dos Avidagos 2011 Avidagos Red (Douro)</td>\n",
       "      <td>Portuguese Red</td>\n",
       "      <td>Quinta dos Avidagos</td>\n",
       "    </tr>\n",
       "    <tr>\n",
       "      <th>2</th>\n",
       "      <td>US</td>\n",
       "      <td>Tart and snappy, the flavors of lime flesh and...</td>\n",
       "      <td>NaN</td>\n",
       "      <td>87</td>\n",
       "      <td>14.0</td>\n",
       "      <td>Oregon</td>\n",
       "      <td>Willamette Valley</td>\n",
       "      <td>Willamette Valley</td>\n",
       "      <td>Paul Gregutt</td>\n",
       "      <td>@paulgwine</td>\n",
       "      <td>Rainstorm 2013 Pinot Gris (Willamette Valley)</td>\n",
       "      <td>Pinot Gris</td>\n",
       "      <td>Rainstorm</td>\n",
       "    </tr>\n",
       "    <tr>\n",
       "      <th>3</th>\n",
       "      <td>US</td>\n",
       "      <td>Pineapple rind, lemon pith and orange blossom ...</td>\n",
       "      <td>Reserve Late Harvest</td>\n",
       "      <td>87</td>\n",
       "      <td>13.0</td>\n",
       "      <td>Michigan</td>\n",
       "      <td>Lake Michigan Shore</td>\n",
       "      <td>NaN</td>\n",
       "      <td>Alexander Peartree</td>\n",
       "      <td>NaN</td>\n",
       "      <td>St. Julian 2013 Reserve Late Harvest Riesling ...</td>\n",
       "      <td>Riesling</td>\n",
       "      <td>St. Julian</td>\n",
       "    </tr>\n",
       "    <tr>\n",
       "      <th>4</th>\n",
       "      <td>US</td>\n",
       "      <td>Much like the regular bottling from 2012, this...</td>\n",
       "      <td>Vintner's Reserve Wild Child Block</td>\n",
       "      <td>87</td>\n",
       "      <td>65.0</td>\n",
       "      <td>Oregon</td>\n",
       "      <td>Willamette Valley</td>\n",
       "      <td>Willamette Valley</td>\n",
       "      <td>Paul Gregutt</td>\n",
       "      <td>@paulgwine</td>\n",
       "      <td>Sweet Cheeks 2012 Vintner's Reserve Wild Child...</td>\n",
       "      <td>Pinot Noir</td>\n",
       "      <td>Sweet Cheeks</td>\n",
       "    </tr>\n",
       "    <tr>\n",
       "      <th>...</th>\n",
       "      <td>...</td>\n",
       "      <td>...</td>\n",
       "      <td>...</td>\n",
       "      <td>...</td>\n",
       "      <td>...</td>\n",
       "      <td>...</td>\n",
       "      <td>...</td>\n",
       "      <td>...</td>\n",
       "      <td>...</td>\n",
       "      <td>...</td>\n",
       "      <td>...</td>\n",
       "      <td>...</td>\n",
       "      <td>...</td>\n",
       "    </tr>\n",
       "    <tr>\n",
       "      <th>129966</th>\n",
       "      <td>Germany</td>\n",
       "      <td>Notes of honeysuckle and cantaloupe sweeten th...</td>\n",
       "      <td>Brauneberger Juffer-Sonnenuhr Spätlese</td>\n",
       "      <td>90</td>\n",
       "      <td>28.0</td>\n",
       "      <td>Mosel</td>\n",
       "      <td>NaN</td>\n",
       "      <td>NaN</td>\n",
       "      <td>Anna Lee C. Iijima</td>\n",
       "      <td>NaN</td>\n",
       "      <td>Dr. H. Thanisch (Erben Müller-Burggraef) 2013 ...</td>\n",
       "      <td>Riesling</td>\n",
       "      <td>Dr. H. Thanisch (Erben Müller-Burggraef)</td>\n",
       "    </tr>\n",
       "    <tr>\n",
       "      <th>129967</th>\n",
       "      <td>US</td>\n",
       "      <td>Citation is given as much as a decade of bottl...</td>\n",
       "      <td>NaN</td>\n",
       "      <td>90</td>\n",
       "      <td>75.0</td>\n",
       "      <td>Oregon</td>\n",
       "      <td>Oregon</td>\n",
       "      <td>Oregon Other</td>\n",
       "      <td>Paul Gregutt</td>\n",
       "      <td>@paulgwine</td>\n",
       "      <td>Citation 2004 Pinot Noir (Oregon)</td>\n",
       "      <td>Pinot Noir</td>\n",
       "      <td>Citation</td>\n",
       "    </tr>\n",
       "    <tr>\n",
       "      <th>129968</th>\n",
       "      <td>France</td>\n",
       "      <td>Well-drained gravel soil gives this wine its c...</td>\n",
       "      <td>Kritt</td>\n",
       "      <td>90</td>\n",
       "      <td>30.0</td>\n",
       "      <td>Alsace</td>\n",
       "      <td>Alsace</td>\n",
       "      <td>NaN</td>\n",
       "      <td>Roger Voss</td>\n",
       "      <td>@vossroger</td>\n",
       "      <td>Domaine Gresser 2013 Kritt Gewurztraminer (Als...</td>\n",
       "      <td>Gewürztraminer</td>\n",
       "      <td>Domaine Gresser</td>\n",
       "    </tr>\n",
       "    <tr>\n",
       "      <th>129969</th>\n",
       "      <td>France</td>\n",
       "      <td>A dry style of Pinot Gris, this is crisp with ...</td>\n",
       "      <td>NaN</td>\n",
       "      <td>90</td>\n",
       "      <td>32.0</td>\n",
       "      <td>Alsace</td>\n",
       "      <td>Alsace</td>\n",
       "      <td>NaN</td>\n",
       "      <td>Roger Voss</td>\n",
       "      <td>@vossroger</td>\n",
       "      <td>Domaine Marcel Deiss 2012 Pinot Gris (Alsace)</td>\n",
       "      <td>Pinot Gris</td>\n",
       "      <td>Domaine Marcel Deiss</td>\n",
       "    </tr>\n",
       "    <tr>\n",
       "      <th>129970</th>\n",
       "      <td>France</td>\n",
       "      <td>Big, rich and off-dry, this is powered by inte...</td>\n",
       "      <td>Lieu-dit Harth Cuvée Caroline</td>\n",
       "      <td>90</td>\n",
       "      <td>21.0</td>\n",
       "      <td>Alsace</td>\n",
       "      <td>Alsace</td>\n",
       "      <td>NaN</td>\n",
       "      <td>Roger Voss</td>\n",
       "      <td>@vossroger</td>\n",
       "      <td>Domaine Schoffit 2012 Lieu-dit Harth Cuvée Car...</td>\n",
       "      <td>Gewürztraminer</td>\n",
       "      <td>Domaine Schoffit</td>\n",
       "    </tr>\n",
       "  </tbody>\n",
       "</table>\n",
       "<p>129971 rows × 13 columns</p>\n",
       "</div>"
      ],
      "text/plain": [
       "         country                                        description  \\\n",
       "0          Italy  Aromas include tropical fruit, broom, brimston...   \n",
       "1       Portugal  This is ripe and fruity, a wine that is smooth...   \n",
       "2             US  Tart and snappy, the flavors of lime flesh and...   \n",
       "3             US  Pineapple rind, lemon pith and orange blossom ...   \n",
       "4             US  Much like the regular bottling from 2012, this...   \n",
       "...          ...                                                ...   \n",
       "129966   Germany  Notes of honeysuckle and cantaloupe sweeten th...   \n",
       "129967        US  Citation is given as much as a decade of bottl...   \n",
       "129968    France  Well-drained gravel soil gives this wine its c...   \n",
       "129969    France  A dry style of Pinot Gris, this is crisp with ...   \n",
       "129970    France  Big, rich and off-dry, this is powered by inte...   \n",
       "\n",
       "                                   designation  points  price  \\\n",
       "0                                 Vulkà Bianco      87    NaN   \n",
       "1                                     Avidagos      87   15.0   \n",
       "2                                          NaN      87   14.0   \n",
       "3                         Reserve Late Harvest      87   13.0   \n",
       "4           Vintner's Reserve Wild Child Block      87   65.0   \n",
       "...                                        ...     ...    ...   \n",
       "129966  Brauneberger Juffer-Sonnenuhr Spätlese      90   28.0   \n",
       "129967                                     NaN      90   75.0   \n",
       "129968                                   Kritt      90   30.0   \n",
       "129969                                     NaN      90   32.0   \n",
       "129970           Lieu-dit Harth Cuvée Caroline      90   21.0   \n",
       "\n",
       "                 province             region_1           region_2  \\\n",
       "0       Sicily & Sardinia                 Etna                NaN   \n",
       "1                   Douro                  NaN                NaN   \n",
       "2                  Oregon    Willamette Valley  Willamette Valley   \n",
       "3                Michigan  Lake Michigan Shore                NaN   \n",
       "4                  Oregon    Willamette Valley  Willamette Valley   \n",
       "...                   ...                  ...                ...   \n",
       "129966              Mosel                  NaN                NaN   \n",
       "129967             Oregon               Oregon       Oregon Other   \n",
       "129968             Alsace               Alsace                NaN   \n",
       "129969             Alsace               Alsace                NaN   \n",
       "129970             Alsace               Alsace                NaN   \n",
       "\n",
       "               taster_name taster_twitter_handle  \\\n",
       "0            Kerin O’Keefe          @kerinokeefe   \n",
       "1               Roger Voss            @vossroger   \n",
       "2             Paul Gregutt           @paulgwine    \n",
       "3       Alexander Peartree                   NaN   \n",
       "4             Paul Gregutt           @paulgwine    \n",
       "...                    ...                   ...   \n",
       "129966  Anna Lee C. Iijima                   NaN   \n",
       "129967        Paul Gregutt           @paulgwine    \n",
       "129968          Roger Voss            @vossroger   \n",
       "129969          Roger Voss            @vossroger   \n",
       "129970          Roger Voss            @vossroger   \n",
       "\n",
       "                                                    title         variety  \\\n",
       "0                       Nicosia 2013 Vulkà Bianco  (Etna)     White Blend   \n",
       "1           Quinta dos Avidagos 2011 Avidagos Red (Douro)  Portuguese Red   \n",
       "2           Rainstorm 2013 Pinot Gris (Willamette Valley)      Pinot Gris   \n",
       "3       St. Julian 2013 Reserve Late Harvest Riesling ...        Riesling   \n",
       "4       Sweet Cheeks 2012 Vintner's Reserve Wild Child...      Pinot Noir   \n",
       "...                                                   ...             ...   \n",
       "129966  Dr. H. Thanisch (Erben Müller-Burggraef) 2013 ...        Riesling   \n",
       "129967                  Citation 2004 Pinot Noir (Oregon)      Pinot Noir   \n",
       "129968  Domaine Gresser 2013 Kritt Gewurztraminer (Als...  Gewürztraminer   \n",
       "129969      Domaine Marcel Deiss 2012 Pinot Gris (Alsace)      Pinot Gris   \n",
       "129970  Domaine Schoffit 2012 Lieu-dit Harth Cuvée Car...  Gewürztraminer   \n",
       "\n",
       "                                          winery  \n",
       "0                                        Nicosia  \n",
       "1                            Quinta dos Avidagos  \n",
       "2                                      Rainstorm  \n",
       "3                                     St. Julian  \n",
       "4                                   Sweet Cheeks  \n",
       "...                                          ...  \n",
       "129966  Dr. H. Thanisch (Erben Müller-Burggraef)  \n",
       "129967                                  Citation  \n",
       "129968                           Domaine Gresser  \n",
       "129969                      Domaine Marcel Deiss  \n",
       "129970                          Domaine Schoffit  \n",
       "\n",
       "[129971 rows x 13 columns]"
      ]
     },
     "execution_count": 64,
     "metadata": {},
     "output_type": "execute_result"
    }
   ],
   "source": [
    "import pandas as pd\n",
    "\n",
    "df = pd.read_csv('winemag-data-130k-v2.csv')\n",
    "df = df.drop(columns=['Unnamed: 0'])\n",
    "df"
   ]
  },
  {
   "cell_type": "code",
   "execution_count": 65,
   "metadata": {},
   "outputs": [
    {
     "name": "stdout",
     "output_type": "stream",
     "text": [
      "(43,)\n"
     ]
    },
    {
     "data": {
      "text/plain": [
       "US                        54504\n",
       "France                    22093\n",
       "Italy                     19540\n",
       "Spain                      6645\n",
       "Portugal                   5691\n",
       "Chile                      4472\n",
       "Argentina                  3800\n",
       "Austria                    3345\n",
       "Australia                  2329\n",
       "Germany                    2165\n",
       "New Zealand                1419\n",
       "South Africa               1401\n",
       "Israel                      505\n",
       "Greece                      466\n",
       "Canada                      257\n",
       "Hungary                     146\n",
       "Bulgaria                    141\n",
       "Romania                     120\n",
       "Uruguay                     109\n",
       "Turkey                       90\n",
       "Slovenia                     87\n",
       "Georgia                      86\n",
       "England                      74\n",
       "Croatia                      73\n",
       "Mexico                       70\n",
       "Moldova                      59\n",
       "Brazil                       52\n",
       "Lebanon                      35\n",
       "Morocco                      28\n",
       "Peru                         16\n",
       "Ukraine                      14\n",
       "Macedonia                    12\n",
       "Czech Republic               12\n",
       "Serbia                       12\n",
       "Cyprus                       11\n",
       "India                         9\n",
       "Switzerland                   7\n",
       "Luxembourg                    6\n",
       "Bosnia and Herzegovina        2\n",
       "Armenia                       2\n",
       "China                         1\n",
       "Slovakia                      1\n",
       "Egypt                         1\n",
       "Name: country, dtype: int64"
      ]
     },
     "execution_count": 65,
     "metadata": {},
     "output_type": "execute_result"
    }
   ],
   "source": [
    "print(df.country.value_counts().shape)\n",
    "df.country.value_counts()"
   ]
  },
  {
   "cell_type": "raw",
   "metadata": {},
   "source": [
    "df.description.value_counts().shape"
   ]
  },
  {
   "cell_type": "code",
   "execution_count": 66,
   "metadata": {},
   "outputs": [
    {
     "name": "stdout",
     "output_type": "stream",
     "text": [
      "(37979,)\n"
     ]
    },
    {
     "data": {
      "text/plain": [
       "Reserve                  2009\n",
       "Estate                   1322\n",
       "Reserva                  1259\n",
       "Riserva                   698\n",
       "Estate Grown              621\n",
       "                         ... \n",
       "Il Tascante                 1\n",
       "Nico                        1\n",
       "Cuvée di Gabry Rosé         1\n",
       "La Planta                   1\n",
       "Corpus del Muni Roble       1\n",
       "Name: designation, Length: 37979, dtype: int64"
      ]
     },
     "execution_count": 66,
     "metadata": {},
     "output_type": "execute_result"
    }
   ],
   "source": [
    "print(df.designation.value_counts().shape)\n",
    "df.designation.value_counts()"
   ]
  },
  {
   "cell_type": "code",
   "execution_count": 67,
   "metadata": {},
   "outputs": [
    {
     "data": {
      "text/plain": [
       "100       19\n",
       "99        33\n",
       "98        77\n",
       "97       229\n",
       "80       397\n",
       "96       523\n",
       "81       692\n",
       "95      1535\n",
       "82      1836\n",
       "83      3025\n",
       "94      3758\n",
       "84      6480\n",
       "93      6489\n",
       "85      9530\n",
       "92      9613\n",
       "91     11359\n",
       "89     12226\n",
       "86     12600\n",
       "90     15410\n",
       "87     16933\n",
       "88     17207\n",
       "Name: points, dtype: int64"
      ]
     },
     "execution_count": 67,
     "metadata": {},
     "output_type": "execute_result"
    }
   ],
   "source": [
    "df.points.value_counts().sort_values()"
   ]
  },
  {
   "cell_type": "code",
   "execution_count": 68,
   "metadata": {},
   "outputs": [
    {
     "name": "stdout",
     "output_type": "stream",
     "text": [
      "(390,)\n",
      "4.0\n",
      "3300.0\n"
     ]
    }
   ],
   "source": [
    "print(df.price.value_counts().shape)\n",
    "print(df.price.min())\n",
    "print(df.price.max())"
   ]
  },
  {
   "cell_type": "code",
   "execution_count": 69,
   "metadata": {},
   "outputs": [
    {
     "data": {
      "text/plain": [
       "California         36247\n",
       "Washington          8639\n",
       "Bordeaux            5941\n",
       "Tuscany             5897\n",
       "Oregon              5373\n",
       "                   ...  \n",
       "Coelemu                1\n",
       "Sterea Ellada          1\n",
       "Dalmatian Coast        1\n",
       "Lemesos                1\n",
       "Central Greece         1\n",
       "Name: province, Length: 425, dtype: int64"
      ]
     },
     "execution_count": 69,
     "metadata": {},
     "output_type": "execute_result"
    }
   ],
   "source": [
    "df.province.value_counts()"
   ]
  },
  {
   "cell_type": "code",
   "execution_count": 70,
   "metadata": {},
   "outputs": [
    {
     "data": {
      "text/plain": [
       "Napa Valley                              4480\n",
       "Columbia Valley (WA)                     4124\n",
       "Russian River Valley                     3091\n",
       "California                               2629\n",
       "Paso Robles                              2350\n",
       "                                         ... \n",
       "Côtes du Roussillon Villages Caramany       1\n",
       "Breganze                                    1\n",
       "Lamezia                                     1\n",
       "Cabernet de Saumur                          1\n",
       "Lambrusco Salamino di Santa Croce           1\n",
       "Name: region_1, Length: 1229, dtype: int64"
      ]
     },
     "execution_count": 70,
     "metadata": {},
     "output_type": "execute_result"
    }
   ],
   "source": [
    "df.region_1.value_counts()"
   ]
  },
  {
   "cell_type": "code",
   "execution_count": 71,
   "metadata": {},
   "outputs": [
    {
     "data": {
      "text/plain": [
       "Central Coast        11065\n",
       "Sonoma                9028\n",
       "Columbia Valley       8103\n",
       "Napa                  6814\n",
       "Willamette Valley     3423\n",
       "California Other      2663\n",
       "Finger Lakes          1777\n",
       "Sierra Foothills      1462\n",
       "Napa-Sonoma           1169\n",
       "Central Valley        1062\n",
       "Southern Oregon        917\n",
       "Oregon Other           727\n",
       "Long Island            680\n",
       "North Coast            584\n",
       "Washington Other       534\n",
       "South Coast            272\n",
       "New York Other         231\n",
       "Name: region_2, dtype: int64"
      ]
     },
     "execution_count": 71,
     "metadata": {},
     "output_type": "execute_result"
    }
   ],
   "source": [
    "df.region_2.value_counts()"
   ]
  },
  {
   "cell_type": "code",
   "execution_count": 72,
   "metadata": {},
   "outputs": [
    {
     "data": {
      "text/plain": [
       "Roger Voss            25514\n",
       "Michael Schachner     15134\n",
       "Kerin O’Keefe         10776\n",
       "Virginie Boone         9537\n",
       "Paul Gregutt           9532\n",
       "Matt Kettmann          6332\n",
       "Joe Czerwinski         5147\n",
       "Sean P. Sullivan       4966\n",
       "Anna Lee C. Iijima     4415\n",
       "Jim Gordon             4177\n",
       "Anne Krebiehl MW       3685\n",
       "Lauren Buzzeo          1835\n",
       "Susan Kostrzewa        1085\n",
       "Mike DeSimone           514\n",
       "Jeff Jenssen            491\n",
       "Alexander Peartree      415\n",
       "Carrie Dykes            139\n",
       "Fiona Adams              27\n",
       "Christina Pickard         6\n",
       "Name: taster_name, dtype: int64"
      ]
     },
     "execution_count": 72,
     "metadata": {},
     "output_type": "execute_result"
    }
   ],
   "source": [
    "df.taster_name.value_counts()"
   ]
  },
  {
   "cell_type": "code",
   "execution_count": 73,
   "metadata": {},
   "outputs": [
    {
     "data": {
      "text/plain": [
       "Gloria Ferrer NV Sonoma Brut Sparkling (Sonoma County)                      11\n",
       "Korbel NV Brut Sparkling (California)                                        9\n",
       "Segura Viudas NV Extra Dry Sparkling (Cava)                                  8\n",
       "Gloria Ferrer NV Blanc de Noirs Sparkling (Carneros)                         7\n",
       "Ruinart NV Brut Rosé  (Champagne)                                            7\n",
       "                                                                            ..\n",
       "Del Rio 2015 Chardonnay (Rogue Valley)                                       1\n",
       "The Withers Winery 2013 Ruben Red (El Dorado)                                1\n",
       "Lasseter 2015 Voila Sauvignon Blanc-Semillon (Sonoma Valley)                 1\n",
       "Wolf Blass 2005 Yellow Label Shiraz-Cabernet Sauvignon (South Australia)     1\n",
       "Delamotte 1992 Blanc de Blancs Brut  (Champagne)                             1\n",
       "Name: title, Length: 118840, dtype: int64"
      ]
     },
     "execution_count": 73,
     "metadata": {},
     "output_type": "execute_result"
    }
   ],
   "source": [
    "df.title.value_counts()"
   ]
  },
  {
   "cell_type": "code",
   "execution_count": 74,
   "metadata": {},
   "outputs": [
    {
     "data": {
      "text/plain": [
       "Pinot Noir                  13272\n",
       "Chardonnay                  11753\n",
       "Cabernet Sauvignon           9472\n",
       "Red Blend                    8946\n",
       "Bordeaux-style Red Blend     6915\n",
       "                            ...  \n",
       "Blatina                         1\n",
       "Sauvignonasse                   1\n",
       "Tsapournakos                    1\n",
       "Irsai Oliver                    1\n",
       "Athiri                          1\n",
       "Name: variety, Length: 707, dtype: int64"
      ]
     },
     "execution_count": 74,
     "metadata": {},
     "output_type": "execute_result"
    }
   ],
   "source": [
    "df.variety.value_counts()"
   ]
  },
  {
   "cell_type": "code",
   "execution_count": 75,
   "metadata": {},
   "outputs": [
    {
     "data": {
      "text/html": [
       "<div>\n",
       "<style scoped>\n",
       "    .dataframe tbody tr th:only-of-type {\n",
       "        vertical-align: middle;\n",
       "    }\n",
       "\n",
       "    .dataframe tbody tr th {\n",
       "        vertical-align: top;\n",
       "    }\n",
       "\n",
       "    .dataframe thead th {\n",
       "        text-align: right;\n",
       "    }\n",
       "</style>\n",
       "<table border=\"1\" class=\"dataframe\">\n",
       "  <thead>\n",
       "    <tr style=\"text-align: right;\">\n",
       "      <th></th>\n",
       "      <th>points</th>\n",
       "      <th>price</th>\n",
       "    </tr>\n",
       "  </thead>\n",
       "  <tbody>\n",
       "    <tr>\n",
       "      <th>count</th>\n",
       "      <td>129971.000000</td>\n",
       "      <td>120975.000000</td>\n",
       "    </tr>\n",
       "    <tr>\n",
       "      <th>mean</th>\n",
       "      <td>88.447138</td>\n",
       "      <td>35.363389</td>\n",
       "    </tr>\n",
       "    <tr>\n",
       "      <th>std</th>\n",
       "      <td>3.039730</td>\n",
       "      <td>41.022218</td>\n",
       "    </tr>\n",
       "    <tr>\n",
       "      <th>min</th>\n",
       "      <td>80.000000</td>\n",
       "      <td>4.000000</td>\n",
       "    </tr>\n",
       "    <tr>\n",
       "      <th>25%</th>\n",
       "      <td>86.000000</td>\n",
       "      <td>17.000000</td>\n",
       "    </tr>\n",
       "    <tr>\n",
       "      <th>50%</th>\n",
       "      <td>88.000000</td>\n",
       "      <td>25.000000</td>\n",
       "    </tr>\n",
       "    <tr>\n",
       "      <th>75%</th>\n",
       "      <td>91.000000</td>\n",
       "      <td>42.000000</td>\n",
       "    </tr>\n",
       "    <tr>\n",
       "      <th>max</th>\n",
       "      <td>100.000000</td>\n",
       "      <td>3300.000000</td>\n",
       "    </tr>\n",
       "  </tbody>\n",
       "</table>\n",
       "</div>"
      ],
      "text/plain": [
       "              points          price\n",
       "count  129971.000000  120975.000000\n",
       "mean       88.447138      35.363389\n",
       "std         3.039730      41.022218\n",
       "min        80.000000       4.000000\n",
       "25%        86.000000      17.000000\n",
       "50%        88.000000      25.000000\n",
       "75%        91.000000      42.000000\n",
       "max       100.000000    3300.000000"
      ]
     },
     "execution_count": 75,
     "metadata": {},
     "output_type": "execute_result"
    }
   ],
   "source": [
    "df.describe()"
   ]
  },
  {
   "cell_type": "code",
   "execution_count": 76,
   "metadata": {},
   "outputs": [
    {
     "name": "stdout",
     "output_type": "stream",
     "text": [
      "             price\n",
      "points            \n",
      "100     485.947368\n",
      "99      284.214286\n",
      "98      245.492754\n",
      "97      207.173913\n",
      "96      159.292531\n",
      "95      109.235420\n",
      "94       81.436938\n",
      "93       63.112216\n",
      "92       51.037763\n",
      "91       43.224252\n",
      "90       36.906622\n",
      "89       32.169640\n",
      "88       28.687523\n",
      "87       24.901884\n",
      "86       22.133759\n",
      "85       19.949562\n",
      "84       19.310215\n",
      "83       18.237353\n",
      "82       18.870767\n",
      "81       17.182353\n",
      "80       16.372152\n"
     ]
    },
    {
     "data": {
      "text/plain": [
       "<AxesSubplot:xlabel='points'>"
      ]
     },
     "execution_count": 76,
     "metadata": {},
     "output_type": "execute_result"
    },
    {
     "data": {
      "image/png": "[encoded data removed]",
      "text/plain": [
       "<Figure size 432x288 with 1 Axes>"
      ]
     },
     "metadata": {
      "needs_background": "light"
     },
     "output_type": "display_data"
    }
   ],
   "source": [
    "import matplotlib.pyplot as plt\n",
    "groupedByPoints = df.groupby(\"points\").mean().sort_values(\"points\", ascending=False)\n",
    "print(groupedByPoints)\n",
    "groupedByPoints.plot(kind = \"bar\")"
   ]
  },
  {
   "cell_type": "code",
   "execution_count": 77,
   "metadata": {},
   "outputs": [
    {
     "name": "stdout",
     "output_type": "stream",
     "text": [
      "           points\n",
      "price            \n",
      "3300.0  88.000000\n",
      "2500.0  96.000000\n",
      "2013.0  91.000000\n",
      "2000.0  96.500000\n",
      "1900.0  98.000000\n",
      "...           ...\n",
      "8.0     84.628924\n",
      "7.0     84.450346\n",
      "6.0     84.341667\n",
      "5.0     83.586957\n",
      "4.0     84.272727\n",
      "\n",
      "[390 rows x 1 columns]\n"
     ]
    },
    {
     "data": {
      "text/plain": [
       "<AxesSubplot:xlabel='price'>"
      ]
     },
     "execution_count": 77,
     "metadata": {},
     "output_type": "execute_result"
    },
    {
     "data": {
      "image/png": "[encoded data removed]",
      "text/plain": [
       "<Figure size 432x288 with 1 Axes>"
      ]
     },
     "metadata": {
      "needs_background": "light"
     },
     "output_type": "display_data"
    },
    {
     "data": {
      "image/png": "[encoded data removed]",
      "text/plain": [
       "<Figure size 432x288 with 1 Axes>"
      ]
     },
     "metadata": {
      "needs_background": "light"
     },
     "output_type": "display_data"
    },
    {
     "data": {
      "image/png": "[encoded data removed]",
      "text/plain": [
       "<Figure size 432x288 with 1 Axes>"
      ]
     },
     "metadata": {
      "needs_background": "light"
     },
     "output_type": "display_data"
    }
   ],
   "source": [
    "groupedByPrice = df.groupby(\"price\").mean().sort_values(\"price\", ascending=False)\n",
    "print(groupedByPrice)\n",
    "plt.scatter(groupedByPrice.index, groupedByPrice.points)\n",
    "groupedByPrice.head(20).plot(kind = \"bar\")\n",
    "groupedByPrice.tail(20).plot(kind = \"bar\")"
   ]
  },
  {
   "cell_type": "code",
   "execution_count": 78,
   "metadata": {},
   "outputs": [
    {
     "data": {
      "text/html": [
       "<div>\n",
       "<style scoped>\n",
       "    .dataframe tbody tr th:only-of-type {\n",
       "        vertical-align: middle;\n",
       "    }\n",
       "\n",
       "    .dataframe tbody tr th {\n",
       "        vertical-align: top;\n",
       "    }\n",
       "\n",
       "    .dataframe thead th {\n",
       "        text-align: right;\n",
       "    }\n",
       "</style>\n",
       "<table border=\"1\" class=\"dataframe\">\n",
       "  <thead>\n",
       "    <tr style=\"text-align: right;\">\n",
       "      <th></th>\n",
       "      <th>country</th>\n",
       "      <th>description</th>\n",
       "      <th>designation</th>\n",
       "      <th>points</th>\n",
       "      <th>price</th>\n",
       "      <th>province</th>\n",
       "      <th>region_1</th>\n",
       "      <th>region_2</th>\n",
       "      <th>taster_name</th>\n",
       "      <th>taster_twitter_handle</th>\n",
       "      <th>title</th>\n",
       "      <th>variety</th>\n",
       "      <th>winery</th>\n",
       "    </tr>\n",
       "  </thead>\n",
       "  <tbody>\n",
       "    <tr>\n",
       "      <th>114972</th>\n",
       "      <td>Portugal</td>\n",
       "      <td>A powerful and ripe wine, strongly influenced ...</td>\n",
       "      <td>Nacional Vintage</td>\n",
       "      <td>100</td>\n",
       "      <td>650.0</td>\n",
       "      <td>Port</td>\n",
       "      <td>NaN</td>\n",
       "      <td>NaN</td>\n",
       "      <td>Roger Voss</td>\n",
       "      <td>@vossroger</td>\n",
       "      <td>Quinta do Noval 2011 Nacional Vintage  (Port)</td>\n",
       "      <td>Port</td>\n",
       "      <td>Quinta do Noval</td>\n",
       "    </tr>\n",
       "    <tr>\n",
       "      <th>89729</th>\n",
       "      <td>France</td>\n",
       "      <td>This new release from a great vintage for Char...</td>\n",
       "      <td>Le Mesnil Blanc de Blancs Brut</td>\n",
       "      <td>100</td>\n",
       "      <td>617.0</td>\n",
       "      <td>Champagne</td>\n",
       "      <td>Champagne</td>\n",
       "      <td>NaN</td>\n",
       "      <td>Roger Voss</td>\n",
       "      <td>@vossroger</td>\n",
       "      <td>Salon 2006 Le Mesnil Blanc de Blancs Brut Char...</td>\n",
       "      <td>Chardonnay</td>\n",
       "      <td>Salon</td>\n",
       "    </tr>\n",
       "    <tr>\n",
       "      <th>113929</th>\n",
       "      <td>US</td>\n",
       "      <td>In 2005 Charles Smith introduced three high-en...</td>\n",
       "      <td>Royal City</td>\n",
       "      <td>100</td>\n",
       "      <td>80.0</td>\n",
       "      <td>Washington</td>\n",
       "      <td>Columbia Valley (WA)</td>\n",
       "      <td>Columbia Valley</td>\n",
       "      <td>Paul Gregutt</td>\n",
       "      <td>@paulgwine</td>\n",
       "      <td>Charles Smith 2006 Royal City Syrah (Columbia ...</td>\n",
       "      <td>Syrah</td>\n",
       "      <td>Charles Smith</td>\n",
       "    </tr>\n",
       "    <tr>\n",
       "      <th>45781</th>\n",
       "      <td>Italy</td>\n",
       "      <td>This gorgeous, fragrant wine opens with classi...</td>\n",
       "      <td>Riserva</td>\n",
       "      <td>100</td>\n",
       "      <td>550.0</td>\n",
       "      <td>Tuscany</td>\n",
       "      <td>Brunello di Montalcino</td>\n",
       "      <td>NaN</td>\n",
       "      <td>Kerin O’Keefe</td>\n",
       "      <td>@kerinokeefe</td>\n",
       "      <td>Biondi Santi 2010 Riserva  (Brunello di Montal...</td>\n",
       "      <td>Sangiovese</td>\n",
       "      <td>Biondi Santi</td>\n",
       "    </tr>\n",
       "    <tr>\n",
       "      <th>123545</th>\n",
       "      <td>US</td>\n",
       "      <td>Initially a rather subdued Frog; as if it has ...</td>\n",
       "      <td>Bionic Frog</td>\n",
       "      <td>100</td>\n",
       "      <td>80.0</td>\n",
       "      <td>Washington</td>\n",
       "      <td>Walla Walla Valley (WA)</td>\n",
       "      <td>Columbia Valley</td>\n",
       "      <td>Paul Gregutt</td>\n",
       "      <td>@paulgwine</td>\n",
       "      <td>Cayuse 2008 Bionic Frog Syrah (Walla Walla Val...</td>\n",
       "      <td>Syrah</td>\n",
       "      <td>Cayuse</td>\n",
       "    </tr>\n",
       "    <tr>\n",
       "      <th>118058</th>\n",
       "      <td>US</td>\n",
       "      <td>This wine dazzles with perfection. Sourced fro...</td>\n",
       "      <td>La Muse</td>\n",
       "      <td>100</td>\n",
       "      <td>450.0</td>\n",
       "      <td>California</td>\n",
       "      <td>Sonoma County</td>\n",
       "      <td>Sonoma</td>\n",
       "      <td>NaN</td>\n",
       "      <td>NaN</td>\n",
       "      <td>Verité 2007 La Muse Red (Sonoma County)</td>\n",
       "      <td>Bordeaux-style Red Blend</td>\n",
       "      <td>Verité</td>\n",
       "    </tr>\n",
       "    <tr>\n",
       "      <th>42197</th>\n",
       "      <td>Portugal</td>\n",
       "      <td>This is the latest release of what has long be...</td>\n",
       "      <td>Barca-Velha</td>\n",
       "      <td>100</td>\n",
       "      <td>450.0</td>\n",
       "      <td>Douro</td>\n",
       "      <td>NaN</td>\n",
       "      <td>NaN</td>\n",
       "      <td>Roger Voss</td>\n",
       "      <td>@vossroger</td>\n",
       "      <td>Casa Ferreirinha 2008 Barca-Velha Red (Douro)</td>\n",
       "      <td>Portuguese Red</td>\n",
       "      <td>Casa Ferreirinha</td>\n",
       "    </tr>\n",
       "    <tr>\n",
       "      <th>111756</th>\n",
       "      <td>France</td>\n",
       "      <td>A hugely powerful wine, full of dark, brooding...</td>\n",
       "      <td>NaN</td>\n",
       "      <td>100</td>\n",
       "      <td>359.0</td>\n",
       "      <td>Bordeaux</td>\n",
       "      <td>Saint-Julien</td>\n",
       "      <td>NaN</td>\n",
       "      <td>Roger Voss</td>\n",
       "      <td>@vossroger</td>\n",
       "      <td>Château Léoville Las Cases 2010  Saint-Julien</td>\n",
       "      <td>Bordeaux-style Red Blend</td>\n",
       "      <td>Château Léoville Las Cases</td>\n",
       "    </tr>\n",
       "    <tr>\n",
       "      <th>111755</th>\n",
       "      <td>France</td>\n",
       "      <td>This is the finest Cheval Blanc for many years...</td>\n",
       "      <td>NaN</td>\n",
       "      <td>100</td>\n",
       "      <td>1500.0</td>\n",
       "      <td>Bordeaux</td>\n",
       "      <td>Saint-Émilion</td>\n",
       "      <td>NaN</td>\n",
       "      <td>Roger Voss</td>\n",
       "      <td>@vossroger</td>\n",
       "      <td>Château Cheval Blanc 2010  Saint-Émilion</td>\n",
       "      <td>Bordeaux-style Red Blend</td>\n",
       "      <td>Château Cheval Blanc</td>\n",
       "    </tr>\n",
       "    <tr>\n",
       "      <th>111754</th>\n",
       "      <td>Italy</td>\n",
       "      <td>It takes only a few moments before you appreci...</td>\n",
       "      <td>Cerretalto</td>\n",
       "      <td>100</td>\n",
       "      <td>270.0</td>\n",
       "      <td>Tuscany</td>\n",
       "      <td>Brunello di Montalcino</td>\n",
       "      <td>NaN</td>\n",
       "      <td>NaN</td>\n",
       "      <td>NaN</td>\n",
       "      <td>Casanova di Neri 2007 Cerretalto  (Brunello di...</td>\n",
       "      <td>Sangiovese Grosso</td>\n",
       "      <td>Casanova di Neri</td>\n",
       "    </tr>\n",
       "  </tbody>\n",
       "</table>\n",
       "</div>"
      ],
      "text/plain": [
       "         country                                        description  \\\n",
       "114972  Portugal  A powerful and ripe wine, strongly influenced ...   \n",
       "89729     France  This new release from a great vintage for Char...   \n",
       "113929        US  In 2005 Charles Smith introduced three high-en...   \n",
       "45781      Italy  This gorgeous, fragrant wine opens with classi...   \n",
       "123545        US  Initially a rather subdued Frog; as if it has ...   \n",
       "118058        US  This wine dazzles with perfection. Sourced fro...   \n",
       "42197   Portugal  This is the latest release of what has long be...   \n",
       "111756    France  A hugely powerful wine, full of dark, brooding...   \n",
       "111755    France  This is the finest Cheval Blanc for many years...   \n",
       "111754     Italy  It takes only a few moments before you appreci...   \n",
       "\n",
       "                           designation  points   price    province  \\\n",
       "114972                Nacional Vintage     100   650.0        Port   \n",
       "89729   Le Mesnil Blanc de Blancs Brut     100   617.0   Champagne   \n",
       "113929                      Royal City     100    80.0  Washington   \n",
       "45781                          Riserva     100   550.0     Tuscany   \n",
       "123545                     Bionic Frog     100    80.0  Washington   \n",
       "118058                         La Muse     100   450.0  California   \n",
       "42197                      Barca-Velha     100   450.0       Douro   \n",
       "111756                             NaN     100   359.0    Bordeaux   \n",
       "111755                             NaN     100  1500.0    Bordeaux   \n",
       "111754                      Cerretalto     100   270.0     Tuscany   \n",
       "\n",
       "                       region_1         region_2    taster_name  \\\n",
       "114972                      NaN              NaN     Roger Voss   \n",
       "89729                 Champagne              NaN     Roger Voss   \n",
       "113929     Columbia Valley (WA)  Columbia Valley   Paul Gregutt   \n",
       "45781    Brunello di Montalcino              NaN  Kerin O’Keefe   \n",
       "123545  Walla Walla Valley (WA)  Columbia Valley   Paul Gregutt   \n",
       "118058            Sonoma County           Sonoma            NaN   \n",
       "42197                       NaN              NaN     Roger Voss   \n",
       "111756             Saint-Julien              NaN     Roger Voss   \n",
       "111755            Saint-Émilion              NaN     Roger Voss   \n",
       "111754   Brunello di Montalcino              NaN            NaN   \n",
       "\n",
       "       taster_twitter_handle  \\\n",
       "114972            @vossroger   \n",
       "89729             @vossroger   \n",
       "113929           @paulgwine    \n",
       "45781           @kerinokeefe   \n",
       "123545           @paulgwine    \n",
       "118058                   NaN   \n",
       "42197             @vossroger   \n",
       "111756            @vossroger   \n",
       "111755            @vossroger   \n",
       "111754                   NaN   \n",
       "\n",
       "                                                    title  \\\n",
       "114972      Quinta do Noval 2011 Nacional Vintage  (Port)   \n",
       "89729   Salon 2006 Le Mesnil Blanc de Blancs Brut Char...   \n",
       "113929  Charles Smith 2006 Royal City Syrah (Columbia ...   \n",
       "45781   Biondi Santi 2010 Riserva  (Brunello di Montal...   \n",
       "123545  Cayuse 2008 Bionic Frog Syrah (Walla Walla Val...   \n",
       "118058            Verité 2007 La Muse Red (Sonoma County)   \n",
       "42197       Casa Ferreirinha 2008 Barca-Velha Red (Douro)   \n",
       "111756      Château Léoville Las Cases 2010  Saint-Julien   \n",
       "111755           Château Cheval Blanc 2010  Saint-Émilion   \n",
       "111754  Casanova di Neri 2007 Cerretalto  (Brunello di...   \n",
       "\n",
       "                         variety                      winery  \n",
       "114972                      Port             Quinta do Noval  \n",
       "89729                 Chardonnay                       Salon  \n",
       "113929                     Syrah               Charles Smith  \n",
       "45781                 Sangiovese                Biondi Santi  \n",
       "123545                     Syrah                      Cayuse  \n",
       "118058  Bordeaux-style Red Blend                      Verité  \n",
       "42197             Portuguese Red            Casa Ferreirinha  \n",
       "111756  Bordeaux-style Red Blend  Château Léoville Las Cases  \n",
       "111755  Bordeaux-style Red Blend        Château Cheval Blanc  \n",
       "111754         Sangiovese Grosso            Casanova di Neri  "
      ]
     },
     "execution_count": 78,
     "metadata": {},
     "output_type": "execute_result"
    }
   ],
   "source": [
    "df.sort_values(\"points\", ascending=False).head(10)"
   ]
  },
  {
   "cell_type": "code",
   "execution_count": 79,
   "metadata": {},
   "outputs": [
    {
     "data": {
      "text/html": [
       "<div>\n",
       "<style scoped>\n",
       "    .dataframe tbody tr th:only-of-type {\n",
       "        vertical-align: middle;\n",
       "    }\n",
       "\n",
       "    .dataframe tbody tr th {\n",
       "        vertical-align: top;\n",
       "    }\n",
       "\n",
       "    .dataframe thead th {\n",
       "        text-align: right;\n",
       "    }\n",
       "</style>\n",
       "<table border=\"1\" class=\"dataframe\">\n",
       "  <thead>\n",
       "    <tr style=\"text-align: right;\">\n",
       "      <th></th>\n",
       "      <th>country</th>\n",
       "      <th>description</th>\n",
       "      <th>designation</th>\n",
       "      <th>points</th>\n",
       "      <th>price</th>\n",
       "      <th>province</th>\n",
       "      <th>region_1</th>\n",
       "      <th>region_2</th>\n",
       "      <th>taster_name</th>\n",
       "      <th>taster_twitter_handle</th>\n",
       "      <th>title</th>\n",
       "      <th>variety</th>\n",
       "      <th>winery</th>\n",
       "    </tr>\n",
       "  </thead>\n",
       "  <tbody>\n",
       "    <tr>\n",
       "      <th>80290</th>\n",
       "      <td>France</td>\n",
       "      <td>This ripe wine shows plenty of blackberry frui...</td>\n",
       "      <td>NaN</td>\n",
       "      <td>88</td>\n",
       "      <td>3300.0</td>\n",
       "      <td>Bordeaux</td>\n",
       "      <td>Médoc</td>\n",
       "      <td>NaN</td>\n",
       "      <td>Roger Voss</td>\n",
       "      <td>@vossroger</td>\n",
       "      <td>Château les Ormes Sorbet 2013  Médoc</td>\n",
       "      <td>Bordeaux-style Red Blend</td>\n",
       "      <td>Château les Ormes Sorbet</td>\n",
       "    </tr>\n",
       "    <tr>\n",
       "      <th>15840</th>\n",
       "      <td>France</td>\n",
       "      <td>The wine is a velvet glove in an iron fist. Th...</td>\n",
       "      <td>NaN</td>\n",
       "      <td>96</td>\n",
       "      <td>2500.0</td>\n",
       "      <td>Bordeaux</td>\n",
       "      <td>Pomerol</td>\n",
       "      <td>NaN</td>\n",
       "      <td>Roger Voss</td>\n",
       "      <td>@vossroger</td>\n",
       "      <td>Château Pétrus 2014  Pomerol</td>\n",
       "      <td>Bordeaux-style Red Blend</td>\n",
       "      <td>Château Pétrus</td>\n",
       "    </tr>\n",
       "    <tr>\n",
       "      <th>98380</th>\n",
       "      <td>France</td>\n",
       "      <td>A superb wine from a great year, this is power...</td>\n",
       "      <td>NaN</td>\n",
       "      <td>96</td>\n",
       "      <td>2500.0</td>\n",
       "      <td>Burgundy</td>\n",
       "      <td>La Romanée</td>\n",
       "      <td>NaN</td>\n",
       "      <td>Roger Voss</td>\n",
       "      <td>@vossroger</td>\n",
       "      <td>Domaine du Comte Liger-Belair 2010  La Romanée</td>\n",
       "      <td>Pinot Noir</td>\n",
       "      <td>Domaine du Comte Liger-Belair</td>\n",
       "    </tr>\n",
       "    <tr>\n",
       "      <th>120391</th>\n",
       "      <td>US</td>\n",
       "      <td>The nose on this single-vineyard wine from a s...</td>\n",
       "      <td>Roger Rose Vineyard</td>\n",
       "      <td>91</td>\n",
       "      <td>2013.0</td>\n",
       "      <td>California</td>\n",
       "      <td>Arroyo Seco</td>\n",
       "      <td>Central Coast</td>\n",
       "      <td>Matt Kettmann</td>\n",
       "      <td>@mattkettmann</td>\n",
       "      <td>Blair 2013 Roger Rose Vineyard Chardonnay (Arr...</td>\n",
       "      <td>Chardonnay</td>\n",
       "      <td>Blair</td>\n",
       "    </tr>\n",
       "    <tr>\n",
       "      <th>113564</th>\n",
       "      <td>France</td>\n",
       "      <td>A wonderfully complete wine, with all the elem...</td>\n",
       "      <td>NaN</td>\n",
       "      <td>96</td>\n",
       "      <td>2000.0</td>\n",
       "      <td>Burgundy</td>\n",
       "      <td>La Romanée</td>\n",
       "      <td>NaN</td>\n",
       "      <td>Roger Voss</td>\n",
       "      <td>@vossroger</td>\n",
       "      <td>Domaine du Comte Liger-Belair 2005  La Romanée</td>\n",
       "      <td>Pinot Noir</td>\n",
       "      <td>Domaine du Comte Liger-Belair</td>\n",
       "    </tr>\n",
       "    <tr>\n",
       "      <th>65352</th>\n",
       "      <td>France</td>\n",
       "      <td>This extravagantly perfumed wine has great jui...</td>\n",
       "      <td>NaN</td>\n",
       "      <td>97</td>\n",
       "      <td>2000.0</td>\n",
       "      <td>Bordeaux</td>\n",
       "      <td>Pomerol</td>\n",
       "      <td>NaN</td>\n",
       "      <td>Roger Voss</td>\n",
       "      <td>@vossroger</td>\n",
       "      <td>Château Pétrus 2011  Pomerol</td>\n",
       "      <td>Bordeaux-style Red Blend</td>\n",
       "      <td>Château Pétrus</td>\n",
       "    </tr>\n",
       "    <tr>\n",
       "      <th>1558</th>\n",
       "      <td>France</td>\n",
       "      <td>A massive wine for Margaux, packed with tannin...</td>\n",
       "      <td>NaN</td>\n",
       "      <td>98</td>\n",
       "      <td>1900.0</td>\n",
       "      <td>Bordeaux</td>\n",
       "      <td>Margaux</td>\n",
       "      <td>NaN</td>\n",
       "      <td>Roger Voss</td>\n",
       "      <td>@vossroger</td>\n",
       "      <td>Château Margaux 2009  Margaux</td>\n",
       "      <td>Bordeaux-style Red Blend</td>\n",
       "      <td>Château Margaux</td>\n",
       "    </tr>\n",
       "    <tr>\n",
       "      <th>111753</th>\n",
       "      <td>France</td>\n",
       "      <td>Almost black in color, this stunning wine is g...</td>\n",
       "      <td>NaN</td>\n",
       "      <td>100</td>\n",
       "      <td>1500.0</td>\n",
       "      <td>Bordeaux</td>\n",
       "      <td>Pauillac</td>\n",
       "      <td>NaN</td>\n",
       "      <td>Roger Voss</td>\n",
       "      <td>@vossroger</td>\n",
       "      <td>Château Lafite Rothschild 2010  Pauillac</td>\n",
       "      <td>Bordeaux-style Red Blend</td>\n",
       "      <td>Château Lafite Rothschild</td>\n",
       "    </tr>\n",
       "    <tr>\n",
       "      <th>111755</th>\n",
       "      <td>France</td>\n",
       "      <td>This is the finest Cheval Blanc for many years...</td>\n",
       "      <td>NaN</td>\n",
       "      <td>100</td>\n",
       "      <td>1500.0</td>\n",
       "      <td>Bordeaux</td>\n",
       "      <td>Saint-Émilion</td>\n",
       "      <td>NaN</td>\n",
       "      <td>Roger Voss</td>\n",
       "      <td>@vossroger</td>\n",
       "      <td>Château Cheval Blanc 2010  Saint-Émilion</td>\n",
       "      <td>Bordeaux-style Red Blend</td>\n",
       "      <td>Château Cheval Blanc</td>\n",
       "    </tr>\n",
       "    <tr>\n",
       "      <th>1575</th>\n",
       "      <td>France</td>\n",
       "      <td>The purest Cabernet Sauvignon fruit, with dark...</td>\n",
       "      <td>NaN</td>\n",
       "      <td>96</td>\n",
       "      <td>1300.0</td>\n",
       "      <td>Bordeaux</td>\n",
       "      <td>Pauillac</td>\n",
       "      <td>NaN</td>\n",
       "      <td>Roger Voss</td>\n",
       "      <td>@vossroger</td>\n",
       "      <td>Château Mouton Rothschild 2009  Pauillac</td>\n",
       "      <td>Bordeaux-style Red Blend</td>\n",
       "      <td>Château Mouton Rothschild</td>\n",
       "    </tr>\n",
       "  </tbody>\n",
       "</table>\n",
       "</div>"
      ],
      "text/plain": [
       "       country                                        description  \\\n",
       "80290   France  This ripe wine shows plenty of blackberry frui...   \n",
       "15840   France  The wine is a velvet glove in an iron fist. Th...   \n",
       "98380   France  A superb wine from a great year, this is power...   \n",
       "120391      US  The nose on this single-vineyard wine from a s...   \n",
       "113564  France  A wonderfully complete wine, with all the elem...   \n",
       "65352   France  This extravagantly perfumed wine has great jui...   \n",
       "1558    France  A massive wine for Margaux, packed with tannin...   \n",
       "111753  France  Almost black in color, this stunning wine is g...   \n",
       "111755  France  This is the finest Cheval Blanc for many years...   \n",
       "1575    France  The purest Cabernet Sauvignon fruit, with dark...   \n",
       "\n",
       "                designation  points   price    province       region_1  \\\n",
       "80290                   NaN      88  3300.0    Bordeaux          Médoc   \n",
       "15840                   NaN      96  2500.0    Bordeaux        Pomerol   \n",
       "98380                   NaN      96  2500.0    Burgundy     La Romanée   \n",
       "120391  Roger Rose Vineyard      91  2013.0  California    Arroyo Seco   \n",
       "113564                  NaN      96  2000.0    Burgundy     La Romanée   \n",
       "65352                   NaN      97  2000.0    Bordeaux        Pomerol   \n",
       "1558                    NaN      98  1900.0    Bordeaux        Margaux   \n",
       "111753                  NaN     100  1500.0    Bordeaux       Pauillac   \n",
       "111755                  NaN     100  1500.0    Bordeaux  Saint-Émilion   \n",
       "1575                    NaN      96  1300.0    Bordeaux       Pauillac   \n",
       "\n",
       "             region_2    taster_name taster_twitter_handle  \\\n",
       "80290             NaN     Roger Voss            @vossroger   \n",
       "15840             NaN     Roger Voss            @vossroger   \n",
       "98380             NaN     Roger Voss            @vossroger   \n",
       "120391  Central Coast  Matt Kettmann         @mattkettmann   \n",
       "113564            NaN     Roger Voss            @vossroger   \n",
       "65352             NaN     Roger Voss            @vossroger   \n",
       "1558              NaN     Roger Voss            @vossroger   \n",
       "111753            NaN     Roger Voss            @vossroger   \n",
       "111755            NaN     Roger Voss            @vossroger   \n",
       "1575              NaN     Roger Voss            @vossroger   \n",
       "\n",
       "                                                    title  \\\n",
       "80290                Château les Ormes Sorbet 2013  Médoc   \n",
       "15840                        Château Pétrus 2014  Pomerol   \n",
       "98380      Domaine du Comte Liger-Belair 2010  La Romanée   \n",
       "120391  Blair 2013 Roger Rose Vineyard Chardonnay (Arr...   \n",
       "113564     Domaine du Comte Liger-Belair 2005  La Romanée   \n",
       "65352                        Château Pétrus 2011  Pomerol   \n",
       "1558                        Château Margaux 2009  Margaux   \n",
       "111753           Château Lafite Rothschild 2010  Pauillac   \n",
       "111755           Château Cheval Blanc 2010  Saint-Émilion   \n",
       "1575             Château Mouton Rothschild 2009  Pauillac   \n",
       "\n",
       "                         variety                         winery  \n",
       "80290   Bordeaux-style Red Blend       Château les Ormes Sorbet  \n",
       "15840   Bordeaux-style Red Blend                 Château Pétrus  \n",
       "98380                 Pinot Noir  Domaine du Comte Liger-Belair  \n",
       "120391                Chardonnay                          Blair  \n",
       "113564                Pinot Noir  Domaine du Comte Liger-Belair  \n",
       "65352   Bordeaux-style Red Blend                 Château Pétrus  \n",
       "1558    Bordeaux-style Red Blend                Château Margaux  \n",
       "111753  Bordeaux-style Red Blend      Château Lafite Rothschild  \n",
       "111755  Bordeaux-style Red Blend           Château Cheval Blanc  \n",
       "1575    Bordeaux-style Red Blend      Château Mouton Rothschild  "
      ]
     },
     "execution_count": 79,
     "metadata": {},
     "output_type": "execute_result"
    }
   ],
   "source": [
    "df.sort_values(\"price\", ascending=False).head(10)"
   ]
  },
  {
   "cell_type": "code",
   "execution_count": 80,
   "metadata": {},
   "outputs": [
    {
     "data": {
      "text/plain": [
       "16.372151898734177"
      ]
     },
     "execution_count": 80,
     "metadata": {},
     "output_type": "execute_result"
    }
   ],
   "source": [
    "df[df[\"points\"] == 80].price.mean()"
   ]
  },
  {
   "cell_type": "code",
   "execution_count": 81,
   "metadata": {},
   "outputs": [
    {
     "data": {
      "text/plain": [
       "36.90662210152497"
      ]
     },
     "execution_count": 81,
     "metadata": {},
     "output_type": "execute_result"
    }
   ],
   "source": [
    "df[df[\"points\"] == 90].price.mean()"
   ]
  },
  {
   "cell_type": "code",
   "execution_count": 82,
   "metadata": {},
   "outputs": [
    {
     "data": {
      "text/plain": [
       "485.94736842105266"
      ]
     },
     "execution_count": 82,
     "metadata": {},
     "output_type": "execute_result"
    }
   ],
   "source": [
    "df[df[\"points\"] == 100].price.mean()"
   ]
  },
  {
   "cell_type": "code",
   "execution_count": 83,
   "metadata": {},
   "outputs": [
    {
     "data": {
      "text/plain": [
       "95.64285714285714"
      ]
     },
     "execution_count": 83,
     "metadata": {},
     "output_type": "execute_result"
    }
   ],
   "source": [
    "df[df[\"price\"] > 1000].points.mean()"
   ]
  },
  {
   "cell_type": "code",
   "execution_count": 84,
   "metadata": {},
   "outputs": [
    {
     "data": {
      "text/plain": [
       "95.68131868131869"
      ]
     },
     "execution_count": 84,
     "metadata": {},
     "output_type": "execute_result"
    }
   ],
   "source": [
    "df[df[\"price\"] > 500].points.mean()"
   ]
  },
  {
   "cell_type": "code",
   "execution_count": 85,
   "metadata": {},
   "outputs": [
    {
     "data": {
      "text/plain": [
       "92.82055852644088"
      ]
     },
     "execution_count": 85,
     "metadata": {},
     "output_type": "execute_result"
    }
   ],
   "source": [
    "df[df[\"price\"] > 100].points.mean()"
   ]
  },
  {
   "cell_type": "code",
   "execution_count": 86,
   "metadata": {},
   "outputs": [
    {
     "data": {
      "text/plain": [
       "88.60792536727844"
      ]
     },
     "execution_count": 86,
     "metadata": {},
     "output_type": "execute_result"
    }
   ],
   "source": [
    "df[df[\"price\"] > 10].points.mean()"
   ]
  },
  {
   "cell_type": "code",
   "execution_count": 87,
   "metadata": {},
   "outputs": [
    {
     "data": {
      "text/plain": [
       "85.02404458598726"
      ]
     },
     "execution_count": 87,
     "metadata": {},
     "output_type": "execute_result"
    }
   ],
   "source": [
    "df[df[\"price\"] <= 10].points.mean()"
   ]
  },
  {
   "cell_type": "code",
   "execution_count": 88,
   "metadata": {},
   "outputs": [
    {
     "data": {
      "text/html": [
       "<div>\n",
       "<style scoped>\n",
       "    .dataframe tbody tr th:only-of-type {\n",
       "        vertical-align: middle;\n",
       "    }\n",
       "\n",
       "    .dataframe tbody tr th {\n",
       "        vertical-align: top;\n",
       "    }\n",
       "\n",
       "    .dataframe thead th {\n",
       "        text-align: right;\n",
       "    }\n",
       "</style>\n",
       "<table border=\"1\" class=\"dataframe\">\n",
       "  <thead>\n",
       "    <tr style=\"text-align: right;\">\n",
       "      <th></th>\n",
       "      <th>country</th>\n",
       "      <th>description</th>\n",
       "      <th>designation</th>\n",
       "      <th>points</th>\n",
       "      <th>price</th>\n",
       "      <th>province</th>\n",
       "      <th>region_1</th>\n",
       "      <th>region_2</th>\n",
       "      <th>taster_name</th>\n",
       "      <th>taster_twitter_handle</th>\n",
       "      <th>title</th>\n",
       "      <th>variety</th>\n",
       "      <th>winery</th>\n",
       "    </tr>\n",
       "  </thead>\n",
       "  <tbody>\n",
       "    <tr>\n",
       "      <th>113929</th>\n",
       "      <td>US</td>\n",
       "      <td>In 2005 Charles Smith introduced three high-en...</td>\n",
       "      <td>Royal City</td>\n",
       "      <td>100</td>\n",
       "      <td>80.0</td>\n",
       "      <td>Washington</td>\n",
       "      <td>Columbia Valley (WA)</td>\n",
       "      <td>Columbia Valley</td>\n",
       "      <td>Paul Gregutt</td>\n",
       "      <td>@paulgwine</td>\n",
       "      <td>Charles Smith 2006 Royal City Syrah (Columbia ...</td>\n",
       "      <td>Syrah</td>\n",
       "      <td>Charles Smith</td>\n",
       "    </tr>\n",
       "    <tr>\n",
       "      <th>123545</th>\n",
       "      <td>US</td>\n",
       "      <td>Initially a rather subdued Frog; as if it has ...</td>\n",
       "      <td>Bionic Frog</td>\n",
       "      <td>100</td>\n",
       "      <td>80.0</td>\n",
       "      <td>Washington</td>\n",
       "      <td>Walla Walla Valley (WA)</td>\n",
       "      <td>Columbia Valley</td>\n",
       "      <td>Paul Gregutt</td>\n",
       "      <td>@paulgwine</td>\n",
       "      <td>Cayuse 2008 Bionic Frog Syrah (Walla Walla Val...</td>\n",
       "      <td>Syrah</td>\n",
       "      <td>Cayuse</td>\n",
       "    </tr>\n",
       "  </tbody>\n",
       "</table>\n",
       "</div>"
      ],
      "text/plain": [
       "       country                                        description  \\\n",
       "113929      US  In 2005 Charles Smith introduced three high-en...   \n",
       "123545      US  Initially a rather subdued Frog; as if it has ...   \n",
       "\n",
       "        designation  points  price    province                 region_1  \\\n",
       "113929   Royal City     100   80.0  Washington     Columbia Valley (WA)   \n",
       "123545  Bionic Frog     100   80.0  Washington  Walla Walla Valley (WA)   \n",
       "\n",
       "               region_2   taster_name taster_twitter_handle  \\\n",
       "113929  Columbia Valley  Paul Gregutt           @paulgwine    \n",
       "123545  Columbia Valley  Paul Gregutt           @paulgwine    \n",
       "\n",
       "                                                    title variety  \\\n",
       "113929  Charles Smith 2006 Royal City Syrah (Columbia ...   Syrah   \n",
       "123545  Cayuse 2008 Bionic Frog Syrah (Walla Walla Val...   Syrah   \n",
       "\n",
       "               winery  \n",
       "113929  Charles Smith  \n",
       "123545         Cayuse  "
      ]
     },
     "execution_count": 88,
     "metadata": {},
     "output_type": "execute_result"
    }
   ],
   "source": [
    "df[(df[\"points\"] == 100) & (df[\"price\"] < 100)]"
   ]
  },
  {
   "cell_type": "code",
   "execution_count": 89,
   "metadata": {},
   "outputs": [
    {
     "data": {
      "text/plain": [
       "88.84510931064138"
      ]
     },
     "execution_count": 89,
     "metadata": {},
     "output_type": "execute_result"
    }
   ],
   "source": [
    "df[df[\"country\"] == \"France\"].points.mean()"
   ]
  },
  {
   "cell_type": "code",
   "execution_count": 90,
   "metadata": {},
   "outputs": [
    {
     "data": {
      "text/plain": [
       "88.56223132036847"
      ]
     },
     "execution_count": 90,
     "metadata": {},
     "output_type": "execute_result"
    }
   ],
   "source": [
    "df[df[\"country\"] == \"Italy\"].points.mean()"
   ]
  },
  {
   "cell_type": "code",
   "execution_count": 91,
   "metadata": {},
   "outputs": [
    {
     "data": {
      "text/plain": [
       "87.93617021276596"
      ]
     },
     "execution_count": 91,
     "metadata": {},
     "output_type": "execute_result"
    }
   ],
   "source": [
    "df[df[\"country\"] == \"Bulgaria\"].points.mean()"
   ]
  },
  {
   "cell_type": "code",
   "execution_count": 92,
   "metadata": {},
   "outputs": [
    {
     "data": {
      "text/plain": [
       "88.56372009393806"
      ]
     },
     "execution_count": 92,
     "metadata": {},
     "output_type": "execute_result"
    }
   ],
   "source": [
    "df[df[\"country\"] == \"US\"].points.mean()"
   ]
  },
  {
   "cell_type": "code",
   "execution_count": 93,
   "metadata": {},
   "outputs": [
    {
     "data": {
      "text/plain": [
       "86.4935152057245"
      ]
     },
     "execution_count": 93,
     "metadata": {},
     "output_type": "execute_result"
    }
   ],
   "source": [
    "df[df[\"country\"] == \"Chile\"].points.mean()"
   ]
  },
  {
   "cell_type": "code",
   "execution_count": 94,
   "metadata": {},
   "outputs": [],
   "source": [
    "def add_value_labels(ax, spacing=5):\n",
    "    \"\"\"Add labels to the end of each bar in a bar chart.\n",
    "\n",
    "    Arguments:\n",
    "        ax (matplotlib.axes.Axes): The matplotlib object containing the axes\n",
    "            of the plot to annotate.\n",
    "        spacing (int): The distance between the labels and the bars.\n",
    "    \"\"\"\n",
    "\n",
    "    # For each bar: Place a label\n",
    "    for rect in ax.patches:\n",
    "        # Get X and Y placement of label from rect.\n",
    "        y_value = rect.get_height()\n",
    "        x_value = rect.get_x() + rect.get_width() / 2\n",
    "\n",
    "        # Number of points between bar and label. Change to your liking.\n",
    "        space = spacing\n",
    "        # Vertical alignment for positive values\n",
    "        va = 'bottom'\n",
    "\n",
    "        # If value of bar is negative: Place label below bar\n",
    "        if y_value < 0:\n",
    "            # Invert space to place label below\n",
    "            space *= -1\n",
    "            # Vertically align label at top\n",
    "            va = 'top'\n",
    "\n",
    "        # Use Y value as label and format number with one decimal place\n",
    "        label = \"{:.2f}\".format(y_value)\n",
    "\n",
    "        # Create annotation\n",
    "        ax.annotate(\n",
    "            label,                      # Use `label` as label\n",
    "            (x_value, y_value),         # Place label at end of the bar\n",
    "            xytext=(0, space),          # Vertically shift label by `space`\n",
    "            textcoords=\"offset points\", # Interpret `xytext` as offset in points\n",
    "            ha='center',                # Horizontally center label\n",
    "            va=va)                      # Vertically align label differently for\n",
    "                                        # positive and negative values.\n",
    "\n",
    "#This helpful code originates from this website https://stackoverflow.com/questions/28931224/adding-value-labels-on-a-matplotlib-bar-chart"
   ]
  },
  {
   "cell_type": "code",
   "execution_count": 95,
   "metadata": {},
   "outputs": [
    {
     "data": {
      "text/plain": [
       "Pinot Noir                  13272\n",
       "Chardonnay                  11753\n",
       "Cabernet Sauvignon           9472\n",
       "Red Blend                    8946\n",
       "Bordeaux-style Red Blend     6915\n",
       "Riesling                     5189\n",
       "Sauvignon Blanc              4967\n",
       "Syrah                        4142\n",
       "Rosé                         3564\n",
       "Merlot                       3102\n",
       "Name: variety, dtype: int64"
      ]
     },
     "execution_count": 95,
     "metadata": {},
     "output_type": "execute_result"
    }
   ],
   "source": [
    "df.variety.value_counts().head(10)"
   ]
  },
  {
   "cell_type": "code",
   "execution_count": 96,
   "metadata": {},
   "outputs": [],
   "source": [
    "import itertools\n",
    "\n",
    "x = []\n",
    "y = []\n",
    "x.append(\"Pinot Noir\")\n",
    "y.append(df[df[\"variety\"] == \"Pinot Noir\"].points.mean())\n",
    "x.append(\"Chardonnay\")\n",
    "y.append(df[df[\"variety\"] == \"Chardonnay\"].points.mean())\n",
    "x.append(\"Cabernet Sauvignon\")\n",
    "y.append(df[df[\"variety\"] == \"Cabernet Sauvignon\"].points.mean())\n",
    "x.append(\"Red Blend\")\n",
    "y.append(df[df[\"variety\"] == \"Red Blend\"].points.mean())\n",
    "x.append(\"Bordeaux-style Red Blend\")\n",
    "y.append(df[df[\"variety\"] == \"Bordeaux-style Red Blend\"].points.mean())\n",
    "x.append(\"Riesling\")\n",
    "y.append(df[df[\"variety\"] == \"Riesling\"].points.mean())\n",
    "x.append(\"Sauvignon Blanc\")\n",
    "y.append(df[df[\"variety\"] == \"Sauvignon Blanc\"].points.mean())\n",
    "x.append(\"Syrah\")\n",
    "y.append(df[df[\"variety\"] == \"Syrah\"].points.mean())\n",
    "x.append(\"Rosé\")\n",
    "y.append(df[df[\"variety\"] == \"Rosé\"].points.mean())\n",
    "x.append(\"Merlot\")\n",
    "y.append(df[df[\"variety\"] == \"Merlot\"].points.mean())\n",
    "\n",
    "y, x = zip(*sorted(zip(y, x), reverse = True))"
   ]
  },
  {
   "cell_type": "code",
   "execution_count": 97,
   "metadata": {},
   "outputs": [
    {
     "data": {
      "image/png": "[encoded data removed]",
      "text/plain": [
       "<Figure size 720x1080 with 1 Axes>"
      ]
     },
     "metadata": {
      "needs_background": "light"
     },
     "output_type": "display_data"
    }
   ],
   "source": [
    "plt.figure(figsize=(10,15))\n",
    "plt.bar(x, y, align='center', color = 'maroon')\n",
    "plt.xticks(x, x, rotation = 90)\n",
    "plt.gca().set_ylim([80, 100])\n",
    "plt.ylabel('Average score')\n",
    "plt.xlabel('Wine variety used')\n",
    "plt.suptitle('The average scores of the wines made from the 10 most popular grape varieties')\n",
    "add_value_labels(plt.gca())\n",
    "plt.show()"
   ]
  },
  {
   "cell_type": "code",
   "execution_count": 98,
   "metadata": {},
   "outputs": [],
   "source": [
    "x = []\n",
    "y = []\n",
    "x.append(\"Pinot Noir\")\n",
    "y.append(df[df[\"variety\"] == \"Pinot Noir\"].price.mean())\n",
    "x.append(\"Chardonnay\")\n",
    "y.append(df[df[\"variety\"] == \"Chardonnay\"].price.mean())\n",
    "x.append(\"Cabernet Sauvignon\")\n",
    "y.append(df[df[\"variety\"] == \"Cabernet Sauvignon\"].price.mean())\n",
    "x.append(\"Red Blend\")\n",
    "y.append(df[df[\"variety\"] == \"Red Blend\"].price.mean())\n",
    "x.append(\"Bordeaux-style Red Blend\")\n",
    "y.append(df[df[\"variety\"] == \"Bordeaux-style Red Blend\"].price.mean())\n",
    "x.append(\"Riesling\")\n",
    "y.append(df[df[\"variety\"] == \"Riesling\"].price.mean())\n",
    "x.append(\"Sauvignon Blanc\")\n",
    "y.append(df[df[\"variety\"] == \"Sauvignon Blanc\"].price.mean())\n",
    "x.append(\"Syrah\")\n",
    "y.append(df[df[\"variety\"] == \"Syrah\"].price.mean())\n",
    "x.append(\"Rosé\")\n",
    "y.append(df[df[\"variety\"] == \"Rosé\"].price.mean())\n",
    "x.append(\"Merlot\")\n",
    "y.append(df[df[\"variety\"] == \"Merlot\"].price.mean())\n",
    "\n",
    "y, x = zip(*sorted(zip(y, x), reverse = True))"
   ]
  },
  {
   "cell_type": "code",
   "execution_count": 99,
   "metadata": {},
   "outputs": [
    {
     "data": {
      "image/png": "[encoded data removed]",
      "text/plain": [
       "<Figure size 720x1080 with 1 Axes>"
      ]
     },
     "metadata": {
      "needs_background": "light"
     },
     "output_type": "display_data"
    }
   ],
   "source": [
    "plt.figure(figsize=(10,15))\n",
    "plt.bar(x, y, align='center', color = 'gold')\n",
    "plt.xticks(x, x, rotation = 90)\n",
    "plt.ylabel('Average price')\n",
    "plt.xlabel('Wine variety used')\n",
    "plt.suptitle('The average prices of the wines made from the 10 most popular grape varieties')\n",
    "add_value_labels(plt.gca())\n",
    "plt.show()"
   ]
  },
  {
   "cell_type": "code",
   "execution_count": 100,
   "metadata": {},
   "outputs": [
    {
     "data": {
      "text/plain": [
       "US           54504\n",
       "France       22093\n",
       "Italy        19540\n",
       "Spain         6645\n",
       "Portugal      5691\n",
       "Chile         4472\n",
       "Argentina     3800\n",
       "Austria       3345\n",
       "Australia     2329\n",
       "Germany       2165\n",
       "Name: country, dtype: int64"
      ]
     },
     "execution_count": 100,
     "metadata": {},
     "output_type": "execute_result"
    }
   ],
   "source": [
    "df.country.value_counts().head(10)"
   ]
  },
  {
   "cell_type": "code",
   "execution_count": 101,
   "metadata": {},
   "outputs": [],
   "source": [
    "x = []\n",
    "y = []\n",
    "x.append(\"US\")\n",
    "y.append(df[df[\"country\"] == \"US\"].points.mean())\n",
    "x.append(\"France\")\n",
    "y.append(df[df[\"country\"] == \"France\"].points.mean())\n",
    "x.append(\"Italy\")\n",
    "y.append(df[df[\"country\"] == \"Italy\"].points.mean())\n",
    "x.append(\"Spain\")\n",
    "y.append(df[df[\"country\"] == \"Spain\"].points.mean())\n",
    "x.append(\"Portugal\")\n",
    "y.append(df[df[\"country\"] == \"Portugal\"].points.mean())\n",
    "x.append(\"Chile\")\n",
    "y.append(df[df[\"country\"] == \"Chile\"].points.mean())\n",
    "x.append(\"Argentina\")\n",
    "y.append(df[df[\"country\"] == \"Argentina\"].points.mean())\n",
    "x.append(\"Austria\")\n",
    "y.append(df[df[\"country\"] == \"Austria\"].points.mean())\n",
    "x.append(\"Australia\")\n",
    "y.append(df[df[\"country\"] == \"Australia\"].points.mean())\n",
    "x.append(\"Germany\")\n",
    "y.append(df[df[\"country\"] == \"Germany\"].points.mean())\n",
    "\n",
    "y, x = zip(*sorted(zip(y, x), reverse = True))"
   ]
  },
  {
   "cell_type": "code",
   "execution_count": 102,
   "metadata": {
    "scrolled": true
   },
   "outputs": [
    {
     "data": {
      "image/png": "[encoded data removed]",
      "text/plain": [
       "<Figure size 720x1080 with 1 Axes>"
      ]
     },
     "metadata": {
      "needs_background": "light"
     },
     "output_type": "display_data"
    }
   ],
   "source": [
    "plt.figure(figsize=(10,15))\n",
    "plt.bar(x, y, align='center', color = 'maroon')\n",
    "plt.xticks(x, x, rotation = 90)\n",
    "plt.gca().set_ylim([80, 100])\n",
    "plt.ylabel('Average score')\n",
    "plt.xlabel('Country of origin')\n",
    "plt.suptitle('The average points of the wines produced in the top 10 countries that contributed the most for this dataset')\n",
    "add_value_labels(plt.gca())\n",
    "plt.show()"
   ]
  },
  {
   "cell_type": "code",
   "execution_count": 103,
   "metadata": {},
   "outputs": [],
   "source": [
    "x = []\n",
    "y = []\n",
    "x.append(\"US\")\n",
    "y.append(df[df[\"country\"] == \"US\"].price.mean())\n",
    "x.append(\"France\")\n",
    "y.append(df[df[\"country\"] == \"France\"].price.mean())\n",
    "x.append(\"Italy\")\n",
    "y.append(df[df[\"country\"] == \"Italy\"].price.mean())\n",
    "x.append(\"Spain\")\n",
    "y.append(df[df[\"country\"] == \"Spain\"].price.mean())\n",
    "x.append(\"Portugal\")\n",
    "y.append(df[df[\"country\"] == \"Portugal\"].price.mean())\n",
    "x.append(\"Chile\")\n",
    "y.append(df[df[\"country\"] == \"Chile\"].price.mean())\n",
    "x.append(\"Argentina\")\n",
    "y.append(df[df[\"country\"] == \"Argentina\"].price.mean())\n",
    "x.append(\"Austria\")\n",
    "y.append(df[df[\"country\"] == \"Austria\"].price.mean())\n",
    "x.append(\"Australia\")\n",
    "y.append(df[df[\"country\"] == \"Australia\"].price.mean())\n",
    "x.append(\"Germany\")\n",
    "y.append(df[df[\"country\"] == \"Germany\"].price.mean())\n",
    "\n",
    "y, x = zip(*sorted(zip(y, x), reverse = True))"
   ]
  },
  {
   "cell_type": "code",
   "execution_count": 104,
   "metadata": {},
   "outputs": [
    {
     "data": {
      "image/png": "[encoded data removed]",
      "text/plain": [
       "<Figure size 720x1080 with 1 Axes>"
      ]
     },
     "metadata": {
      "needs_background": "light"
     },
     "output_type": "display_data"
    }
   ],
   "source": [
    "plt.figure(figsize=(10,15))\n",
    "plt.bar(x, y, align='center', color = 'gold')\n",
    "plt.xticks(x, x, rotation = 90)\n",
    "plt.ylabel('Average price')\n",
    "plt.xlabel('Country of origin')\n",
    "plt.suptitle('The average prices of the wines produced in the top 10 countries that contributed the most for this dataset')\n",
    "add_value_labels(plt.gca())\n",
    "plt.show()"
   ]
  },
  {
   "cell_type": "code",
   "execution_count": 145,
   "metadata": {},
   "outputs": [
    {
     "data": {
      "text/html": [
       "<div>\n",
       "<style scoped>\n",
       "    .dataframe tbody tr th:only-of-type {\n",
       "        vertical-align: middle;\n",
       "    }\n",
       "\n",
       "    .dataframe tbody tr th {\n",
       "        vertical-align: top;\n",
       "    }\n",
       "\n",
       "    .dataframe thead th {\n",
       "        text-align: right;\n",
       "    }\n",
       "</style>\n",
       "<table border=\"1\" class=\"dataframe\">\n",
       "  <thead>\n",
       "    <tr style=\"text-align: right;\">\n",
       "      <th></th>\n",
       "      <th>points</th>\n",
       "      <th>price</th>\n",
       "    </tr>\n",
       "    <tr>\n",
       "      <th>country</th>\n",
       "      <th></th>\n",
       "      <th></th>\n",
       "    </tr>\n",
       "  </thead>\n",
       "  <tbody>\n",
       "    <tr>\n",
       "      <th>England</th>\n",
       "      <td>91.581081</td>\n",
       "      <td>51.681159</td>\n",
       "    </tr>\n",
       "    <tr>\n",
       "      <th>India</th>\n",
       "      <td>90.222222</td>\n",
       "      <td>13.333333</td>\n",
       "    </tr>\n",
       "    <tr>\n",
       "      <th>Austria</th>\n",
       "      <td>90.101345</td>\n",
       "      <td>30.762772</td>\n",
       "    </tr>\n",
       "    <tr>\n",
       "      <th>Germany</th>\n",
       "      <td>89.851732</td>\n",
       "      <td>42.257547</td>\n",
       "    </tr>\n",
       "    <tr>\n",
       "      <th>Canada</th>\n",
       "      <td>89.369650</td>\n",
       "      <td>35.712598</td>\n",
       "    </tr>\n",
       "    <tr>\n",
       "      <th>Hungary</th>\n",
       "      <td>89.191781</td>\n",
       "      <td>40.648276</td>\n",
       "    </tr>\n",
       "    <tr>\n",
       "      <th>China</th>\n",
       "      <td>89.000000</td>\n",
       "      <td>18.000000</td>\n",
       "    </tr>\n",
       "    <tr>\n",
       "      <th>France</th>\n",
       "      <td>88.845109</td>\n",
       "      <td>41.139120</td>\n",
       "    </tr>\n",
       "    <tr>\n",
       "      <th>Luxembourg</th>\n",
       "      <td>88.666667</td>\n",
       "      <td>23.333333</td>\n",
       "    </tr>\n",
       "    <tr>\n",
       "      <th>Australia</th>\n",
       "      <td>88.580507</td>\n",
       "      <td>35.437663</td>\n",
       "    </tr>\n",
       "    <tr>\n",
       "      <th>Switzerland</th>\n",
       "      <td>88.571429</td>\n",
       "      <td>85.285714</td>\n",
       "    </tr>\n",
       "    <tr>\n",
       "      <th>Morocco</th>\n",
       "      <td>88.571429</td>\n",
       "      <td>19.500000</td>\n",
       "    </tr>\n",
       "    <tr>\n",
       "      <th>US</th>\n",
       "      <td>88.563720</td>\n",
       "      <td>36.573464</td>\n",
       "    </tr>\n",
       "    <tr>\n",
       "      <th>Italy</th>\n",
       "      <td>88.562231</td>\n",
       "      <td>39.663770</td>\n",
       "    </tr>\n",
       "    <tr>\n",
       "      <th>Israel</th>\n",
       "      <td>88.471287</td>\n",
       "      <td>31.768916</td>\n",
       "    </tr>\n",
       "    <tr>\n",
       "      <th>New Zealand</th>\n",
       "      <td>88.303030</td>\n",
       "      <td>26.931785</td>\n",
       "    </tr>\n",
       "    <tr>\n",
       "      <th>Portugal</th>\n",
       "      <td>88.250220</td>\n",
       "      <td>26.218256</td>\n",
       "    </tr>\n",
       "    <tr>\n",
       "      <th>Turkey</th>\n",
       "      <td>88.088889</td>\n",
       "      <td>24.633333</td>\n",
       "    </tr>\n",
       "    <tr>\n",
       "      <th>Slovenia</th>\n",
       "      <td>88.068966</td>\n",
       "      <td>24.812500</td>\n",
       "    </tr>\n",
       "    <tr>\n",
       "      <th>South Africa</th>\n",
       "      <td>88.056388</td>\n",
       "      <td>24.668987</td>\n",
       "    </tr>\n",
       "  </tbody>\n",
       "</table>\n",
       "</div>"
      ],
      "text/plain": [
       "                 points      price\n",
       "country                           \n",
       "England       91.581081  51.681159\n",
       "India         90.222222  13.333333\n",
       "Austria       90.101345  30.762772\n",
       "Germany       89.851732  42.257547\n",
       "Canada        89.369650  35.712598\n",
       "Hungary       89.191781  40.648276\n",
       "China         89.000000  18.000000\n",
       "France        88.845109  41.139120\n",
       "Luxembourg    88.666667  23.333333\n",
       "Australia     88.580507  35.437663\n",
       "Switzerland   88.571429  85.285714\n",
       "Morocco       88.571429  19.500000\n",
       "US            88.563720  36.573464\n",
       "Italy         88.562231  39.663770\n",
       "Israel        88.471287  31.768916\n",
       "New Zealand   88.303030  26.931785\n",
       "Portugal      88.250220  26.218256\n",
       "Turkey        88.088889  24.633333\n",
       "Slovenia      88.068966  24.812500\n",
       "South Africa  88.056388  24.668987"
      ]
     },
     "execution_count": 145,
     "metadata": {},
     "output_type": "execute_result"
    }
   ],
   "source": [
    "country_means = df.groupby(\"country\").mean().sort_values(\"points\", ascending = False).head(20)\n",
    "country_means"
   ]
  },
  {
   "cell_type": "code",
   "execution_count": 152,
   "metadata": {},
   "outputs": [
    {
     "data": {
      "text/plain": [
       "<AxesSubplot:xlabel='country'>"
      ]
     },
     "execution_count": 152,
     "metadata": {},
     "output_type": "execute_result"
    },
    {
     "data": {
      "image/png": "[encoded data removed]",
      "text/plain": [
       "<Figure size 432x288 with 1 Axes>"
      ]
     },
     "metadata": {
      "needs_background": "light"
     },
     "output_type": "display_data"
    }
   ],
   "source": [
    "country_means.plot(y = ['points', 'price'], use_index=True, kind = 'bar')"
   ]
  },
  {
   "cell_type": "code",
   "execution_count": 162,
   "metadata": {},
   "outputs": [
    {
     "data": {
      "image/png": "[encoded data removed]",
      "text/plain": [
       "<Figure size 432x288 with 2 Axes>"
      ]
     },
     "metadata": {
      "needs_background": "light"
     },
     "output_type": "display_data"
    }
   ],
   "source": [
    "import numpy as np\n",
    "\n",
    "fig, ax = plt.subplots()\n",
    "ax.plot(country_means.index, country_means.points, color=\"red\")\n",
    "ax.set_xlabel(\"Country\", fontsize=14)\n",
    "ax.set_ylabel(\"Points\",color=\"red\",fontsize=14)\n",
    "\n",
    "ax2 = ax.twinx()\n",
    "ax2.plot(country_means.index, country_means.price, color=\"blue\")\n",
    "ax2.set_ylabel(\"Price\", color=\"blue\",fontsize=14)\n",
    "plt.show()\n",
    "\n",
    "#https://cmdlinetips.com/2019/10/how-to-make-a-plot-with-two-different-y-axis-in-python-with-matplotlib/"
   ]
  },
  {
   "cell_type": "code",
   "execution_count": 175,
   "metadata": {},
   "outputs": [
    {
     "data": {
      "text/html": [
       "<div>\n",
       "<style scoped>\n",
       "    .dataframe tbody tr th:only-of-type {\n",
       "        vertical-align: middle;\n",
       "    }\n",
       "\n",
       "    .dataframe tbody tr th {\n",
       "        vertical-align: top;\n",
       "    }\n",
       "\n",
       "    .dataframe thead th {\n",
       "        text-align: right;\n",
       "    }\n",
       "</style>\n",
       "<table border=\"1\" class=\"dataframe\">\n",
       "  <thead>\n",
       "    <tr style=\"text-align: right;\">\n",
       "      <th></th>\n",
       "      <th>points</th>\n",
       "      <th>price</th>\n",
       "      <th>reviews</th>\n",
       "    </tr>\n",
       "    <tr>\n",
       "      <th>taster_name</th>\n",
       "      <th></th>\n",
       "      <th></th>\n",
       "      <th></th>\n",
       "    </tr>\n",
       "  </thead>\n",
       "  <tbody>\n",
       "    <tr>\n",
       "      <th>Roger Voss</th>\n",
       "      <td>88.708003</td>\n",
       "      <td>38.649960</td>\n",
       "      <td>25514</td>\n",
       "    </tr>\n",
       "    <tr>\n",
       "      <th>Michael Schachner</th>\n",
       "      <td>86.907493</td>\n",
       "      <td>25.231155</td>\n",
       "      <td>15134</td>\n",
       "    </tr>\n",
       "    <tr>\n",
       "      <th>Kerin O’Keefe</th>\n",
       "      <td>88.867947</td>\n",
       "      <td>41.953413</td>\n",
       "      <td>10776</td>\n",
       "    </tr>\n",
       "    <tr>\n",
       "      <th>Virginie Boone</th>\n",
       "      <td>89.213379</td>\n",
       "      <td>46.621963</td>\n",
       "      <td>9537</td>\n",
       "    </tr>\n",
       "    <tr>\n",
       "      <th>Paul Gregutt</th>\n",
       "      <td>89.082564</td>\n",
       "      <td>33.644873</td>\n",
       "      <td>9532</td>\n",
       "    </tr>\n",
       "    <tr>\n",
       "      <th>Matt Kettmann</th>\n",
       "      <td>90.008686</td>\n",
       "      <td>38.642136</td>\n",
       "      <td>6332</td>\n",
       "    </tr>\n",
       "    <tr>\n",
       "      <th>Joe Czerwinski</th>\n",
       "      <td>88.536235</td>\n",
       "      <td>35.175579</td>\n",
       "      <td>5147</td>\n",
       "    </tr>\n",
       "    <tr>\n",
       "      <th>Sean P. Sullivan</th>\n",
       "      <td>88.755739</td>\n",
       "      <td>34.085888</td>\n",
       "      <td>4966</td>\n",
       "    </tr>\n",
       "    <tr>\n",
       "      <th>Anna Lee C. Iijima</th>\n",
       "      <td>88.415629</td>\n",
       "      <td>29.790112</td>\n",
       "      <td>4415</td>\n",
       "    </tr>\n",
       "    <tr>\n",
       "      <th>Jim Gordon</th>\n",
       "      <td>88.626287</td>\n",
       "      <td>26.935507</td>\n",
       "      <td>4177</td>\n",
       "    </tr>\n",
       "    <tr>\n",
       "      <th>Anne Krebiehl MW</th>\n",
       "      <td>90.562551</td>\n",
       "      <td>31.230135</td>\n",
       "      <td>3685</td>\n",
       "    </tr>\n",
       "    <tr>\n",
       "      <th>Lauren Buzzeo</th>\n",
       "      <td>87.739510</td>\n",
       "      <td>24.492703</td>\n",
       "      <td>1835</td>\n",
       "    </tr>\n",
       "    <tr>\n",
       "      <th>Susan Kostrzewa</th>\n",
       "      <td>86.609217</td>\n",
       "      <td>22.908667</td>\n",
       "      <td>1085</td>\n",
       "    </tr>\n",
       "    <tr>\n",
       "      <th>Mike DeSimone</th>\n",
       "      <td>89.101167</td>\n",
       "      <td>28.164683</td>\n",
       "      <td>514</td>\n",
       "    </tr>\n",
       "    <tr>\n",
       "      <th>Jeff Jenssen</th>\n",
       "      <td>88.319756</td>\n",
       "      <td>22.234216</td>\n",
       "      <td>491</td>\n",
       "    </tr>\n",
       "    <tr>\n",
       "      <th>Alexander Peartree</th>\n",
       "      <td>85.855422</td>\n",
       "      <td>29.053269</td>\n",
       "      <td>415</td>\n",
       "    </tr>\n",
       "    <tr>\n",
       "      <th>Carrie Dykes</th>\n",
       "      <td>86.395683</td>\n",
       "      <td>30.753623</td>\n",
       "      <td>139</td>\n",
       "    </tr>\n",
       "    <tr>\n",
       "      <th>Fiona Adams</th>\n",
       "      <td>86.888889</td>\n",
       "      <td>31.148148</td>\n",
       "      <td>27</td>\n",
       "    </tr>\n",
       "    <tr>\n",
       "      <th>Christina Pickard</th>\n",
       "      <td>87.833333</td>\n",
       "      <td>29.333333</td>\n",
       "      <td>6</td>\n",
       "    </tr>\n",
       "  </tbody>\n",
       "</table>\n",
       "</div>"
      ],
      "text/plain": [
       "                       points      price  reviews\n",
       "taster_name                                      \n",
       "Roger Voss          88.708003  38.649960    25514\n",
       "Michael Schachner   86.907493  25.231155    15134\n",
       "Kerin O’Keefe       88.867947  41.953413    10776\n",
       "Virginie Boone      89.213379  46.621963     9537\n",
       "Paul Gregutt        89.082564  33.644873     9532\n",
       "Matt Kettmann       90.008686  38.642136     6332\n",
       "Joe Czerwinski      88.536235  35.175579     5147\n",
       "Sean P. Sullivan    88.755739  34.085888     4966\n",
       "Anna Lee C. Iijima  88.415629  29.790112     4415\n",
       "Jim Gordon          88.626287  26.935507     4177\n",
       "Anne Krebiehl MW    90.562551  31.230135     3685\n",
       "Lauren Buzzeo       87.739510  24.492703     1835\n",
       "Susan Kostrzewa     86.609217  22.908667     1085\n",
       "Mike DeSimone       89.101167  28.164683      514\n",
       "Jeff Jenssen        88.319756  22.234216      491\n",
       "Alexander Peartree  85.855422  29.053269      415\n",
       "Carrie Dykes        86.395683  30.753623      139\n",
       "Fiona Adams         86.888889  31.148148       27\n",
       "Christina Pickard   87.833333  29.333333        6"
      ]
     },
     "execution_count": 175,
     "metadata": {},
     "output_type": "execute_result"
    }
   ],
   "source": [
    "by_taster = df.groupby('taster_name').mean().sort_values('points')\n",
    "taster_counts = []\n",
    "for taster in by_taster.index:\n",
    "    taster_counts.append(df[df['taster_name'] == taster].shape[0])\n",
    "by_taster['reviews'] = taster_counts\n",
    "by_taster.sort_values('reviews', ascending = False)"
   ]
  },
  {
   "cell_type": "code",
   "execution_count": 176,
   "metadata": {},
   "outputs": [
    {
     "data": {
      "text/html": [
       "<div>\n",
       "<style scoped>\n",
       "    .dataframe tbody tr th:only-of-type {\n",
       "        vertical-align: middle;\n",
       "    }\n",
       "\n",
       "    .dataframe tbody tr th {\n",
       "        vertical-align: top;\n",
       "    }\n",
       "\n",
       "    .dataframe thead th {\n",
       "        text-align: right;\n",
       "    }\n",
       "</style>\n",
       "<table border=\"1\" class=\"dataframe\">\n",
       "  <thead>\n",
       "    <tr style=\"text-align: right;\">\n",
       "      <th></th>\n",
       "      <th>points</th>\n",
       "      <th>price</th>\n",
       "    </tr>\n",
       "    <tr>\n",
       "      <th>region_1</th>\n",
       "      <th></th>\n",
       "      <th></th>\n",
       "    </tr>\n",
       "  </thead>\n",
       "  <tbody>\n",
       "    <tr>\n",
       "      <th>Ohio</th>\n",
       "      <td>80.000</td>\n",
       "      <td>15.000000</td>\n",
       "    </tr>\n",
       "    <tr>\n",
       "      <th>Ramona Valley</th>\n",
       "      <td>80.500</td>\n",
       "      <td>26.500000</td>\n",
       "    </tr>\n",
       "    <tr>\n",
       "      <th>Monterey-San Luis Obispo-Santa Barbara</th>\n",
       "      <td>82.000</td>\n",
       "      <td>12.000000</td>\n",
       "    </tr>\n",
       "    <tr>\n",
       "      <th>Catalonia</th>\n",
       "      <td>82.750</td>\n",
       "      <td>9.500000</td>\n",
       "    </tr>\n",
       "    <tr>\n",
       "      <th>Missouri</th>\n",
       "      <td>82.840</td>\n",
       "      <td>16.360000</td>\n",
       "    </tr>\n",
       "    <tr>\n",
       "      <th>...</th>\n",
       "      <td>...</td>\n",
       "      <td>...</td>\n",
       "    </tr>\n",
       "    <tr>\n",
       "      <th>Clos de Lambrays</th>\n",
       "      <td>96.000</td>\n",
       "      <td>215.000000</td>\n",
       "    </tr>\n",
       "    <tr>\n",
       "      <th>Montrachet</th>\n",
       "      <td>96.000</td>\n",
       "      <td>616.142857</td>\n",
       "    </tr>\n",
       "    <tr>\n",
       "      <th>Bienvenues Bâtard-Montrachet</th>\n",
       "      <td>96.500</td>\n",
       "      <td>443.000000</td>\n",
       "    </tr>\n",
       "    <tr>\n",
       "      <th>Corton-Pougets</th>\n",
       "      <td>96.500</td>\n",
       "      <td>105.500000</td>\n",
       "    </tr>\n",
       "    <tr>\n",
       "      <th>Bolgheri Sassicaia</th>\n",
       "      <td>96.625</td>\n",
       "      <td>224.500000</td>\n",
       "    </tr>\n",
       "  </tbody>\n",
       "</table>\n",
       "<p>1229 rows × 2 columns</p>\n",
       "</div>"
      ],
      "text/plain": [
       "                                        points       price\n",
       "region_1                                                  \n",
       "Ohio                                    80.000   15.000000\n",
       "Ramona Valley                           80.500   26.500000\n",
       "Monterey-San Luis Obispo-Santa Barbara  82.000   12.000000\n",
       "Catalonia                               82.750    9.500000\n",
       "Missouri                                82.840   16.360000\n",
       "...                                        ...         ...\n",
       "Clos de Lambrays                        96.000  215.000000\n",
       "Montrachet                              96.000  616.142857\n",
       "Bienvenues Bâtard-Montrachet            96.500  443.000000\n",
       "Corton-Pougets                          96.500  105.500000\n",
       "Bolgheri Sassicaia                      96.625  224.500000\n",
       "\n",
       "[1229 rows x 2 columns]"
      ]
     },
     "execution_count": 176,
     "metadata": {},
     "output_type": "execute_result"
    }
   ],
   "source": [
    "df.groupby('region_1').mean().sort_values('points')"
   ]
  }
 ],
 "metadata": {
  "kernelspec": {
   "display_name": "Python 3",
   "language": "python",
   "name": "python3"
  },
  "language_info": {
   "codemirror_mode": {
    "name": "ipython",
    "version": 3
   },
   "file_extension": ".py",
   "mimetype": "text/x-python",
   "name": "python",
   "nbconvert_exporter": "python",
   "pygments_lexer": "ipython3",
   "version": "3.8.3"
  }
 },
 "nbformat": 4,
 "nbformat_minor": 4
}
