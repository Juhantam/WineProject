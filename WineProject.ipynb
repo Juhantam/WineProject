{
 "cells": [
  {
   "cell_type": "code",
   "execution_count": 1,
   "metadata": {},
   "outputs": [],
   "source": [
    "print(\"Hello wine!\")"
   ]
  },
  {
   "cell_type": "code",
   "execution_count": 2,
   "metadata": {},
   "outputs": [
    {
     "data": {
      "text/html": [
       "<div>\n",
       "<style scoped>\n",
       "    .dataframe tbody tr th:only-of-type {\n",
       "        vertical-align: middle;\n",
       "    }\n",
       "\n",
       "    .dataframe tbody tr th {\n",
       "        vertical-align: top;\n",
       "    }\n",
       "\n",
       "    .dataframe thead th {\n",
       "        text-align: right;\n",
       "    }\n",
       "</style>\n",
       "<table border=\"1\" class=\"dataframe\">\n",
       "  <thead>\n",
       "    <tr style=\"text-align: right;\">\n",
       "      <th></th>\n",
       "      <th>country</th>\n",
       "      <th>description</th>\n",
       "      <th>designation</th>\n",
       "      <th>points</th>\n",
       "      <th>price</th>\n",
       "      <th>province</th>\n",
       "      <th>region_1</th>\n",
       "      <th>region_2</th>\n",
       "      <th>taster_name</th>\n",
       "      <th>title</th>\n",
       "      <th>variety</th>\n",
       "      <th>winery</th>\n",
       "    </tr>\n",
       "  </thead>\n",
       "  <tbody>\n",
       "    <tr>\n",
       "      <th>0</th>\n",
       "      <td>Italy</td>\n",
       "      <td>Aromas include tropical fruit, broom, brimston...</td>\n",
       "      <td>Vulkà Bianco</td>\n",
       "      <td>87</td>\n",
       "      <td>NaN</td>\n",
       "      <td>Sicily &amp; Sardinia</td>\n",
       "      <td>Etna</td>\n",
       "      <td>NaN</td>\n",
       "      <td>Kerin O’Keefe</td>\n",
       "      <td>Nicosia 2013 Vulkà Bianco  (Etna)</td>\n",
       "      <td>White Blend</td>\n",
       "      <td>Nicosia</td>\n",
       "    </tr>\n",
       "    <tr>\n",
       "      <th>1</th>\n",
       "      <td>Portugal</td>\n",
       "      <td>This is ripe and fruity, a wine that is smooth...</td>\n",
       "      <td>Avidagos</td>\n",
       "      <td>87</td>\n",
       "      <td>15.0</td>\n",
       "      <td>Douro</td>\n",
       "      <td>NaN</td>\n",
       "      <td>NaN</td>\n",
       "      <td>Roger Voss</td>\n",
       "      <td>Quinta dos Avidagos 2011 Avidagos Red (Douro)</td>\n",
       "      <td>Portuguese Red</td>\n",
       "      <td>Quinta dos Avidagos</td>\n",
       "    </tr>\n",
       "    <tr>\n",
       "      <th>2</th>\n",
       "      <td>US</td>\n",
       "      <td>Tart and snappy, the flavors of lime flesh and...</td>\n",
       "      <td>NaN</td>\n",
       "      <td>87</td>\n",
       "      <td>14.0</td>\n",
       "      <td>Oregon</td>\n",
       "      <td>Willamette Valley</td>\n",
       "      <td>Willamette Valley</td>\n",
       "      <td>Paul Gregutt</td>\n",
       "      <td>Rainstorm 2013 Pinot Gris (Willamette Valley)</td>\n",
       "      <td>Pinot Gris</td>\n",
       "      <td>Rainstorm</td>\n",
       "    </tr>\n",
       "    <tr>\n",
       "      <th>3</th>\n",
       "      <td>US</td>\n",
       "      <td>Pineapple rind, lemon pith and orange blossom ...</td>\n",
       "      <td>Reserve Late Harvest</td>\n",
       "      <td>87</td>\n",
       "      <td>13.0</td>\n",
       "      <td>Michigan</td>\n",
       "      <td>Lake Michigan Shore</td>\n",
       "      <td>NaN</td>\n",
       "      <td>Alexander Peartree</td>\n",
       "      <td>St. Julian 2013 Reserve Late Harvest Riesling ...</td>\n",
       "      <td>Riesling</td>\n",
       "      <td>St. Julian</td>\n",
       "    </tr>\n",
       "    <tr>\n",
       "      <th>4</th>\n",
       "      <td>US</td>\n",
       "      <td>Much like the regular bottling from 2012, this...</td>\n",
       "      <td>Vintner's Reserve Wild Child Block</td>\n",
       "      <td>87</td>\n",
       "      <td>65.0</td>\n",
       "      <td>Oregon</td>\n",
       "      <td>Willamette Valley</td>\n",
       "      <td>Willamette Valley</td>\n",
       "      <td>Paul Gregutt</td>\n",
       "      <td>Sweet Cheeks 2012 Vintner's Reserve Wild Child...</td>\n",
       "      <td>Pinot Noir</td>\n",
       "      <td>Sweet Cheeks</td>\n",
       "    </tr>\n",
       "    <tr>\n",
       "      <th>...</th>\n",
       "      <td>...</td>\n",
       "      <td>...</td>\n",
       "      <td>...</td>\n",
       "      <td>...</td>\n",
       "      <td>...</td>\n",
       "      <td>...</td>\n",
       "      <td>...</td>\n",
       "      <td>...</td>\n",
       "      <td>...</td>\n",
       "      <td>...</td>\n",
       "      <td>...</td>\n",
       "      <td>...</td>\n",
       "    </tr>\n",
       "    <tr>\n",
       "      <th>129966</th>\n",
       "      <td>Germany</td>\n",
       "      <td>Notes of honeysuckle and cantaloupe sweeten th...</td>\n",
       "      <td>Brauneberger Juffer-Sonnenuhr Spätlese</td>\n",
       "      <td>90</td>\n",
       "      <td>28.0</td>\n",
       "      <td>Mosel</td>\n",
       "      <td>NaN</td>\n",
       "      <td>NaN</td>\n",
       "      <td>Anna Lee C. Iijima</td>\n",
       "      <td>Dr. H. Thanisch (Erben Müller-Burggraef) 2013 ...</td>\n",
       "      <td>Riesling</td>\n",
       "      <td>Dr. H. Thanisch (Erben Müller-Burggraef)</td>\n",
       "    </tr>\n",
       "    <tr>\n",
       "      <th>129967</th>\n",
       "      <td>US</td>\n",
       "      <td>Citation is given as much as a decade of bottl...</td>\n",
       "      <td>NaN</td>\n",
       "      <td>90</td>\n",
       "      <td>75.0</td>\n",
       "      <td>Oregon</td>\n",
       "      <td>Oregon</td>\n",
       "      <td>Oregon Other</td>\n",
       "      <td>Paul Gregutt</td>\n",
       "      <td>Citation 2004 Pinot Noir (Oregon)</td>\n",
       "      <td>Pinot Noir</td>\n",
       "      <td>Citation</td>\n",
       "    </tr>\n",
       "    <tr>\n",
       "      <th>129968</th>\n",
       "      <td>France</td>\n",
       "      <td>Well-drained gravel soil gives this wine its c...</td>\n",
       "      <td>Kritt</td>\n",
       "      <td>90</td>\n",
       "      <td>30.0</td>\n",
       "      <td>Alsace</td>\n",
       "      <td>Alsace</td>\n",
       "      <td>NaN</td>\n",
       "      <td>Roger Voss</td>\n",
       "      <td>Domaine Gresser 2013 Kritt Gewurztraminer (Als...</td>\n",
       "      <td>Gewürztraminer</td>\n",
       "      <td>Domaine Gresser</td>\n",
       "    </tr>\n",
       "    <tr>\n",
       "      <th>129969</th>\n",
       "      <td>France</td>\n",
       "      <td>A dry style of Pinot Gris, this is crisp with ...</td>\n",
       "      <td>NaN</td>\n",
       "      <td>90</td>\n",
       "      <td>32.0</td>\n",
       "      <td>Alsace</td>\n",
       "      <td>Alsace</td>\n",
       "      <td>NaN</td>\n",
       "      <td>Roger Voss</td>\n",
       "      <td>Domaine Marcel Deiss 2012 Pinot Gris (Alsace)</td>\n",
       "      <td>Pinot Gris</td>\n",
       "      <td>Domaine Marcel Deiss</td>\n",
       "    </tr>\n",
       "    <tr>\n",
       "      <th>129970</th>\n",
       "      <td>France</td>\n",
       "      <td>Big, rich and off-dry, this is powered by inte...</td>\n",
       "      <td>Lieu-dit Harth Cuvée Caroline</td>\n",
       "      <td>90</td>\n",
       "      <td>21.0</td>\n",
       "      <td>Alsace</td>\n",
       "      <td>Alsace</td>\n",
       "      <td>NaN</td>\n",
       "      <td>Roger Voss</td>\n",
       "      <td>Domaine Schoffit 2012 Lieu-dit Harth Cuvée Car...</td>\n",
       "      <td>Gewürztraminer</td>\n",
       "      <td>Domaine Schoffit</td>\n",
       "    </tr>\n",
       "  </tbody>\n",
       "</table>\n",
       "<p>129971 rows × 12 columns</p>\n",
       "</div>"
      ],
      "text/plain": [
       "         country                                        description  \\\n",
       "0          Italy  Aromas include tropical fruit, broom, brimston...   \n",
       "1       Portugal  This is ripe and fruity, a wine that is smooth...   \n",
       "2             US  Tart and snappy, the flavors of lime flesh and...   \n",
       "3             US  Pineapple rind, lemon pith and orange blossom ...   \n",
       "4             US  Much like the regular bottling from 2012, this...   \n",
       "...          ...                                                ...   \n",
       "129966   Germany  Notes of honeysuckle and cantaloupe sweeten th...   \n",
       "129967        US  Citation is given as much as a decade of bottl...   \n",
       "129968    France  Well-drained gravel soil gives this wine its c...   \n",
       "129969    France  A dry style of Pinot Gris, this is crisp with ...   \n",
       "129970    France  Big, rich and off-dry, this is powered by inte...   \n",
       "\n",
       "                                   designation  points  price  \\\n",
       "0                                 Vulkà Bianco      87    NaN   \n",
       "1                                     Avidagos      87   15.0   \n",
       "2                                          NaN      87   14.0   \n",
       "3                         Reserve Late Harvest      87   13.0   \n",
       "4           Vintner's Reserve Wild Child Block      87   65.0   \n",
       "...                                        ...     ...    ...   \n",
       "129966  Brauneberger Juffer-Sonnenuhr Spätlese      90   28.0   \n",
       "129967                                     NaN      90   75.0   \n",
       "129968                                   Kritt      90   30.0   \n",
       "129969                                     NaN      90   32.0   \n",
       "129970           Lieu-dit Harth Cuvée Caroline      90   21.0   \n",
       "\n",
       "                 province             region_1           region_2  \\\n",
       "0       Sicily & Sardinia                 Etna                NaN   \n",
       "1                   Douro                  NaN                NaN   \n",
       "2                  Oregon    Willamette Valley  Willamette Valley   \n",
       "3                Michigan  Lake Michigan Shore                NaN   \n",
       "4                  Oregon    Willamette Valley  Willamette Valley   \n",
       "...                   ...                  ...                ...   \n",
       "129966              Mosel                  NaN                NaN   \n",
       "129967             Oregon               Oregon       Oregon Other   \n",
       "129968             Alsace               Alsace                NaN   \n",
       "129969             Alsace               Alsace                NaN   \n",
       "129970             Alsace               Alsace                NaN   \n",
       "\n",
       "               taster_name                                              title  \\\n",
       "0            Kerin O’Keefe                  Nicosia 2013 Vulkà Bianco  (Etna)   \n",
       "1               Roger Voss      Quinta dos Avidagos 2011 Avidagos Red (Douro)   \n",
       "2             Paul Gregutt      Rainstorm 2013 Pinot Gris (Willamette Valley)   \n",
       "3       Alexander Peartree  St. Julian 2013 Reserve Late Harvest Riesling ...   \n",
       "4             Paul Gregutt  Sweet Cheeks 2012 Vintner's Reserve Wild Child...   \n",
       "...                    ...                                                ...   \n",
       "129966  Anna Lee C. Iijima  Dr. H. Thanisch (Erben Müller-Burggraef) 2013 ...   \n",
       "129967        Paul Gregutt                  Citation 2004 Pinot Noir (Oregon)   \n",
       "129968          Roger Voss  Domaine Gresser 2013 Kritt Gewurztraminer (Als...   \n",
       "129969          Roger Voss      Domaine Marcel Deiss 2012 Pinot Gris (Alsace)   \n",
       "129970          Roger Voss  Domaine Schoffit 2012 Lieu-dit Harth Cuvée Car...   \n",
       "\n",
       "               variety                                    winery  \n",
       "0          White Blend                                   Nicosia  \n",
       "1       Portuguese Red                       Quinta dos Avidagos  \n",
       "2           Pinot Gris                                 Rainstorm  \n",
       "3             Riesling                                St. Julian  \n",
       "4           Pinot Noir                              Sweet Cheeks  \n",
       "...                ...                                       ...  \n",
       "129966        Riesling  Dr. H. Thanisch (Erben Müller-Burggraef)  \n",
       "129967      Pinot Noir                                  Citation  \n",
       "129968  Gewürztraminer                           Domaine Gresser  \n",
       "129969      Pinot Gris                      Domaine Marcel Deiss  \n",
       "129970  Gewürztraminer                          Domaine Schoffit  \n",
       "\n",
       "[129971 rows x 12 columns]"
      ]
     },
     "execution_count": 2,
     "metadata": {},
     "output_type": "execute_result"
    }
   ],
   "source": [
    "import pandas as pd\n",
    "import numpy as np\n",
    "\n",
    "df = pd.read_csv('winemag-data-130k-v2.csv')\n",
    "df = df.drop(columns=['Unnamed: 0', 'taster_twitter_handle'])\n",
    "df"
   ]
  },
  {
   "cell_type": "code",
   "execution_count": 3,
   "metadata": {},
   "outputs": [
    {
     "data": {
      "text/plain": [
       "country           63\n",
       "description        0\n",
       "designation    37465\n",
       "points             0\n",
       "price           8996\n",
       "province          63\n",
       "region_1       21247\n",
       "region_2       79460\n",
       "taster_name    26244\n",
       "title              0\n",
       "variety            1\n",
       "winery             0\n",
       "dtype: int64"
      ]
     },
     "execution_count": 3,
     "metadata": {},
     "output_type": "execute_result"
    }
   ],
   "source": [
    "df.isna().sum()"
   ]
  },
  {
   "cell_type": "code",
   "execution_count": 4,
   "metadata": {},
   "outputs": [
    {
     "data": {
      "text/html": [
       "<div>\n",
       "<style scoped>\n",
       "    .dataframe tbody tr th:only-of-type {\n",
       "        vertical-align: middle;\n",
       "    }\n",
       "\n",
       "    .dataframe tbody tr th {\n",
       "        vertical-align: top;\n",
       "    }\n",
       "\n",
       "    .dataframe thead th {\n",
       "        text-align: right;\n",
       "    }\n",
       "</style>\n",
       "<table border=\"1\" class=\"dataframe\">\n",
       "  <thead>\n",
       "    <tr style=\"text-align: right;\">\n",
       "      <th></th>\n",
       "      <th>country</th>\n",
       "      <th>description</th>\n",
       "      <th>designation</th>\n",
       "      <th>points</th>\n",
       "      <th>price</th>\n",
       "      <th>province</th>\n",
       "      <th>region_1</th>\n",
       "      <th>region_2</th>\n",
       "      <th>taster_name</th>\n",
       "      <th>title</th>\n",
       "      <th>variety</th>\n",
       "      <th>winery</th>\n",
       "    </tr>\n",
       "  </thead>\n",
       "  <tbody>\n",
       "    <tr>\n",
       "      <th>0</th>\n",
       "      <td>Portugal</td>\n",
       "      <td>This is ripe and fruity, a wine that is smooth...</td>\n",
       "      <td>Avidagos</td>\n",
       "      <td>87</td>\n",
       "      <td>15.0</td>\n",
       "      <td>Douro</td>\n",
       "      <td>NaN</td>\n",
       "      <td>NaN</td>\n",
       "      <td>Roger Voss</td>\n",
       "      <td>Quinta dos Avidagos 2011 Avidagos Red (Douro)</td>\n",
       "      <td>Portuguese Red</td>\n",
       "      <td>Quinta dos Avidagos</td>\n",
       "    </tr>\n",
       "    <tr>\n",
       "      <th>1</th>\n",
       "      <td>US</td>\n",
       "      <td>Tart and snappy, the flavors of lime flesh and...</td>\n",
       "      <td>NaN</td>\n",
       "      <td>87</td>\n",
       "      <td>14.0</td>\n",
       "      <td>Oregon</td>\n",
       "      <td>Willamette Valley</td>\n",
       "      <td>Willamette Valley</td>\n",
       "      <td>Paul Gregutt</td>\n",
       "      <td>Rainstorm 2013 Pinot Gris (Willamette Valley)</td>\n",
       "      <td>Pinot Gris</td>\n",
       "      <td>Rainstorm</td>\n",
       "    </tr>\n",
       "    <tr>\n",
       "      <th>2</th>\n",
       "      <td>US</td>\n",
       "      <td>Pineapple rind, lemon pith and orange blossom ...</td>\n",
       "      <td>Reserve Late Harvest</td>\n",
       "      <td>87</td>\n",
       "      <td>13.0</td>\n",
       "      <td>Michigan</td>\n",
       "      <td>Lake Michigan Shore</td>\n",
       "      <td>NaN</td>\n",
       "      <td>Alexander Peartree</td>\n",
       "      <td>St. Julian 2013 Reserve Late Harvest Riesling ...</td>\n",
       "      <td>Riesling</td>\n",
       "      <td>St. Julian</td>\n",
       "    </tr>\n",
       "    <tr>\n",
       "      <th>3</th>\n",
       "      <td>US</td>\n",
       "      <td>Much like the regular bottling from 2012, this...</td>\n",
       "      <td>Vintner's Reserve Wild Child Block</td>\n",
       "      <td>87</td>\n",
       "      <td>65.0</td>\n",
       "      <td>Oregon</td>\n",
       "      <td>Willamette Valley</td>\n",
       "      <td>Willamette Valley</td>\n",
       "      <td>Paul Gregutt</td>\n",
       "      <td>Sweet Cheeks 2012 Vintner's Reserve Wild Child...</td>\n",
       "      <td>Pinot Noir</td>\n",
       "      <td>Sweet Cheeks</td>\n",
       "    </tr>\n",
       "    <tr>\n",
       "      <th>4</th>\n",
       "      <td>Spain</td>\n",
       "      <td>Blackberry and raspberry aromas show a typical...</td>\n",
       "      <td>Ars In Vitro</td>\n",
       "      <td>87</td>\n",
       "      <td>15.0</td>\n",
       "      <td>Northern Spain</td>\n",
       "      <td>Navarra</td>\n",
       "      <td>NaN</td>\n",
       "      <td>Michael Schachner</td>\n",
       "      <td>Tandem 2011 Ars In Vitro Tempranillo-Merlot (N...</td>\n",
       "      <td>Tempranillo-Merlot</td>\n",
       "      <td>Tandem</td>\n",
       "    </tr>\n",
       "    <tr>\n",
       "      <th>...</th>\n",
       "      <td>...</td>\n",
       "      <td>...</td>\n",
       "      <td>...</td>\n",
       "      <td>...</td>\n",
       "      <td>...</td>\n",
       "      <td>...</td>\n",
       "      <td>...</td>\n",
       "      <td>...</td>\n",
       "      <td>...</td>\n",
       "      <td>...</td>\n",
       "      <td>...</td>\n",
       "      <td>...</td>\n",
       "    </tr>\n",
       "    <tr>\n",
       "      <th>120910</th>\n",
       "      <td>Germany</td>\n",
       "      <td>Notes of honeysuckle and cantaloupe sweeten th...</td>\n",
       "      <td>Brauneberger Juffer-Sonnenuhr Spätlese</td>\n",
       "      <td>90</td>\n",
       "      <td>28.0</td>\n",
       "      <td>Mosel</td>\n",
       "      <td>NaN</td>\n",
       "      <td>NaN</td>\n",
       "      <td>Anna Lee C. Iijima</td>\n",
       "      <td>Dr. H. Thanisch (Erben Müller-Burggraef) 2013 ...</td>\n",
       "      <td>Riesling</td>\n",
       "      <td>Dr. H. Thanisch (Erben Müller-Burggraef)</td>\n",
       "    </tr>\n",
       "    <tr>\n",
       "      <th>120911</th>\n",
       "      <td>US</td>\n",
       "      <td>Citation is given as much as a decade of bottl...</td>\n",
       "      <td>NaN</td>\n",
       "      <td>90</td>\n",
       "      <td>75.0</td>\n",
       "      <td>Oregon</td>\n",
       "      <td>Oregon</td>\n",
       "      <td>Oregon Other</td>\n",
       "      <td>Paul Gregutt</td>\n",
       "      <td>Citation 2004 Pinot Noir (Oregon)</td>\n",
       "      <td>Pinot Noir</td>\n",
       "      <td>Citation</td>\n",
       "    </tr>\n",
       "    <tr>\n",
       "      <th>120912</th>\n",
       "      <td>France</td>\n",
       "      <td>Well-drained gravel soil gives this wine its c...</td>\n",
       "      <td>Kritt</td>\n",
       "      <td>90</td>\n",
       "      <td>30.0</td>\n",
       "      <td>Alsace</td>\n",
       "      <td>Alsace</td>\n",
       "      <td>NaN</td>\n",
       "      <td>Roger Voss</td>\n",
       "      <td>Domaine Gresser 2013 Kritt Gewurztraminer (Als...</td>\n",
       "      <td>Gewürztraminer</td>\n",
       "      <td>Domaine Gresser</td>\n",
       "    </tr>\n",
       "    <tr>\n",
       "      <th>120913</th>\n",
       "      <td>France</td>\n",
       "      <td>A dry style of Pinot Gris, this is crisp with ...</td>\n",
       "      <td>NaN</td>\n",
       "      <td>90</td>\n",
       "      <td>32.0</td>\n",
       "      <td>Alsace</td>\n",
       "      <td>Alsace</td>\n",
       "      <td>NaN</td>\n",
       "      <td>Roger Voss</td>\n",
       "      <td>Domaine Marcel Deiss 2012 Pinot Gris (Alsace)</td>\n",
       "      <td>Pinot Gris</td>\n",
       "      <td>Domaine Marcel Deiss</td>\n",
       "    </tr>\n",
       "    <tr>\n",
       "      <th>120914</th>\n",
       "      <td>France</td>\n",
       "      <td>Big, rich and off-dry, this is powered by inte...</td>\n",
       "      <td>Lieu-dit Harth Cuvée Caroline</td>\n",
       "      <td>90</td>\n",
       "      <td>21.0</td>\n",
       "      <td>Alsace</td>\n",
       "      <td>Alsace</td>\n",
       "      <td>NaN</td>\n",
       "      <td>Roger Voss</td>\n",
       "      <td>Domaine Schoffit 2012 Lieu-dit Harth Cuvée Car...</td>\n",
       "      <td>Gewürztraminer</td>\n",
       "      <td>Domaine Schoffit</td>\n",
       "    </tr>\n",
       "  </tbody>\n",
       "</table>\n",
       "<p>120915 rows × 12 columns</p>\n",
       "</div>"
      ],
      "text/plain": [
       "         country                                        description  \\\n",
       "0       Portugal  This is ripe and fruity, a wine that is smooth...   \n",
       "1             US  Tart and snappy, the flavors of lime flesh and...   \n",
       "2             US  Pineapple rind, lemon pith and orange blossom ...   \n",
       "3             US  Much like the regular bottling from 2012, this...   \n",
       "4          Spain  Blackberry and raspberry aromas show a typical...   \n",
       "...          ...                                                ...   \n",
       "120910   Germany  Notes of honeysuckle and cantaloupe sweeten th...   \n",
       "120911        US  Citation is given as much as a decade of bottl...   \n",
       "120912    France  Well-drained gravel soil gives this wine its c...   \n",
       "120913    France  A dry style of Pinot Gris, this is crisp with ...   \n",
       "120914    France  Big, rich and off-dry, this is powered by inte...   \n",
       "\n",
       "                                   designation  points  price        province  \\\n",
       "0                                     Avidagos      87   15.0           Douro   \n",
       "1                                          NaN      87   14.0          Oregon   \n",
       "2                         Reserve Late Harvest      87   13.0        Michigan   \n",
       "3           Vintner's Reserve Wild Child Block      87   65.0          Oregon   \n",
       "4                                 Ars In Vitro      87   15.0  Northern Spain   \n",
       "...                                        ...     ...    ...             ...   \n",
       "120910  Brauneberger Juffer-Sonnenuhr Spätlese      90   28.0           Mosel   \n",
       "120911                                     NaN      90   75.0          Oregon   \n",
       "120912                                   Kritt      90   30.0          Alsace   \n",
       "120913                                     NaN      90   32.0          Alsace   \n",
       "120914           Lieu-dit Harth Cuvée Caroline      90   21.0          Alsace   \n",
       "\n",
       "                   region_1           region_2         taster_name  \\\n",
       "0                       NaN                NaN          Roger Voss   \n",
       "1         Willamette Valley  Willamette Valley        Paul Gregutt   \n",
       "2       Lake Michigan Shore                NaN  Alexander Peartree   \n",
       "3         Willamette Valley  Willamette Valley        Paul Gregutt   \n",
       "4                   Navarra                NaN   Michael Schachner   \n",
       "...                     ...                ...                 ...   \n",
       "120910                  NaN                NaN  Anna Lee C. Iijima   \n",
       "120911               Oregon       Oregon Other        Paul Gregutt   \n",
       "120912               Alsace                NaN          Roger Voss   \n",
       "120913               Alsace                NaN          Roger Voss   \n",
       "120914               Alsace                NaN          Roger Voss   \n",
       "\n",
       "                                                    title             variety  \\\n",
       "0           Quinta dos Avidagos 2011 Avidagos Red (Douro)      Portuguese Red   \n",
       "1           Rainstorm 2013 Pinot Gris (Willamette Valley)          Pinot Gris   \n",
       "2       St. Julian 2013 Reserve Late Harvest Riesling ...            Riesling   \n",
       "3       Sweet Cheeks 2012 Vintner's Reserve Wild Child...          Pinot Noir   \n",
       "4       Tandem 2011 Ars In Vitro Tempranillo-Merlot (N...  Tempranillo-Merlot   \n",
       "...                                                   ...                 ...   \n",
       "120910  Dr. H. Thanisch (Erben Müller-Burggraef) 2013 ...            Riesling   \n",
       "120911                  Citation 2004 Pinot Noir (Oregon)          Pinot Noir   \n",
       "120912  Domaine Gresser 2013 Kritt Gewurztraminer (Als...      Gewürztraminer   \n",
       "120913      Domaine Marcel Deiss 2012 Pinot Gris (Alsace)          Pinot Gris   \n",
       "120914  Domaine Schoffit 2012 Lieu-dit Harth Cuvée Car...      Gewürztraminer   \n",
       "\n",
       "                                          winery  \n",
       "0                            Quinta dos Avidagos  \n",
       "1                                      Rainstorm  \n",
       "2                                     St. Julian  \n",
       "3                                   Sweet Cheeks  \n",
       "4                                         Tandem  \n",
       "...                                          ...  \n",
       "120910  Dr. H. Thanisch (Erben Müller-Burggraef)  \n",
       "120911                                  Citation  \n",
       "120912                           Domaine Gresser  \n",
       "120913                      Domaine Marcel Deiss  \n",
       "120914                          Domaine Schoffit  \n",
       "\n",
       "[120915 rows x 12 columns]"
      ]
     },
     "execution_count": 4,
     "metadata": {},
     "output_type": "execute_result"
    }
   ],
   "source": [
    "df = df.dropna(subset = ['price', 'province', 'country', 'variety'])\n",
    "df = df.reset_index().drop(columns = ['index'])\n",
    "df"
   ]
  },
  {
   "cell_type": "code",
   "execution_count": 5,
   "metadata": {},
   "outputs": [
    {
     "name": "stdout",
     "output_type": "stream",
     "text": [
      "(42,)\n"
     ]
    },
    {
     "data": {
      "text/plain": [
       "US                        54265\n",
       "France                    17776\n",
       "Italy                     16914\n",
       "Spain                      6573\n",
       "Portugal                   4875\n",
       "Chile                      4415\n",
       "Argentina                  3756\n",
       "Austria                    2799\n",
       "Australia                  2294\n",
       "Germany                    2120\n",
       "New Zealand                1378\n",
       "South Africa               1293\n",
       "Israel                      489\n",
       "Greece                      461\n",
       "Canada                      254\n",
       "Hungary                     145\n",
       "Bulgaria                    141\n",
       "Romania                     120\n",
       "Uruguay                     109\n",
       "Turkey                       90\n",
       "Georgia                      84\n",
       "Slovenia                     80\n",
       "Croatia                      71\n",
       "Mexico                       70\n",
       "England                      69\n",
       "Moldova                      59\n",
       "Brazil                       47\n",
       "Lebanon                      35\n",
       "Morocco                      28\n",
       "Peru                         16\n",
       "Ukraine                      14\n",
       "Czech Republic               12\n",
       "Macedonia                    12\n",
       "Serbia                       12\n",
       "Cyprus                       11\n",
       "India                         9\n",
       "Switzerland                   7\n",
       "Luxembourg                    6\n",
       "Armenia                       2\n",
       "Bosnia and Herzegovina        2\n",
       "China                         1\n",
       "Slovakia                      1\n",
       "Name: country, dtype: int64"
      ]
     },
     "execution_count": 5,
     "metadata": {},
     "output_type": "execute_result"
    }
   ],
   "source": [
    "print(df.country.value_counts().shape)\n",
    "df.country.value_counts(dropna = False)"
   ]
  },
  {
   "cell_type": "raw",
   "metadata": {},
   "source": [
    "df.description.value_counts().shape"
   ]
  },
  {
   "cell_type": "code",
   "execution_count": 6,
   "metadata": {},
   "outputs": [
    {
     "name": "stdout",
     "output_type": "stream",
     "text": [
      "(35753,)\n"
     ]
    },
    {
     "data": {
      "text/plain": [
       "NaN                              34767\n",
       "Reserve                           1977\n",
       "Estate                            1317\n",
       "Reserva                           1219\n",
       "Estate Grown                       618\n",
       "                                 ...  \n",
       "Reserva el Algarrobo                 1\n",
       "Long Haul Red Wine                   1\n",
       "Babu Reserva                         1\n",
       "Monte de Carrapatelo Branco          1\n",
       "Companhia das Lezírias Samora        1\n",
       "Name: designation, Length: 35754, dtype: int64"
      ]
     },
     "execution_count": 6,
     "metadata": {},
     "output_type": "execute_result"
    }
   ],
   "source": [
    "print(df.designation.value_counts().shape)\n",
    "df.designation.value_counts(dropna = False)"
   ]
  },
  {
   "cell_type": "code",
   "execution_count": 7,
   "metadata": {},
   "outputs": [
    {
     "data": {
      "text/plain": [
       "100       19\n",
       "99        28\n",
       "98        69\n",
       "97       207\n",
       "80       395\n",
       "96       482\n",
       "81       680\n",
       "95      1406\n",
       "82      1772\n",
       "83      2886\n",
       "94      3449\n",
       "93      5935\n",
       "84      6097\n",
       "92      8865\n",
       "85      8901\n",
       "91     10559\n",
       "89     11306\n",
       "86     11740\n",
       "90     14354\n",
       "87     15761\n",
       "88     16004\n",
       "Name: points, dtype: int64"
      ]
     },
     "execution_count": 7,
     "metadata": {},
     "output_type": "execute_result"
    }
   ],
   "source": [
    "df.points.value_counts(dropna = False).sort_values()"
   ]
  },
  {
   "cell_type": "code",
   "execution_count": 8,
   "metadata": {},
   "outputs": [
    {
     "name": "stdout",
     "output_type": "stream",
     "text": [
      "(390,)\n",
      "4.0\n",
      "3300.0\n"
     ]
    }
   ],
   "source": [
    "print(df.price.value_counts().shape)\n",
    "print(df.price.min())\n",
    "print(df.price.max())"
   ]
  },
  {
   "cell_type": "code",
   "execution_count": 9,
   "metadata": {},
   "outputs": [
    {
     "data": {
      "text/plain": [
       "California          36104\n",
       "Washington           8583\n",
       "Oregon               5359\n",
       "Tuscany              5128\n",
       "Bordeaux             4002\n",
       "                    ...  \n",
       "Urla-Thrace             1\n",
       "Krania Olympus          1\n",
       "Rhode Island            1\n",
       "Lutzville Valley        1\n",
       "Gladstone               1\n",
       "Name: province, Length: 422, dtype: int64"
      ]
     },
     "execution_count": 9,
     "metadata": {},
     "output_type": "execute_result"
    }
   ],
   "source": [
    "df.province.value_counts(dropna = False)"
   ]
  },
  {
   "cell_type": "code",
   "execution_count": 10,
   "metadata": {},
   "outputs": [
    {
     "data": {
      "text/plain": [
       "Napa Valley                 4475\n",
       "Columbia Valley (WA)        4109\n",
       "Russian River Valley        3090\n",
       "California                  2627\n",
       "Paso Robles                 2327\n",
       "                            ... \n",
       "Southern Flinders Ranges       1\n",
       "Napa-Amador                    1\n",
       "Texoma                         1\n",
       "Côtes de Forez                 1\n",
       "Hawaii                         1\n",
       "Name: region_1, Length: 1204, dtype: int64"
      ]
     },
     "execution_count": 10,
     "metadata": {},
     "output_type": "execute_result"
    }
   ],
   "source": [
    "df.region_1.value_counts()"
   ]
  },
  {
   "cell_type": "code",
   "execution_count": 11,
   "metadata": {},
   "outputs": [
    {
     "data": {
      "text/plain": [
       "Central Coast        10975\n",
       "Sonoma                9009\n",
       "Columbia Valley       8058\n",
       "Napa                  6804\n",
       "Willamette Valley     3416\n",
       "California Other      2661\n",
       "Finger Lakes          1768\n",
       "Sierra Foothills      1461\n",
       "Napa-Sonoma           1169\n",
       "Central Valley        1058\n",
       "Southern Oregon        913\n",
       "Oregon Other           724\n",
       "Long Island            677\n",
       "North Coast            583\n",
       "Washington Other       523\n",
       "South Coast            262\n",
       "New York Other         231\n",
       "Name: region_2, dtype: int64"
      ]
     },
     "execution_count": 11,
     "metadata": {},
     "output_type": "execute_result"
    }
   ],
   "source": [
    "df.region_2.value_counts()"
   ]
  },
  {
   "cell_type": "code",
   "execution_count": 12,
   "metadata": {},
   "outputs": [
    {
     "data": {
      "text/plain": [
       "Roger Voss            20172\n",
       "Michael Schachner     14944\n",
       "Kerin O’Keefe          9874\n",
       "Virginie Boone         9507\n",
       "Paul Gregutt           9497\n",
       "Matt Kettmann          6237\n",
       "Joe Czerwinski         5010\n",
       "Sean P. Sullivan       4925\n",
       "Anna Lee C. Iijima     4369\n",
       "Jim Gordon             4171\n",
       "Anne Krebiehl MW       3389\n",
       "Lauren Buzzeo          1712\n",
       "Susan Kostrzewa        1068\n",
       "Mike DeSimone           492\n",
       "Jeff Jenssen            469\n",
       "Alexander Peartree      413\n",
       "Carrie Dykes            138\n",
       "Fiona Adams              27\n",
       "Christina Pickard         6\n",
       "Name: taster_name, dtype: int64"
      ]
     },
     "execution_count": 12,
     "metadata": {},
     "output_type": "execute_result"
    }
   ],
   "source": [
    "df.taster_name.value_counts()"
   ]
  },
  {
   "cell_type": "code",
   "execution_count": 13,
   "metadata": {},
   "outputs": [
    {
     "data": {
      "text/plain": [
       "Gloria Ferrer NV Sonoma Brut Sparkling (Sonoma County)                                               11\n",
       "Korbel NV Brut Sparkling (California)                                                                 9\n",
       "Segura Viudas NV Extra Dry Sparkling (Cava)                                                           8\n",
       "Ruinart NV Brut Rosé  (Champagne)                                                                     7\n",
       "Gloria Ferrer NV Blanc de Noirs Sparkling (Carneros)                                                  7\n",
       "                                                                                                     ..\n",
       "D'Arenberg 2007 The Dead Arm Shiraz (McLaren Vale)                                                    1\n",
       "Lombard et Cie NV Brut Nature Le Mesnil sur Oger Blanc de Blancs Grand Cru Chardonnay (Champagne)     1\n",
       "Hanna 2014 Sauvignon Blanc (Russian River Valley)                                                     1\n",
       "Amador Cellars 2010 Reserve G-S-M (Amador County)                                                     1\n",
       "Blue Rock 2010 Cabernet Sauvignon (Alexander Valley)                                                  1\n",
       "Name: title, Length: 110582, dtype: int64"
      ]
     },
     "execution_count": 13,
     "metadata": {},
     "output_type": "execute_result"
    }
   ],
   "source": [
    "df.title.value_counts()"
   ]
  },
  {
   "cell_type": "code",
   "execution_count": 14,
   "metadata": {},
   "outputs": [
    {
     "data": {
      "text/plain": [
       "Pinot Noir                  12785\n",
       "Chardonnay                  11077\n",
       "Cabernet Sauvignon           9384\n",
       "Red Blend                    8466\n",
       "Bordeaux-style Red Blend     5340\n",
       "                            ...  \n",
       "Chardonnay-Riesling             1\n",
       "Riesling-Chardonnay             1\n",
       "Catalanesca                     1\n",
       "White Port                      1\n",
       "Colorino                        1\n",
       "Name: variety, Length: 691, dtype: int64"
      ]
     },
     "execution_count": 14,
     "metadata": {},
     "output_type": "execute_result"
    }
   ],
   "source": [
    "df.variety.value_counts()"
   ]
  },
  {
   "cell_type": "code",
   "execution_count": 15,
   "metadata": {},
   "outputs": [
    {
     "data": {
      "text/html": [
       "<div>\n",
       "<style scoped>\n",
       "    .dataframe tbody tr th:only-of-type {\n",
       "        vertical-align: middle;\n",
       "    }\n",
       "\n",
       "    .dataframe tbody tr th {\n",
       "        vertical-align: top;\n",
       "    }\n",
       "\n",
       "    .dataframe thead th {\n",
       "        text-align: right;\n",
       "    }\n",
       "</style>\n",
       "<table border=\"1\" class=\"dataframe\">\n",
       "  <thead>\n",
       "    <tr style=\"text-align: right;\">\n",
       "      <th></th>\n",
       "      <th>points</th>\n",
       "      <th>price</th>\n",
       "    </tr>\n",
       "  </thead>\n",
       "  <tbody>\n",
       "    <tr>\n",
       "      <th>count</th>\n",
       "      <td>120915.000000</td>\n",
       "      <td>120915.000000</td>\n",
       "    </tr>\n",
       "    <tr>\n",
       "      <th>mean</th>\n",
       "      <td>88.421726</td>\n",
       "      <td>35.368796</td>\n",
       "    </tr>\n",
       "    <tr>\n",
       "      <th>std</th>\n",
       "      <td>3.044954</td>\n",
       "      <td>41.031188</td>\n",
       "    </tr>\n",
       "    <tr>\n",
       "      <th>min</th>\n",
       "      <td>80.000000</td>\n",
       "      <td>4.000000</td>\n",
       "    </tr>\n",
       "    <tr>\n",
       "      <th>25%</th>\n",
       "      <td>86.000000</td>\n",
       "      <td>17.000000</td>\n",
       "    </tr>\n",
       "    <tr>\n",
       "      <th>50%</th>\n",
       "      <td>88.000000</td>\n",
       "      <td>25.000000</td>\n",
       "    </tr>\n",
       "    <tr>\n",
       "      <th>75%</th>\n",
       "      <td>91.000000</td>\n",
       "      <td>42.000000</td>\n",
       "    </tr>\n",
       "    <tr>\n",
       "      <th>max</th>\n",
       "      <td>100.000000</td>\n",
       "      <td>3300.000000</td>\n",
       "    </tr>\n",
       "  </tbody>\n",
       "</table>\n",
       "</div>"
      ],
      "text/plain": [
       "              points          price\n",
       "count  120915.000000  120915.000000\n",
       "mean       88.421726      35.368796\n",
       "std         3.044954      41.031188\n",
       "min        80.000000       4.000000\n",
       "25%        86.000000      17.000000\n",
       "50%        88.000000      25.000000\n",
       "75%        91.000000      42.000000\n",
       "max       100.000000    3300.000000"
      ]
     },
     "execution_count": 15,
     "metadata": {},
     "output_type": "execute_result"
    }
   ],
   "source": [
    "df.describe()"
   ]
  },
  {
   "cell_type": "code",
   "execution_count": 16,
   "metadata": {},
   "outputs": [
    {
     "name": "stdout",
     "output_type": "stream",
     "text": [
      "             price\n",
      "points            \n",
      "100     485.947368\n",
      "99      284.214286\n",
      "98      245.492754\n",
      "97      207.173913\n",
      "96      159.292531\n",
      "95      109.235420\n",
      "94       81.436938\n",
      "93       63.112216\n",
      "92       51.050423\n",
      "91       43.227768\n",
      "90       36.912220\n",
      "89       32.184858\n",
      "88       28.690202\n",
      "87       24.902735\n",
      "86       22.134157\n",
      "85       19.950455\n",
      "84       19.314581\n",
      "83       18.237353\n",
      "82       18.870767\n",
      "81       17.182353\n",
      "80       16.372152\n"
     ]
    },
    {
     "data": {
      "text/plain": [
       "<AxesSubplot:xlabel='points'>"
      ]
     },
     "execution_count": 16,
     "metadata": {},
     "output_type": "execute_result"
    },
    {
     "data": {
      "image/png": "[encoded data removed]",
      "text/plain": [
       "<Figure size 432x288 with 1 Axes>"
      ]
     },
     "metadata": {
      "needs_background": "light"
     },
     "output_type": "display_data"
    }
   ],
   "source": [
    "import matplotlib.pyplot as plt\n",
    "groupedByPoints = df.groupby(\"points\").mean().sort_values(\"points\", ascending=False)\n",
    "print(groupedByPoints)\n",
    "groupedByPoints.plot(kind = \"bar\")"
   ]
  },
  {
   "cell_type": "code",
   "execution_count": 17,
   "metadata": {},
   "outputs": [
    {
     "name": "stdout",
     "output_type": "stream",
     "text": [
      "           points\n",
      "price            \n",
      "3300.0  88.000000\n",
      "2500.0  96.000000\n",
      "2013.0  91.000000\n",
      "2000.0  96.500000\n",
      "1900.0  98.000000\n",
      "...           ...\n",
      "8.0     84.628924\n",
      "7.0     84.450346\n",
      "6.0     84.347458\n",
      "5.0     83.586957\n",
      "4.0     84.272727\n",
      "\n",
      "[390 rows x 1 columns]\n"
     ]
    },
    {
     "data": {
      "text/plain": [
       "<AxesSubplot:xlabel='price'>"
      ]
     },
     "execution_count": 17,
     "metadata": {},
     "output_type": "execute_result"
    },
    {
     "data": {
      "image/png": "[encoded data removed]",
      "text/plain": [
       "<Figure size 432x288 with 1 Axes>"
      ]
     },
     "metadata": {
      "needs_background": "light"
     },
     "output_type": "display_data"
    },
    {
     "data": {
      "image/png": "[encoded data removed]",
      "text/plain": [
       "<Figure size 432x288 with 1 Axes>"
      ]
     },
     "metadata": {
      "needs_background": "light"
     },
     "output_type": "display_data"
    },
    {
     "data": {
      "image/png": "[encoded data removed]",
      "text/plain": [
       "<Figure size 432x288 with 1 Axes>"
      ]
     },
     "metadata": {
      "needs_background": "light"
     },
     "output_type": "display_data"
    }
   ],
   "source": [
    "groupedByPrice = df.groupby(\"price\").mean().sort_values(\"price\", ascending=False)\n",
    "print(groupedByPrice)\n",
    "plt.scatter(groupedByPrice.index, groupedByPrice.points)\n",
    "groupedByPrice.head(20).plot(kind = \"bar\")\n",
    "groupedByPrice.tail(20).plot(kind = \"bar\")"
   ]
  },
  {
   "cell_type": "code",
   "execution_count": 18,
   "metadata": {},
   "outputs": [
    {
     "data": {
      "text/html": [
       "<div>\n",
       "<style scoped>\n",
       "    .dataframe tbody tr th:only-of-type {\n",
       "        vertical-align: middle;\n",
       "    }\n",
       "\n",
       "    .dataframe tbody tr th {\n",
       "        vertical-align: top;\n",
       "    }\n",
       "\n",
       "    .dataframe thead th {\n",
       "        text-align: right;\n",
       "    }\n",
       "</style>\n",
       "<table border=\"1\" class=\"dataframe\">\n",
       "  <thead>\n",
       "    <tr style=\"text-align: right;\">\n",
       "      <th></th>\n",
       "      <th>country</th>\n",
       "      <th>description</th>\n",
       "      <th>designation</th>\n",
       "      <th>points</th>\n",
       "      <th>price</th>\n",
       "      <th>province</th>\n",
       "      <th>region_1</th>\n",
       "      <th>region_2</th>\n",
       "      <th>taster_name</th>\n",
       "      <th>title</th>\n",
       "      <th>variety</th>\n",
       "      <th>winery</th>\n",
       "    </tr>\n",
       "  </thead>\n",
       "  <tbody>\n",
       "    <tr>\n",
       "      <th>103929</th>\n",
       "      <td>France</td>\n",
       "      <td>A hugely powerful wine, full of dark, brooding...</td>\n",
       "      <td>NaN</td>\n",
       "      <td>100</td>\n",
       "      <td>359.0</td>\n",
       "      <td>Bordeaux</td>\n",
       "      <td>Saint-Julien</td>\n",
       "      <td>NaN</td>\n",
       "      <td>Roger Voss</td>\n",
       "      <td>Château Léoville Las Cases 2010  Saint-Julien</td>\n",
       "      <td>Bordeaux-style Red Blend</td>\n",
       "      <td>Château Léoville Las Cases</td>\n",
       "    </tr>\n",
       "    <tr>\n",
       "      <th>39160</th>\n",
       "      <td>Portugal</td>\n",
       "      <td>This is the latest release of what has long be...</td>\n",
       "      <td>Barca-Velha</td>\n",
       "      <td>100</td>\n",
       "      <td>450.0</td>\n",
       "      <td>Douro</td>\n",
       "      <td>NaN</td>\n",
       "      <td>NaN</td>\n",
       "      <td>Roger Voss</td>\n",
       "      <td>Casa Ferreirinha 2008 Barca-Velha Red (Douro)</td>\n",
       "      <td>Portuguese Red</td>\n",
       "      <td>Casa Ferreirinha</td>\n",
       "    </tr>\n",
       "    <tr>\n",
       "      <th>83462</th>\n",
       "      <td>France</td>\n",
       "      <td>This new release from a great vintage for Char...</td>\n",
       "      <td>Le Mesnil Blanc de Blancs Brut</td>\n",
       "      <td>100</td>\n",
       "      <td>617.0</td>\n",
       "      <td>Champagne</td>\n",
       "      <td>Champagne</td>\n",
       "      <td>NaN</td>\n",
       "      <td>Roger Voss</td>\n",
       "      <td>Salon 2006 Le Mesnil Blanc de Blancs Brut Char...</td>\n",
       "      <td>Chardonnay</td>\n",
       "      <td>Salon</td>\n",
       "    </tr>\n",
       "    <tr>\n",
       "      <th>105939</th>\n",
       "      <td>US</td>\n",
       "      <td>In 2005 Charles Smith introduced three high-en...</td>\n",
       "      <td>Royal City</td>\n",
       "      <td>100</td>\n",
       "      <td>80.0</td>\n",
       "      <td>Washington</td>\n",
       "      <td>Columbia Valley (WA)</td>\n",
       "      <td>Columbia Valley</td>\n",
       "      <td>Paul Gregutt</td>\n",
       "      <td>Charles Smith 2006 Royal City Syrah (Columbia ...</td>\n",
       "      <td>Syrah</td>\n",
       "      <td>Charles Smith</td>\n",
       "    </tr>\n",
       "    <tr>\n",
       "      <th>6819</th>\n",
       "      <td>Italy</td>\n",
       "      <td>Thick as molasses and dark as caramelized brow...</td>\n",
       "      <td>Occhio di Pernice</td>\n",
       "      <td>100</td>\n",
       "      <td>210.0</td>\n",
       "      <td>Tuscany</td>\n",
       "      <td>Vin Santo di Montepulciano</td>\n",
       "      <td>NaN</td>\n",
       "      <td>NaN</td>\n",
       "      <td>Avignonesi 1995 Occhio di Pernice  (Vin Santo ...</td>\n",
       "      <td>Prugnolo Gentile</td>\n",
       "      <td>Avignonesi</td>\n",
       "    </tr>\n",
       "    <tr>\n",
       "      <th>54195</th>\n",
       "      <td>France</td>\n",
       "      <td>This is a magnificently solid wine, initially ...</td>\n",
       "      <td>NaN</td>\n",
       "      <td>100</td>\n",
       "      <td>150.0</td>\n",
       "      <td>Bordeaux</td>\n",
       "      <td>Saint-Julien</td>\n",
       "      <td>NaN</td>\n",
       "      <td>Roger Voss</td>\n",
       "      <td>Château Léoville Barton 2010  Saint-Julien</td>\n",
       "      <td>Bordeaux-style Red Blend</td>\n",
       "      <td>Château Léoville Barton</td>\n",
       "    </tr>\n",
       "    <tr>\n",
       "      <th>106928</th>\n",
       "      <td>Portugal</td>\n",
       "      <td>A powerful and ripe wine, strongly influenced ...</td>\n",
       "      <td>Nacional Vintage</td>\n",
       "      <td>100</td>\n",
       "      <td>650.0</td>\n",
       "      <td>Port</td>\n",
       "      <td>NaN</td>\n",
       "      <td>NaN</td>\n",
       "      <td>Roger Voss</td>\n",
       "      <td>Quinta do Noval 2011 Nacional Vintage  (Port)</td>\n",
       "      <td>Port</td>\n",
       "      <td>Quinta do Noval</td>\n",
       "    </tr>\n",
       "    <tr>\n",
       "      <th>109809</th>\n",
       "      <td>US</td>\n",
       "      <td>This wine dazzles with perfection. Sourced fro...</td>\n",
       "      <td>La Muse</td>\n",
       "      <td>100</td>\n",
       "      <td>450.0</td>\n",
       "      <td>California</td>\n",
       "      <td>Sonoma County</td>\n",
       "      <td>Sonoma</td>\n",
       "      <td>NaN</td>\n",
       "      <td>Verité 2007 La Muse Red (Sonoma County)</td>\n",
       "      <td>Bordeaux-style Red Blend</td>\n",
       "      <td>Verité</td>\n",
       "    </tr>\n",
       "    <tr>\n",
       "      <th>114924</th>\n",
       "      <td>US</td>\n",
       "      <td>Initially a rather subdued Frog; as if it has ...</td>\n",
       "      <td>Bionic Frog</td>\n",
       "      <td>100</td>\n",
       "      <td>80.0</td>\n",
       "      <td>Washington</td>\n",
       "      <td>Walla Walla Valley (WA)</td>\n",
       "      <td>Columbia Valley</td>\n",
       "      <td>Paul Gregutt</td>\n",
       "      <td>Cayuse 2008 Bionic Frog Syrah (Walla Walla Val...</td>\n",
       "      <td>Syrah</td>\n",
       "      <td>Cayuse</td>\n",
       "    </tr>\n",
       "    <tr>\n",
       "      <th>103926</th>\n",
       "      <td>France</td>\n",
       "      <td>Almost black in color, this stunning wine is g...</td>\n",
       "      <td>NaN</td>\n",
       "      <td>100</td>\n",
       "      <td>1500.0</td>\n",
       "      <td>Bordeaux</td>\n",
       "      <td>Pauillac</td>\n",
       "      <td>NaN</td>\n",
       "      <td>Roger Voss</td>\n",
       "      <td>Château Lafite Rothschild 2010  Pauillac</td>\n",
       "      <td>Bordeaux-style Red Blend</td>\n",
       "      <td>Château Lafite Rothschild</td>\n",
       "    </tr>\n",
       "  </tbody>\n",
       "</table>\n",
       "</div>"
      ],
      "text/plain": [
       "         country                                        description  \\\n",
       "103929    France  A hugely powerful wine, full of dark, brooding...   \n",
       "39160   Portugal  This is the latest release of what has long be...   \n",
       "83462     France  This new release from a great vintage for Char...   \n",
       "105939        US  In 2005 Charles Smith introduced three high-en...   \n",
       "6819       Italy  Thick as molasses and dark as caramelized brow...   \n",
       "54195     France  This is a magnificently solid wine, initially ...   \n",
       "106928  Portugal  A powerful and ripe wine, strongly influenced ...   \n",
       "109809        US  This wine dazzles with perfection. Sourced fro...   \n",
       "114924        US  Initially a rather subdued Frog; as if it has ...   \n",
       "103926    France  Almost black in color, this stunning wine is g...   \n",
       "\n",
       "                           designation  points   price    province  \\\n",
       "103929                             NaN     100   359.0    Bordeaux   \n",
       "39160                      Barca-Velha     100   450.0       Douro   \n",
       "83462   Le Mesnil Blanc de Blancs Brut     100   617.0   Champagne   \n",
       "105939                      Royal City     100    80.0  Washington   \n",
       "6819                 Occhio di Pernice     100   210.0     Tuscany   \n",
       "54195                              NaN     100   150.0    Bordeaux   \n",
       "106928                Nacional Vintage     100   650.0        Port   \n",
       "109809                         La Muse     100   450.0  California   \n",
       "114924                     Bionic Frog     100    80.0  Washington   \n",
       "103926                             NaN     100  1500.0    Bordeaux   \n",
       "\n",
       "                          region_1         region_2   taster_name  \\\n",
       "103929                Saint-Julien              NaN    Roger Voss   \n",
       "39160                          NaN              NaN    Roger Voss   \n",
       "83462                    Champagne              NaN    Roger Voss   \n",
       "105939        Columbia Valley (WA)  Columbia Valley  Paul Gregutt   \n",
       "6819    Vin Santo di Montepulciano              NaN           NaN   \n",
       "54195                 Saint-Julien              NaN    Roger Voss   \n",
       "106928                         NaN              NaN    Roger Voss   \n",
       "109809               Sonoma County           Sonoma           NaN   \n",
       "114924     Walla Walla Valley (WA)  Columbia Valley  Paul Gregutt   \n",
       "103926                    Pauillac              NaN    Roger Voss   \n",
       "\n",
       "                                                    title  \\\n",
       "103929      Château Léoville Las Cases 2010  Saint-Julien   \n",
       "39160       Casa Ferreirinha 2008 Barca-Velha Red (Douro)   \n",
       "83462   Salon 2006 Le Mesnil Blanc de Blancs Brut Char...   \n",
       "105939  Charles Smith 2006 Royal City Syrah (Columbia ...   \n",
       "6819    Avignonesi 1995 Occhio di Pernice  (Vin Santo ...   \n",
       "54195          Château Léoville Barton 2010  Saint-Julien   \n",
       "106928      Quinta do Noval 2011 Nacional Vintage  (Port)   \n",
       "109809            Verité 2007 La Muse Red (Sonoma County)   \n",
       "114924  Cayuse 2008 Bionic Frog Syrah (Walla Walla Val...   \n",
       "103926           Château Lafite Rothschild 2010  Pauillac   \n",
       "\n",
       "                         variety                      winery  \n",
       "103929  Bordeaux-style Red Blend  Château Léoville Las Cases  \n",
       "39160             Portuguese Red            Casa Ferreirinha  \n",
       "83462                 Chardonnay                       Salon  \n",
       "105939                     Syrah               Charles Smith  \n",
       "6819            Prugnolo Gentile                  Avignonesi  \n",
       "54195   Bordeaux-style Red Blend     Château Léoville Barton  \n",
       "106928                      Port             Quinta do Noval  \n",
       "109809  Bordeaux-style Red Blend                      Verité  \n",
       "114924                     Syrah                      Cayuse  \n",
       "103926  Bordeaux-style Red Blend   Château Lafite Rothschild  "
      ]
     },
     "execution_count": 18,
     "metadata": {},
     "output_type": "execute_result"
    }
   ],
   "source": [
    "df.sort_values(\"points\", ascending=False).head(10)"
   ]
  },
  {
   "cell_type": "code",
   "execution_count": 19,
   "metadata": {},
   "outputs": [
    {
     "data": {
      "text/html": [
       "<div>\n",
       "<style scoped>\n",
       "    .dataframe tbody tr th:only-of-type {\n",
       "        vertical-align: middle;\n",
       "    }\n",
       "\n",
       "    .dataframe tbody tr th {\n",
       "        vertical-align: top;\n",
       "    }\n",
       "\n",
       "    .dataframe thead th {\n",
       "        text-align: right;\n",
       "    }\n",
       "</style>\n",
       "<table border=\"1\" class=\"dataframe\">\n",
       "  <thead>\n",
       "    <tr style=\"text-align: right;\">\n",
       "      <th></th>\n",
       "      <th>country</th>\n",
       "      <th>description</th>\n",
       "      <th>designation</th>\n",
       "      <th>points</th>\n",
       "      <th>price</th>\n",
       "      <th>province</th>\n",
       "      <th>region_1</th>\n",
       "      <th>region_2</th>\n",
       "      <th>taster_name</th>\n",
       "      <th>title</th>\n",
       "      <th>variety</th>\n",
       "      <th>winery</th>\n",
       "    </tr>\n",
       "  </thead>\n",
       "  <tbody>\n",
       "    <tr>\n",
       "      <th>74641</th>\n",
       "      <td>France</td>\n",
       "      <td>This ripe wine shows plenty of blackberry frui...</td>\n",
       "      <td>NaN</td>\n",
       "      <td>88</td>\n",
       "      <td>3300.0</td>\n",
       "      <td>Bordeaux</td>\n",
       "      <td>Médoc</td>\n",
       "      <td>NaN</td>\n",
       "      <td>Roger Voss</td>\n",
       "      <td>Château les Ormes Sorbet 2013  Médoc</td>\n",
       "      <td>Bordeaux-style Red Blend</td>\n",
       "      <td>Château les Ormes Sorbet</td>\n",
       "    </tr>\n",
       "    <tr>\n",
       "      <th>91505</th>\n",
       "      <td>France</td>\n",
       "      <td>A superb wine from a great year, this is power...</td>\n",
       "      <td>NaN</td>\n",
       "      <td>96</td>\n",
       "      <td>2500.0</td>\n",
       "      <td>Burgundy</td>\n",
       "      <td>La Romanée</td>\n",
       "      <td>NaN</td>\n",
       "      <td>Roger Voss</td>\n",
       "      <td>Domaine du Comte Liger-Belair 2010  La Romanée</td>\n",
       "      <td>Pinot Noir</td>\n",
       "      <td>Domaine du Comte Liger-Belair</td>\n",
       "    </tr>\n",
       "    <tr>\n",
       "      <th>14738</th>\n",
       "      <td>France</td>\n",
       "      <td>The wine is a velvet glove in an iron fist. Th...</td>\n",
       "      <td>NaN</td>\n",
       "      <td>96</td>\n",
       "      <td>2500.0</td>\n",
       "      <td>Bordeaux</td>\n",
       "      <td>Pomerol</td>\n",
       "      <td>NaN</td>\n",
       "      <td>Roger Voss</td>\n",
       "      <td>Château Pétrus 2014  Pomerol</td>\n",
       "      <td>Bordeaux-style Red Blend</td>\n",
       "      <td>Château Pétrus</td>\n",
       "    </tr>\n",
       "    <tr>\n",
       "      <th>111978</th>\n",
       "      <td>US</td>\n",
       "      <td>The nose on this single-vineyard wine from a s...</td>\n",
       "      <td>Roger Rose Vineyard</td>\n",
       "      <td>91</td>\n",
       "      <td>2013.0</td>\n",
       "      <td>California</td>\n",
       "      <td>Arroyo Seco</td>\n",
       "      <td>Central Coast</td>\n",
       "      <td>Matt Kettmann</td>\n",
       "      <td>Blair 2013 Roger Rose Vineyard Chardonnay (Arr...</td>\n",
       "      <td>Chardonnay</td>\n",
       "      <td>Blair</td>\n",
       "    </tr>\n",
       "    <tr>\n",
       "      <th>60656</th>\n",
       "      <td>France</td>\n",
       "      <td>This extravagantly perfumed wine has great jui...</td>\n",
       "      <td>NaN</td>\n",
       "      <td>97</td>\n",
       "      <td>2000.0</td>\n",
       "      <td>Bordeaux</td>\n",
       "      <td>Pomerol</td>\n",
       "      <td>NaN</td>\n",
       "      <td>Roger Voss</td>\n",
       "      <td>Château Pétrus 2011  Pomerol</td>\n",
       "      <td>Bordeaux-style Red Blend</td>\n",
       "      <td>Château Pétrus</td>\n",
       "    </tr>\n",
       "    <tr>\n",
       "      <th>105586</th>\n",
       "      <td>France</td>\n",
       "      <td>A wonderfully complete wine, with all the elem...</td>\n",
       "      <td>NaN</td>\n",
       "      <td>96</td>\n",
       "      <td>2000.0</td>\n",
       "      <td>Burgundy</td>\n",
       "      <td>La Romanée</td>\n",
       "      <td>NaN</td>\n",
       "      <td>Roger Voss</td>\n",
       "      <td>Domaine du Comte Liger-Belair 2005  La Romanée</td>\n",
       "      <td>Pinot Noir</td>\n",
       "      <td>Domaine du Comte Liger-Belair</td>\n",
       "    </tr>\n",
       "    <tr>\n",
       "      <th>1471</th>\n",
       "      <td>France</td>\n",
       "      <td>A massive wine for Margaux, packed with tannin...</td>\n",
       "      <td>NaN</td>\n",
       "      <td>98</td>\n",
       "      <td>1900.0</td>\n",
       "      <td>Bordeaux</td>\n",
       "      <td>Margaux</td>\n",
       "      <td>NaN</td>\n",
       "      <td>Roger Voss</td>\n",
       "      <td>Château Margaux 2009  Margaux</td>\n",
       "      <td>Bordeaux-style Red Blend</td>\n",
       "      <td>Château Margaux</td>\n",
       "    </tr>\n",
       "    <tr>\n",
       "      <th>103926</th>\n",
       "      <td>France</td>\n",
       "      <td>Almost black in color, this stunning wine is g...</td>\n",
       "      <td>NaN</td>\n",
       "      <td>100</td>\n",
       "      <td>1500.0</td>\n",
       "      <td>Bordeaux</td>\n",
       "      <td>Pauillac</td>\n",
       "      <td>NaN</td>\n",
       "      <td>Roger Voss</td>\n",
       "      <td>Château Lafite Rothschild 2010  Pauillac</td>\n",
       "      <td>Bordeaux-style Red Blend</td>\n",
       "      <td>Château Lafite Rothschild</td>\n",
       "    </tr>\n",
       "    <tr>\n",
       "      <th>103928</th>\n",
       "      <td>France</td>\n",
       "      <td>This is the finest Cheval Blanc for many years...</td>\n",
       "      <td>NaN</td>\n",
       "      <td>100</td>\n",
       "      <td>1500.0</td>\n",
       "      <td>Bordeaux</td>\n",
       "      <td>Saint-Émilion</td>\n",
       "      <td>NaN</td>\n",
       "      <td>Roger Voss</td>\n",
       "      <td>Château Cheval Blanc 2010  Saint-Émilion</td>\n",
       "      <td>Bordeaux-style Red Blend</td>\n",
       "      <td>Château Cheval Blanc</td>\n",
       "    </tr>\n",
       "    <tr>\n",
       "      <th>1487</th>\n",
       "      <td>France</td>\n",
       "      <td>The purest Cabernet Sauvignon fruit, with dark...</td>\n",
       "      <td>NaN</td>\n",
       "      <td>96</td>\n",
       "      <td>1300.0</td>\n",
       "      <td>Bordeaux</td>\n",
       "      <td>Pauillac</td>\n",
       "      <td>NaN</td>\n",
       "      <td>Roger Voss</td>\n",
       "      <td>Château Mouton Rothschild 2009  Pauillac</td>\n",
       "      <td>Bordeaux-style Red Blend</td>\n",
       "      <td>Château Mouton Rothschild</td>\n",
       "    </tr>\n",
       "  </tbody>\n",
       "</table>\n",
       "</div>"
      ],
      "text/plain": [
       "       country                                        description  \\\n",
       "74641   France  This ripe wine shows plenty of blackberry frui...   \n",
       "91505   France  A superb wine from a great year, this is power...   \n",
       "14738   France  The wine is a velvet glove in an iron fist. Th...   \n",
       "111978      US  The nose on this single-vineyard wine from a s...   \n",
       "60656   France  This extravagantly perfumed wine has great jui...   \n",
       "105586  France  A wonderfully complete wine, with all the elem...   \n",
       "1471    France  A massive wine for Margaux, packed with tannin...   \n",
       "103926  France  Almost black in color, this stunning wine is g...   \n",
       "103928  France  This is the finest Cheval Blanc for many years...   \n",
       "1487    France  The purest Cabernet Sauvignon fruit, with dark...   \n",
       "\n",
       "                designation  points   price    province       region_1  \\\n",
       "74641                   NaN      88  3300.0    Bordeaux          Médoc   \n",
       "91505                   NaN      96  2500.0    Burgundy     La Romanée   \n",
       "14738                   NaN      96  2500.0    Bordeaux        Pomerol   \n",
       "111978  Roger Rose Vineyard      91  2013.0  California    Arroyo Seco   \n",
       "60656                   NaN      97  2000.0    Bordeaux        Pomerol   \n",
       "105586                  NaN      96  2000.0    Burgundy     La Romanée   \n",
       "1471                    NaN      98  1900.0    Bordeaux        Margaux   \n",
       "103926                  NaN     100  1500.0    Bordeaux       Pauillac   \n",
       "103928                  NaN     100  1500.0    Bordeaux  Saint-Émilion   \n",
       "1487                    NaN      96  1300.0    Bordeaux       Pauillac   \n",
       "\n",
       "             region_2    taster_name  \\\n",
       "74641             NaN     Roger Voss   \n",
       "91505             NaN     Roger Voss   \n",
       "14738             NaN     Roger Voss   \n",
       "111978  Central Coast  Matt Kettmann   \n",
       "60656             NaN     Roger Voss   \n",
       "105586            NaN     Roger Voss   \n",
       "1471              NaN     Roger Voss   \n",
       "103926            NaN     Roger Voss   \n",
       "103928            NaN     Roger Voss   \n",
       "1487              NaN     Roger Voss   \n",
       "\n",
       "                                                    title  \\\n",
       "74641                Château les Ormes Sorbet 2013  Médoc   \n",
       "91505      Domaine du Comte Liger-Belair 2010  La Romanée   \n",
       "14738                        Château Pétrus 2014  Pomerol   \n",
       "111978  Blair 2013 Roger Rose Vineyard Chardonnay (Arr...   \n",
       "60656                        Château Pétrus 2011  Pomerol   \n",
       "105586     Domaine du Comte Liger-Belair 2005  La Romanée   \n",
       "1471                        Château Margaux 2009  Margaux   \n",
       "103926           Château Lafite Rothschild 2010  Pauillac   \n",
       "103928           Château Cheval Blanc 2010  Saint-Émilion   \n",
       "1487             Château Mouton Rothschild 2009  Pauillac   \n",
       "\n",
       "                         variety                         winery  \n",
       "74641   Bordeaux-style Red Blend       Château les Ormes Sorbet  \n",
       "91505                 Pinot Noir  Domaine du Comte Liger-Belair  \n",
       "14738   Bordeaux-style Red Blend                 Château Pétrus  \n",
       "111978                Chardonnay                          Blair  \n",
       "60656   Bordeaux-style Red Blend                 Château Pétrus  \n",
       "105586                Pinot Noir  Domaine du Comte Liger-Belair  \n",
       "1471    Bordeaux-style Red Blend                Château Margaux  \n",
       "103926  Bordeaux-style Red Blend      Château Lafite Rothschild  \n",
       "103928  Bordeaux-style Red Blend           Château Cheval Blanc  \n",
       "1487    Bordeaux-style Red Blend      Château Mouton Rothschild  "
      ]
     },
     "execution_count": 19,
     "metadata": {},
     "output_type": "execute_result"
    }
   ],
   "source": [
    "df.sort_values(\"price\", ascending=False).head(10)"
   ]
  },
  {
   "cell_type": "code",
   "execution_count": 20,
   "metadata": {},
   "outputs": [
    {
     "data": {
      "text/plain": [
       "16.372151898734177"
      ]
     },
     "execution_count": 20,
     "metadata": {},
     "output_type": "execute_result"
    }
   ],
   "source": [
    "df[df[\"points\"] == 80].price.mean()"
   ]
  },
  {
   "cell_type": "code",
   "execution_count": 21,
   "metadata": {},
   "outputs": [
    {
     "data": {
      "text/plain": [
       "36.91221959035809"
      ]
     },
     "execution_count": 21,
     "metadata": {},
     "output_type": "execute_result"
    }
   ],
   "source": [
    "df[df[\"points\"] == 90].price.mean()"
   ]
  },
  {
   "cell_type": "code",
   "execution_count": 22,
   "metadata": {},
   "outputs": [
    {
     "data": {
      "text/plain": [
       "485.94736842105266"
      ]
     },
     "execution_count": 22,
     "metadata": {},
     "output_type": "execute_result"
    }
   ],
   "source": [
    "df[df[\"points\"] == 100].price.mean()"
   ]
  },
  {
   "cell_type": "code",
   "execution_count": 23,
   "metadata": {},
   "outputs": [
    {
     "data": {
      "text/plain": [
       "95.64285714285714"
      ]
     },
     "execution_count": 23,
     "metadata": {},
     "output_type": "execute_result"
    }
   ],
   "source": [
    "df[df[\"price\"] > 1000].points.mean()"
   ]
  },
  {
   "cell_type": "code",
   "execution_count": 24,
   "metadata": {},
   "outputs": [
    {
     "data": {
      "text/plain": [
       "95.68131868131869"
      ]
     },
     "execution_count": 24,
     "metadata": {},
     "output_type": "execute_result"
    }
   ],
   "source": [
    "df[df[\"price\"] > 500].points.mean()"
   ]
  },
  {
   "cell_type": "code",
   "execution_count": 25,
   "metadata": {},
   "outputs": [
    {
     "data": {
      "text/plain": [
       "92.82055852644088"
      ]
     },
     "execution_count": 25,
     "metadata": {},
     "output_type": "execute_result"
    }
   ],
   "source": [
    "df[df[\"price\"] > 100].points.mean()"
   ]
  },
  {
   "cell_type": "code",
   "execution_count": 26,
   "metadata": {},
   "outputs": [
    {
     "data": {
      "text/plain": [
       "88.60777933825902"
      ]
     },
     "execution_count": 26,
     "metadata": {},
     "output_type": "execute_result"
    }
   ],
   "source": [
    "df[df[\"price\"] > 10].points.mean()"
   ]
  },
  {
   "cell_type": "code",
   "execution_count": 27,
   "metadata": {},
   "outputs": [
    {
     "data": {
      "text/plain": [
       "85.02437081873208"
      ]
     },
     "execution_count": 27,
     "metadata": {},
     "output_type": "execute_result"
    }
   ],
   "source": [
    "df[df[\"price\"] <= 10].points.mean()"
   ]
  },
  {
   "cell_type": "code",
   "execution_count": 28,
   "metadata": {},
   "outputs": [
    {
     "data": {
      "text/html": [
       "<div>\n",
       "<style scoped>\n",
       "    .dataframe tbody tr th:only-of-type {\n",
       "        vertical-align: middle;\n",
       "    }\n",
       "\n",
       "    .dataframe tbody tr th {\n",
       "        vertical-align: top;\n",
       "    }\n",
       "\n",
       "    .dataframe thead th {\n",
       "        text-align: right;\n",
       "    }\n",
       "</style>\n",
       "<table border=\"1\" class=\"dataframe\">\n",
       "  <thead>\n",
       "    <tr style=\"text-align: right;\">\n",
       "      <th></th>\n",
       "      <th>country</th>\n",
       "      <th>description</th>\n",
       "      <th>designation</th>\n",
       "      <th>points</th>\n",
       "      <th>price</th>\n",
       "      <th>province</th>\n",
       "      <th>region_1</th>\n",
       "      <th>region_2</th>\n",
       "      <th>taster_name</th>\n",
       "      <th>title</th>\n",
       "      <th>variety</th>\n",
       "      <th>winery</th>\n",
       "    </tr>\n",
       "  </thead>\n",
       "  <tbody>\n",
       "    <tr>\n",
       "      <th>105939</th>\n",
       "      <td>US</td>\n",
       "      <td>In 2005 Charles Smith introduced three high-en...</td>\n",
       "      <td>Royal City</td>\n",
       "      <td>100</td>\n",
       "      <td>80.0</td>\n",
       "      <td>Washington</td>\n",
       "      <td>Columbia Valley (WA)</td>\n",
       "      <td>Columbia Valley</td>\n",
       "      <td>Paul Gregutt</td>\n",
       "      <td>Charles Smith 2006 Royal City Syrah (Columbia ...</td>\n",
       "      <td>Syrah</td>\n",
       "      <td>Charles Smith</td>\n",
       "    </tr>\n",
       "    <tr>\n",
       "      <th>114924</th>\n",
       "      <td>US</td>\n",
       "      <td>Initially a rather subdued Frog; as if it has ...</td>\n",
       "      <td>Bionic Frog</td>\n",
       "      <td>100</td>\n",
       "      <td>80.0</td>\n",
       "      <td>Washington</td>\n",
       "      <td>Walla Walla Valley (WA)</td>\n",
       "      <td>Columbia Valley</td>\n",
       "      <td>Paul Gregutt</td>\n",
       "      <td>Cayuse 2008 Bionic Frog Syrah (Walla Walla Val...</td>\n",
       "      <td>Syrah</td>\n",
       "      <td>Cayuse</td>\n",
       "    </tr>\n",
       "  </tbody>\n",
       "</table>\n",
       "</div>"
      ],
      "text/plain": [
       "       country                                        description  \\\n",
       "105939      US  In 2005 Charles Smith introduced three high-en...   \n",
       "114924      US  Initially a rather subdued Frog; as if it has ...   \n",
       "\n",
       "        designation  points  price    province                 region_1  \\\n",
       "105939   Royal City     100   80.0  Washington     Columbia Valley (WA)   \n",
       "114924  Bionic Frog     100   80.0  Washington  Walla Walla Valley (WA)   \n",
       "\n",
       "               region_2   taster_name  \\\n",
       "105939  Columbia Valley  Paul Gregutt   \n",
       "114924  Columbia Valley  Paul Gregutt   \n",
       "\n",
       "                                                    title variety  \\\n",
       "105939  Charles Smith 2006 Royal City Syrah (Columbia ...   Syrah   \n",
       "114924  Cayuse 2008 Bionic Frog Syrah (Walla Walla Val...   Syrah   \n",
       "\n",
       "               winery  \n",
       "105939  Charles Smith  \n",
       "114924         Cayuse  "
      ]
     },
     "execution_count": 28,
     "metadata": {},
     "output_type": "execute_result"
    }
   ],
   "source": [
    "df[(df[\"points\"] == 100) & (df[\"price\"] < 100)]"
   ]
  },
  {
   "cell_type": "code",
   "execution_count": 29,
   "metadata": {},
   "outputs": [
    {
     "data": {
      "text/plain": [
       "88.73486723672367"
      ]
     },
     "execution_count": 29,
     "metadata": {},
     "output_type": "execute_result"
    }
   ],
   "source": [
    "df[df[\"country\"] == \"France\"].points.mean()"
   ]
  },
  {
   "cell_type": "code",
   "execution_count": 30,
   "metadata": {},
   "outputs": [
    {
     "data": {
      "text/plain": [
       "88.61818611800875"
      ]
     },
     "execution_count": 30,
     "metadata": {},
     "output_type": "execute_result"
    }
   ],
   "source": [
    "df[df[\"country\"] == \"Italy\"].points.mean()"
   ]
  },
  {
   "cell_type": "code",
   "execution_count": 31,
   "metadata": {},
   "outputs": [
    {
     "data": {
      "text/plain": [
       "87.93617021276596"
      ]
     },
     "execution_count": 31,
     "metadata": {},
     "output_type": "execute_result"
    }
   ],
   "source": [
    "df[df[\"country\"] == \"Bulgaria\"].points.mean()"
   ]
  },
  {
   "cell_type": "code",
   "execution_count": 32,
   "metadata": {},
   "outputs": [
    {
     "data": {
      "text/plain": [
       "88.56638717405326"
      ]
     },
     "execution_count": 32,
     "metadata": {},
     "output_type": "execute_result"
    }
   ],
   "source": [
    "df[df[\"country\"] == \"US\"].points.mean()"
   ]
  },
  {
   "cell_type": "code",
   "execution_count": 33,
   "metadata": {},
   "outputs": [
    {
     "data": {
      "text/plain": [
       "86.49513023782559"
      ]
     },
     "execution_count": 33,
     "metadata": {},
     "output_type": "execute_result"
    }
   ],
   "source": [
    "df[df[\"country\"] == \"Chile\"].points.mean()"
   ]
  },
  {
   "cell_type": "code",
   "execution_count": 34,
   "metadata": {},
   "outputs": [],
   "source": [
    "def add_value_labels(ax, spacing=5):\n",
    "    \"\"\"Add labels to the end of each bar in a bar chart.\n",
    "\n",
    "    Arguments:\n",
    "        ax (matplotlib.axes.Axes): The matplotlib object containing the axes\n",
    "            of the plot to annotate.\n",
    "        spacing (int): The distance between the labels and the bars.\n",
    "    \"\"\"\n",
    "\n",
    "    # For each bar: Place a label\n",
    "    for rect in ax.patches:\n",
    "        # Get X and Y placement of label from rect.\n",
    "        y_value = rect.get_height()\n",
    "        x_value = rect.get_x() + rect.get_width() / 2\n",
    "\n",
    "        # Number of points between bar and label. Change to your liking.\n",
    "        space = spacing\n",
    "        # Vertical alignment for positive values\n",
    "        va = 'bottom'\n",
    "\n",
    "        # If value of bar is negative: Place label below bar\n",
    "        if y_value < 0:\n",
    "            # Invert space to place label below\n",
    "            space *= -1\n",
    "            # Vertically align label at top\n",
    "            va = 'top'\n",
    "\n",
    "        # Use Y value as label and format number with one decimal place\n",
    "        label = \"{:.2f}\".format(y_value)\n",
    "\n",
    "        # Create annotation\n",
    "        ax.annotate(\n",
    "            label,                      # Use `label` as label\n",
    "            (x_value, y_value),         # Place label at end of the bar\n",
    "            xytext=(0, space),          # Vertically shift label by `space`\n",
    "            textcoords=\"offset points\", # Interpret `xytext` as offset in points\n",
    "            ha='center',                # Horizontally center label\n",
    "            va=va)                      # Vertically align label differently for\n",
    "                                        # positive and negative values.\n",
    "\n",
    "#This helpful code originates from this website https://stackoverflow.com/questions/28931224/adding-value-labels-on-a-matplotlib-bar-chart"
   ]
  },
  {
   "cell_type": "code",
   "execution_count": 35,
   "metadata": {},
   "outputs": [
    {
     "data": {
      "text/plain": [
       "Pinot Noir                  12785\n",
       "Chardonnay                  11077\n",
       "Cabernet Sauvignon           9384\n",
       "Red Blend                    8466\n",
       "Bordeaux-style Red Blend     5340\n",
       "Riesling                     4971\n",
       "Sauvignon Blanc              4780\n",
       "Syrah                        4086\n",
       "Rosé                         3261\n",
       "Merlot                       3061\n",
       "Name: variety, dtype: int64"
      ]
     },
     "execution_count": 35,
     "metadata": {},
     "output_type": "execute_result"
    }
   ],
   "source": [
    "df.variety.value_counts().head(10)"
   ]
  },
  {
   "cell_type": "code",
   "execution_count": 36,
   "metadata": {},
   "outputs": [],
   "source": [
    "import itertools\n",
    "\n",
    "x = []\n",
    "y = []\n",
    "x.append(\"Pinot Noir\")\n",
    "y.append(df[df[\"variety\"] == \"Pinot Noir\"].points.mean())\n",
    "x.append(\"Chardonnay\")\n",
    "y.append(df[df[\"variety\"] == \"Chardonnay\"].points.mean())\n",
    "x.append(\"Cabernet Sauvignon\")\n",
    "y.append(df[df[\"variety\"] == \"Cabernet Sauvignon\"].points.mean())\n",
    "x.append(\"Red Blend\")\n",
    "y.append(df[df[\"variety\"] == \"Red Blend\"].points.mean())\n",
    "x.append(\"Bordeaux-style Red Blend\")\n",
    "y.append(df[df[\"variety\"] == \"Bordeaux-style Red Blend\"].points.mean())\n",
    "x.append(\"Riesling\")\n",
    "y.append(df[df[\"variety\"] == \"Riesling\"].points.mean())\n",
    "x.append(\"Sauvignon Blanc\")\n",
    "y.append(df[df[\"variety\"] == \"Sauvignon Blanc\"].points.mean())\n",
    "x.append(\"Syrah\")\n",
    "y.append(df[df[\"variety\"] == \"Syrah\"].points.mean())\n",
    "x.append(\"Rosé\")\n",
    "y.append(df[df[\"variety\"] == \"Rosé\"].points.mean())\n",
    "x.append(\"Merlot\")\n",
    "y.append(df[df[\"variety\"] == \"Merlot\"].points.mean())\n",
    "\n",
    "y, x = zip(*sorted(zip(y, x), reverse = True))"
   ]
  },
  {
   "cell_type": "code",
   "execution_count": 37,
   "metadata": {},
   "outputs": [
    {
     "data": {
      "image/png": "[encoded data removed]",
      "text/plain": [
       "<Figure size 720x1080 with 1 Axes>"
      ]
     },
     "metadata": {
      "needs_background": "light"
     },
     "output_type": "display_data"
    }
   ],
   "source": [
    "plt.figure(figsize=(10,15))\n",
    "plt.bar(x, y, align='center', color = 'maroon')\n",
    "plt.xticks(x, x, rotation = 90)\n",
    "plt.gca().set_ylim([80, 100])\n",
    "plt.ylabel('Average score')\n",
    "plt.xlabel('Wine variety used')\n",
    "plt.suptitle('The average scores of the wines made from the 10 most popular grape varieties')\n",
    "add_value_labels(plt.gca())\n",
    "plt.show()"
   ]
  },
  {
   "cell_type": "code",
   "execution_count": 38,
   "metadata": {},
   "outputs": [],
   "source": [
    "x = []\n",
    "y = []\n",
    "x.append(\"Pinot Noir\")\n",
    "y.append(df[df[\"variety\"] == \"Pinot Noir\"].price.mean())\n",
    "x.append(\"Chardonnay\")\n",
    "y.append(df[df[\"variety\"] == \"Chardonnay\"].price.mean())\n",
    "x.append(\"Cabernet Sauvignon\")\n",
    "y.append(df[df[\"variety\"] == \"Cabernet Sauvignon\"].price.mean())\n",
    "x.append(\"Red Blend\")\n",
    "y.append(df[df[\"variety\"] == \"Red Blend\"].price.mean())\n",
    "x.append(\"Bordeaux-style Red Blend\")\n",
    "y.append(df[df[\"variety\"] == \"Bordeaux-style Red Blend\"].price.mean())\n",
    "x.append(\"Riesling\")\n",
    "y.append(df[df[\"variety\"] == \"Riesling\"].price.mean())\n",
    "x.append(\"Sauvignon Blanc\")\n",
    "y.append(df[df[\"variety\"] == \"Sauvignon Blanc\"].price.mean())\n",
    "x.append(\"Syrah\")\n",
    "y.append(df[df[\"variety\"] == \"Syrah\"].price.mean())\n",
    "x.append(\"Rosé\")\n",
    "y.append(df[df[\"variety\"] == \"Rosé\"].price.mean())\n",
    "x.append(\"Merlot\")\n",
    "y.append(df[df[\"variety\"] == \"Merlot\"].price.mean())\n",
    "\n",
    "y, x = zip(*sorted(zip(y, x), reverse = True))"
   ]
  },
  {
   "cell_type": "code",
   "execution_count": 39,
   "metadata": {},
   "outputs": [
    {
     "data": {
      "image/png": "[encoded data removed]",
      "text/plain": [
       "<Figure size 720x1080 with 1 Axes>"
      ]
     },
     "metadata": {
      "needs_background": "light"
     },
     "output_type": "display_data"
    }
   ],
   "source": [
    "plt.figure(figsize=(10,15))\n",
    "plt.bar(x, y, align='center', color = 'gold')\n",
    "plt.xticks(x, x, rotation = 90)\n",
    "plt.ylabel('Average price')\n",
    "plt.xlabel('Wine variety used')\n",
    "plt.suptitle('The average prices of the wines made from the 10 most popular grape varieties')\n",
    "add_value_labels(plt.gca())\n",
    "plt.show()"
   ]
  },
  {
   "cell_type": "code",
   "execution_count": 40,
   "metadata": {},
   "outputs": [
    {
     "data": {
      "text/plain": [
       "US           54265\n",
       "France       17776\n",
       "Italy        16914\n",
       "Spain         6573\n",
       "Portugal      4875\n",
       "Chile         4415\n",
       "Argentina     3756\n",
       "Austria       2799\n",
       "Australia     2294\n",
       "Germany       2120\n",
       "Name: country, dtype: int64"
      ]
     },
     "execution_count": 40,
     "metadata": {},
     "output_type": "execute_result"
    }
   ],
   "source": [
    "df.country.value_counts().head(10)"
   ]
  },
  {
   "cell_type": "code",
   "execution_count": 41,
   "metadata": {},
   "outputs": [],
   "source": [
    "x = []\n",
    "y = []\n",
    "x.append(\"US\")\n",
    "y.append(df[df[\"country\"] == \"US\"].points.mean())\n",
    "x.append(\"France\")\n",
    "y.append(df[df[\"country\"] == \"France\"].points.mean())\n",
    "x.append(\"Italy\")\n",
    "y.append(df[df[\"country\"] == \"Italy\"].points.mean())\n",
    "x.append(\"Spain\")\n",
    "y.append(df[df[\"country\"] == \"Spain\"].points.mean())\n",
    "x.append(\"Portugal\")\n",
    "y.append(df[df[\"country\"] == \"Portugal\"].points.mean())\n",
    "x.append(\"Chile\")\n",
    "y.append(df[df[\"country\"] == \"Chile\"].points.mean())\n",
    "x.append(\"Argentina\")\n",
    "y.append(df[df[\"country\"] == \"Argentina\"].points.mean())\n",
    "x.append(\"Austria\")\n",
    "y.append(df[df[\"country\"] == \"Austria\"].points.mean())\n",
    "x.append(\"Australia\")\n",
    "y.append(df[df[\"country\"] == \"Australia\"].points.mean())\n",
    "x.append(\"Germany\")\n",
    "y.append(df[df[\"country\"] == \"Germany\"].points.mean())\n",
    "\n",
    "y, x = zip(*sorted(zip(y, x), reverse = True))"
   ]
  },
  {
   "cell_type": "code",
   "execution_count": 42,
   "metadata": {
    "scrolled": false
   },
   "outputs": [
    {
     "data": {
      "image/png": "[encoded data removed]",
      "text/plain": [
       "<Figure size 720x1080 with 1 Axes>"
      ]
     },
     "metadata": {
      "needs_background": "light"
     },
     "output_type": "display_data"
    }
   ],
   "source": [
    "plt.figure(figsize=(10,15))\n",
    "plt.bar(x, y, align='center', color = 'maroon')\n",
    "plt.xticks(x, x, rotation = 90)\n",
    "plt.gca().set_ylim([80, 100])\n",
    "plt.ylabel('Average score')\n",
    "plt.xlabel('Country of origin')\n",
    "plt.suptitle('The average points of the wines produced in the top 10 countries that contributed the most for this dataset')\n",
    "add_value_labels(plt.gca())\n",
    "plt.show()"
   ]
  },
  {
   "cell_type": "code",
   "execution_count": 43,
   "metadata": {},
   "outputs": [],
   "source": [
    "x = []\n",
    "y = []\n",
    "x.append(\"US\")\n",
    "y.append(df[df[\"country\"] == \"US\"].price.mean())\n",
    "x.append(\"France\")\n",
    "y.append(df[df[\"country\"] == \"France\"].price.mean())\n",
    "x.append(\"Italy\")\n",
    "y.append(df[df[\"country\"] == \"Italy\"].price.mean())\n",
    "x.append(\"Spain\")\n",
    "y.append(df[df[\"country\"] == \"Spain\"].price.mean())\n",
    "x.append(\"Portugal\")\n",
    "y.append(df[df[\"country\"] == \"Portugal\"].price.mean())\n",
    "x.append(\"Chile\")\n",
    "y.append(df[df[\"country\"] == \"Chile\"].price.mean())\n",
    "x.append(\"Argentina\")\n",
    "y.append(df[df[\"country\"] == \"Argentina\"].price.mean())\n",
    "x.append(\"Austria\")\n",
    "y.append(df[df[\"country\"] == \"Austria\"].price.mean())\n",
    "x.append(\"Australia\")\n",
    "y.append(df[df[\"country\"] == \"Australia\"].price.mean())\n",
    "x.append(\"Germany\")\n",
    "y.append(df[df[\"country\"] == \"Germany\"].price.mean())\n",
    "\n",
    "y, x = zip(*sorted(zip(y, x), reverse = True))"
   ]
  },
  {
   "cell_type": "code",
   "execution_count": 44,
   "metadata": {},
   "outputs": [
    {
     "data": {
      "image/png": "[encoded data removed]",
      "text/plain": [
       "<Figure size 720x1080 with 1 Axes>"
      ]
     },
     "metadata": {
      "needs_background": "light"
     },
     "output_type": "display_data"
    }
   ],
   "source": [
    "plt.figure(figsize=(10,15))\n",
    "plt.bar(x, y, align='center', color = 'gold')\n",
    "plt.xticks(x, x, rotation = 90)\n",
    "plt.ylabel('Average price')\n",
    "plt.xlabel('Country of origin')\n",
    "plt.suptitle('The average prices of the wines produced in the top 10 countries that contributed the most for this dataset')\n",
    "add_value_labels(plt.gca())\n",
    "plt.show()"
   ]
  },
  {
   "cell_type": "code",
   "execution_count": 45,
   "metadata": {},
   "outputs": [
    {
     "data": {
      "text/html": [
       "<div>\n",
       "<style scoped>\n",
       "    .dataframe tbody tr th:only-of-type {\n",
       "        vertical-align: middle;\n",
       "    }\n",
       "\n",
       "    .dataframe tbody tr th {\n",
       "        vertical-align: top;\n",
       "    }\n",
       "\n",
       "    .dataframe thead th {\n",
       "        text-align: right;\n",
       "    }\n",
       "</style>\n",
       "<table border=\"1\" class=\"dataframe\">\n",
       "  <thead>\n",
       "    <tr style=\"text-align: right;\">\n",
       "      <th></th>\n",
       "      <th>points</th>\n",
       "      <th>price</th>\n",
       "    </tr>\n",
       "    <tr>\n",
       "      <th>country</th>\n",
       "      <th></th>\n",
       "      <th></th>\n",
       "    </tr>\n",
       "  </thead>\n",
       "  <tbody>\n",
       "    <tr>\n",
       "      <th>England</th>\n",
       "      <td>91.550725</td>\n",
       "      <td>51.681159</td>\n",
       "    </tr>\n",
       "    <tr>\n",
       "      <th>India</th>\n",
       "      <td>90.222222</td>\n",
       "      <td>13.333333</td>\n",
       "    </tr>\n",
       "    <tr>\n",
       "      <th>Austria</th>\n",
       "      <td>90.190782</td>\n",
       "      <td>30.762772</td>\n",
       "    </tr>\n",
       "    <tr>\n",
       "      <th>Germany</th>\n",
       "      <td>89.836321</td>\n",
       "      <td>42.257547</td>\n",
       "    </tr>\n",
       "    <tr>\n",
       "      <th>Canada</th>\n",
       "      <td>89.377953</td>\n",
       "      <td>35.712598</td>\n",
       "    </tr>\n",
       "    <tr>\n",
       "      <th>Hungary</th>\n",
       "      <td>89.165517</td>\n",
       "      <td>40.648276</td>\n",
       "    </tr>\n",
       "    <tr>\n",
       "      <th>China</th>\n",
       "      <td>89.000000</td>\n",
       "      <td>18.000000</td>\n",
       "    </tr>\n",
       "    <tr>\n",
       "      <th>France</th>\n",
       "      <td>88.734867</td>\n",
       "      <td>41.139120</td>\n",
       "    </tr>\n",
       "    <tr>\n",
       "      <th>Luxembourg</th>\n",
       "      <td>88.666667</td>\n",
       "      <td>23.333333</td>\n",
       "    </tr>\n",
       "    <tr>\n",
       "      <th>Italy</th>\n",
       "      <td>88.618186</td>\n",
       "      <td>39.663770</td>\n",
       "    </tr>\n",
       "    <tr>\n",
       "      <th>Australia</th>\n",
       "      <td>88.595466</td>\n",
       "      <td>35.437663</td>\n",
       "    </tr>\n",
       "    <tr>\n",
       "      <th>Morocco</th>\n",
       "      <td>88.571429</td>\n",
       "      <td>19.500000</td>\n",
       "    </tr>\n",
       "    <tr>\n",
       "      <th>Switzerland</th>\n",
       "      <td>88.571429</td>\n",
       "      <td>85.285714</td>\n",
       "    </tr>\n",
       "    <tr>\n",
       "      <th>US</th>\n",
       "      <td>88.566387</td>\n",
       "      <td>36.573464</td>\n",
       "    </tr>\n",
       "    <tr>\n",
       "      <th>Israel</th>\n",
       "      <td>88.496933</td>\n",
       "      <td>31.768916</td>\n",
       "    </tr>\n",
       "    <tr>\n",
       "      <th>Portugal</th>\n",
       "      <td>88.316718</td>\n",
       "      <td>26.218256</td>\n",
       "    </tr>\n",
       "    <tr>\n",
       "      <th>New Zealand</th>\n",
       "      <td>88.308418</td>\n",
       "      <td>26.931785</td>\n",
       "    </tr>\n",
       "    <tr>\n",
       "      <th>Turkey</th>\n",
       "      <td>88.088889</td>\n",
       "      <td>24.633333</td>\n",
       "    </tr>\n",
       "    <tr>\n",
       "      <th>Slovenia</th>\n",
       "      <td>88.012500</td>\n",
       "      <td>24.812500</td>\n",
       "    </tr>\n",
       "    <tr>\n",
       "      <th>Bulgaria</th>\n",
       "      <td>87.936170</td>\n",
       "      <td>14.645390</td>\n",
       "    </tr>\n",
       "  </tbody>\n",
       "</table>\n",
       "</div>"
      ],
      "text/plain": [
       "                points      price\n",
       "country                          \n",
       "England      91.550725  51.681159\n",
       "India        90.222222  13.333333\n",
       "Austria      90.190782  30.762772\n",
       "Germany      89.836321  42.257547\n",
       "Canada       89.377953  35.712598\n",
       "Hungary      89.165517  40.648276\n",
       "China        89.000000  18.000000\n",
       "France       88.734867  41.139120\n",
       "Luxembourg   88.666667  23.333333\n",
       "Italy        88.618186  39.663770\n",
       "Australia    88.595466  35.437663\n",
       "Morocco      88.571429  19.500000\n",
       "Switzerland  88.571429  85.285714\n",
       "US           88.566387  36.573464\n",
       "Israel       88.496933  31.768916\n",
       "Portugal     88.316718  26.218256\n",
       "New Zealand  88.308418  26.931785\n",
       "Turkey       88.088889  24.633333\n",
       "Slovenia     88.012500  24.812500\n",
       "Bulgaria     87.936170  14.645390"
      ]
     },
     "execution_count": 45,
     "metadata": {},
     "output_type": "execute_result"
    }
   ],
   "source": [
    "country_means = df.groupby(\"country\").mean().sort_values(\"points\", ascending = False).head(20)\n",
    "country_means"
   ]
  },
  {
   "cell_type": "code",
   "execution_count": 46,
   "metadata": {},
   "outputs": [
    {
     "data": {
      "text/plain": [
       "<AxesSubplot:xlabel='country'>"
      ]
     },
     "execution_count": 46,
     "metadata": {},
     "output_type": "execute_result"
    },
    {
     "data": {
      "image/png": "[encoded data removed]",
      "text/plain": [
       "<Figure size 432x288 with 1 Axes>"
      ]
     },
     "metadata": {
      "needs_background": "light"
     },
     "output_type": "display_data"
    }
   ],
   "source": [
    "country_means.plot(y = ['points', 'price'], use_index=True, kind = 'bar')"
   ]
  },
  {
   "cell_type": "code",
   "execution_count": 47,
   "metadata": {},
   "outputs": [
    {
     "data": {
      "image/png": "[encoded data removed]",
      "text/plain": [
       "<Figure size 432x288 with 2 Axes>"
      ]
     },
     "metadata": {
      "needs_background": "light"
     },
     "output_type": "display_data"
    }
   ],
   "source": [
    "import numpy as np\n",
    "\n",
    "fig, ax = plt.subplots()\n",
    "ax.plot(country_means.index, country_means.points, color=\"red\")\n",
    "ax.set_xlabel(\"Country\", fontsize=14)\n",
    "ax.set_ylabel(\"Points\",color=\"red\",fontsize=14)\n",
    "\n",
    "ax2 = ax.twinx()\n",
    "ax2.plot(country_means.index, country_means.price, color=\"blue\")\n",
    "ax2.set_ylabel(\"Price\", color=\"blue\",fontsize=14)\n",
    "plt.show()\n",
    "\n",
    "#https://cmdlinetips.com/2019/10/how-to-make-a-plot-with-two-different-y-axis-in-python-with-matplotlib/"
   ]
  },
  {
   "cell_type": "code",
   "execution_count": 48,
   "metadata": {},
   "outputs": [
    {
     "data": {
      "text/html": [
       "<div>\n",
       "<style scoped>\n",
       "    .dataframe tbody tr th:only-of-type {\n",
       "        vertical-align: middle;\n",
       "    }\n",
       "\n",
       "    .dataframe tbody tr th {\n",
       "        vertical-align: top;\n",
       "    }\n",
       "\n",
       "    .dataframe thead th {\n",
       "        text-align: right;\n",
       "    }\n",
       "</style>\n",
       "<table border=\"1\" class=\"dataframe\">\n",
       "  <thead>\n",
       "    <tr style=\"text-align: right;\">\n",
       "      <th></th>\n",
       "      <th>points</th>\n",
       "      <th>price</th>\n",
       "      <th>reviews</th>\n",
       "    </tr>\n",
       "    <tr>\n",
       "      <th>taster_name</th>\n",
       "      <th></th>\n",
       "      <th></th>\n",
       "      <th></th>\n",
       "    </tr>\n",
       "  </thead>\n",
       "  <tbody>\n",
       "    <tr>\n",
       "      <th>Roger Voss</th>\n",
       "      <td>88.606137</td>\n",
       "      <td>38.649960</td>\n",
       "      <td>20172</td>\n",
       "    </tr>\n",
       "    <tr>\n",
       "      <th>Michael Schachner</th>\n",
       "      <td>86.908659</td>\n",
       "      <td>25.230929</td>\n",
       "      <td>14944</td>\n",
       "    </tr>\n",
       "    <tr>\n",
       "      <th>Kerin O’Keefe</th>\n",
       "      <td>88.908750</td>\n",
       "      <td>41.953413</td>\n",
       "      <td>9874</td>\n",
       "    </tr>\n",
       "    <tr>\n",
       "      <th>Virginie Boone</th>\n",
       "      <td>89.216998</td>\n",
       "      <td>46.621963</td>\n",
       "      <td>9507</td>\n",
       "    </tr>\n",
       "    <tr>\n",
       "      <th>Paul Gregutt</th>\n",
       "      <td>89.087396</td>\n",
       "      <td>33.644835</td>\n",
       "      <td>9497</td>\n",
       "    </tr>\n",
       "    <tr>\n",
       "      <th>Matt Kettmann</th>\n",
       "      <td>90.033991</td>\n",
       "      <td>38.642136</td>\n",
       "      <td>6237</td>\n",
       "    </tr>\n",
       "    <tr>\n",
       "      <th>Joe Czerwinski</th>\n",
       "      <td>88.540519</td>\n",
       "      <td>35.182036</td>\n",
       "      <td>5010</td>\n",
       "    </tr>\n",
       "    <tr>\n",
       "      <th>Sean P. Sullivan</th>\n",
       "      <td>88.756751</td>\n",
       "      <td>34.085888</td>\n",
       "      <td>4925</td>\n",
       "    </tr>\n",
       "    <tr>\n",
       "      <th>Anna Lee C. Iijima</th>\n",
       "      <td>88.405127</td>\n",
       "      <td>29.790112</td>\n",
       "      <td>4369</td>\n",
       "    </tr>\n",
       "    <tr>\n",
       "      <th>Jim Gordon</th>\n",
       "      <td>88.625989</td>\n",
       "      <td>26.935507</td>\n",
       "      <td>4171</td>\n",
       "    </tr>\n",
       "    <tr>\n",
       "      <th>Anne Krebiehl MW</th>\n",
       "      <td>90.612570</td>\n",
       "      <td>31.244910</td>\n",
       "      <td>3389</td>\n",
       "    </tr>\n",
       "    <tr>\n",
       "      <th>Lauren Buzzeo</th>\n",
       "      <td>87.564252</td>\n",
       "      <td>24.485981</td>\n",
       "      <td>1712</td>\n",
       "    </tr>\n",
       "    <tr>\n",
       "      <th>Susan Kostrzewa</th>\n",
       "      <td>86.609551</td>\n",
       "      <td>22.897940</td>\n",
       "      <td>1068</td>\n",
       "    </tr>\n",
       "    <tr>\n",
       "      <th>Mike DeSimone</th>\n",
       "      <td>89.095528</td>\n",
       "      <td>28.132114</td>\n",
       "      <td>492</td>\n",
       "    </tr>\n",
       "    <tr>\n",
       "      <th>Jeff Jenssen</th>\n",
       "      <td>88.328358</td>\n",
       "      <td>22.313433</td>\n",
       "      <td>469</td>\n",
       "    </tr>\n",
       "    <tr>\n",
       "      <th>Alexander Peartree</th>\n",
       "      <td>85.854722</td>\n",
       "      <td>29.053269</td>\n",
       "      <td>413</td>\n",
       "    </tr>\n",
       "    <tr>\n",
       "      <th>Carrie Dykes</th>\n",
       "      <td>86.384058</td>\n",
       "      <td>30.753623</td>\n",
       "      <td>138</td>\n",
       "    </tr>\n",
       "    <tr>\n",
       "      <th>Fiona Adams</th>\n",
       "      <td>86.888889</td>\n",
       "      <td>31.148148</td>\n",
       "      <td>27</td>\n",
       "    </tr>\n",
       "    <tr>\n",
       "      <th>Christina Pickard</th>\n",
       "      <td>87.833333</td>\n",
       "      <td>29.333333</td>\n",
       "      <td>6</td>\n",
       "    </tr>\n",
       "  </tbody>\n",
       "</table>\n",
       "</div>"
      ],
      "text/plain": [
       "                       points      price  reviews\n",
       "taster_name                                      \n",
       "Roger Voss          88.606137  38.649960    20172\n",
       "Michael Schachner   86.908659  25.230929    14944\n",
       "Kerin O’Keefe       88.908750  41.953413     9874\n",
       "Virginie Boone      89.216998  46.621963     9507\n",
       "Paul Gregutt        89.087396  33.644835     9497\n",
       "Matt Kettmann       90.033991  38.642136     6237\n",
       "Joe Czerwinski      88.540519  35.182036     5010\n",
       "Sean P. Sullivan    88.756751  34.085888     4925\n",
       "Anna Lee C. Iijima  88.405127  29.790112     4369\n",
       "Jim Gordon          88.625989  26.935507     4171\n",
       "Anne Krebiehl MW    90.612570  31.244910     3389\n",
       "Lauren Buzzeo       87.564252  24.485981     1712\n",
       "Susan Kostrzewa     86.609551  22.897940     1068\n",
       "Mike DeSimone       89.095528  28.132114      492\n",
       "Jeff Jenssen        88.328358  22.313433      469\n",
       "Alexander Peartree  85.854722  29.053269      413\n",
       "Carrie Dykes        86.384058  30.753623      138\n",
       "Fiona Adams         86.888889  31.148148       27\n",
       "Christina Pickard   87.833333  29.333333        6"
      ]
     },
     "execution_count": 48,
     "metadata": {},
     "output_type": "execute_result"
    }
   ],
   "source": [
    "by_taster = df.groupby('taster_name').mean().sort_values('points')\n",
    "taster_counts = []\n",
    "for taster in by_taster.index:\n",
    "    taster_counts.append(df[df['taster_name'] == taster].shape[0])\n",
    "by_taster['reviews'] = taster_counts\n",
    "by_taster.sort_values('reviews', ascending = False)"
   ]
  },
  {
   "cell_type": "code",
   "execution_count": 49,
   "metadata": {},
   "outputs": [
    {
     "data": {
      "text/html": [
       "<div>\n",
       "<style scoped>\n",
       "    .dataframe tbody tr th:only-of-type {\n",
       "        vertical-align: middle;\n",
       "    }\n",
       "\n",
       "    .dataframe tbody tr th {\n",
       "        vertical-align: top;\n",
       "    }\n",
       "\n",
       "    .dataframe thead th {\n",
       "        text-align: right;\n",
       "    }\n",
       "</style>\n",
       "<table border=\"1\" class=\"dataframe\">\n",
       "  <thead>\n",
       "    <tr style=\"text-align: right;\">\n",
       "      <th></th>\n",
       "      <th>points</th>\n",
       "      <th>price</th>\n",
       "    </tr>\n",
       "    <tr>\n",
       "      <th>region_1</th>\n",
       "      <th></th>\n",
       "      <th></th>\n",
       "    </tr>\n",
       "  </thead>\n",
       "  <tbody>\n",
       "    <tr>\n",
       "      <th>Ohio</th>\n",
       "      <td>80.000</td>\n",
       "      <td>15.000000</td>\n",
       "    </tr>\n",
       "    <tr>\n",
       "      <th>Ramona Valley</th>\n",
       "      <td>80.500</td>\n",
       "      <td>26.500000</td>\n",
       "    </tr>\n",
       "    <tr>\n",
       "      <th>Monterey-San Luis Obispo-Santa Barbara</th>\n",
       "      <td>82.000</td>\n",
       "      <td>12.000000</td>\n",
       "    </tr>\n",
       "    <tr>\n",
       "      <th>Penisola Sorrentina</th>\n",
       "      <td>82.500</td>\n",
       "      <td>16.500000</td>\n",
       "    </tr>\n",
       "    <tr>\n",
       "      <th>Catalonia</th>\n",
       "      <td>82.750</td>\n",
       "      <td>9.500000</td>\n",
       "    </tr>\n",
       "    <tr>\n",
       "      <th>...</th>\n",
       "      <td>...</td>\n",
       "      <td>...</td>\n",
       "    </tr>\n",
       "    <tr>\n",
       "      <th>Montrachet</th>\n",
       "      <td>96.000</td>\n",
       "      <td>616.142857</td>\n",
       "    </tr>\n",
       "    <tr>\n",
       "      <th>Corton-Pougets</th>\n",
       "      <td>96.500</td>\n",
       "      <td>105.500000</td>\n",
       "    </tr>\n",
       "    <tr>\n",
       "      <th>Bienvenues Bâtard-Montrachet</th>\n",
       "      <td>96.500</td>\n",
       "      <td>443.000000</td>\n",
       "    </tr>\n",
       "    <tr>\n",
       "      <th>Bolgheri Sassicaia</th>\n",
       "      <td>96.625</td>\n",
       "      <td>224.500000</td>\n",
       "    </tr>\n",
       "    <tr>\n",
       "      <th>Clos de Tart</th>\n",
       "      <td>98.000</td>\n",
       "      <td>319.000000</td>\n",
       "    </tr>\n",
       "  </tbody>\n",
       "</table>\n",
       "<p>1204 rows × 2 columns</p>\n",
       "</div>"
      ],
      "text/plain": [
       "                                        points       price\n",
       "region_1                                                  \n",
       "Ohio                                    80.000   15.000000\n",
       "Ramona Valley                           80.500   26.500000\n",
       "Monterey-San Luis Obispo-Santa Barbara  82.000   12.000000\n",
       "Penisola Sorrentina                     82.500   16.500000\n",
       "Catalonia                               82.750    9.500000\n",
       "...                                        ...         ...\n",
       "Montrachet                              96.000  616.142857\n",
       "Corton-Pougets                          96.500  105.500000\n",
       "Bienvenues Bâtard-Montrachet            96.500  443.000000\n",
       "Bolgheri Sassicaia                      96.625  224.500000\n",
       "Clos de Tart                            98.000  319.000000\n",
       "\n",
       "[1204 rows x 2 columns]"
      ]
     },
     "execution_count": 49,
     "metadata": {},
     "output_type": "execute_result"
    }
   ],
   "source": [
    "df.groupby('region_1').mean().sort_values('points')"
   ]
  },
  {
   "cell_type": "code",
   "execution_count": 50,
   "metadata": {},
   "outputs": [
    {
     "data": {
      "text/html": [
       "<div>\n",
       "<style scoped>\n",
       "    .dataframe tbody tr th:only-of-type {\n",
       "        vertical-align: middle;\n",
       "    }\n",
       "\n",
       "    .dataframe tbody tr th {\n",
       "        vertical-align: top;\n",
       "    }\n",
       "\n",
       "    .dataframe thead th {\n",
       "        text-align: right;\n",
       "    }\n",
       "</style>\n",
       "<table border=\"1\" class=\"dataframe\">\n",
       "  <thead>\n",
       "    <tr style=\"text-align: right;\">\n",
       "      <th></th>\n",
       "      <th>country</th>\n",
       "      <th>points</th>\n",
       "      <th>price</th>\n",
       "      <th>province</th>\n",
       "      <th>region_1</th>\n",
       "      <th>region_2</th>\n",
       "      <th>taster_name</th>\n",
       "      <th>variety</th>\n",
       "      <th>winery</th>\n",
       "    </tr>\n",
       "  </thead>\n",
       "  <tbody>\n",
       "    <tr>\n",
       "      <th>0</th>\n",
       "      <td>30</td>\n",
       "      <td>87</td>\n",
       "      <td>15.0</td>\n",
       "      <td>107</td>\n",
       "      <td>-1</td>\n",
       "      <td>-1</td>\n",
       "      <td>15</td>\n",
       "      <td>442</td>\n",
       "      <td>12189</td>\n",
       "    </tr>\n",
       "    <tr>\n",
       "      <th>1</th>\n",
       "      <td>39</td>\n",
       "      <td>87</td>\n",
       "      <td>14.0</td>\n",
       "      <td>266</td>\n",
       "      <td>1192</td>\n",
       "      <td>16</td>\n",
       "      <td>14</td>\n",
       "      <td>428</td>\n",
       "      <td>12249</td>\n",
       "    </tr>\n",
       "    <tr>\n",
       "      <th>2</th>\n",
       "      <td>39</td>\n",
       "      <td>87</td>\n",
       "      <td>13.0</td>\n",
       "      <td>216</td>\n",
       "      <td>538</td>\n",
       "      <td>-1</td>\n",
       "      <td>0</td>\n",
       "      <td>471</td>\n",
       "      <td>13565</td>\n",
       "    </tr>\n",
       "    <tr>\n",
       "      <th>3</th>\n",
       "      <td>39</td>\n",
       "      <td>87</td>\n",
       "      <td>65.0</td>\n",
       "      <td>266</td>\n",
       "      <td>1192</td>\n",
       "      <td>16</td>\n",
       "      <td>14</td>\n",
       "      <td>432</td>\n",
       "      <td>13790</td>\n",
       "    </tr>\n",
       "    <tr>\n",
       "      <th>4</th>\n",
       "      <td>36</td>\n",
       "      <td>87</td>\n",
       "      <td>15.0</td>\n",
       "      <td>260</td>\n",
       "      <td>739</td>\n",
       "      <td>-1</td>\n",
       "      <td>12</td>\n",
       "      <td>579</td>\n",
       "      <td>13870</td>\n",
       "    </tr>\n",
       "    <tr>\n",
       "      <th>...</th>\n",
       "      <td>...</td>\n",
       "      <td>...</td>\n",
       "      <td>...</td>\n",
       "      <td>...</td>\n",
       "      <td>...</td>\n",
       "      <td>...</td>\n",
       "      <td>...</td>\n",
       "      <td>...</td>\n",
       "      <td>...</td>\n",
       "    </tr>\n",
       "    <tr>\n",
       "      <th>120910</th>\n",
       "      <td>16</td>\n",
       "      <td>90</td>\n",
       "      <td>28.0</td>\n",
       "      <td>230</td>\n",
       "      <td>-1</td>\n",
       "      <td>-1</td>\n",
       "      <td>1</td>\n",
       "      <td>471</td>\n",
       "      <td>6126</td>\n",
       "    </tr>\n",
       "    <tr>\n",
       "      <th>120911</th>\n",
       "      <td>39</td>\n",
       "      <td>90</td>\n",
       "      <td>75.0</td>\n",
       "      <td>266</td>\n",
       "      <td>769</td>\n",
       "      <td>10</td>\n",
       "      <td>14</td>\n",
       "      <td>432</td>\n",
       "      <td>4411</td>\n",
       "    </tr>\n",
       "    <tr>\n",
       "      <th>120912</th>\n",
       "      <td>14</td>\n",
       "      <td>90</td>\n",
       "      <td>30.0</td>\n",
       "      <td>11</td>\n",
       "      <td>21</td>\n",
       "      <td>-1</td>\n",
       "      <td>15</td>\n",
       "      <td>205</td>\n",
       "      <td>5493</td>\n",
       "    </tr>\n",
       "    <tr>\n",
       "      <th>120913</th>\n",
       "      <td>14</td>\n",
       "      <td>90</td>\n",
       "      <td>32.0</td>\n",
       "      <td>11</td>\n",
       "      <td>21</td>\n",
       "      <td>-1</td>\n",
       "      <td>15</td>\n",
       "      <td>428</td>\n",
       "      <td>5579</td>\n",
       "    </tr>\n",
       "    <tr>\n",
       "      <th>120914</th>\n",
       "      <td>14</td>\n",
       "      <td>90</td>\n",
       "      <td>21.0</td>\n",
       "      <td>11</td>\n",
       "      <td>21</td>\n",
       "      <td>-1</td>\n",
       "      <td>15</td>\n",
       "      <td>205</td>\n",
       "      <td>5687</td>\n",
       "    </tr>\n",
       "  </tbody>\n",
       "</table>\n",
       "<p>120915 rows × 9 columns</p>\n",
       "</div>"
      ],
      "text/plain": [
       "        country  points  price  province  region_1  region_2  taster_name  \\\n",
       "0            30      87   15.0       107        -1        -1           15   \n",
       "1            39      87   14.0       266      1192        16           14   \n",
       "2            39      87   13.0       216       538        -1            0   \n",
       "3            39      87   65.0       266      1192        16           14   \n",
       "4            36      87   15.0       260       739        -1           12   \n",
       "...         ...     ...    ...       ...       ...       ...          ...   \n",
       "120910       16      90   28.0       230        -1        -1            1   \n",
       "120911       39      90   75.0       266       769        10           14   \n",
       "120912       14      90   30.0        11        21        -1           15   \n",
       "120913       14      90   32.0        11        21        -1           15   \n",
       "120914       14      90   21.0        11        21        -1           15   \n",
       "\n",
       "        variety  winery  \n",
       "0           442   12189  \n",
       "1           428   12249  \n",
       "2           471   13565  \n",
       "3           432   13790  \n",
       "4           579   13870  \n",
       "...         ...     ...  \n",
       "120910      471    6126  \n",
       "120911      432    4411  \n",
       "120912      205    5493  \n",
       "120913      428    5579  \n",
       "120914      205    5687  \n",
       "\n",
       "[120915 rows x 9 columns]"
      ]
     },
     "execution_count": 50,
     "metadata": {},
     "output_type": "execute_result"
    }
   ],
   "source": [
    "# 'one-hot-encoding'\n",
    "#data_dum = pd.get_dummies(df, columns=['country', 'taster_name', 'province', 'region_2', 'variety'])\n",
    "#data_dum = data_dum.drop(columns = ['description', 'designation', 'title', 'winery', 'region_1'])\n",
    "#data_dum\n",
    "\n",
    "encodables = ['country', 'taster_name', 'province', 'region_1', 'region_2', 'variety', 'winery']\n",
    "num_data = df.copy()\n",
    "num_data = num_data.drop(columns = ['description', 'designation', 'title'])\n",
    "\n",
    "for column in encodables:\n",
    "    num_data[column] = num_data[column].astype('category')\n",
    "    num_data[column] = num_data[column].cat.codes\n",
    "\n",
    "\n",
    "num_data"
   ]
  },
  {
   "cell_type": "code",
   "execution_count": 51,
   "metadata": {
    "scrolled": false
   },
   "outputs": [
    {
     "name": "stdout",
     "output_type": "stream",
     "text": [
      "(84640, 8)\n",
      "(84640,)\n"
     ]
    }
   ],
   "source": [
    "from sklearn.model_selection import train_test_split\n",
    "\n",
    "data_x = num_data.copy().drop(columns=['points'])\n",
    "data_y = num_data.copy()['points']\n",
    "\n",
    "X_train, X_test, y_train, y_test = train_test_split(data_x, data_y, test_size = 0.3, random_state=1)\n",
    "\n",
    "print(X_train.shape)\n",
    "print(y_train.shape)"
   ]
  },
  {
   "cell_type": "code",
   "execution_count": 52,
   "metadata": {},
   "outputs": [],
   "source": [
    "from sklearn.ensemble import RandomForestClassifier\n",
    "from sklearn.tree import DecisionTreeClassifier\n",
    "from sklearn.svm import SVC\n",
    "from sklearn.linear_model import LinearRegression, Ridge, Lasso\n",
    "from sklearn.neighbors import KNeighborsClassifier\n",
    "\n",
    "# training different models\n",
    "rf = RandomForestClassifier(n_estimators=100).fit(X_train, y_train)\n",
    "#dt = DecisionTreeClassifier().fit(X_train, y_train)\n",
    "# svm_linear = SVC(kernel='linear', probability=True).fit(X_train, y_train) #takes forever to compute\n",
    "#svm_poly = SVC(kernel='poly', probability=True).fit(X_train, y_train)\n",
    "#svm_rbf = SVC(kernel='rbf', probability=True).fit(X_train, y_train)\n",
    "#linear_regr = LinearRegression().fit(X_train, y_train)\n",
    "#ridge = Ridge().fit(X_train, y_train)\n",
    "#lasso = Lasso().fit(X_train, y_train)\n",
    "#n_neigh_1 = KNeighborsClassifier(n_neighbors=1).fit(X_train, y_train)\n",
    "#n_neigh_10 = KNeighborsClassifier(n_neighbors=10).fit(X_train, y_train)\n"
   ]
  },
  {
   "cell_type": "code",
   "execution_count": 53,
   "metadata": {},
   "outputs": [
    {
     "name": "stdout",
     "output_type": "stream",
     "text": [
      "87\n",
      "15646     85\n",
      "80471     85\n",
      "11147     85\n",
      "26555     94\n",
      "95312     86\n",
      "          ..\n",
      "111697    94\n",
      "52104     88\n",
      "16348     87\n",
      "55079     94\n",
      "55805     86\n",
      "Name: points, Length: 36275, dtype: int64\n",
      "19008\n",
      "52.39972432804962\n"
     ]
    }
   ],
   "source": [
    "predictions = rf.predict(X_test)\n",
    "print(predictions[0])\n",
    "print(y_test)\n",
    "total_correct = 0\n",
    "for i in range(len(predictions)):\n",
    "    if predictions[i] == y_test.iloc[i] or predictions[i]+1 == y_test.iloc[i] or predictions[i]-1 == y_test.iloc[i]:\n",
    "        total_correct += 1\n",
    "        \n",
    "print(total_correct)\n",
    "print(total_correct / len(y_test) * 100)"
   ]
  }
 ],
 "metadata": {
  "kernelspec": {
   "display_name": "Python 3",
   "language": "python",
   "name": "python3"
  },
  "language_info": {
   "codemirror_mode": {
    "name": "ipython",
    "version": 3
   },
   "file_extension": ".py",
   "mimetype": "text/x-python",
   "name": "python",
   "nbconvert_exporter": "python",
   "pygments_lexer": "ipython3",
   "version": "3.8.3"
  }
 },
 "nbformat": 4,
 "nbformat_minor": 4
}
