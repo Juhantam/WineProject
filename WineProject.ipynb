{
 "cells": [
  {
   "cell_type": "code",
   "execution_count": 1,
   "metadata": {},
   "outputs": [
    {
     "name": "stdout",
     "output_type": "stream",
     "text": [
      "Hello wine!\n"
     ]
    }
   ],
   "source": [
    "print(\"Hello wine!\")"
   ]
  },
  {
   "cell_type": "code",
   "execution_count": 2,
   "metadata": {},
   "outputs": [
    {
     "data": {
      "text/plain": [
       "(13,)"
      ]
     },
     "execution_count": 2,
     "metadata": {},
     "output_type": "execute_result"
    }
   ],
   "source": [
    "import pandas as pd\n",
    "\n",
    "df = pd.read_csv('winemag-data-130k-v2.csv')\n",
    "df = df.drop(columns=['Unnamed: 0'])\n",
    "df\n",
    "df.columns.shape"
   ]
  },
  {
   "cell_type": "code",
   "execution_count": 3,
   "metadata": {},
   "outputs": [
    {
     "name": "stdout",
     "output_type": "stream",
     "text": [
      "(43,)\n"
     ]
    },
    {
     "data": {
      "text/plain": [
       "US                        54504\n",
       "France                    22093\n",
       "Italy                     19540\n",
       "Spain                      6645\n",
       "Portugal                   5691\n",
       "Chile                      4472\n",
       "Argentina                  3800\n",
       "Austria                    3345\n",
       "Australia                  2329\n",
       "Germany                    2165\n",
       "New Zealand                1419\n",
       "South Africa               1401\n",
       "Israel                      505\n",
       "Greece                      466\n",
       "Canada                      257\n",
       "Hungary                     146\n",
       "Bulgaria                    141\n",
       "Romania                     120\n",
       "Uruguay                     109\n",
       "Turkey                       90\n",
       "Slovenia                     87\n",
       "Georgia                      86\n",
       "England                      74\n",
       "Croatia                      73\n",
       "Mexico                       70\n",
       "Moldova                      59\n",
       "Brazil                       52\n",
       "Lebanon                      35\n",
       "Morocco                      28\n",
       "Peru                         16\n",
       "Ukraine                      14\n",
       "Serbia                       12\n",
       "Czech Republic               12\n",
       "Macedonia                    12\n",
       "Cyprus                       11\n",
       "India                         9\n",
       "Switzerland                   7\n",
       "Luxembourg                    6\n",
       "Bosnia and Herzegovina        2\n",
       "Armenia                       2\n",
       "China                         1\n",
       "Egypt                         1\n",
       "Slovakia                      1\n",
       "Name: country, dtype: int64"
      ]
     },
     "execution_count": 3,
     "metadata": {},
     "output_type": "execute_result"
    }
   ],
   "source": [
    "print(df.country.value_counts().shape)\n",
    "df.country.value_counts()"
   ]
  },
  {
   "cell_type": "raw",
   "metadata": {},
   "source": [
    "df.description.value_counts().shape"
   ]
  },
  {
   "cell_type": "code",
   "execution_count": 4,
   "metadata": {},
   "outputs": [
    {
     "name": "stdout",
     "output_type": "stream",
     "text": [
      "(37979,)\n"
     ]
    },
    {
     "data": {
      "text/plain": [
       "Reserve                 2009\n",
       "Estate                  1322\n",
       "Reserva                 1259\n",
       "Riserva                  698\n",
       "Estate Grown             621\n",
       "                        ... \n",
       "Baron de Filar Roble       1\n",
       "Lulune                     1\n",
       "20-Year-Old Tawny          1\n",
       "Fonte Serrana              1\n",
       "Fume Blanc Dry             1\n",
       "Name: designation, Length: 37979, dtype: int64"
      ]
     },
     "execution_count": 4,
     "metadata": {},
     "output_type": "execute_result"
    }
   ],
   "source": [
    "print(df.designation.value_counts().shape)\n",
    "df.designation.value_counts()"
   ]
  },
  {
   "cell_type": "code",
   "execution_count": 5,
   "metadata": {},
   "outputs": [
    {
     "data": {
      "text/plain": [
       "100       19\n",
       "99        33\n",
       "98        77\n",
       "97       229\n",
       "80       397\n",
       "96       523\n",
       "81       692\n",
       "95      1535\n",
       "82      1836\n",
       "83      3025\n",
       "94      3758\n",
       "84      6480\n",
       "93      6489\n",
       "85      9530\n",
       "92      9613\n",
       "91     11359\n",
       "89     12226\n",
       "86     12600\n",
       "90     15410\n",
       "87     16933\n",
       "88     17207\n",
       "Name: points, dtype: int64"
      ]
     },
     "execution_count": 5,
     "metadata": {},
     "output_type": "execute_result"
    }
   ],
   "source": [
    "df.points.value_counts().sort_values()"
   ]
  },
  {
   "cell_type": "code",
   "execution_count": 6,
   "metadata": {},
   "outputs": [
    {
     "name": "stdout",
     "output_type": "stream",
     "text": [
      "(390,)\n",
      "4.0\n",
      "3300.0\n"
     ]
    }
   ],
   "source": [
    "print(df.price.value_counts().shape)\n",
    "print(df.price.min())\n",
    "print(df.price.max())"
   ]
  },
  {
   "cell_type": "code",
   "execution_count": 7,
   "metadata": {},
   "outputs": [
    {
     "data": {
      "text/plain": [
       "California     36247\n",
       "Washington      8639\n",
       "Bordeaux        5941\n",
       "Tuscany         5897\n",
       "Oregon          5373\n",
       "               ...  \n",
       "Paardeberg         1\n",
       "Viile Timis        1\n",
       "Gladstone          1\n",
       "Pocerina           1\n",
       "Lemesos            1\n",
       "Name: province, Length: 425, dtype: int64"
      ]
     },
     "execution_count": 7,
     "metadata": {},
     "output_type": "execute_result"
    }
   ],
   "source": [
    "df.province.value_counts()"
   ]
  },
  {
   "cell_type": "code",
   "execution_count": 8,
   "metadata": {},
   "outputs": [
    {
     "data": {
      "text/plain": [
       "Napa Valley             4480\n",
       "Columbia Valley (WA)    4124\n",
       "Russian River Valley    3091\n",
       "California              2629\n",
       "Paso Robles             2350\n",
       "                        ... \n",
       "Mâcon-Mancey               1\n",
       "Aleatico dell'Elba         1\n",
       "Sardon de Duero            1\n",
       "Coteaux du Lyonnais        1\n",
       "Vallée du Paradis          1\n",
       "Name: region_1, Length: 1229, dtype: int64"
      ]
     },
     "execution_count": 8,
     "metadata": {},
     "output_type": "execute_result"
    }
   ],
   "source": [
    "df.region_1.value_counts()"
   ]
  },
  {
   "cell_type": "code",
   "execution_count": 9,
   "metadata": {},
   "outputs": [
    {
     "data": {
      "text/plain": [
       "Central Coast        11065\n",
       "Sonoma                9028\n",
       "Columbia Valley       8103\n",
       "Napa                  6814\n",
       "Willamette Valley     3423\n",
       "California Other      2663\n",
       "Finger Lakes          1777\n",
       "Sierra Foothills      1462\n",
       "Napa-Sonoma           1169\n",
       "Central Valley        1062\n",
       "Southern Oregon        917\n",
       "Oregon Other           727\n",
       "Long Island            680\n",
       "North Coast            584\n",
       "Washington Other       534\n",
       "South Coast            272\n",
       "New York Other         231\n",
       "Name: region_2, dtype: int64"
      ]
     },
     "execution_count": 9,
     "metadata": {},
     "output_type": "execute_result"
    }
   ],
   "source": [
    "df.region_2.value_counts()"
   ]
  },
  {
   "cell_type": "code",
   "execution_count": 10,
   "metadata": {},
   "outputs": [
    {
     "data": {
      "text/plain": [
       "Roger Voss            25514\n",
       "Michael Schachner     15134\n",
       "Kerin O’Keefe         10776\n",
       "Virginie Boone         9537\n",
       "Paul Gregutt           9532\n",
       "Matt Kettmann          6332\n",
       "Joe Czerwinski         5147\n",
       "Sean P. Sullivan       4966\n",
       "Anna Lee C. Iijima     4415\n",
       "Jim Gordon             4177\n",
       "Anne Krebiehl MW       3685\n",
       "Lauren Buzzeo          1835\n",
       "Susan Kostrzewa        1085\n",
       "Mike DeSimone           514\n",
       "Jeff Jenssen            491\n",
       "Alexander Peartree      415\n",
       "Carrie Dykes            139\n",
       "Fiona Adams              27\n",
       "Christina Pickard         6\n",
       "Name: taster_name, dtype: int64"
      ]
     },
     "execution_count": 10,
     "metadata": {},
     "output_type": "execute_result"
    }
   ],
   "source": [
    "df.taster_name.value_counts()"
   ]
  },
  {
   "cell_type": "code",
   "execution_count": 11,
   "metadata": {},
   "outputs": [
    {
     "data": {
      "text/plain": [
       "Gloria Ferrer NV Sonoma Brut Sparkling (Sonoma County)              11\n",
       "Korbel NV Brut Sparkling (California)                                9\n",
       "Segura Viudas NV Extra Dry Sparkling (Cava)                          8\n",
       "Gloria Ferrer NV Blanc de Noirs Sparkling (Carneros)                 7\n",
       "Segura Viudas NV Aria Estate Extra Dry Sparkling (Cava)              7\n",
       "                                                                    ..\n",
       "I Sodi 2012 Soprasassi Canaiolo (Toscana)                            1\n",
       "Foris 2016 Chardonnay (Rogue Valley)                                 1\n",
       "Bonaccorsi 2010 Sebastiano Vineyard Pinot Noir (Sta. Rita Hills)     1\n",
       "Domaine Rieflé-Landmann NV Brut Rosé Pinot Noir (Alsace)             1\n",
       "C.H. Berres 2011 Ürziger Würzgarten Kabinett Riesling (Mosel)        1\n",
       "Name: title, Length: 118840, dtype: int64"
      ]
     },
     "execution_count": 11,
     "metadata": {},
     "output_type": "execute_result"
    }
   ],
   "source": [
    "df.title.value_counts()"
   ]
  },
  {
   "cell_type": "code",
   "execution_count": 12,
   "metadata": {},
   "outputs": [
    {
     "data": {
      "text/plain": [
       "Pinot Noir                  13272\n",
       "Chardonnay                  11753\n",
       "Cabernet Sauvignon           9472\n",
       "Red Blend                    8946\n",
       "Bordeaux-style Red Blend     6915\n",
       "                            ...  \n",
       "Verdosilla                      1\n",
       "Karalahna                       1\n",
       "Forcallà                        1\n",
       "Aidani                          1\n",
       "Caprettone                      1\n",
       "Name: variety, Length: 707, dtype: int64"
      ]
     },
     "execution_count": 12,
     "metadata": {},
     "output_type": "execute_result"
    }
   ],
   "source": [
    "df.variety.value_counts()"
   ]
  },
  {
   "cell_type": "code",
   "execution_count": 13,
   "metadata": {},
   "outputs": [
    {
     "data": {
      "text/html": [
       "<div>\n",
       "<style scoped>\n",
       "    .dataframe tbody tr th:only-of-type {\n",
       "        vertical-align: middle;\n",
       "    }\n",
       "\n",
       "    .dataframe tbody tr th {\n",
       "        vertical-align: top;\n",
       "    }\n",
       "\n",
       "    .dataframe thead th {\n",
       "        text-align: right;\n",
       "    }\n",
       "</style>\n",
       "<table border=\"1\" class=\"dataframe\">\n",
       "  <thead>\n",
       "    <tr style=\"text-align: right;\">\n",
       "      <th></th>\n",
       "      <th>points</th>\n",
       "      <th>price</th>\n",
       "    </tr>\n",
       "  </thead>\n",
       "  <tbody>\n",
       "    <tr>\n",
       "      <th>count</th>\n",
       "      <td>129971.000000</td>\n",
       "      <td>120975.000000</td>\n",
       "    </tr>\n",
       "    <tr>\n",
       "      <th>mean</th>\n",
       "      <td>88.447138</td>\n",
       "      <td>35.363389</td>\n",
       "    </tr>\n",
       "    <tr>\n",
       "      <th>std</th>\n",
       "      <td>3.039730</td>\n",
       "      <td>41.022218</td>\n",
       "    </tr>\n",
       "    <tr>\n",
       "      <th>min</th>\n",
       "      <td>80.000000</td>\n",
       "      <td>4.000000</td>\n",
       "    </tr>\n",
       "    <tr>\n",
       "      <th>25%</th>\n",
       "      <td>86.000000</td>\n",
       "      <td>17.000000</td>\n",
       "    </tr>\n",
       "    <tr>\n",
       "      <th>50%</th>\n",
       "      <td>88.000000</td>\n",
       "      <td>25.000000</td>\n",
       "    </tr>\n",
       "    <tr>\n",
       "      <th>75%</th>\n",
       "      <td>91.000000</td>\n",
       "      <td>42.000000</td>\n",
       "    </tr>\n",
       "    <tr>\n",
       "      <th>max</th>\n",
       "      <td>100.000000</td>\n",
       "      <td>3300.000000</td>\n",
       "    </tr>\n",
       "  </tbody>\n",
       "</table>\n",
       "</div>"
      ],
      "text/plain": [
       "              points          price\n",
       "count  129971.000000  120975.000000\n",
       "mean       88.447138      35.363389\n",
       "std         3.039730      41.022218\n",
       "min        80.000000       4.000000\n",
       "25%        86.000000      17.000000\n",
       "50%        88.000000      25.000000\n",
       "75%        91.000000      42.000000\n",
       "max       100.000000    3300.000000"
      ]
     },
     "execution_count": 13,
     "metadata": {},
     "output_type": "execute_result"
    }
   ],
   "source": [
    "df.describe()"
   ]
  },
  {
   "cell_type": "code",
   "execution_count": 14,
   "metadata": {},
   "outputs": [
    {
     "name": "stdout",
     "output_type": "stream",
     "text": [
      "             price\n",
      "points            \n",
      "100     485.947368\n",
      "99      284.214286\n",
      "98      245.492754\n",
      "97      207.173913\n",
      "96      159.292531\n",
      "95      109.235420\n",
      "94       81.436938\n",
      "93       63.112216\n",
      "92       51.037763\n",
      "91       43.224252\n",
      "90       36.906622\n",
      "89       32.169640\n",
      "88       28.687523\n",
      "87       24.901884\n",
      "86       22.133759\n",
      "85       19.949562\n",
      "84       19.310215\n",
      "83       18.237353\n",
      "82       18.870767\n",
      "81       17.182353\n",
      "80       16.372152\n"
     ]
    },
    {
     "data": {
      "text/plain": [
       "<matplotlib.axes._subplots.AxesSubplot at 0x18bd2af13a0>"
      ]
     },
     "execution_count": 14,
     "metadata": {},
     "output_type": "execute_result"
    },
    {
     "data": {
      "image/png": "[encoded data removed]",
      "text/plain": [
       "<Figure size 432x288 with 1 Axes>"
      ]
     },
     "metadata": {
      "needs_background": "light"
     },
     "output_type": "display_data"
    }
   ],
   "source": [
    "import matplotlib.pyplot as plt\n",
    "groupedByPoints = df.groupby(\"points\").mean().sort_values(\"points\", ascending=False)\n",
    "print(groupedByPoints)\n",
    "groupedByPoints.plot(kind = \"bar\")"
   ]
  },
  {
   "cell_type": "code",
   "execution_count": 15,
   "metadata": {},
   "outputs": [
    {
     "name": "stdout",
     "output_type": "stream",
     "text": [
      "           points\n",
      "price            \n",
      "3300.0  88.000000\n",
      "2500.0  96.000000\n",
      "2013.0  91.000000\n",
      "2000.0  96.500000\n",
      "1900.0  98.000000\n",
      "...           ...\n",
      "8.0     84.628924\n",
      "7.0     84.450346\n",
      "6.0     84.341667\n",
      "5.0     83.586957\n",
      "4.0     84.272727\n",
      "\n",
      "[390 rows x 1 columns]\n"
     ]
    },
    {
     "data": {
      "text/plain": [
       "<matplotlib.axes._subplots.AxesSubplot at 0x18bd32f9d00>"
      ]
     },
     "execution_count": 15,
     "metadata": {},
     "output_type": "execute_result"
    },
    {
     "data": {
      "image/png": "[encoded data removed]",
      "text/plain": [
       "<Figure size 432x288 with 1 Axes>"
      ]
     },
     "metadata": {
      "needs_background": "light"
     },
     "output_type": "display_data"
    },
    {
     "data": {
      "image/png": "[encoded data removed]",
      "text/plain": [
       "<Figure size 432x288 with 1 Axes>"
      ]
     },
     "metadata": {
      "needs_background": "light"
     },
     "output_type": "display_data"
    },
    {
     "data": {
      "image/png": "[encoded data removed]",
      "text/plain": [
       "<Figure size 432x288 with 1 Axes>"
      ]
     },
     "metadata": {
      "needs_background": "light"
     },
     "output_type": "display_data"
    }
   ],
   "source": [
    "groupedByPrice = df.groupby(\"price\").mean().sort_values(\"price\", ascending=False)\n",
    "print(groupedByPrice)\n",
    "plt.scatter(groupedByPrice.index, groupedByPrice.points)\n",
    "groupedByPrice.head(20).plot(kind = \"bar\")\n",
    "groupedByPrice.tail(20).plot(kind = \"bar\")"
   ]
  },
  {
   "cell_type": "code",
   "execution_count": 16,
   "metadata": {},
   "outputs": [
    {
     "data": {
      "text/html": [
       "<div>\n",
       "<style scoped>\n",
       "    .dataframe tbody tr th:only-of-type {\n",
       "        vertical-align: middle;\n",
       "    }\n",
       "\n",
       "    .dataframe tbody tr th {\n",
       "        vertical-align: top;\n",
       "    }\n",
       "\n",
       "    .dataframe thead th {\n",
       "        text-align: right;\n",
       "    }\n",
       "</style>\n",
       "<table border=\"1\" class=\"dataframe\">\n",
       "  <thead>\n",
       "    <tr style=\"text-align: right;\">\n",
       "      <th></th>\n",
       "      <th>country</th>\n",
       "      <th>description</th>\n",
       "      <th>designation</th>\n",
       "      <th>points</th>\n",
       "      <th>price</th>\n",
       "      <th>province</th>\n",
       "      <th>region_1</th>\n",
       "      <th>region_2</th>\n",
       "      <th>taster_name</th>\n",
       "      <th>taster_twitter_handle</th>\n",
       "      <th>title</th>\n",
       "      <th>variety</th>\n",
       "      <th>winery</th>\n",
       "    </tr>\n",
       "  </thead>\n",
       "  <tbody>\n",
       "    <tr>\n",
       "      <th>114972</th>\n",
       "      <td>Portugal</td>\n",
       "      <td>A powerful and ripe wine, strongly influenced ...</td>\n",
       "      <td>Nacional Vintage</td>\n",
       "      <td>100</td>\n",
       "      <td>650.0</td>\n",
       "      <td>Port</td>\n",
       "      <td>NaN</td>\n",
       "      <td>NaN</td>\n",
       "      <td>Roger Voss</td>\n",
       "      <td>@vossroger</td>\n",
       "      <td>Quinta do Noval 2011 Nacional Vintage  (Port)</td>\n",
       "      <td>Port</td>\n",
       "      <td>Quinta do Noval</td>\n",
       "    </tr>\n",
       "    <tr>\n",
       "      <th>89729</th>\n",
       "      <td>France</td>\n",
       "      <td>This new release from a great vintage for Char...</td>\n",
       "      <td>Le Mesnil Blanc de Blancs Brut</td>\n",
       "      <td>100</td>\n",
       "      <td>617.0</td>\n",
       "      <td>Champagne</td>\n",
       "      <td>Champagne</td>\n",
       "      <td>NaN</td>\n",
       "      <td>Roger Voss</td>\n",
       "      <td>@vossroger</td>\n",
       "      <td>Salon 2006 Le Mesnil Blanc de Blancs Brut Char...</td>\n",
       "      <td>Chardonnay</td>\n",
       "      <td>Salon</td>\n",
       "    </tr>\n",
       "    <tr>\n",
       "      <th>113929</th>\n",
       "      <td>US</td>\n",
       "      <td>In 2005 Charles Smith introduced three high-en...</td>\n",
       "      <td>Royal City</td>\n",
       "      <td>100</td>\n",
       "      <td>80.0</td>\n",
       "      <td>Washington</td>\n",
       "      <td>Columbia Valley (WA)</td>\n",
       "      <td>Columbia Valley</td>\n",
       "      <td>Paul Gregutt</td>\n",
       "      <td>@paulgwine</td>\n",
       "      <td>Charles Smith 2006 Royal City Syrah (Columbia ...</td>\n",
       "      <td>Syrah</td>\n",
       "      <td>Charles Smith</td>\n",
       "    </tr>\n",
       "    <tr>\n",
       "      <th>45781</th>\n",
       "      <td>Italy</td>\n",
       "      <td>This gorgeous, fragrant wine opens with classi...</td>\n",
       "      <td>Riserva</td>\n",
       "      <td>100</td>\n",
       "      <td>550.0</td>\n",
       "      <td>Tuscany</td>\n",
       "      <td>Brunello di Montalcino</td>\n",
       "      <td>NaN</td>\n",
       "      <td>Kerin O’Keefe</td>\n",
       "      <td>@kerinokeefe</td>\n",
       "      <td>Biondi Santi 2010 Riserva  (Brunello di Montal...</td>\n",
       "      <td>Sangiovese</td>\n",
       "      <td>Biondi Santi</td>\n",
       "    </tr>\n",
       "    <tr>\n",
       "      <th>123545</th>\n",
       "      <td>US</td>\n",
       "      <td>Initially a rather subdued Frog; as if it has ...</td>\n",
       "      <td>Bionic Frog</td>\n",
       "      <td>100</td>\n",
       "      <td>80.0</td>\n",
       "      <td>Washington</td>\n",
       "      <td>Walla Walla Valley (WA)</td>\n",
       "      <td>Columbia Valley</td>\n",
       "      <td>Paul Gregutt</td>\n",
       "      <td>@paulgwine</td>\n",
       "      <td>Cayuse 2008 Bionic Frog Syrah (Walla Walla Val...</td>\n",
       "      <td>Syrah</td>\n",
       "      <td>Cayuse</td>\n",
       "    </tr>\n",
       "    <tr>\n",
       "      <th>118058</th>\n",
       "      <td>US</td>\n",
       "      <td>This wine dazzles with perfection. Sourced fro...</td>\n",
       "      <td>La Muse</td>\n",
       "      <td>100</td>\n",
       "      <td>450.0</td>\n",
       "      <td>California</td>\n",
       "      <td>Sonoma County</td>\n",
       "      <td>Sonoma</td>\n",
       "      <td>NaN</td>\n",
       "      <td>NaN</td>\n",
       "      <td>Verité 2007 La Muse Red (Sonoma County)</td>\n",
       "      <td>Bordeaux-style Red Blend</td>\n",
       "      <td>Verité</td>\n",
       "    </tr>\n",
       "    <tr>\n",
       "      <th>42197</th>\n",
       "      <td>Portugal</td>\n",
       "      <td>This is the latest release of what has long be...</td>\n",
       "      <td>Barca-Velha</td>\n",
       "      <td>100</td>\n",
       "      <td>450.0</td>\n",
       "      <td>Douro</td>\n",
       "      <td>NaN</td>\n",
       "      <td>NaN</td>\n",
       "      <td>Roger Voss</td>\n",
       "      <td>@vossroger</td>\n",
       "      <td>Casa Ferreirinha 2008 Barca-Velha Red (Douro)</td>\n",
       "      <td>Portuguese Red</td>\n",
       "      <td>Casa Ferreirinha</td>\n",
       "    </tr>\n",
       "    <tr>\n",
       "      <th>111756</th>\n",
       "      <td>France</td>\n",
       "      <td>A hugely powerful wine, full of dark, brooding...</td>\n",
       "      <td>NaN</td>\n",
       "      <td>100</td>\n",
       "      <td>359.0</td>\n",
       "      <td>Bordeaux</td>\n",
       "      <td>Saint-Julien</td>\n",
       "      <td>NaN</td>\n",
       "      <td>Roger Voss</td>\n",
       "      <td>@vossroger</td>\n",
       "      <td>Château Léoville Las Cases 2010  Saint-Julien</td>\n",
       "      <td>Bordeaux-style Red Blend</td>\n",
       "      <td>Château Léoville Las Cases</td>\n",
       "    </tr>\n",
       "    <tr>\n",
       "      <th>111755</th>\n",
       "      <td>France</td>\n",
       "      <td>This is the finest Cheval Blanc for many years...</td>\n",
       "      <td>NaN</td>\n",
       "      <td>100</td>\n",
       "      <td>1500.0</td>\n",
       "      <td>Bordeaux</td>\n",
       "      <td>Saint-Émilion</td>\n",
       "      <td>NaN</td>\n",
       "      <td>Roger Voss</td>\n",
       "      <td>@vossroger</td>\n",
       "      <td>Château Cheval Blanc 2010  Saint-Émilion</td>\n",
       "      <td>Bordeaux-style Red Blend</td>\n",
       "      <td>Château Cheval Blanc</td>\n",
       "    </tr>\n",
       "    <tr>\n",
       "      <th>111754</th>\n",
       "      <td>Italy</td>\n",
       "      <td>It takes only a few moments before you appreci...</td>\n",
       "      <td>Cerretalto</td>\n",
       "      <td>100</td>\n",
       "      <td>270.0</td>\n",
       "      <td>Tuscany</td>\n",
       "      <td>Brunello di Montalcino</td>\n",
       "      <td>NaN</td>\n",
       "      <td>NaN</td>\n",
       "      <td>NaN</td>\n",
       "      <td>Casanova di Neri 2007 Cerretalto  (Brunello di...</td>\n",
       "      <td>Sangiovese Grosso</td>\n",
       "      <td>Casanova di Neri</td>\n",
       "    </tr>\n",
       "  </tbody>\n",
       "</table>\n",
       "</div>"
      ],
      "text/plain": [
       "         country                                        description  \\\n",
       "114972  Portugal  A powerful and ripe wine, strongly influenced ...   \n",
       "89729     France  This new release from a great vintage for Char...   \n",
       "113929        US  In 2005 Charles Smith introduced three high-en...   \n",
       "45781      Italy  This gorgeous, fragrant wine opens with classi...   \n",
       "123545        US  Initially a rather subdued Frog; as if it has ...   \n",
       "118058        US  This wine dazzles with perfection. Sourced fro...   \n",
       "42197   Portugal  This is the latest release of what has long be...   \n",
       "111756    France  A hugely powerful wine, full of dark, brooding...   \n",
       "111755    France  This is the finest Cheval Blanc for many years...   \n",
       "111754     Italy  It takes only a few moments before you appreci...   \n",
       "\n",
       "                           designation  points   price    province  \\\n",
       "114972                Nacional Vintage     100   650.0        Port   \n",
       "89729   Le Mesnil Blanc de Blancs Brut     100   617.0   Champagne   \n",
       "113929                      Royal City     100    80.0  Washington   \n",
       "45781                          Riserva     100   550.0     Tuscany   \n",
       "123545                     Bionic Frog     100    80.0  Washington   \n",
       "118058                         La Muse     100   450.0  California   \n",
       "42197                      Barca-Velha     100   450.0       Douro   \n",
       "111756                             NaN     100   359.0    Bordeaux   \n",
       "111755                             NaN     100  1500.0    Bordeaux   \n",
       "111754                      Cerretalto     100   270.0     Tuscany   \n",
       "\n",
       "                       region_1         region_2    taster_name  \\\n",
       "114972                      NaN              NaN     Roger Voss   \n",
       "89729                 Champagne              NaN     Roger Voss   \n",
       "113929     Columbia Valley (WA)  Columbia Valley   Paul Gregutt   \n",
       "45781    Brunello di Montalcino              NaN  Kerin O’Keefe   \n",
       "123545  Walla Walla Valley (WA)  Columbia Valley   Paul Gregutt   \n",
       "118058            Sonoma County           Sonoma            NaN   \n",
       "42197                       NaN              NaN     Roger Voss   \n",
       "111756             Saint-Julien              NaN     Roger Voss   \n",
       "111755            Saint-Émilion              NaN     Roger Voss   \n",
       "111754   Brunello di Montalcino              NaN            NaN   \n",
       "\n",
       "       taster_twitter_handle  \\\n",
       "114972            @vossroger   \n",
       "89729             @vossroger   \n",
       "113929           @paulgwine    \n",
       "45781           @kerinokeefe   \n",
       "123545           @paulgwine    \n",
       "118058                   NaN   \n",
       "42197             @vossroger   \n",
       "111756            @vossroger   \n",
       "111755            @vossroger   \n",
       "111754                   NaN   \n",
       "\n",
       "                                                    title  \\\n",
       "114972      Quinta do Noval 2011 Nacional Vintage  (Port)   \n",
       "89729   Salon 2006 Le Mesnil Blanc de Blancs Brut Char...   \n",
       "113929  Charles Smith 2006 Royal City Syrah (Columbia ...   \n",
       "45781   Biondi Santi 2010 Riserva  (Brunello di Montal...   \n",
       "123545  Cayuse 2008 Bionic Frog Syrah (Walla Walla Val...   \n",
       "118058            Verité 2007 La Muse Red (Sonoma County)   \n",
       "42197       Casa Ferreirinha 2008 Barca-Velha Red (Douro)   \n",
       "111756      Château Léoville Las Cases 2010  Saint-Julien   \n",
       "111755           Château Cheval Blanc 2010  Saint-Émilion   \n",
       "111754  Casanova di Neri 2007 Cerretalto  (Brunello di...   \n",
       "\n",
       "                         variety                      winery  \n",
       "114972                      Port             Quinta do Noval  \n",
       "89729                 Chardonnay                       Salon  \n",
       "113929                     Syrah               Charles Smith  \n",
       "45781                 Sangiovese                Biondi Santi  \n",
       "123545                     Syrah                      Cayuse  \n",
       "118058  Bordeaux-style Red Blend                      Verité  \n",
       "42197             Portuguese Red            Casa Ferreirinha  \n",
       "111756  Bordeaux-style Red Blend  Château Léoville Las Cases  \n",
       "111755  Bordeaux-style Red Blend        Château Cheval Blanc  \n",
       "111754         Sangiovese Grosso            Casanova di Neri  "
      ]
     },
     "execution_count": 16,
     "metadata": {},
     "output_type": "execute_result"
    }
   ],
   "source": [
    "df.sort_values(\"points\", ascending=False).head(10)"
   ]
  },
  {
   "cell_type": "code",
   "execution_count": 17,
   "metadata": {},
   "outputs": [
    {
     "data": {
      "text/html": [
       "<div>\n",
       "<style scoped>\n",
       "    .dataframe tbody tr th:only-of-type {\n",
       "        vertical-align: middle;\n",
       "    }\n",
       "\n",
       "    .dataframe tbody tr th {\n",
       "        vertical-align: top;\n",
       "    }\n",
       "\n",
       "    .dataframe thead th {\n",
       "        text-align: right;\n",
       "    }\n",
       "</style>\n",
       "<table border=\"1\" class=\"dataframe\">\n",
       "  <thead>\n",
       "    <tr style=\"text-align: right;\">\n",
       "      <th></th>\n",
       "      <th>country</th>\n",
       "      <th>description</th>\n",
       "      <th>designation</th>\n",
       "      <th>points</th>\n",
       "      <th>price</th>\n",
       "      <th>province</th>\n",
       "      <th>region_1</th>\n",
       "      <th>region_2</th>\n",
       "      <th>taster_name</th>\n",
       "      <th>taster_twitter_handle</th>\n",
       "      <th>title</th>\n",
       "      <th>variety</th>\n",
       "      <th>winery</th>\n",
       "    </tr>\n",
       "  </thead>\n",
       "  <tbody>\n",
       "    <tr>\n",
       "      <th>80290</th>\n",
       "      <td>France</td>\n",
       "      <td>This ripe wine shows plenty of blackberry frui...</td>\n",
       "      <td>NaN</td>\n",
       "      <td>88</td>\n",
       "      <td>3300.0</td>\n",
       "      <td>Bordeaux</td>\n",
       "      <td>Médoc</td>\n",
       "      <td>NaN</td>\n",
       "      <td>Roger Voss</td>\n",
       "      <td>@vossroger</td>\n",
       "      <td>Château les Ormes Sorbet 2013  Médoc</td>\n",
       "      <td>Bordeaux-style Red Blend</td>\n",
       "      <td>Château les Ormes Sorbet</td>\n",
       "    </tr>\n",
       "    <tr>\n",
       "      <th>15840</th>\n",
       "      <td>France</td>\n",
       "      <td>The wine is a velvet glove in an iron fist. Th...</td>\n",
       "      <td>NaN</td>\n",
       "      <td>96</td>\n",
       "      <td>2500.0</td>\n",
       "      <td>Bordeaux</td>\n",
       "      <td>Pomerol</td>\n",
       "      <td>NaN</td>\n",
       "      <td>Roger Voss</td>\n",
       "      <td>@vossroger</td>\n",
       "      <td>Château Pétrus 2014  Pomerol</td>\n",
       "      <td>Bordeaux-style Red Blend</td>\n",
       "      <td>Château Pétrus</td>\n",
       "    </tr>\n",
       "    <tr>\n",
       "      <th>98380</th>\n",
       "      <td>France</td>\n",
       "      <td>A superb wine from a great year, this is power...</td>\n",
       "      <td>NaN</td>\n",
       "      <td>96</td>\n",
       "      <td>2500.0</td>\n",
       "      <td>Burgundy</td>\n",
       "      <td>La Romanée</td>\n",
       "      <td>NaN</td>\n",
       "      <td>Roger Voss</td>\n",
       "      <td>@vossroger</td>\n",
       "      <td>Domaine du Comte Liger-Belair 2010  La Romanée</td>\n",
       "      <td>Pinot Noir</td>\n",
       "      <td>Domaine du Comte Liger-Belair</td>\n",
       "    </tr>\n",
       "    <tr>\n",
       "      <th>120391</th>\n",
       "      <td>US</td>\n",
       "      <td>The nose on this single-vineyard wine from a s...</td>\n",
       "      <td>Roger Rose Vineyard</td>\n",
       "      <td>91</td>\n",
       "      <td>2013.0</td>\n",
       "      <td>California</td>\n",
       "      <td>Arroyo Seco</td>\n",
       "      <td>Central Coast</td>\n",
       "      <td>Matt Kettmann</td>\n",
       "      <td>@mattkettmann</td>\n",
       "      <td>Blair 2013 Roger Rose Vineyard Chardonnay (Arr...</td>\n",
       "      <td>Chardonnay</td>\n",
       "      <td>Blair</td>\n",
       "    </tr>\n",
       "    <tr>\n",
       "      <th>113564</th>\n",
       "      <td>France</td>\n",
       "      <td>A wonderfully complete wine, with all the elem...</td>\n",
       "      <td>NaN</td>\n",
       "      <td>96</td>\n",
       "      <td>2000.0</td>\n",
       "      <td>Burgundy</td>\n",
       "      <td>La Romanée</td>\n",
       "      <td>NaN</td>\n",
       "      <td>Roger Voss</td>\n",
       "      <td>@vossroger</td>\n",
       "      <td>Domaine du Comte Liger-Belair 2005  La Romanée</td>\n",
       "      <td>Pinot Noir</td>\n",
       "      <td>Domaine du Comte Liger-Belair</td>\n",
       "    </tr>\n",
       "    <tr>\n",
       "      <th>65352</th>\n",
       "      <td>France</td>\n",
       "      <td>This extravagantly perfumed wine has great jui...</td>\n",
       "      <td>NaN</td>\n",
       "      <td>97</td>\n",
       "      <td>2000.0</td>\n",
       "      <td>Bordeaux</td>\n",
       "      <td>Pomerol</td>\n",
       "      <td>NaN</td>\n",
       "      <td>Roger Voss</td>\n",
       "      <td>@vossroger</td>\n",
       "      <td>Château Pétrus 2011  Pomerol</td>\n",
       "      <td>Bordeaux-style Red Blend</td>\n",
       "      <td>Château Pétrus</td>\n",
       "    </tr>\n",
       "    <tr>\n",
       "      <th>1558</th>\n",
       "      <td>France</td>\n",
       "      <td>A massive wine for Margaux, packed with tannin...</td>\n",
       "      <td>NaN</td>\n",
       "      <td>98</td>\n",
       "      <td>1900.0</td>\n",
       "      <td>Bordeaux</td>\n",
       "      <td>Margaux</td>\n",
       "      <td>NaN</td>\n",
       "      <td>Roger Voss</td>\n",
       "      <td>@vossroger</td>\n",
       "      <td>Château Margaux 2009  Margaux</td>\n",
       "      <td>Bordeaux-style Red Blend</td>\n",
       "      <td>Château Margaux</td>\n",
       "    </tr>\n",
       "    <tr>\n",
       "      <th>111753</th>\n",
       "      <td>France</td>\n",
       "      <td>Almost black in color, this stunning wine is g...</td>\n",
       "      <td>NaN</td>\n",
       "      <td>100</td>\n",
       "      <td>1500.0</td>\n",
       "      <td>Bordeaux</td>\n",
       "      <td>Pauillac</td>\n",
       "      <td>NaN</td>\n",
       "      <td>Roger Voss</td>\n",
       "      <td>@vossroger</td>\n",
       "      <td>Château Lafite Rothschild 2010  Pauillac</td>\n",
       "      <td>Bordeaux-style Red Blend</td>\n",
       "      <td>Château Lafite Rothschild</td>\n",
       "    </tr>\n",
       "    <tr>\n",
       "      <th>111755</th>\n",
       "      <td>France</td>\n",
       "      <td>This is the finest Cheval Blanc for many years...</td>\n",
       "      <td>NaN</td>\n",
       "      <td>100</td>\n",
       "      <td>1500.0</td>\n",
       "      <td>Bordeaux</td>\n",
       "      <td>Saint-Émilion</td>\n",
       "      <td>NaN</td>\n",
       "      <td>Roger Voss</td>\n",
       "      <td>@vossroger</td>\n",
       "      <td>Château Cheval Blanc 2010  Saint-Émilion</td>\n",
       "      <td>Bordeaux-style Red Blend</td>\n",
       "      <td>Château Cheval Blanc</td>\n",
       "    </tr>\n",
       "    <tr>\n",
       "      <th>1575</th>\n",
       "      <td>France</td>\n",
       "      <td>The purest Cabernet Sauvignon fruit, with dark...</td>\n",
       "      <td>NaN</td>\n",
       "      <td>96</td>\n",
       "      <td>1300.0</td>\n",
       "      <td>Bordeaux</td>\n",
       "      <td>Pauillac</td>\n",
       "      <td>NaN</td>\n",
       "      <td>Roger Voss</td>\n",
       "      <td>@vossroger</td>\n",
       "      <td>Château Mouton Rothschild 2009  Pauillac</td>\n",
       "      <td>Bordeaux-style Red Blend</td>\n",
       "      <td>Château Mouton Rothschild</td>\n",
       "    </tr>\n",
       "  </tbody>\n",
       "</table>\n",
       "</div>"
      ],
      "text/plain": [
       "       country                                        description  \\\n",
       "80290   France  This ripe wine shows plenty of blackberry frui...   \n",
       "15840   France  The wine is a velvet glove in an iron fist. Th...   \n",
       "98380   France  A superb wine from a great year, this is power...   \n",
       "120391      US  The nose on this single-vineyard wine from a s...   \n",
       "113564  France  A wonderfully complete wine, with all the elem...   \n",
       "65352   France  This extravagantly perfumed wine has great jui...   \n",
       "1558    France  A massive wine for Margaux, packed with tannin...   \n",
       "111753  France  Almost black in color, this stunning wine is g...   \n",
       "111755  France  This is the finest Cheval Blanc for many years...   \n",
       "1575    France  The purest Cabernet Sauvignon fruit, with dark...   \n",
       "\n",
       "                designation  points   price    province       region_1  \\\n",
       "80290                   NaN      88  3300.0    Bordeaux          Médoc   \n",
       "15840                   NaN      96  2500.0    Bordeaux        Pomerol   \n",
       "98380                   NaN      96  2500.0    Burgundy     La Romanée   \n",
       "120391  Roger Rose Vineyard      91  2013.0  California    Arroyo Seco   \n",
       "113564                  NaN      96  2000.0    Burgundy     La Romanée   \n",
       "65352                   NaN      97  2000.0    Bordeaux        Pomerol   \n",
       "1558                    NaN      98  1900.0    Bordeaux        Margaux   \n",
       "111753                  NaN     100  1500.0    Bordeaux       Pauillac   \n",
       "111755                  NaN     100  1500.0    Bordeaux  Saint-Émilion   \n",
       "1575                    NaN      96  1300.0    Bordeaux       Pauillac   \n",
       "\n",
       "             region_2    taster_name taster_twitter_handle  \\\n",
       "80290             NaN     Roger Voss            @vossroger   \n",
       "15840             NaN     Roger Voss            @vossroger   \n",
       "98380             NaN     Roger Voss            @vossroger   \n",
       "120391  Central Coast  Matt Kettmann         @mattkettmann   \n",
       "113564            NaN     Roger Voss            @vossroger   \n",
       "65352             NaN     Roger Voss            @vossroger   \n",
       "1558              NaN     Roger Voss            @vossroger   \n",
       "111753            NaN     Roger Voss            @vossroger   \n",
       "111755            NaN     Roger Voss            @vossroger   \n",
       "1575              NaN     Roger Voss            @vossroger   \n",
       "\n",
       "                                                    title  \\\n",
       "80290                Château les Ormes Sorbet 2013  Médoc   \n",
       "15840                        Château Pétrus 2014  Pomerol   \n",
       "98380      Domaine du Comte Liger-Belair 2010  La Romanée   \n",
       "120391  Blair 2013 Roger Rose Vineyard Chardonnay (Arr...   \n",
       "113564     Domaine du Comte Liger-Belair 2005  La Romanée   \n",
       "65352                        Château Pétrus 2011  Pomerol   \n",
       "1558                        Château Margaux 2009  Margaux   \n",
       "111753           Château Lafite Rothschild 2010  Pauillac   \n",
       "111755           Château Cheval Blanc 2010  Saint-Émilion   \n",
       "1575             Château Mouton Rothschild 2009  Pauillac   \n",
       "\n",
       "                         variety                         winery  \n",
       "80290   Bordeaux-style Red Blend       Château les Ormes Sorbet  \n",
       "15840   Bordeaux-style Red Blend                 Château Pétrus  \n",
       "98380                 Pinot Noir  Domaine du Comte Liger-Belair  \n",
       "120391                Chardonnay                          Blair  \n",
       "113564                Pinot Noir  Domaine du Comte Liger-Belair  \n",
       "65352   Bordeaux-style Red Blend                 Château Pétrus  \n",
       "1558    Bordeaux-style Red Blend                Château Margaux  \n",
       "111753  Bordeaux-style Red Blend      Château Lafite Rothschild  \n",
       "111755  Bordeaux-style Red Blend           Château Cheval Blanc  \n",
       "1575    Bordeaux-style Red Blend      Château Mouton Rothschild  "
      ]
     },
     "execution_count": 17,
     "metadata": {},
     "output_type": "execute_result"
    }
   ],
   "source": [
    "df.sort_values(\"price\", ascending=False).head(10)"
   ]
  },
  {
   "cell_type": "code",
   "execution_count": 18,
   "metadata": {},
   "outputs": [
    {
     "data": {
      "text/plain": [
       "16.372151898734177"
      ]
     },
     "execution_count": 18,
     "metadata": {},
     "output_type": "execute_result"
    }
   ],
   "source": [
    "df[df[\"points\"] == 80].price.mean()"
   ]
  },
  {
   "cell_type": "code",
   "execution_count": 19,
   "metadata": {},
   "outputs": [
    {
     "data": {
      "text/plain": [
       "36.90662210152497"
      ]
     },
     "execution_count": 19,
     "metadata": {},
     "output_type": "execute_result"
    }
   ],
   "source": [
    "df[df[\"points\"] == 90].price.mean()"
   ]
  },
  {
   "cell_type": "code",
   "execution_count": 20,
   "metadata": {},
   "outputs": [
    {
     "data": {
      "text/plain": [
       "485.94736842105266"
      ]
     },
     "execution_count": 20,
     "metadata": {},
     "output_type": "execute_result"
    }
   ],
   "source": [
    "df[df[\"points\"] == 100].price.mean()"
   ]
  },
  {
   "cell_type": "code",
   "execution_count": 21,
   "metadata": {},
   "outputs": [
    {
     "data": {
      "text/plain": [
       "95.64285714285714"
      ]
     },
     "execution_count": 21,
     "metadata": {},
     "output_type": "execute_result"
    }
   ],
   "source": [
    "df[df[\"price\"] > 1000].points.mean()"
   ]
  },
  {
   "cell_type": "code",
   "execution_count": 22,
   "metadata": {},
   "outputs": [
    {
     "data": {
      "text/plain": [
       "95.68131868131869"
      ]
     },
     "execution_count": 22,
     "metadata": {},
     "output_type": "execute_result"
    }
   ],
   "source": [
    "df[df[\"price\"] > 500].points.mean()"
   ]
  },
  {
   "cell_type": "code",
   "execution_count": 23,
   "metadata": {},
   "outputs": [
    {
     "data": {
      "text/plain": [
       "92.82055852644088"
      ]
     },
     "execution_count": 23,
     "metadata": {},
     "output_type": "execute_result"
    }
   ],
   "source": [
    "df[df[\"price\"] > 100].points.mean()"
   ]
  },
  {
   "cell_type": "code",
   "execution_count": 24,
   "metadata": {},
   "outputs": [
    {
     "data": {
      "text/plain": [
       "88.60792536727844"
      ]
     },
     "execution_count": 24,
     "metadata": {},
     "output_type": "execute_result"
    }
   ],
   "source": [
    "df[df[\"price\"] > 10].points.mean()"
   ]
  },
  {
   "cell_type": "code",
   "execution_count": 25,
   "metadata": {},
   "outputs": [
    {
     "data": {
      "text/plain": [
       "85.02404458598726"
      ]
     },
     "execution_count": 25,
     "metadata": {},
     "output_type": "execute_result"
    }
   ],
   "source": [
    "df[df[\"price\"] <= 10].points.mean()"
   ]
  },
  {
   "cell_type": "code",
   "execution_count": 26,
   "metadata": {},
   "outputs": [
    {
     "data": {
      "text/html": [
       "<div>\n",
       "<style scoped>\n",
       "    .dataframe tbody tr th:only-of-type {\n",
       "        vertical-align: middle;\n",
       "    }\n",
       "\n",
       "    .dataframe tbody tr th {\n",
       "        vertical-align: top;\n",
       "    }\n",
       "\n",
       "    .dataframe thead th {\n",
       "        text-align: right;\n",
       "    }\n",
       "</style>\n",
       "<table border=\"1\" class=\"dataframe\">\n",
       "  <thead>\n",
       "    <tr style=\"text-align: right;\">\n",
       "      <th></th>\n",
       "      <th>country</th>\n",
       "      <th>description</th>\n",
       "      <th>designation</th>\n",
       "      <th>points</th>\n",
       "      <th>price</th>\n",
       "      <th>province</th>\n",
       "      <th>region_1</th>\n",
       "      <th>region_2</th>\n",
       "      <th>taster_name</th>\n",
       "      <th>taster_twitter_handle</th>\n",
       "      <th>title</th>\n",
       "      <th>variety</th>\n",
       "      <th>winery</th>\n",
       "    </tr>\n",
       "  </thead>\n",
       "  <tbody>\n",
       "    <tr>\n",
       "      <th>113929</th>\n",
       "      <td>US</td>\n",
       "      <td>In 2005 Charles Smith introduced three high-en...</td>\n",
       "      <td>Royal City</td>\n",
       "      <td>100</td>\n",
       "      <td>80.0</td>\n",
       "      <td>Washington</td>\n",
       "      <td>Columbia Valley (WA)</td>\n",
       "      <td>Columbia Valley</td>\n",
       "      <td>Paul Gregutt</td>\n",
       "      <td>@paulgwine</td>\n",
       "      <td>Charles Smith 2006 Royal City Syrah (Columbia ...</td>\n",
       "      <td>Syrah</td>\n",
       "      <td>Charles Smith</td>\n",
       "    </tr>\n",
       "    <tr>\n",
       "      <th>123545</th>\n",
       "      <td>US</td>\n",
       "      <td>Initially a rather subdued Frog; as if it has ...</td>\n",
       "      <td>Bionic Frog</td>\n",
       "      <td>100</td>\n",
       "      <td>80.0</td>\n",
       "      <td>Washington</td>\n",
       "      <td>Walla Walla Valley (WA)</td>\n",
       "      <td>Columbia Valley</td>\n",
       "      <td>Paul Gregutt</td>\n",
       "      <td>@paulgwine</td>\n",
       "      <td>Cayuse 2008 Bionic Frog Syrah (Walla Walla Val...</td>\n",
       "      <td>Syrah</td>\n",
       "      <td>Cayuse</td>\n",
       "    </tr>\n",
       "  </tbody>\n",
       "</table>\n",
       "</div>"
      ],
      "text/plain": [
       "       country                                        description  \\\n",
       "113929      US  In 2005 Charles Smith introduced three high-en...   \n",
       "123545      US  Initially a rather subdued Frog; as if it has ...   \n",
       "\n",
       "        designation  points  price    province                 region_1  \\\n",
       "113929   Royal City     100   80.0  Washington     Columbia Valley (WA)   \n",
       "123545  Bionic Frog     100   80.0  Washington  Walla Walla Valley (WA)   \n",
       "\n",
       "               region_2   taster_name taster_twitter_handle  \\\n",
       "113929  Columbia Valley  Paul Gregutt           @paulgwine    \n",
       "123545  Columbia Valley  Paul Gregutt           @paulgwine    \n",
       "\n",
       "                                                    title variety  \\\n",
       "113929  Charles Smith 2006 Royal City Syrah (Columbia ...   Syrah   \n",
       "123545  Cayuse 2008 Bionic Frog Syrah (Walla Walla Val...   Syrah   \n",
       "\n",
       "               winery  \n",
       "113929  Charles Smith  \n",
       "123545         Cayuse  "
      ]
     },
     "execution_count": 26,
     "metadata": {},
     "output_type": "execute_result"
    }
   ],
   "source": [
    "df[(df[\"points\"] == 100) & (df[\"price\"] < 100)]"
   ]
  },
  {
   "cell_type": "code",
   "execution_count": 27,
   "metadata": {},
   "outputs": [
    {
     "data": {
      "text/plain": [
       "88.84510931064138"
      ]
     },
     "execution_count": 27,
     "metadata": {},
     "output_type": "execute_result"
    }
   ],
   "source": [
    "df[df[\"country\"] == \"France\"].points.mean()"
   ]
  },
  {
   "cell_type": "code",
   "execution_count": 28,
   "metadata": {},
   "outputs": [
    {
     "data": {
      "text/plain": [
       "88.56223132036847"
      ]
     },
     "execution_count": 28,
     "metadata": {},
     "output_type": "execute_result"
    }
   ],
   "source": [
    "df[df[\"country\"] == \"Italy\"].points.mean()"
   ]
  },
  {
   "cell_type": "code",
   "execution_count": 29,
   "metadata": {},
   "outputs": [
    {
     "data": {
      "text/plain": [
       "87.93617021276596"
      ]
     },
     "execution_count": 29,
     "metadata": {},
     "output_type": "execute_result"
    }
   ],
   "source": [
    "df[df[\"country\"] == \"Bulgaria\"].points.mean()"
   ]
  },
  {
   "cell_type": "code",
   "execution_count": 30,
   "metadata": {},
   "outputs": [
    {
     "data": {
      "text/plain": [
       "88.56372009393806"
      ]
     },
     "execution_count": 30,
     "metadata": {},
     "output_type": "execute_result"
    }
   ],
   "source": [
    "df[df[\"country\"] == \"US\"].points.mean()"
   ]
  },
  {
   "cell_type": "code",
   "execution_count": 31,
   "metadata": {},
   "outputs": [
    {
     "data": {
      "text/plain": [
       "86.4935152057245"
      ]
     },
     "execution_count": 31,
     "metadata": {},
     "output_type": "execute_result"
    }
   ],
   "source": [
    "df[df[\"country\"] == \"Chile\"].points.mean()"
   ]
  },
  {
   "cell_type": "code",
   "execution_count": 32,
   "metadata": {},
   "outputs": [],
   "source": [
    "def add_value_labels(ax, spacing=5):\n",
    "    \"\"\"Add labels to the end of each bar in a bar chart.\n",
    "\n",
    "    Arguments:\n",
    "        ax (matplotlib.axes.Axes): The matplotlib object containing the axes\n",
    "            of the plot to annotate.\n",
    "        spacing (int): The distance between the labels and the bars.\n",
    "    \"\"\"\n",
    "\n",
    "    # For each bar: Place a label\n",
    "    for rect in ax.patches:\n",
    "        # Get X and Y placement of label from rect.\n",
    "        y_value = rect.get_height()\n",
    "        x_value = rect.get_x() + rect.get_width() / 2\n",
    "\n",
    "        # Number of points between bar and label. Change to your liking.\n",
    "        space = spacing\n",
    "        # Vertical alignment for positive values\n",
    "        va = 'bottom'\n",
    "\n",
    "        # If value of bar is negative: Place label below bar\n",
    "        if y_value < 0:\n",
    "            # Invert space to place label below\n",
    "            space *= -1\n",
    "            # Vertically align label at top\n",
    "            va = 'top'\n",
    "\n",
    "        # Use Y value as label and format number with one decimal place\n",
    "        label = \"{:.2f}\".format(y_value)\n",
    "\n",
    "        # Create annotation\n",
    "        ax.annotate(\n",
    "            label,                      # Use `label` as label\n",
    "            (x_value, y_value),         # Place label at end of the bar\n",
    "            xytext=(0, space),          # Vertically shift label by `space`\n",
    "            textcoords=\"offset points\", # Interpret `xytext` as offset in points\n",
    "            ha='center',                # Horizontally center label\n",
    "            va=va)                      # Vertically align label differently for\n",
    "                                        # positive and negative values.\n",
    "\n",
    "#This helpful code originates from this website https://stackoverflow.com/questions/28931224/adding-value-labels-on-a-matplotlib-bar-chart"
   ]
  },
  {
   "cell_type": "code",
   "execution_count": 33,
   "metadata": {},
   "outputs": [
    {
     "data": {
      "text/plain": [
       "Pinot Noir                  13272\n",
       "Chardonnay                  11753\n",
       "Cabernet Sauvignon           9472\n",
       "Red Blend                    8946\n",
       "Bordeaux-style Red Blend     6915\n",
       "Riesling                     5189\n",
       "Sauvignon Blanc              4967\n",
       "Syrah                        4142\n",
       "Rosé                         3564\n",
       "Merlot                       3102\n",
       "Name: variety, dtype: int64"
      ]
     },
     "execution_count": 33,
     "metadata": {},
     "output_type": "execute_result"
    }
   ],
   "source": [
    "df.variety.value_counts().head(10)"
   ]
  },
  {
   "cell_type": "code",
   "execution_count": 34,
   "metadata": {},
   "outputs": [],
   "source": [
    "import itertools\n",
    "\n",
    "x = []\n",
    "y = []\n",
    "x.append(\"Pinot Noir\")\n",
    "y.append(df[df[\"variety\"] == \"Pinot Noir\"].points.mean())\n",
    "x.append(\"Chardonnay\")\n",
    "y.append(df[df[\"variety\"] == \"Chardonnay\"].points.mean())\n",
    "x.append(\"Cabernet Sauvignon\")\n",
    "y.append(df[df[\"variety\"] == \"Cabernet Sauvignon\"].points.mean())\n",
    "x.append(\"Red Blend\")\n",
    "y.append(df[df[\"variety\"] == \"Red Blend\"].points.mean())\n",
    "x.append(\"Bordeaux-style Red Blend\")\n",
    "y.append(df[df[\"variety\"] == \"Bordeaux-style Red Blend\"].points.mean())\n",
    "x.append(\"Riesling\")\n",
    "y.append(df[df[\"variety\"] == \"Riesling\"].points.mean())\n",
    "x.append(\"Sauvignon Blanc\")\n",
    "y.append(df[df[\"variety\"] == \"Sauvignon Blanc\"].points.mean())\n",
    "x.append(\"Syrah\")\n",
    "y.append(df[df[\"variety\"] == \"Syrah\"].points.mean())\n",
    "x.append(\"Rosé\")\n",
    "y.append(df[df[\"variety\"] == \"Rosé\"].points.mean())\n",
    "x.append(\"Merlot\")\n",
    "y.append(df[df[\"variety\"] == \"Merlot\"].points.mean())\n",
    "\n",
    "y, x = zip(*sorted(zip(y, x), reverse = True))"
   ]
  },
  {
   "cell_type": "code",
   "execution_count": 35,
   "metadata": {},
   "outputs": [
    {
     "data": {
      "image/png": "[encoded data removed]",
      "text/plain": [
       "<Figure size 720x1080 with 1 Axes>"
      ]
     },
     "metadata": {
      "needs_background": "light"
     },
     "output_type": "display_data"
    }
   ],
   "source": [
    "plt.figure(figsize=(10,15))\n",
    "plt.bar(x, y, align='center', color = 'maroon')\n",
    "plt.xticks(x, x, rotation = 90)\n",
    "plt.gca().set_ylim([80, 100])\n",
    "plt.ylabel('Average score')\n",
    "plt.xlabel('Wine variety used')\n",
    "plt.suptitle('The average scores of the wines made from the 10 most popular grape varieties')\n",
    "add_value_labels(plt.gca())\n",
    "plt.show()"
   ]
  },
  {
   "cell_type": "code",
   "execution_count": 36,
   "metadata": {},
   "outputs": [],
   "source": [
    "x = []\n",
    "y = []\n",
    "x.append(\"Pinot Noir\")\n",
    "y.append(df[df[\"variety\"] == \"Pinot Noir\"].price.mean())\n",
    "x.append(\"Chardonnay\")\n",
    "y.append(df[df[\"variety\"] == \"Chardonnay\"].price.mean())\n",
    "x.append(\"Cabernet Sauvignon\")\n",
    "y.append(df[df[\"variety\"] == \"Cabernet Sauvignon\"].price.mean())\n",
    "x.append(\"Red Blend\")\n",
    "y.append(df[df[\"variety\"] == \"Red Blend\"].price.mean())\n",
    "x.append(\"Bordeaux-style Red Blend\")\n",
    "y.append(df[df[\"variety\"] == \"Bordeaux-style Red Blend\"].price.mean())\n",
    "x.append(\"Riesling\")\n",
    "y.append(df[df[\"variety\"] == \"Riesling\"].price.mean())\n",
    "x.append(\"Sauvignon Blanc\")\n",
    "y.append(df[df[\"variety\"] == \"Sauvignon Blanc\"].price.mean())\n",
    "x.append(\"Syrah\")\n",
    "y.append(df[df[\"variety\"] == \"Syrah\"].price.mean())\n",
    "x.append(\"Rosé\")\n",
    "y.append(df[df[\"variety\"] == \"Rosé\"].price.mean())\n",
    "x.append(\"Merlot\")\n",
    "y.append(df[df[\"variety\"] == \"Merlot\"].price.mean())\n",
    "\n",
    "y, x = zip(*sorted(zip(y, x), reverse = True))"
   ]
  },
  {
   "cell_type": "code",
   "execution_count": 37,
   "metadata": {},
   "outputs": [
    {
     "data": {
      "image/png": "[encoded data removed]",
      "text/plain": [
       "<Figure size 720x1080 with 1 Axes>"
      ]
     },
     "metadata": {
      "needs_background": "light"
     },
     "output_type": "display_data"
    }
   ],
   "source": [
    "plt.figure(figsize=(10,15))\n",
    "plt.bar(x, y, align='center', color = 'gold')\n",
    "plt.xticks(x, x, rotation = 90)\n",
    "plt.ylabel('Average price')\n",
    "plt.xlabel('Wine variety used')\n",
    "plt.suptitle('The average prices of the wines made from the 10 most popular grape varieties')\n",
    "add_value_labels(plt.gca())\n",
    "plt.show()"
   ]
  },
  {
   "cell_type": "code",
   "execution_count": 38,
   "metadata": {},
   "outputs": [],
   "source": [
    "x = []\n",
    "y = []\n",
    "x.append(\"US\")\n",
    "y.append(df[df[\"country\"] == \"US\"].points.mean())\n",
    "x.append(\"France\")\n",
    "y.append(df[df[\"country\"] == \"France\"].points.mean())\n",
    "x.append(\"Italy\")\n",
    "y.append(df[df[\"country\"] == \"Italy\"].points.mean())\n",
    "x.append(\"Spain\")\n",
    "y.append(df[df[\"country\"] == \"Spain\"].points.mean())\n",
    "x.append(\"Portugal\")\n",
    "y.append(df[df[\"country\"] == \"Portugal\"].points.mean())\n",
    "x.append(\"Chile\")\n",
    "y.append(df[df[\"country\"] == \"Chile\"].points.mean())\n",
    "x.append(\"Argentina\")\n",
    "y.append(df[df[\"country\"] == \"Argentina\"].points.mean())\n",
    "x.append(\"Austria\")\n",
    "y.append(df[df[\"country\"] == \"Austria\"].points.mean())\n",
    "x.append(\"Australia\")\n",
    "y.append(df[df[\"country\"] == \"Australia\"].points.mean())\n",
    "x.append(\"Germany\")\n",
    "y.append(df[df[\"country\"] == \"Germany\"].points.mean())\n",
    "\n",
    "y, x = zip(*sorted(zip(y, x), reverse = True))"
   ]
  },
  {
   "cell_type": "code",
   "execution_count": 39,
   "metadata": {},
   "outputs": [
    {
     "data": {
      "image/png": "[encoded data removed]",
      "text/plain": [
       "<Figure size 720x1080 with 1 Axes>"
      ]
     },
     "metadata": {
      "needs_background": "light"
     },
     "output_type": "display_data"
    }
   ],
   "source": [
    "plt.figure(figsize=(10,15))\n",
    "plt.bar(x, y, align='center', color = 'maroon')\n",
    "plt.xticks(x, x, rotation = 90)\n",
    "plt.gca().set_ylim([80, 100])\n",
    "plt.ylabel('Average score')\n",
    "plt.xlabel('Country of origin')\n",
    "plt.suptitle('The average points of the wines produced in the top 10 countries that contributed the most for this dataset')\n",
    "add_value_labels(plt.gca())\n",
    "plt.show()"
   ]
  },
  {
   "cell_type": "code",
   "execution_count": 40,
   "metadata": {},
   "outputs": [
    {
     "data": {
      "text/plain": [
       "US           54504\n",
       "France       22093\n",
       "Italy        19540\n",
       "Spain         6645\n",
       "Portugal      5691\n",
       "Chile         4472\n",
       "Argentina     3800\n",
       "Austria       3345\n",
       "Australia     2329\n",
       "Germany       2165\n",
       "Name: country, dtype: int64"
      ]
     },
     "execution_count": 40,
     "metadata": {},
     "output_type": "execute_result"
    }
   ],
   "source": [
    "df.country.value_counts().head(10)"
   ]
  },
  {
   "cell_type": "code",
   "execution_count": 41,
   "metadata": {},
   "outputs": [],
   "source": [
    "x = []\n",
    "y = []\n",
    "x.append(\"US\")\n",
    "y.append(df[df[\"country\"] == \"US\"].price.mean())\n",
    "x.append(\"France\")\n",
    "y.append(df[df[\"country\"] == \"France\"].price.mean())\n",
    "x.append(\"Italy\")\n",
    "y.append(df[df[\"country\"] == \"Italy\"].price.mean())\n",
    "x.append(\"Spain\")\n",
    "y.append(df[df[\"country\"] == \"Spain\"].price.mean())\n",
    "x.append(\"Portugal\")\n",
    "y.append(df[df[\"country\"] == \"Portugal\"].price.mean())\n",
    "x.append(\"Chile\")\n",
    "y.append(df[df[\"country\"] == \"Chile\"].price.mean())\n",
    "x.append(\"Argentina\")\n",
    "y.append(df[df[\"country\"] == \"Argentina\"].price.mean())\n",
    "x.append(\"Austria\")\n",
    "y.append(df[df[\"country\"] == \"Austria\"].price.mean())\n",
    "x.append(\"Australia\")\n",
    "y.append(df[df[\"country\"] == \"Australia\"].price.mean())\n",
    "x.append(\"Germany\")\n",
    "y.append(df[df[\"country\"] == \"Germany\"].price.mean())\n",
    "\n",
    "y, x = zip(*sorted(zip(y, x), reverse = True))"
   ]
  },
  {
   "cell_type": "code",
   "execution_count": 42,
   "metadata": {},
   "outputs": [
    {
     "data": {
      "image/png": "[encoded data removed]",
      "text/plain": [
       "<Figure size 720x1080 with 1 Axes>"
      ]
     },
     "metadata": {
      "needs_background": "light"
     },
     "output_type": "display_data"
    }
   ],
   "source": [
    "plt.figure(figsize=(10,15))\n",
    "plt.bar(x, y, align='center', color = 'gold')\n",
    "plt.xticks(x, x, rotation = 90)\n",
    "plt.ylabel('Average price')\n",
    "plt.xlabel('Country of origin')\n",
    "plt.suptitle('The average prices of the wines produced in the top 10 countries that contributed the most for this dataset')\n",
    "add_value_labels(plt.gca())\n",
    "plt.show()"
   ]
  },
  {
   "cell_type": "code",
   "execution_count": null,
   "metadata": {},
   "outputs": [],
   "source": []
  },
  {
   "cell_type": "code",
   "execution_count": null,
   "metadata": {},
   "outputs": [],
   "source": []
  }
 ],
 "metadata": {
  "kernelspec": {
   "display_name": "Python 3",
   "language": "python",
   "name": "python3"
  },
  "language_info": {
   "codemirror_mode": {
    "name": "ipython",
    "version": 3
   },
   "file_extension": ".py",
   "mimetype": "text/x-python",
   "name": "python",
   "nbconvert_exporter": "python",
   "pygments_lexer": "ipython3",
   "version": "3.8.3"
  }
 },
 "nbformat": 4,
 "nbformat_minor": 4
}
