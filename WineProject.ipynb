{
 "cells": [
  {
   "cell_type": "code",
   "execution_count": 1,
   "metadata": {},
   "outputs": [
    {
     "name": "stdout",
     "output_type": "stream",
     "text": [
      "Hello wine!\n"
     ]
    }
   ],
   "source": [
    "print(\"Hello wine!\")"
   ]
  },
  {
   "cell_type": "code",
   "execution_count": 2,
   "metadata": {},
   "outputs": [
    {
     "data": {
      "text/html": [
       "<div>\n",
       "<style scoped>\n",
       "    .dataframe tbody tr th:only-of-type {\n",
       "        vertical-align: middle;\n",
       "    }\n",
       "\n",
       "    .dataframe tbody tr th {\n",
       "        vertical-align: top;\n",
       "    }\n",
       "\n",
       "    .dataframe thead th {\n",
       "        text-align: right;\n",
       "    }\n",
       "</style>\n",
       "<table border=\"1\" class=\"dataframe\">\n",
       "  <thead>\n",
       "    <tr style=\"text-align: right;\">\n",
       "      <th></th>\n",
       "      <th>country</th>\n",
       "      <th>description</th>\n",
       "      <th>designation</th>\n",
       "      <th>points</th>\n",
       "      <th>price</th>\n",
       "      <th>province</th>\n",
       "      <th>region_1</th>\n",
       "      <th>region_2</th>\n",
       "      <th>taster_name</th>\n",
       "      <th>title</th>\n",
       "      <th>variety</th>\n",
       "      <th>winery</th>\n",
       "    </tr>\n",
       "  </thead>\n",
       "  <tbody>\n",
       "    <tr>\n",
       "      <th>0</th>\n",
       "      <td>Italy</td>\n",
       "      <td>Aromas include tropical fruit, broom, brimston...</td>\n",
       "      <td>Vulkà Bianco</td>\n",
       "      <td>87</td>\n",
       "      <td>NaN</td>\n",
       "      <td>Sicily &amp; Sardinia</td>\n",
       "      <td>Etna</td>\n",
       "      <td>NaN</td>\n",
       "      <td>Kerin O’Keefe</td>\n",
       "      <td>Nicosia 2013 Vulkà Bianco  (Etna)</td>\n",
       "      <td>White Blend</td>\n",
       "      <td>Nicosia</td>\n",
       "    </tr>\n",
       "    <tr>\n",
       "      <th>1</th>\n",
       "      <td>Portugal</td>\n",
       "      <td>This is ripe and fruity, a wine that is smooth...</td>\n",
       "      <td>Avidagos</td>\n",
       "      <td>87</td>\n",
       "      <td>15.0</td>\n",
       "      <td>Douro</td>\n",
       "      <td>NaN</td>\n",
       "      <td>NaN</td>\n",
       "      <td>Roger Voss</td>\n",
       "      <td>Quinta dos Avidagos 2011 Avidagos Red (Douro)</td>\n",
       "      <td>Portuguese Red</td>\n",
       "      <td>Quinta dos Avidagos</td>\n",
       "    </tr>\n",
       "    <tr>\n",
       "      <th>2</th>\n",
       "      <td>US</td>\n",
       "      <td>Tart and snappy, the flavors of lime flesh and...</td>\n",
       "      <td>NaN</td>\n",
       "      <td>87</td>\n",
       "      <td>14.0</td>\n",
       "      <td>Oregon</td>\n",
       "      <td>Willamette Valley</td>\n",
       "      <td>Willamette Valley</td>\n",
       "      <td>Paul Gregutt</td>\n",
       "      <td>Rainstorm 2013 Pinot Gris (Willamette Valley)</td>\n",
       "      <td>Pinot Gris</td>\n",
       "      <td>Rainstorm</td>\n",
       "    </tr>\n",
       "    <tr>\n",
       "      <th>3</th>\n",
       "      <td>US</td>\n",
       "      <td>Pineapple rind, lemon pith and orange blossom ...</td>\n",
       "      <td>Reserve Late Harvest</td>\n",
       "      <td>87</td>\n",
       "      <td>13.0</td>\n",
       "      <td>Michigan</td>\n",
       "      <td>Lake Michigan Shore</td>\n",
       "      <td>NaN</td>\n",
       "      <td>Alexander Peartree</td>\n",
       "      <td>St. Julian 2013 Reserve Late Harvest Riesling ...</td>\n",
       "      <td>Riesling</td>\n",
       "      <td>St. Julian</td>\n",
       "    </tr>\n",
       "    <tr>\n",
       "      <th>4</th>\n",
       "      <td>US</td>\n",
       "      <td>Much like the regular bottling from 2012, this...</td>\n",
       "      <td>Vintner's Reserve Wild Child Block</td>\n",
       "      <td>87</td>\n",
       "      <td>65.0</td>\n",
       "      <td>Oregon</td>\n",
       "      <td>Willamette Valley</td>\n",
       "      <td>Willamette Valley</td>\n",
       "      <td>Paul Gregutt</td>\n",
       "      <td>Sweet Cheeks 2012 Vintner's Reserve Wild Child...</td>\n",
       "      <td>Pinot Noir</td>\n",
       "      <td>Sweet Cheeks</td>\n",
       "    </tr>\n",
       "    <tr>\n",
       "      <th>...</th>\n",
       "      <td>...</td>\n",
       "      <td>...</td>\n",
       "      <td>...</td>\n",
       "      <td>...</td>\n",
       "      <td>...</td>\n",
       "      <td>...</td>\n",
       "      <td>...</td>\n",
       "      <td>...</td>\n",
       "      <td>...</td>\n",
       "      <td>...</td>\n",
       "      <td>...</td>\n",
       "      <td>...</td>\n",
       "    </tr>\n",
       "    <tr>\n",
       "      <th>129966</th>\n",
       "      <td>Germany</td>\n",
       "      <td>Notes of honeysuckle and cantaloupe sweeten th...</td>\n",
       "      <td>Brauneberger Juffer-Sonnenuhr Spätlese</td>\n",
       "      <td>90</td>\n",
       "      <td>28.0</td>\n",
       "      <td>Mosel</td>\n",
       "      <td>NaN</td>\n",
       "      <td>NaN</td>\n",
       "      <td>Anna Lee C. Iijima</td>\n",
       "      <td>Dr. H. Thanisch (Erben Müller-Burggraef) 2013 ...</td>\n",
       "      <td>Riesling</td>\n",
       "      <td>Dr. H. Thanisch (Erben Müller-Burggraef)</td>\n",
       "    </tr>\n",
       "    <tr>\n",
       "      <th>129967</th>\n",
       "      <td>US</td>\n",
       "      <td>Citation is given as much as a decade of bottl...</td>\n",
       "      <td>NaN</td>\n",
       "      <td>90</td>\n",
       "      <td>75.0</td>\n",
       "      <td>Oregon</td>\n",
       "      <td>Oregon</td>\n",
       "      <td>Oregon Other</td>\n",
       "      <td>Paul Gregutt</td>\n",
       "      <td>Citation 2004 Pinot Noir (Oregon)</td>\n",
       "      <td>Pinot Noir</td>\n",
       "      <td>Citation</td>\n",
       "    </tr>\n",
       "    <tr>\n",
       "      <th>129968</th>\n",
       "      <td>France</td>\n",
       "      <td>Well-drained gravel soil gives this wine its c...</td>\n",
       "      <td>Kritt</td>\n",
       "      <td>90</td>\n",
       "      <td>30.0</td>\n",
       "      <td>Alsace</td>\n",
       "      <td>Alsace</td>\n",
       "      <td>NaN</td>\n",
       "      <td>Roger Voss</td>\n",
       "      <td>Domaine Gresser 2013 Kritt Gewurztraminer (Als...</td>\n",
       "      <td>Gewürztraminer</td>\n",
       "      <td>Domaine Gresser</td>\n",
       "    </tr>\n",
       "    <tr>\n",
       "      <th>129969</th>\n",
       "      <td>France</td>\n",
       "      <td>A dry style of Pinot Gris, this is crisp with ...</td>\n",
       "      <td>NaN</td>\n",
       "      <td>90</td>\n",
       "      <td>32.0</td>\n",
       "      <td>Alsace</td>\n",
       "      <td>Alsace</td>\n",
       "      <td>NaN</td>\n",
       "      <td>Roger Voss</td>\n",
       "      <td>Domaine Marcel Deiss 2012 Pinot Gris (Alsace)</td>\n",
       "      <td>Pinot Gris</td>\n",
       "      <td>Domaine Marcel Deiss</td>\n",
       "    </tr>\n",
       "    <tr>\n",
       "      <th>129970</th>\n",
       "      <td>France</td>\n",
       "      <td>Big, rich and off-dry, this is powered by inte...</td>\n",
       "      <td>Lieu-dit Harth Cuvée Caroline</td>\n",
       "      <td>90</td>\n",
       "      <td>21.0</td>\n",
       "      <td>Alsace</td>\n",
       "      <td>Alsace</td>\n",
       "      <td>NaN</td>\n",
       "      <td>Roger Voss</td>\n",
       "      <td>Domaine Schoffit 2012 Lieu-dit Harth Cuvée Car...</td>\n",
       "      <td>Gewürztraminer</td>\n",
       "      <td>Domaine Schoffit</td>\n",
       "    </tr>\n",
       "  </tbody>\n",
       "</table>\n",
       "<p>129971 rows × 12 columns</p>\n",
       "</div>"
      ],
      "text/plain": [
       "         country                                        description  \\\n",
       "0          Italy  Aromas include tropical fruit, broom, brimston...   \n",
       "1       Portugal  This is ripe and fruity, a wine that is smooth...   \n",
       "2             US  Tart and snappy, the flavors of lime flesh and...   \n",
       "3             US  Pineapple rind, lemon pith and orange blossom ...   \n",
       "4             US  Much like the regular bottling from 2012, this...   \n",
       "...          ...                                                ...   \n",
       "129966   Germany  Notes of honeysuckle and cantaloupe sweeten th...   \n",
       "129967        US  Citation is given as much as a decade of bottl...   \n",
       "129968    France  Well-drained gravel soil gives this wine its c...   \n",
       "129969    France  A dry style of Pinot Gris, this is crisp with ...   \n",
       "129970    France  Big, rich and off-dry, this is powered by inte...   \n",
       "\n",
       "                                   designation  points  price  \\\n",
       "0                                 Vulkà Bianco      87    NaN   \n",
       "1                                     Avidagos      87   15.0   \n",
       "2                                          NaN      87   14.0   \n",
       "3                         Reserve Late Harvest      87   13.0   \n",
       "4           Vintner's Reserve Wild Child Block      87   65.0   \n",
       "...                                        ...     ...    ...   \n",
       "129966  Brauneberger Juffer-Sonnenuhr Spätlese      90   28.0   \n",
       "129967                                     NaN      90   75.0   \n",
       "129968                                   Kritt      90   30.0   \n",
       "129969                                     NaN      90   32.0   \n",
       "129970           Lieu-dit Harth Cuvée Caroline      90   21.0   \n",
       "\n",
       "                 province             region_1           region_2  \\\n",
       "0       Sicily & Sardinia                 Etna                NaN   \n",
       "1                   Douro                  NaN                NaN   \n",
       "2                  Oregon    Willamette Valley  Willamette Valley   \n",
       "3                Michigan  Lake Michigan Shore                NaN   \n",
       "4                  Oregon    Willamette Valley  Willamette Valley   \n",
       "...                   ...                  ...                ...   \n",
       "129966              Mosel                  NaN                NaN   \n",
       "129967             Oregon               Oregon       Oregon Other   \n",
       "129968             Alsace               Alsace                NaN   \n",
       "129969             Alsace               Alsace                NaN   \n",
       "129970             Alsace               Alsace                NaN   \n",
       "\n",
       "               taster_name                                              title  \\\n",
       "0            Kerin O’Keefe                  Nicosia 2013 Vulkà Bianco  (Etna)   \n",
       "1               Roger Voss      Quinta dos Avidagos 2011 Avidagos Red (Douro)   \n",
       "2             Paul Gregutt      Rainstorm 2013 Pinot Gris (Willamette Valley)   \n",
       "3       Alexander Peartree  St. Julian 2013 Reserve Late Harvest Riesling ...   \n",
       "4             Paul Gregutt  Sweet Cheeks 2012 Vintner's Reserve Wild Child...   \n",
       "...                    ...                                                ...   \n",
       "129966  Anna Lee C. Iijima  Dr. H. Thanisch (Erben Müller-Burggraef) 2013 ...   \n",
       "129967        Paul Gregutt                  Citation 2004 Pinot Noir (Oregon)   \n",
       "129968          Roger Voss  Domaine Gresser 2013 Kritt Gewurztraminer (Als...   \n",
       "129969          Roger Voss      Domaine Marcel Deiss 2012 Pinot Gris (Alsace)   \n",
       "129970          Roger Voss  Domaine Schoffit 2012 Lieu-dit Harth Cuvée Car...   \n",
       "\n",
       "               variety                                    winery  \n",
       "0          White Blend                                   Nicosia  \n",
       "1       Portuguese Red                       Quinta dos Avidagos  \n",
       "2           Pinot Gris                                 Rainstorm  \n",
       "3             Riesling                                St. Julian  \n",
       "4           Pinot Noir                              Sweet Cheeks  \n",
       "...                ...                                       ...  \n",
       "129966        Riesling  Dr. H. Thanisch (Erben Müller-Burggraef)  \n",
       "129967      Pinot Noir                                  Citation  \n",
       "129968  Gewürztraminer                           Domaine Gresser  \n",
       "129969      Pinot Gris                      Domaine Marcel Deiss  \n",
       "129970  Gewürztraminer                          Domaine Schoffit  \n",
       "\n",
       "[129971 rows x 12 columns]"
      ]
     },
     "execution_count": 2,
     "metadata": {},
     "output_type": "execute_result"
    }
   ],
   "source": [
    "import pandas as pd\n",
    "import numpy as np\n",
    "\n",
    "df = pd.read_csv('winemag-data-130k-v2.csv')\n",
    "df = df.drop(columns=['Unnamed: 0', 'taster_twitter_handle'])\n",
    "df"
   ]
  },
  {
   "cell_type": "code",
   "execution_count": 3,
   "metadata": {},
   "outputs": [
    {
     "data": {
      "text/plain": [
       "country           63\n",
       "description        0\n",
       "designation    37465\n",
       "points             0\n",
       "price           8996\n",
       "province          63\n",
       "region_1       21247\n",
       "region_2       79460\n",
       "taster_name    26244\n",
       "title              0\n",
       "variety            1\n",
       "winery             0\n",
       "dtype: int64"
      ]
     },
     "execution_count": 3,
     "metadata": {},
     "output_type": "execute_result"
    }
   ],
   "source": [
    "df.isna().sum()"
   ]
  },
  {
   "cell_type": "code",
   "execution_count": 4,
   "metadata": {},
   "outputs": [
    {
     "data": {
      "text/html": [
       "<div>\n",
       "<style scoped>\n",
       "    .dataframe tbody tr th:only-of-type {\n",
       "        vertical-align: middle;\n",
       "    }\n",
       "\n",
       "    .dataframe tbody tr th {\n",
       "        vertical-align: top;\n",
       "    }\n",
       "\n",
       "    .dataframe thead th {\n",
       "        text-align: right;\n",
       "    }\n",
       "</style>\n",
       "<table border=\"1\" class=\"dataframe\">\n",
       "  <thead>\n",
       "    <tr style=\"text-align: right;\">\n",
       "      <th></th>\n",
       "      <th>country</th>\n",
       "      <th>description</th>\n",
       "      <th>designation</th>\n",
       "      <th>points</th>\n",
       "      <th>price</th>\n",
       "      <th>province</th>\n",
       "      <th>region_1</th>\n",
       "      <th>region_2</th>\n",
       "      <th>taster_name</th>\n",
       "      <th>title</th>\n",
       "      <th>variety</th>\n",
       "      <th>winery</th>\n",
       "    </tr>\n",
       "  </thead>\n",
       "  <tbody>\n",
       "    <tr>\n",
       "      <th>0</th>\n",
       "      <td>Portugal</td>\n",
       "      <td>This is ripe and fruity, a wine that is smooth...</td>\n",
       "      <td>Avidagos</td>\n",
       "      <td>87</td>\n",
       "      <td>15.0</td>\n",
       "      <td>Douro</td>\n",
       "      <td>NaN</td>\n",
       "      <td>NaN</td>\n",
       "      <td>Roger Voss</td>\n",
       "      <td>Quinta dos Avidagos 2011 Avidagos Red (Douro)</td>\n",
       "      <td>Portuguese Red</td>\n",
       "      <td>Quinta dos Avidagos</td>\n",
       "    </tr>\n",
       "    <tr>\n",
       "      <th>1</th>\n",
       "      <td>US</td>\n",
       "      <td>Tart and snappy, the flavors of lime flesh and...</td>\n",
       "      <td>NaN</td>\n",
       "      <td>87</td>\n",
       "      <td>14.0</td>\n",
       "      <td>Oregon</td>\n",
       "      <td>Willamette Valley</td>\n",
       "      <td>Willamette Valley</td>\n",
       "      <td>Paul Gregutt</td>\n",
       "      <td>Rainstorm 2013 Pinot Gris (Willamette Valley)</td>\n",
       "      <td>Pinot Gris</td>\n",
       "      <td>Rainstorm</td>\n",
       "    </tr>\n",
       "    <tr>\n",
       "      <th>2</th>\n",
       "      <td>US</td>\n",
       "      <td>Pineapple rind, lemon pith and orange blossom ...</td>\n",
       "      <td>Reserve Late Harvest</td>\n",
       "      <td>87</td>\n",
       "      <td>13.0</td>\n",
       "      <td>Michigan</td>\n",
       "      <td>Lake Michigan Shore</td>\n",
       "      <td>NaN</td>\n",
       "      <td>Alexander Peartree</td>\n",
       "      <td>St. Julian 2013 Reserve Late Harvest Riesling ...</td>\n",
       "      <td>Riesling</td>\n",
       "      <td>St. Julian</td>\n",
       "    </tr>\n",
       "    <tr>\n",
       "      <th>3</th>\n",
       "      <td>US</td>\n",
       "      <td>Much like the regular bottling from 2012, this...</td>\n",
       "      <td>Vintner's Reserve Wild Child Block</td>\n",
       "      <td>87</td>\n",
       "      <td>65.0</td>\n",
       "      <td>Oregon</td>\n",
       "      <td>Willamette Valley</td>\n",
       "      <td>Willamette Valley</td>\n",
       "      <td>Paul Gregutt</td>\n",
       "      <td>Sweet Cheeks 2012 Vintner's Reserve Wild Child...</td>\n",
       "      <td>Pinot Noir</td>\n",
       "      <td>Sweet Cheeks</td>\n",
       "    </tr>\n",
       "    <tr>\n",
       "      <th>4</th>\n",
       "      <td>Spain</td>\n",
       "      <td>Blackberry and raspberry aromas show a typical...</td>\n",
       "      <td>Ars In Vitro</td>\n",
       "      <td>87</td>\n",
       "      <td>15.0</td>\n",
       "      <td>Northern Spain</td>\n",
       "      <td>Navarra</td>\n",
       "      <td>NaN</td>\n",
       "      <td>Michael Schachner</td>\n",
       "      <td>Tandem 2011 Ars In Vitro Tempranillo-Merlot (N...</td>\n",
       "      <td>Tempranillo-Merlot</td>\n",
       "      <td>Tandem</td>\n",
       "    </tr>\n",
       "    <tr>\n",
       "      <th>...</th>\n",
       "      <td>...</td>\n",
       "      <td>...</td>\n",
       "      <td>...</td>\n",
       "      <td>...</td>\n",
       "      <td>...</td>\n",
       "      <td>...</td>\n",
       "      <td>...</td>\n",
       "      <td>...</td>\n",
       "      <td>...</td>\n",
       "      <td>...</td>\n",
       "      <td>...</td>\n",
       "      <td>...</td>\n",
       "    </tr>\n",
       "    <tr>\n",
       "      <th>120910</th>\n",
       "      <td>Germany</td>\n",
       "      <td>Notes of honeysuckle and cantaloupe sweeten th...</td>\n",
       "      <td>Brauneberger Juffer-Sonnenuhr Spätlese</td>\n",
       "      <td>90</td>\n",
       "      <td>28.0</td>\n",
       "      <td>Mosel</td>\n",
       "      <td>NaN</td>\n",
       "      <td>NaN</td>\n",
       "      <td>Anna Lee C. Iijima</td>\n",
       "      <td>Dr. H. Thanisch (Erben Müller-Burggraef) 2013 ...</td>\n",
       "      <td>Riesling</td>\n",
       "      <td>Dr. H. Thanisch (Erben Müller-Burggraef)</td>\n",
       "    </tr>\n",
       "    <tr>\n",
       "      <th>120911</th>\n",
       "      <td>US</td>\n",
       "      <td>Citation is given as much as a decade of bottl...</td>\n",
       "      <td>NaN</td>\n",
       "      <td>90</td>\n",
       "      <td>75.0</td>\n",
       "      <td>Oregon</td>\n",
       "      <td>Oregon</td>\n",
       "      <td>Oregon Other</td>\n",
       "      <td>Paul Gregutt</td>\n",
       "      <td>Citation 2004 Pinot Noir (Oregon)</td>\n",
       "      <td>Pinot Noir</td>\n",
       "      <td>Citation</td>\n",
       "    </tr>\n",
       "    <tr>\n",
       "      <th>120912</th>\n",
       "      <td>France</td>\n",
       "      <td>Well-drained gravel soil gives this wine its c...</td>\n",
       "      <td>Kritt</td>\n",
       "      <td>90</td>\n",
       "      <td>30.0</td>\n",
       "      <td>Alsace</td>\n",
       "      <td>Alsace</td>\n",
       "      <td>NaN</td>\n",
       "      <td>Roger Voss</td>\n",
       "      <td>Domaine Gresser 2013 Kritt Gewurztraminer (Als...</td>\n",
       "      <td>Gewürztraminer</td>\n",
       "      <td>Domaine Gresser</td>\n",
       "    </tr>\n",
       "    <tr>\n",
       "      <th>120913</th>\n",
       "      <td>France</td>\n",
       "      <td>A dry style of Pinot Gris, this is crisp with ...</td>\n",
       "      <td>NaN</td>\n",
       "      <td>90</td>\n",
       "      <td>32.0</td>\n",
       "      <td>Alsace</td>\n",
       "      <td>Alsace</td>\n",
       "      <td>NaN</td>\n",
       "      <td>Roger Voss</td>\n",
       "      <td>Domaine Marcel Deiss 2012 Pinot Gris (Alsace)</td>\n",
       "      <td>Pinot Gris</td>\n",
       "      <td>Domaine Marcel Deiss</td>\n",
       "    </tr>\n",
       "    <tr>\n",
       "      <th>120914</th>\n",
       "      <td>France</td>\n",
       "      <td>Big, rich and off-dry, this is powered by inte...</td>\n",
       "      <td>Lieu-dit Harth Cuvée Caroline</td>\n",
       "      <td>90</td>\n",
       "      <td>21.0</td>\n",
       "      <td>Alsace</td>\n",
       "      <td>Alsace</td>\n",
       "      <td>NaN</td>\n",
       "      <td>Roger Voss</td>\n",
       "      <td>Domaine Schoffit 2012 Lieu-dit Harth Cuvée Car...</td>\n",
       "      <td>Gewürztraminer</td>\n",
       "      <td>Domaine Schoffit</td>\n",
       "    </tr>\n",
       "  </tbody>\n",
       "</table>\n",
       "<p>120915 rows × 12 columns</p>\n",
       "</div>"
      ],
      "text/plain": [
       "         country                                        description  \\\n",
       "0       Portugal  This is ripe and fruity, a wine that is smooth...   \n",
       "1             US  Tart and snappy, the flavors of lime flesh and...   \n",
       "2             US  Pineapple rind, lemon pith and orange blossom ...   \n",
       "3             US  Much like the regular bottling from 2012, this...   \n",
       "4          Spain  Blackberry and raspberry aromas show a typical...   \n",
       "...          ...                                                ...   \n",
       "120910   Germany  Notes of honeysuckle and cantaloupe sweeten th...   \n",
       "120911        US  Citation is given as much as a decade of bottl...   \n",
       "120912    France  Well-drained gravel soil gives this wine its c...   \n",
       "120913    France  A dry style of Pinot Gris, this is crisp with ...   \n",
       "120914    France  Big, rich and off-dry, this is powered by inte...   \n",
       "\n",
       "                                   designation  points  price        province  \\\n",
       "0                                     Avidagos      87   15.0           Douro   \n",
       "1                                          NaN      87   14.0          Oregon   \n",
       "2                         Reserve Late Harvest      87   13.0        Michigan   \n",
       "3           Vintner's Reserve Wild Child Block      87   65.0          Oregon   \n",
       "4                                 Ars In Vitro      87   15.0  Northern Spain   \n",
       "...                                        ...     ...    ...             ...   \n",
       "120910  Brauneberger Juffer-Sonnenuhr Spätlese      90   28.0           Mosel   \n",
       "120911                                     NaN      90   75.0          Oregon   \n",
       "120912                                   Kritt      90   30.0          Alsace   \n",
       "120913                                     NaN      90   32.0          Alsace   \n",
       "120914           Lieu-dit Harth Cuvée Caroline      90   21.0          Alsace   \n",
       "\n",
       "                   region_1           region_2         taster_name  \\\n",
       "0                       NaN                NaN          Roger Voss   \n",
       "1         Willamette Valley  Willamette Valley        Paul Gregutt   \n",
       "2       Lake Michigan Shore                NaN  Alexander Peartree   \n",
       "3         Willamette Valley  Willamette Valley        Paul Gregutt   \n",
       "4                   Navarra                NaN   Michael Schachner   \n",
       "...                     ...                ...                 ...   \n",
       "120910                  NaN                NaN  Anna Lee C. Iijima   \n",
       "120911               Oregon       Oregon Other        Paul Gregutt   \n",
       "120912               Alsace                NaN          Roger Voss   \n",
       "120913               Alsace                NaN          Roger Voss   \n",
       "120914               Alsace                NaN          Roger Voss   \n",
       "\n",
       "                                                    title             variety  \\\n",
       "0           Quinta dos Avidagos 2011 Avidagos Red (Douro)      Portuguese Red   \n",
       "1           Rainstorm 2013 Pinot Gris (Willamette Valley)          Pinot Gris   \n",
       "2       St. Julian 2013 Reserve Late Harvest Riesling ...            Riesling   \n",
       "3       Sweet Cheeks 2012 Vintner's Reserve Wild Child...          Pinot Noir   \n",
       "4       Tandem 2011 Ars In Vitro Tempranillo-Merlot (N...  Tempranillo-Merlot   \n",
       "...                                                   ...                 ...   \n",
       "120910  Dr. H. Thanisch (Erben Müller-Burggraef) 2013 ...            Riesling   \n",
       "120911                  Citation 2004 Pinot Noir (Oregon)          Pinot Noir   \n",
       "120912  Domaine Gresser 2013 Kritt Gewurztraminer (Als...      Gewürztraminer   \n",
       "120913      Domaine Marcel Deiss 2012 Pinot Gris (Alsace)          Pinot Gris   \n",
       "120914  Domaine Schoffit 2012 Lieu-dit Harth Cuvée Car...      Gewürztraminer   \n",
       "\n",
       "                                          winery  \n",
       "0                            Quinta dos Avidagos  \n",
       "1                                      Rainstorm  \n",
       "2                                     St. Julian  \n",
       "3                                   Sweet Cheeks  \n",
       "4                                         Tandem  \n",
       "...                                          ...  \n",
       "120910  Dr. H. Thanisch (Erben Müller-Burggraef)  \n",
       "120911                                  Citation  \n",
       "120912                           Domaine Gresser  \n",
       "120913                      Domaine Marcel Deiss  \n",
       "120914                          Domaine Schoffit  \n",
       "\n",
       "[120915 rows x 12 columns]"
      ]
     },
     "execution_count": 4,
     "metadata": {},
     "output_type": "execute_result"
    }
   ],
   "source": [
    "df = df.dropna(subset = ['price', 'province', 'country', 'variety'])\n",
    "df = df.reset_index().drop(columns = ['index'])\n",
    "df"
   ]
  },
  {
   "cell_type": "code",
   "execution_count": 5,
   "metadata": {},
   "outputs": [
    {
     "name": "stdout",
     "output_type": "stream",
     "text": [
      "(42,)\n"
     ]
    },
    {
     "data": {
      "text/plain": [
       "US                        54265\n",
       "France                    17776\n",
       "Italy                     16914\n",
       "Spain                      6573\n",
       "Portugal                   4875\n",
       "Chile                      4415\n",
       "Argentina                  3756\n",
       "Austria                    2799\n",
       "Australia                  2294\n",
       "Germany                    2120\n",
       "New Zealand                1378\n",
       "South Africa               1293\n",
       "Israel                      489\n",
       "Greece                      461\n",
       "Canada                      254\n",
       "Hungary                     145\n",
       "Bulgaria                    141\n",
       "Romania                     120\n",
       "Uruguay                     109\n",
       "Turkey                       90\n",
       "Georgia                      84\n",
       "Slovenia                     80\n",
       "Croatia                      71\n",
       "Mexico                       70\n",
       "England                      69\n",
       "Moldova                      59\n",
       "Brazil                       47\n",
       "Lebanon                      35\n",
       "Morocco                      28\n",
       "Peru                         16\n",
       "Ukraine                      14\n",
       "Czech Republic               12\n",
       "Serbia                       12\n",
       "Macedonia                    12\n",
       "Cyprus                       11\n",
       "India                         9\n",
       "Switzerland                   7\n",
       "Luxembourg                    6\n",
       "Bosnia and Herzegovina        2\n",
       "Armenia                       2\n",
       "Slovakia                      1\n",
       "China                         1\n",
       "Name: country, dtype: int64"
      ]
     },
     "execution_count": 5,
     "metadata": {},
     "output_type": "execute_result"
    }
   ],
   "source": [
    "print(df.country.value_counts().shape)\n",
    "df.country.value_counts(dropna = False)"
   ]
  },
  {
   "cell_type": "raw",
   "metadata": {},
   "source": [
    "df.description.value_counts().shape"
   ]
  },
  {
   "cell_type": "code",
   "execution_count": 6,
   "metadata": {},
   "outputs": [
    {
     "name": "stdout",
     "output_type": "stream",
     "text": [
      "(35753,)\n"
     ]
    },
    {
     "data": {
      "text/plain": [
       "NaN                                                 34767\n",
       "Reserve                                              1977\n",
       "Estate                                               1317\n",
       "Reserva                                              1219\n",
       "Estate Grown                                          618\n",
       "                                                    ...  \n",
       "Punt i...                                               1\n",
       "Zwischen den Seen  Trockenbeerenauslese Nummer 7        1\n",
       "Mills Family Vineyard                                   1\n",
       "Poetic Pinot                                            1\n",
       "Vineis                                                  1\n",
       "Name: designation, Length: 35754, dtype: int64"
      ]
     },
     "execution_count": 6,
     "metadata": {},
     "output_type": "execute_result"
    }
   ],
   "source": [
    "print(df.designation.value_counts().shape)\n",
    "df.designation.value_counts(dropna = False)"
   ]
  },
  {
   "cell_type": "code",
   "execution_count": 7,
   "metadata": {},
   "outputs": [
    {
     "data": {
      "text/plain": [
       "100       19\n",
       "99        28\n",
       "98        69\n",
       "97       207\n",
       "80       395\n",
       "96       482\n",
       "81       680\n",
       "95      1406\n",
       "82      1772\n",
       "83      2886\n",
       "94      3449\n",
       "93      5935\n",
       "84      6097\n",
       "92      8865\n",
       "85      8901\n",
       "91     10559\n",
       "89     11306\n",
       "86     11740\n",
       "90     14354\n",
       "87     15761\n",
       "88     16004\n",
       "Name: points, dtype: int64"
      ]
     },
     "execution_count": 7,
     "metadata": {},
     "output_type": "execute_result"
    }
   ],
   "source": [
    "df.points.value_counts(dropna = False).sort_values()"
   ]
  },
  {
   "cell_type": "code",
   "execution_count": 8,
   "metadata": {},
   "outputs": [
    {
     "name": "stdout",
     "output_type": "stream",
     "text": [
      "(390,)\n",
      "4.0\n",
      "3300.0\n"
     ]
    }
   ],
   "source": [
    "print(df.price.value_counts().shape)\n",
    "print(df.price.min())\n",
    "print(df.price.max())"
   ]
  },
  {
   "cell_type": "code",
   "execution_count": 9,
   "metadata": {},
   "outputs": [
    {
     "data": {
      "text/plain": [
       "California          36104\n",
       "Washington           8583\n",
       "Oregon               5359\n",
       "Tuscany              5128\n",
       "Bordeaux             4002\n",
       "                    ...  \n",
       "Kentucky                1\n",
       "Neuchâtel               1\n",
       "Lemesos                 1\n",
       "Malgas                  1\n",
       "Cape South Coast        1\n",
       "Name: province, Length: 422, dtype: int64"
      ]
     },
     "execution_count": 9,
     "metadata": {},
     "output_type": "execute_result"
    }
   ],
   "source": [
    "df.province.value_counts(dropna = False)"
   ]
  },
  {
   "cell_type": "code",
   "execution_count": 10,
   "metadata": {},
   "outputs": [
    {
     "data": {
      "text/plain": [
       "Napa Valley                       4475\n",
       "Columbia Valley (WA)              4109\n",
       "Russian River Valley              3090\n",
       "California                        2627\n",
       "Paso Robles                       2327\n",
       "                                  ... \n",
       "Corton Grèves                        1\n",
       "Vino de la Tierra de Zamora          1\n",
       "Henty                                1\n",
       "Paso Robles Highlands District       1\n",
       "Vin de Pays de France                1\n",
       "Name: region_1, Length: 1204, dtype: int64"
      ]
     },
     "execution_count": 10,
     "metadata": {},
     "output_type": "execute_result"
    }
   ],
   "source": [
    "df.region_1.value_counts()"
   ]
  },
  {
   "cell_type": "code",
   "execution_count": 11,
   "metadata": {},
   "outputs": [
    {
     "data": {
      "text/plain": [
       "Central Coast        10975\n",
       "Sonoma                9009\n",
       "Columbia Valley       8058\n",
       "Napa                  6804\n",
       "Willamette Valley     3416\n",
       "California Other      2661\n",
       "Finger Lakes          1768\n",
       "Sierra Foothills      1461\n",
       "Napa-Sonoma           1169\n",
       "Central Valley        1058\n",
       "Southern Oregon        913\n",
       "Oregon Other           724\n",
       "Long Island            677\n",
       "North Coast            583\n",
       "Washington Other       523\n",
       "South Coast            262\n",
       "New York Other         231\n",
       "Name: region_2, dtype: int64"
      ]
     },
     "execution_count": 11,
     "metadata": {},
     "output_type": "execute_result"
    }
   ],
   "source": [
    "df.region_2.value_counts()"
   ]
  },
  {
   "cell_type": "code",
   "execution_count": 12,
   "metadata": {},
   "outputs": [
    {
     "data": {
      "text/plain": [
       "Roger Voss            20172\n",
       "Michael Schachner     14944\n",
       "Kerin O’Keefe          9874\n",
       "Virginie Boone         9507\n",
       "Paul Gregutt           9497\n",
       "Matt Kettmann          6237\n",
       "Joe Czerwinski         5010\n",
       "Sean P. Sullivan       4925\n",
       "Anna Lee C. Iijima     4369\n",
       "Jim Gordon             4171\n",
       "Anne Krebiehl MW       3389\n",
       "Lauren Buzzeo          1712\n",
       "Susan Kostrzewa        1068\n",
       "Mike DeSimone           492\n",
       "Jeff Jenssen            469\n",
       "Alexander Peartree      413\n",
       "Carrie Dykes            138\n",
       "Fiona Adams              27\n",
       "Christina Pickard         6\n",
       "Name: taster_name, dtype: int64"
      ]
     },
     "execution_count": 12,
     "metadata": {},
     "output_type": "execute_result"
    }
   ],
   "source": [
    "df.taster_name.value_counts()"
   ]
  },
  {
   "cell_type": "code",
   "execution_count": 13,
   "metadata": {},
   "outputs": [
    {
     "data": {
      "text/plain": [
       "Gloria Ferrer NV Sonoma Brut Sparkling (Sonoma County)               11\n",
       "Korbel NV Brut Sparkling (California)                                 9\n",
       "Segura Viudas NV Extra Dry Sparkling (Cava)                           8\n",
       "Gloria Ferrer NV Blanc de Noirs Sparkling (Carneros)                  7\n",
       "Ruinart NV Brut Rosé  (Champagne)                                     7\n",
       "                                                                     ..\n",
       "Castello Gabiano 2011 Adornes  (Barbera d'Asti Superiore)             1\n",
       "La Fenêtre 2012 Pinot Noir (Santa Maria Valley)                       1\n",
       "Château Siaurac 2012 Plaisir de Siaurac  (Lalande de Pomerol)         1\n",
       "Glenora 2012 Cabernet Sauvignon (Finger Lakes)                        1\n",
       "Neal Family 2011 Rutherford Dust Vineyards Zinfandel (Rutherford)     1\n",
       "Name: title, Length: 110582, dtype: int64"
      ]
     },
     "execution_count": 13,
     "metadata": {},
     "output_type": "execute_result"
    }
   ],
   "source": [
    "df.title.value_counts()"
   ]
  },
  {
   "cell_type": "code",
   "execution_count": 14,
   "metadata": {},
   "outputs": [
    {
     "data": {
      "text/plain": [
       "Pinot Noir                  12785\n",
       "Chardonnay                  11077\n",
       "Cabernet Sauvignon           9384\n",
       "Red Blend                    8466\n",
       "Bordeaux-style Red Blend     5340\n",
       "                            ...  \n",
       "Centesimino                     1\n",
       "País                            1\n",
       "Irsai Oliver                    1\n",
       "Früburgunder                    1\n",
       "Babosa Negro                    1\n",
       "Name: variety, Length: 691, dtype: int64"
      ]
     },
     "execution_count": 14,
     "metadata": {},
     "output_type": "execute_result"
    }
   ],
   "source": [
    "df.variety.value_counts()"
   ]
  },
  {
   "cell_type": "code",
   "execution_count": 15,
   "metadata": {},
   "outputs": [
    {
     "data": {
      "text/html": [
       "<div>\n",
       "<style scoped>\n",
       "    .dataframe tbody tr th:only-of-type {\n",
       "        vertical-align: middle;\n",
       "    }\n",
       "\n",
       "    .dataframe tbody tr th {\n",
       "        vertical-align: top;\n",
       "    }\n",
       "\n",
       "    .dataframe thead th {\n",
       "        text-align: right;\n",
       "    }\n",
       "</style>\n",
       "<table border=\"1\" class=\"dataframe\">\n",
       "  <thead>\n",
       "    <tr style=\"text-align: right;\">\n",
       "      <th></th>\n",
       "      <th>points</th>\n",
       "      <th>price</th>\n",
       "    </tr>\n",
       "  </thead>\n",
       "  <tbody>\n",
       "    <tr>\n",
       "      <th>count</th>\n",
       "      <td>120915.000000</td>\n",
       "      <td>120915.000000</td>\n",
       "    </tr>\n",
       "    <tr>\n",
       "      <th>mean</th>\n",
       "      <td>88.421726</td>\n",
       "      <td>35.368796</td>\n",
       "    </tr>\n",
       "    <tr>\n",
       "      <th>std</th>\n",
       "      <td>3.044954</td>\n",
       "      <td>41.031188</td>\n",
       "    </tr>\n",
       "    <tr>\n",
       "      <th>min</th>\n",
       "      <td>80.000000</td>\n",
       "      <td>4.000000</td>\n",
       "    </tr>\n",
       "    <tr>\n",
       "      <th>25%</th>\n",
       "      <td>86.000000</td>\n",
       "      <td>17.000000</td>\n",
       "    </tr>\n",
       "    <tr>\n",
       "      <th>50%</th>\n",
       "      <td>88.000000</td>\n",
       "      <td>25.000000</td>\n",
       "    </tr>\n",
       "    <tr>\n",
       "      <th>75%</th>\n",
       "      <td>91.000000</td>\n",
       "      <td>42.000000</td>\n",
       "    </tr>\n",
       "    <tr>\n",
       "      <th>max</th>\n",
       "      <td>100.000000</td>\n",
       "      <td>3300.000000</td>\n",
       "    </tr>\n",
       "  </tbody>\n",
       "</table>\n",
       "</div>"
      ],
      "text/plain": [
       "              points          price\n",
       "count  120915.000000  120915.000000\n",
       "mean       88.421726      35.368796\n",
       "std         3.044954      41.031188\n",
       "min        80.000000       4.000000\n",
       "25%        86.000000      17.000000\n",
       "50%        88.000000      25.000000\n",
       "75%        91.000000      42.000000\n",
       "max       100.000000    3300.000000"
      ]
     },
     "execution_count": 15,
     "metadata": {},
     "output_type": "execute_result"
    }
   ],
   "source": [
    "df.describe()"
   ]
  },
  {
   "cell_type": "code",
   "execution_count": 16,
   "metadata": {},
   "outputs": [
    {
     "data": {
      "text/html": [
       "<div>\n",
       "<style scoped>\n",
       "    .dataframe tbody tr th:only-of-type {\n",
       "        vertical-align: middle;\n",
       "    }\n",
       "\n",
       "    .dataframe tbody tr th {\n",
       "        vertical-align: top;\n",
       "    }\n",
       "\n",
       "    .dataframe thead th {\n",
       "        text-align: right;\n",
       "    }\n",
       "</style>\n",
       "<table border=\"1\" class=\"dataframe\">\n",
       "  <thead>\n",
       "    <tr style=\"text-align: right;\">\n",
       "      <th></th>\n",
       "      <th>points</th>\n",
       "    </tr>\n",
       "    <tr>\n",
       "      <th>price</th>\n",
       "      <th></th>\n",
       "    </tr>\n",
       "  </thead>\n",
       "  <tbody>\n",
       "    <tr>\n",
       "      <th>3300.0</th>\n",
       "      <td>88.000000</td>\n",
       "    </tr>\n",
       "    <tr>\n",
       "      <th>2500.0</th>\n",
       "      <td>96.000000</td>\n",
       "    </tr>\n",
       "    <tr>\n",
       "      <th>2013.0</th>\n",
       "      <td>91.000000</td>\n",
       "    </tr>\n",
       "    <tr>\n",
       "      <th>2000.0</th>\n",
       "      <td>96.500000</td>\n",
       "    </tr>\n",
       "    <tr>\n",
       "      <th>1900.0</th>\n",
       "      <td>98.000000</td>\n",
       "    </tr>\n",
       "    <tr>\n",
       "      <th>...</th>\n",
       "      <td>...</td>\n",
       "    </tr>\n",
       "    <tr>\n",
       "      <th>8.0</th>\n",
       "      <td>84.628924</td>\n",
       "    </tr>\n",
       "    <tr>\n",
       "      <th>7.0</th>\n",
       "      <td>84.450346</td>\n",
       "    </tr>\n",
       "    <tr>\n",
       "      <th>6.0</th>\n",
       "      <td>84.347458</td>\n",
       "    </tr>\n",
       "    <tr>\n",
       "      <th>5.0</th>\n",
       "      <td>83.586957</td>\n",
       "    </tr>\n",
       "    <tr>\n",
       "      <th>4.0</th>\n",
       "      <td>84.272727</td>\n",
       "    </tr>\n",
       "  </tbody>\n",
       "</table>\n",
       "<p>390 rows × 1 columns</p>\n",
       "</div>"
      ],
      "text/plain": [
       "           points\n",
       "price            \n",
       "3300.0  88.000000\n",
       "2500.0  96.000000\n",
       "2013.0  91.000000\n",
       "2000.0  96.500000\n",
       "1900.0  98.000000\n",
       "...           ...\n",
       "8.0     84.628924\n",
       "7.0     84.450346\n",
       "6.0     84.347458\n",
       "5.0     83.586957\n",
       "4.0     84.272727\n",
       "\n",
       "[390 rows x 1 columns]"
      ]
     },
     "execution_count": 16,
     "metadata": {},
     "output_type": "execute_result"
    }
   ],
   "source": [
    "import matplotlib.pyplot as plt\n",
    "groupedByPoints = df.groupby(\"points\").mean().sort_values(\"points\", ascending = False)\n",
    "groupedByPoints\n",
    "\n",
    "groupedByPrice = df.groupby(\"price\").mean().sort_values(\"price\", ascending=False)\n",
    "groupedByPrice"
   ]
  },
  {
   "cell_type": "code",
   "execution_count": 17,
   "metadata": {},
   "outputs": [],
   "source": [
    "def add_value_labels(ax, spacing=5):\n",
    "    \"\"\"Add labels to the end of each bar in a bar chart.\n",
    "\n",
    "    Arguments:\n",
    "        ax (matplotlib.axes.Axes): The matplotlib object containing the axes\n",
    "            of the plot to annotate.\n",
    "        spacing (int): The distance between the labels and the bars.\n",
    "    \"\"\"\n",
    "\n",
    "    # For each bar: Place a label\n",
    "    for rect in ax.patches:\n",
    "        # Get X and Y placement of label from rect.\n",
    "        y_value = rect.get_height()\n",
    "        x_value = rect.get_x() + rect.get_width() / 2\n",
    "\n",
    "        # Number of points between bar and label. Change to your liking.\n",
    "        space = spacing\n",
    "        # Vertical alignment for positive values\n",
    "        va = 'bottom'\n",
    "\n",
    "        # If value of bar is negative: Place label below bar\n",
    "        if y_value < 0:\n",
    "            # Invert space to place label below\n",
    "            space *= -1\n",
    "            # Vertically align label at top\n",
    "            va = 'top'\n",
    "\n",
    "        # Use Y value as label and format number with one decimal place\n",
    "        label = \"{:.2f}\".format(y_value)\n",
    "\n",
    "        # Create annotation\n",
    "        ax.annotate(\n",
    "            label,                      # Use `label` as label\n",
    "            (x_value, y_value),         # Place label at end of the bar\n",
    "            xytext=(0, space),          # Vertically shift label by `space`\n",
    "            textcoords=\"offset points\", # Interpret `xytext` as offset in points\n",
    "            ha='center',                # Horizontally center label\n",
    "            va=va)                      # Vertically align label differently for\n",
    "                                        # positive and negative values.\n",
    "\n",
    "#This helpful code originates from this website https://stackoverflow.com/questions/28931224/adding-value-labels-on-a-matplotlib-bar-chart"
   ]
  },
  {
   "cell_type": "code",
   "execution_count": 18,
   "metadata": {
    "scrolled": false
   },
   "outputs": [
    {
     "data": {
      "image/png": "[encoded data removed]",
      "text/plain": [
       "<Figure size 864x576 with 1 Axes>"
      ]
     },
     "metadata": {
      "needs_background": "light"
     },
     "output_type": "display_data"
    }
   ],
   "source": [
    "plt.figure(figsize=(12, 8))\n",
    "plt.bar(groupedByPoints.index, groupedByPoints['price'], align='center')\n",
    "plt.ylabel('Price')\n",
    "plt.xlabel('Points')\n",
    "plt.suptitle('Average prices of wines grouped by points')\n",
    "add_value_labels(plt.gca())\n",
    "plt.show()"
   ]
  },
  {
   "cell_type": "code",
   "execution_count": 19,
   "metadata": {},
   "outputs": [
    {
     "data": {
      "image/png": "[encoded data removed]",
      "text/plain": [
       "<Figure size 864x576 with 1 Axes>"
      ]
     },
     "metadata": {
      "needs_background": "light"
     },
     "output_type": "display_data"
    }
   ],
   "source": [
    "plt.figure(figsize=(12, 8))\n",
    "plt.scatter(groupedByPrice.index, groupedByPrice['points'])\n",
    "plt.ylabel('Points')\n",
    "plt.xlabel('Price')\n",
    "plt.suptitle('Average points of wines grouped by price')\n",
    "plt.show()"
   ]
  },
  {
   "cell_type": "code",
   "execution_count": 20,
   "metadata": {},
   "outputs": [
    {
     "data": {
      "image/png": "[encoded data removed]",
      "text/plain": [
       "<Figure size 864x576 with 1 Axes>"
      ]
     },
     "metadata": {
      "needs_background": "light"
     },
     "output_type": "display_data"
    }
   ],
   "source": [
    "plt.figure(figsize=(12, 8))\n",
    "sorted_values = groupedByPrice.tail(20).sort_values('points', ascending = False)\n",
    "plt.bar(sorted_values.index, sorted_values['points'], align='center')\n",
    "plt.gca().set_ylim([80, 90])\n",
    "plt.ylabel('Points')\n",
    "plt.xlabel('Price')\n",
    "plt.suptitle('The average points of the 20 cheapest price groups')\n",
    "add_value_labels(plt.gca())\n",
    "plt.show()"
   ]
  },
  {
   "cell_type": "code",
   "execution_count": 21,
   "metadata": {
    "scrolled": false
   },
   "outputs": [
    {
     "data": {
      "text/plain": [
       "(80.0, 100.0)"
      ]
     },
     "execution_count": 21,
     "metadata": {},
     "output_type": "execute_result"
    },
    {
     "data": {
      "image/png": "[encoded data removed]",
      "text/plain": [
       "<Figure size 432x288 with 1 Axes>"
      ]
     },
     "metadata": {
      "needs_background": "light"
     },
     "output_type": "display_data"
    }
   ],
   "source": [
    "groupedByPrice.sort_values('points', ascending = False).head(20).plot(kind = \"bar\")\n",
    "plt.gca().set_ylim([80, 100])"
   ]
  },
  {
   "cell_type": "code",
   "execution_count": 22,
   "metadata": {},
   "outputs": [
    {
     "data": {
      "text/html": [
       "<div>\n",
       "<style scoped>\n",
       "    .dataframe tbody tr th:only-of-type {\n",
       "        vertical-align: middle;\n",
       "    }\n",
       "\n",
       "    .dataframe tbody tr th {\n",
       "        vertical-align: top;\n",
       "    }\n",
       "\n",
       "    .dataframe thead th {\n",
       "        text-align: right;\n",
       "    }\n",
       "</style>\n",
       "<table border=\"1\" class=\"dataframe\">\n",
       "  <thead>\n",
       "    <tr style=\"text-align: right;\">\n",
       "      <th></th>\n",
       "      <th>country</th>\n",
       "      <th>description</th>\n",
       "      <th>designation</th>\n",
       "      <th>points</th>\n",
       "      <th>price</th>\n",
       "      <th>province</th>\n",
       "      <th>region_1</th>\n",
       "      <th>region_2</th>\n",
       "      <th>taster_name</th>\n",
       "      <th>title</th>\n",
       "      <th>variety</th>\n",
       "      <th>winery</th>\n",
       "    </tr>\n",
       "  </thead>\n",
       "  <tbody>\n",
       "    <tr>\n",
       "      <th>74641</th>\n",
       "      <td>France</td>\n",
       "      <td>This ripe wine shows plenty of blackberry frui...</td>\n",
       "      <td>NaN</td>\n",
       "      <td>88</td>\n",
       "      <td>3300.0</td>\n",
       "      <td>Bordeaux</td>\n",
       "      <td>Médoc</td>\n",
       "      <td>NaN</td>\n",
       "      <td>Roger Voss</td>\n",
       "      <td>Château les Ormes Sorbet 2013  Médoc</td>\n",
       "      <td>Bordeaux-style Red Blend</td>\n",
       "      <td>Château les Ormes Sorbet</td>\n",
       "    </tr>\n",
       "    <tr>\n",
       "      <th>91505</th>\n",
       "      <td>France</td>\n",
       "      <td>A superb wine from a great year, this is power...</td>\n",
       "      <td>NaN</td>\n",
       "      <td>96</td>\n",
       "      <td>2500.0</td>\n",
       "      <td>Burgundy</td>\n",
       "      <td>La Romanée</td>\n",
       "      <td>NaN</td>\n",
       "      <td>Roger Voss</td>\n",
       "      <td>Domaine du Comte Liger-Belair 2010  La Romanée</td>\n",
       "      <td>Pinot Noir</td>\n",
       "      <td>Domaine du Comte Liger-Belair</td>\n",
       "    </tr>\n",
       "    <tr>\n",
       "      <th>14738</th>\n",
       "      <td>France</td>\n",
       "      <td>The wine is a velvet glove in an iron fist. Th...</td>\n",
       "      <td>NaN</td>\n",
       "      <td>96</td>\n",
       "      <td>2500.0</td>\n",
       "      <td>Bordeaux</td>\n",
       "      <td>Pomerol</td>\n",
       "      <td>NaN</td>\n",
       "      <td>Roger Voss</td>\n",
       "      <td>Château Pétrus 2014  Pomerol</td>\n",
       "      <td>Bordeaux-style Red Blend</td>\n",
       "      <td>Château Pétrus</td>\n",
       "    </tr>\n",
       "    <tr>\n",
       "      <th>111978</th>\n",
       "      <td>US</td>\n",
       "      <td>The nose on this single-vineyard wine from a s...</td>\n",
       "      <td>Roger Rose Vineyard</td>\n",
       "      <td>91</td>\n",
       "      <td>2013.0</td>\n",
       "      <td>California</td>\n",
       "      <td>Arroyo Seco</td>\n",
       "      <td>Central Coast</td>\n",
       "      <td>Matt Kettmann</td>\n",
       "      <td>Blair 2013 Roger Rose Vineyard Chardonnay (Arr...</td>\n",
       "      <td>Chardonnay</td>\n",
       "      <td>Blair</td>\n",
       "    </tr>\n",
       "    <tr>\n",
       "      <th>60656</th>\n",
       "      <td>France</td>\n",
       "      <td>This extravagantly perfumed wine has great jui...</td>\n",
       "      <td>NaN</td>\n",
       "      <td>97</td>\n",
       "      <td>2000.0</td>\n",
       "      <td>Bordeaux</td>\n",
       "      <td>Pomerol</td>\n",
       "      <td>NaN</td>\n",
       "      <td>Roger Voss</td>\n",
       "      <td>Château Pétrus 2011  Pomerol</td>\n",
       "      <td>Bordeaux-style Red Blend</td>\n",
       "      <td>Château Pétrus</td>\n",
       "    </tr>\n",
       "    <tr>\n",
       "      <th>105586</th>\n",
       "      <td>France</td>\n",
       "      <td>A wonderfully complete wine, with all the elem...</td>\n",
       "      <td>NaN</td>\n",
       "      <td>96</td>\n",
       "      <td>2000.0</td>\n",
       "      <td>Burgundy</td>\n",
       "      <td>La Romanée</td>\n",
       "      <td>NaN</td>\n",
       "      <td>Roger Voss</td>\n",
       "      <td>Domaine du Comte Liger-Belair 2005  La Romanée</td>\n",
       "      <td>Pinot Noir</td>\n",
       "      <td>Domaine du Comte Liger-Belair</td>\n",
       "    </tr>\n",
       "    <tr>\n",
       "      <th>1471</th>\n",
       "      <td>France</td>\n",
       "      <td>A massive wine for Margaux, packed with tannin...</td>\n",
       "      <td>NaN</td>\n",
       "      <td>98</td>\n",
       "      <td>1900.0</td>\n",
       "      <td>Bordeaux</td>\n",
       "      <td>Margaux</td>\n",
       "      <td>NaN</td>\n",
       "      <td>Roger Voss</td>\n",
       "      <td>Château Margaux 2009  Margaux</td>\n",
       "      <td>Bordeaux-style Red Blend</td>\n",
       "      <td>Château Margaux</td>\n",
       "    </tr>\n",
       "    <tr>\n",
       "      <th>103926</th>\n",
       "      <td>France</td>\n",
       "      <td>Almost black in color, this stunning wine is g...</td>\n",
       "      <td>NaN</td>\n",
       "      <td>100</td>\n",
       "      <td>1500.0</td>\n",
       "      <td>Bordeaux</td>\n",
       "      <td>Pauillac</td>\n",
       "      <td>NaN</td>\n",
       "      <td>Roger Voss</td>\n",
       "      <td>Château Lafite Rothschild 2010  Pauillac</td>\n",
       "      <td>Bordeaux-style Red Blend</td>\n",
       "      <td>Château Lafite Rothschild</td>\n",
       "    </tr>\n",
       "    <tr>\n",
       "      <th>103928</th>\n",
       "      <td>France</td>\n",
       "      <td>This is the finest Cheval Blanc for many years...</td>\n",
       "      <td>NaN</td>\n",
       "      <td>100</td>\n",
       "      <td>1500.0</td>\n",
       "      <td>Bordeaux</td>\n",
       "      <td>Saint-Émilion</td>\n",
       "      <td>NaN</td>\n",
       "      <td>Roger Voss</td>\n",
       "      <td>Château Cheval Blanc 2010  Saint-Émilion</td>\n",
       "      <td>Bordeaux-style Red Blend</td>\n",
       "      <td>Château Cheval Blanc</td>\n",
       "    </tr>\n",
       "    <tr>\n",
       "      <th>1487</th>\n",
       "      <td>France</td>\n",
       "      <td>The purest Cabernet Sauvignon fruit, with dark...</td>\n",
       "      <td>NaN</td>\n",
       "      <td>96</td>\n",
       "      <td>1300.0</td>\n",
       "      <td>Bordeaux</td>\n",
       "      <td>Pauillac</td>\n",
       "      <td>NaN</td>\n",
       "      <td>Roger Voss</td>\n",
       "      <td>Château Mouton Rothschild 2009  Pauillac</td>\n",
       "      <td>Bordeaux-style Red Blend</td>\n",
       "      <td>Château Mouton Rothschild</td>\n",
       "    </tr>\n",
       "  </tbody>\n",
       "</table>\n",
       "</div>"
      ],
      "text/plain": [
       "       country                                        description  \\\n",
       "74641   France  This ripe wine shows plenty of blackberry frui...   \n",
       "91505   France  A superb wine from a great year, this is power...   \n",
       "14738   France  The wine is a velvet glove in an iron fist. Th...   \n",
       "111978      US  The nose on this single-vineyard wine from a s...   \n",
       "60656   France  This extravagantly perfumed wine has great jui...   \n",
       "105586  France  A wonderfully complete wine, with all the elem...   \n",
       "1471    France  A massive wine for Margaux, packed with tannin...   \n",
       "103926  France  Almost black in color, this stunning wine is g...   \n",
       "103928  France  This is the finest Cheval Blanc for many years...   \n",
       "1487    France  The purest Cabernet Sauvignon fruit, with dark...   \n",
       "\n",
       "                designation  points   price    province       region_1  \\\n",
       "74641                   NaN      88  3300.0    Bordeaux          Médoc   \n",
       "91505                   NaN      96  2500.0    Burgundy     La Romanée   \n",
       "14738                   NaN      96  2500.0    Bordeaux        Pomerol   \n",
       "111978  Roger Rose Vineyard      91  2013.0  California    Arroyo Seco   \n",
       "60656                   NaN      97  2000.0    Bordeaux        Pomerol   \n",
       "105586                  NaN      96  2000.0    Burgundy     La Romanée   \n",
       "1471                    NaN      98  1900.0    Bordeaux        Margaux   \n",
       "103926                  NaN     100  1500.0    Bordeaux       Pauillac   \n",
       "103928                  NaN     100  1500.0    Bordeaux  Saint-Émilion   \n",
       "1487                    NaN      96  1300.0    Bordeaux       Pauillac   \n",
       "\n",
       "             region_2    taster_name  \\\n",
       "74641             NaN     Roger Voss   \n",
       "91505             NaN     Roger Voss   \n",
       "14738             NaN     Roger Voss   \n",
       "111978  Central Coast  Matt Kettmann   \n",
       "60656             NaN     Roger Voss   \n",
       "105586            NaN     Roger Voss   \n",
       "1471              NaN     Roger Voss   \n",
       "103926            NaN     Roger Voss   \n",
       "103928            NaN     Roger Voss   \n",
       "1487              NaN     Roger Voss   \n",
       "\n",
       "                                                    title  \\\n",
       "74641                Château les Ormes Sorbet 2013  Médoc   \n",
       "91505      Domaine du Comte Liger-Belair 2010  La Romanée   \n",
       "14738                        Château Pétrus 2014  Pomerol   \n",
       "111978  Blair 2013 Roger Rose Vineyard Chardonnay (Arr...   \n",
       "60656                        Château Pétrus 2011  Pomerol   \n",
       "105586     Domaine du Comte Liger-Belair 2005  La Romanée   \n",
       "1471                        Château Margaux 2009  Margaux   \n",
       "103926           Château Lafite Rothschild 2010  Pauillac   \n",
       "103928           Château Cheval Blanc 2010  Saint-Émilion   \n",
       "1487             Château Mouton Rothschild 2009  Pauillac   \n",
       "\n",
       "                         variety                         winery  \n",
       "74641   Bordeaux-style Red Blend       Château les Ormes Sorbet  \n",
       "91505                 Pinot Noir  Domaine du Comte Liger-Belair  \n",
       "14738   Bordeaux-style Red Blend                 Château Pétrus  \n",
       "111978                Chardonnay                          Blair  \n",
       "60656   Bordeaux-style Red Blend                 Château Pétrus  \n",
       "105586                Pinot Noir  Domaine du Comte Liger-Belair  \n",
       "1471    Bordeaux-style Red Blend                Château Margaux  \n",
       "103926  Bordeaux-style Red Blend      Château Lafite Rothschild  \n",
       "103928  Bordeaux-style Red Blend           Château Cheval Blanc  \n",
       "1487    Bordeaux-style Red Blend      Château Mouton Rothschild  "
      ]
     },
     "execution_count": 22,
     "metadata": {},
     "output_type": "execute_result"
    }
   ],
   "source": [
    "df.sort_values(\"price\", ascending = False).head(10)"
   ]
  },
  {
   "cell_type": "code",
   "execution_count": 23,
   "metadata": {},
   "outputs": [
    {
     "data": {
      "text/plain": [
       "16.372151898734177"
      ]
     },
     "execution_count": 23,
     "metadata": {},
     "output_type": "execute_result"
    }
   ],
   "source": [
    "df[df[\"points\"] == 80].price.mean()"
   ]
  },
  {
   "cell_type": "code",
   "execution_count": 24,
   "metadata": {},
   "outputs": [
    {
     "data": {
      "text/plain": [
       "36.91221959035809"
      ]
     },
     "execution_count": 24,
     "metadata": {},
     "output_type": "execute_result"
    }
   ],
   "source": [
    "df[df[\"points\"] == 90].price.mean()"
   ]
  },
  {
   "cell_type": "code",
   "execution_count": 25,
   "metadata": {},
   "outputs": [
    {
     "data": {
      "text/plain": [
       "485.94736842105266"
      ]
     },
     "execution_count": 25,
     "metadata": {},
     "output_type": "execute_result"
    }
   ],
   "source": [
    "df[df[\"points\"] == 100].price.mean()"
   ]
  },
  {
   "cell_type": "code",
   "execution_count": 26,
   "metadata": {},
   "outputs": [
    {
     "data": {
      "text/plain": [
       "95.64285714285714"
      ]
     },
     "execution_count": 26,
     "metadata": {},
     "output_type": "execute_result"
    }
   ],
   "source": [
    "df[df[\"price\"] > 1000].points.mean()"
   ]
  },
  {
   "cell_type": "code",
   "execution_count": 27,
   "metadata": {},
   "outputs": [
    {
     "data": {
      "text/plain": [
       "95.68131868131869"
      ]
     },
     "execution_count": 27,
     "metadata": {},
     "output_type": "execute_result"
    }
   ],
   "source": [
    "df[df[\"price\"] > 500].points.mean()"
   ]
  },
  {
   "cell_type": "code",
   "execution_count": 28,
   "metadata": {},
   "outputs": [
    {
     "data": {
      "text/plain": [
       "92.82055852644088"
      ]
     },
     "execution_count": 28,
     "metadata": {},
     "output_type": "execute_result"
    }
   ],
   "source": [
    "df[df[\"price\"] > 100].points.mean()"
   ]
  },
  {
   "cell_type": "code",
   "execution_count": 29,
   "metadata": {},
   "outputs": [
    {
     "data": {
      "text/plain": [
       "88.60777933825902"
      ]
     },
     "execution_count": 29,
     "metadata": {},
     "output_type": "execute_result"
    }
   ],
   "source": [
    "df[df[\"price\"] > 10].points.mean()"
   ]
  },
  {
   "cell_type": "code",
   "execution_count": 30,
   "metadata": {},
   "outputs": [
    {
     "data": {
      "text/plain": [
       "85.02437081873208"
      ]
     },
     "execution_count": 30,
     "metadata": {},
     "output_type": "execute_result"
    }
   ],
   "source": [
    "df[df[\"price\"] <= 10].points.mean()"
   ]
  },
  {
   "cell_type": "code",
   "execution_count": 31,
   "metadata": {},
   "outputs": [
    {
     "data": {
      "text/html": [
       "<div>\n",
       "<style scoped>\n",
       "    .dataframe tbody tr th:only-of-type {\n",
       "        vertical-align: middle;\n",
       "    }\n",
       "\n",
       "    .dataframe tbody tr th {\n",
       "        vertical-align: top;\n",
       "    }\n",
       "\n",
       "    .dataframe thead th {\n",
       "        text-align: right;\n",
       "    }\n",
       "</style>\n",
       "<table border=\"1\" class=\"dataframe\">\n",
       "  <thead>\n",
       "    <tr style=\"text-align: right;\">\n",
       "      <th></th>\n",
       "      <th>country</th>\n",
       "      <th>description</th>\n",
       "      <th>designation</th>\n",
       "      <th>points</th>\n",
       "      <th>price</th>\n",
       "      <th>province</th>\n",
       "      <th>region_1</th>\n",
       "      <th>region_2</th>\n",
       "      <th>taster_name</th>\n",
       "      <th>title</th>\n",
       "      <th>variety</th>\n",
       "      <th>winery</th>\n",
       "    </tr>\n",
       "  </thead>\n",
       "  <tbody>\n",
       "    <tr>\n",
       "      <th>105939</th>\n",
       "      <td>US</td>\n",
       "      <td>In 2005 Charles Smith introduced three high-en...</td>\n",
       "      <td>Royal City</td>\n",
       "      <td>100</td>\n",
       "      <td>80.0</td>\n",
       "      <td>Washington</td>\n",
       "      <td>Columbia Valley (WA)</td>\n",
       "      <td>Columbia Valley</td>\n",
       "      <td>Paul Gregutt</td>\n",
       "      <td>Charles Smith 2006 Royal City Syrah (Columbia ...</td>\n",
       "      <td>Syrah</td>\n",
       "      <td>Charles Smith</td>\n",
       "    </tr>\n",
       "    <tr>\n",
       "      <th>114924</th>\n",
       "      <td>US</td>\n",
       "      <td>Initially a rather subdued Frog; as if it has ...</td>\n",
       "      <td>Bionic Frog</td>\n",
       "      <td>100</td>\n",
       "      <td>80.0</td>\n",
       "      <td>Washington</td>\n",
       "      <td>Walla Walla Valley (WA)</td>\n",
       "      <td>Columbia Valley</td>\n",
       "      <td>Paul Gregutt</td>\n",
       "      <td>Cayuse 2008 Bionic Frog Syrah (Walla Walla Val...</td>\n",
       "      <td>Syrah</td>\n",
       "      <td>Cayuse</td>\n",
       "    </tr>\n",
       "  </tbody>\n",
       "</table>\n",
       "</div>"
      ],
      "text/plain": [
       "       country                                        description  \\\n",
       "105939      US  In 2005 Charles Smith introduced three high-en...   \n",
       "114924      US  Initially a rather subdued Frog; as if it has ...   \n",
       "\n",
       "        designation  points  price    province                 region_1  \\\n",
       "105939   Royal City     100   80.0  Washington     Columbia Valley (WA)   \n",
       "114924  Bionic Frog     100   80.0  Washington  Walla Walla Valley (WA)   \n",
       "\n",
       "               region_2   taster_name  \\\n",
       "105939  Columbia Valley  Paul Gregutt   \n",
       "114924  Columbia Valley  Paul Gregutt   \n",
       "\n",
       "                                                    title variety  \\\n",
       "105939  Charles Smith 2006 Royal City Syrah (Columbia ...   Syrah   \n",
       "114924  Cayuse 2008 Bionic Frog Syrah (Walla Walla Val...   Syrah   \n",
       "\n",
       "               winery  \n",
       "105939  Charles Smith  \n",
       "114924         Cayuse  "
      ]
     },
     "execution_count": 31,
     "metadata": {},
     "output_type": "execute_result"
    }
   ],
   "source": [
    "df[(df[\"points\"] == 100) & (df[\"price\"] < 100)]"
   ]
  },
  {
   "cell_type": "code",
   "execution_count": 32,
   "metadata": {},
   "outputs": [
    {
     "data": {
      "text/html": [
       "<div>\n",
       "<style scoped>\n",
       "    .dataframe tbody tr th:only-of-type {\n",
       "        vertical-align: middle;\n",
       "    }\n",
       "\n",
       "    .dataframe tbody tr th {\n",
       "        vertical-align: top;\n",
       "    }\n",
       "\n",
       "    .dataframe thead th {\n",
       "        text-align: right;\n",
       "    }\n",
       "</style>\n",
       "<table border=\"1\" class=\"dataframe\">\n",
       "  <thead>\n",
       "    <tr style=\"text-align: right;\">\n",
       "      <th></th>\n",
       "      <th>country</th>\n",
       "      <th>description</th>\n",
       "      <th>designation</th>\n",
       "      <th>points</th>\n",
       "      <th>price</th>\n",
       "      <th>province</th>\n",
       "      <th>region_1</th>\n",
       "      <th>region_2</th>\n",
       "      <th>taster_name</th>\n",
       "      <th>title</th>\n",
       "      <th>variety</th>\n",
       "      <th>winery</th>\n",
       "      <th>points_price_ratio</th>\n",
       "    </tr>\n",
       "  </thead>\n",
       "  <tbody>\n",
       "    <tr>\n",
       "      <th>117313</th>\n",
       "      <td>Romania</td>\n",
       "      <td>Notes of sun-dried hay and green flower highli...</td>\n",
       "      <td>UnWineD</td>\n",
       "      <td>86</td>\n",
       "      <td>4.0</td>\n",
       "      <td>Viile Timisului</td>\n",
       "      <td>NaN</td>\n",
       "      <td>NaN</td>\n",
       "      <td>Anna Lee C. Iijima</td>\n",
       "      <td>Cramele Recas 2011 UnWineD Pinot Grigio (Viile...</td>\n",
       "      <td>Pinot Grigio</td>\n",
       "      <td>Cramele Recas</td>\n",
       "      <td>21.500000</td>\n",
       "    </tr>\n",
       "    <tr>\n",
       "      <th>59941</th>\n",
       "      <td>US</td>\n",
       "      <td>There's a lot going on in this Merlot, which i...</td>\n",
       "      <td>NaN</td>\n",
       "      <td>86</td>\n",
       "      <td>4.0</td>\n",
       "      <td>California</td>\n",
       "      <td>California</td>\n",
       "      <td>California Other</td>\n",
       "      <td>NaN</td>\n",
       "      <td>Bandit NV Merlot (California)</td>\n",
       "      <td>Merlot</td>\n",
       "      <td>Bandit</td>\n",
       "      <td>21.500000</td>\n",
       "    </tr>\n",
       "    <tr>\n",
       "      <th>19015</th>\n",
       "      <td>US</td>\n",
       "      <td>Fruity, soft and rather sweet, this wine smell...</td>\n",
       "      <td>NaN</td>\n",
       "      <td>85</td>\n",
       "      <td>4.0</td>\n",
       "      <td>California</td>\n",
       "      <td>Clarksburg</td>\n",
       "      <td>Central Valley</td>\n",
       "      <td>Jim Gordon</td>\n",
       "      <td>Dancing Coyote 2015 White (Clarksburg)</td>\n",
       "      <td>White Blend</td>\n",
       "      <td>Dancing Coyote</td>\n",
       "      <td>21.250000</td>\n",
       "    </tr>\n",
       "    <tr>\n",
       "      <th>1869</th>\n",
       "      <td>Spain</td>\n",
       "      <td>Berry and cherry aromas are surprisingly sturd...</td>\n",
       "      <td>Flirty Bird</td>\n",
       "      <td>85</td>\n",
       "      <td>4.0</td>\n",
       "      <td>Central Spain</td>\n",
       "      <td>Vino de la Tierra de Castilla</td>\n",
       "      <td>NaN</td>\n",
       "      <td>Michael Schachner</td>\n",
       "      <td>Felix Solis 2013 Flirty Bird Syrah (Vino de la...</td>\n",
       "      <td>Syrah</td>\n",
       "      <td>Felix Solis</td>\n",
       "      <td>21.250000</td>\n",
       "    </tr>\n",
       "    <tr>\n",
       "      <th>27416</th>\n",
       "      <td>Argentina</td>\n",
       "      <td>Crimson in color but also translucent, with a ...</td>\n",
       "      <td>Red</td>\n",
       "      <td>84</td>\n",
       "      <td>4.0</td>\n",
       "      <td>Mendoza Province</td>\n",
       "      <td>Mendoza</td>\n",
       "      <td>NaN</td>\n",
       "      <td>Michael Schachner</td>\n",
       "      <td>Broke Ass 2009 Red Malbec-Syrah (Mendoza)</td>\n",
       "      <td>Malbec-Syrah</td>\n",
       "      <td>Broke Ass</td>\n",
       "      <td>21.000000</td>\n",
       "    </tr>\n",
       "    <tr>\n",
       "      <th>...</th>\n",
       "      <td>...</td>\n",
       "      <td>...</td>\n",
       "      <td>...</td>\n",
       "      <td>...</td>\n",
       "      <td>...</td>\n",
       "      <td>...</td>\n",
       "      <td>...</td>\n",
       "      <td>...</td>\n",
       "      <td>...</td>\n",
       "      <td>...</td>\n",
       "      <td>...</td>\n",
       "      <td>...</td>\n",
       "      <td>...</td>\n",
       "    </tr>\n",
       "    <tr>\n",
       "      <th>105586</th>\n",
       "      <td>France</td>\n",
       "      <td>A wonderfully complete wine, with all the elem...</td>\n",
       "      <td>NaN</td>\n",
       "      <td>96</td>\n",
       "      <td>2000.0</td>\n",
       "      <td>Burgundy</td>\n",
       "      <td>La Romanée</td>\n",
       "      <td>NaN</td>\n",
       "      <td>Roger Voss</td>\n",
       "      <td>Domaine du Comte Liger-Belair 2005  La Romanée</td>\n",
       "      <td>Pinot Noir</td>\n",
       "      <td>Domaine du Comte Liger-Belair</td>\n",
       "      <td>0.048000</td>\n",
       "    </tr>\n",
       "    <tr>\n",
       "      <th>111978</th>\n",
       "      <td>US</td>\n",
       "      <td>The nose on this single-vineyard wine from a s...</td>\n",
       "      <td>Roger Rose Vineyard</td>\n",
       "      <td>91</td>\n",
       "      <td>2013.0</td>\n",
       "      <td>California</td>\n",
       "      <td>Arroyo Seco</td>\n",
       "      <td>Central Coast</td>\n",
       "      <td>Matt Kettmann</td>\n",
       "      <td>Blair 2013 Roger Rose Vineyard Chardonnay (Arr...</td>\n",
       "      <td>Chardonnay</td>\n",
       "      <td>Blair</td>\n",
       "      <td>0.045206</td>\n",
       "    </tr>\n",
       "    <tr>\n",
       "      <th>91505</th>\n",
       "      <td>France</td>\n",
       "      <td>A superb wine from a great year, this is power...</td>\n",
       "      <td>NaN</td>\n",
       "      <td>96</td>\n",
       "      <td>2500.0</td>\n",
       "      <td>Burgundy</td>\n",
       "      <td>La Romanée</td>\n",
       "      <td>NaN</td>\n",
       "      <td>Roger Voss</td>\n",
       "      <td>Domaine du Comte Liger-Belair 2010  La Romanée</td>\n",
       "      <td>Pinot Noir</td>\n",
       "      <td>Domaine du Comte Liger-Belair</td>\n",
       "      <td>0.038400</td>\n",
       "    </tr>\n",
       "    <tr>\n",
       "      <th>14738</th>\n",
       "      <td>France</td>\n",
       "      <td>The wine is a velvet glove in an iron fist. Th...</td>\n",
       "      <td>NaN</td>\n",
       "      <td>96</td>\n",
       "      <td>2500.0</td>\n",
       "      <td>Bordeaux</td>\n",
       "      <td>Pomerol</td>\n",
       "      <td>NaN</td>\n",
       "      <td>Roger Voss</td>\n",
       "      <td>Château Pétrus 2014  Pomerol</td>\n",
       "      <td>Bordeaux-style Red Blend</td>\n",
       "      <td>Château Pétrus</td>\n",
       "      <td>0.038400</td>\n",
       "    </tr>\n",
       "    <tr>\n",
       "      <th>74641</th>\n",
       "      <td>France</td>\n",
       "      <td>This ripe wine shows plenty of blackberry frui...</td>\n",
       "      <td>NaN</td>\n",
       "      <td>88</td>\n",
       "      <td>3300.0</td>\n",
       "      <td>Bordeaux</td>\n",
       "      <td>Médoc</td>\n",
       "      <td>NaN</td>\n",
       "      <td>Roger Voss</td>\n",
       "      <td>Château les Ormes Sorbet 2013  Médoc</td>\n",
       "      <td>Bordeaux-style Red Blend</td>\n",
       "      <td>Château les Ormes Sorbet</td>\n",
       "      <td>0.026667</td>\n",
       "    </tr>\n",
       "  </tbody>\n",
       "</table>\n",
       "<p>120915 rows × 13 columns</p>\n",
       "</div>"
      ],
      "text/plain": [
       "          country                                        description  \\\n",
       "117313    Romania  Notes of sun-dried hay and green flower highli...   \n",
       "59941          US  There's a lot going on in this Merlot, which i...   \n",
       "19015          US  Fruity, soft and rather sweet, this wine smell...   \n",
       "1869        Spain  Berry and cherry aromas are surprisingly sturd...   \n",
       "27416   Argentina  Crimson in color but also translucent, with a ...   \n",
       "...           ...                                                ...   \n",
       "105586     France  A wonderfully complete wine, with all the elem...   \n",
       "111978         US  The nose on this single-vineyard wine from a s...   \n",
       "91505      France  A superb wine from a great year, this is power...   \n",
       "14738      France  The wine is a velvet glove in an iron fist. Th...   \n",
       "74641      France  This ripe wine shows plenty of blackberry frui...   \n",
       "\n",
       "                designation  points   price          province  \\\n",
       "117313              UnWineD      86     4.0   Viile Timisului   \n",
       "59941                   NaN      86     4.0        California   \n",
       "19015                   NaN      85     4.0        California   \n",
       "1869            Flirty Bird      85     4.0     Central Spain   \n",
       "27416                   Red      84     4.0  Mendoza Province   \n",
       "...                     ...     ...     ...               ...   \n",
       "105586                  NaN      96  2000.0          Burgundy   \n",
       "111978  Roger Rose Vineyard      91  2013.0        California   \n",
       "91505                   NaN      96  2500.0          Burgundy   \n",
       "14738                   NaN      96  2500.0          Bordeaux   \n",
       "74641                   NaN      88  3300.0          Bordeaux   \n",
       "\n",
       "                             region_1          region_2         taster_name  \\\n",
       "117313                            NaN               NaN  Anna Lee C. Iijima   \n",
       "59941                      California  California Other                 NaN   \n",
       "19015                      Clarksburg    Central Valley          Jim Gordon   \n",
       "1869    Vino de la Tierra de Castilla               NaN   Michael Schachner   \n",
       "27416                         Mendoza               NaN   Michael Schachner   \n",
       "...                               ...               ...                 ...   \n",
       "105586                     La Romanée               NaN          Roger Voss   \n",
       "111978                    Arroyo Seco     Central Coast       Matt Kettmann   \n",
       "91505                      La Romanée               NaN          Roger Voss   \n",
       "14738                         Pomerol               NaN          Roger Voss   \n",
       "74641                           Médoc               NaN          Roger Voss   \n",
       "\n",
       "                                                    title  \\\n",
       "117313  Cramele Recas 2011 UnWineD Pinot Grigio (Viile...   \n",
       "59941                       Bandit NV Merlot (California)   \n",
       "19015              Dancing Coyote 2015 White (Clarksburg)   \n",
       "1869    Felix Solis 2013 Flirty Bird Syrah (Vino de la...   \n",
       "27416           Broke Ass 2009 Red Malbec-Syrah (Mendoza)   \n",
       "...                                                   ...   \n",
       "105586     Domaine du Comte Liger-Belair 2005  La Romanée   \n",
       "111978  Blair 2013 Roger Rose Vineyard Chardonnay (Arr...   \n",
       "91505      Domaine du Comte Liger-Belair 2010  La Romanée   \n",
       "14738                        Château Pétrus 2014  Pomerol   \n",
       "74641                Château les Ormes Sorbet 2013  Médoc   \n",
       "\n",
       "                         variety                         winery  \\\n",
       "117313              Pinot Grigio                  Cramele Recas   \n",
       "59941                     Merlot                         Bandit   \n",
       "19015                White Blend                 Dancing Coyote   \n",
       "1869                       Syrah                    Felix Solis   \n",
       "27416               Malbec-Syrah                      Broke Ass   \n",
       "...                          ...                            ...   \n",
       "105586                Pinot Noir  Domaine du Comte Liger-Belair   \n",
       "111978                Chardonnay                          Blair   \n",
       "91505                 Pinot Noir  Domaine du Comte Liger-Belair   \n",
       "14738   Bordeaux-style Red Blend                 Château Pétrus   \n",
       "74641   Bordeaux-style Red Blend       Château les Ormes Sorbet   \n",
       "\n",
       "        points_price_ratio  \n",
       "117313           21.500000  \n",
       "59941            21.500000  \n",
       "19015            21.250000  \n",
       "1869             21.250000  \n",
       "27416            21.000000  \n",
       "...                    ...  \n",
       "105586            0.048000  \n",
       "111978            0.045206  \n",
       "91505             0.038400  \n",
       "14738             0.038400  \n",
       "74641             0.026667  \n",
       "\n",
       "[120915 rows x 13 columns]"
      ]
     },
     "execution_count": 32,
     "metadata": {},
     "output_type": "execute_result"
    },
    {
     "data": {
      "image/png": "[encoded data removed]",
      "text/plain": [
       "<Figure size 1080x720 with 1 Axes>"
      ]
     },
     "metadata": {
      "needs_background": "light"
     },
     "output_type": "display_data"
    }
   ],
   "source": [
    "df2 = df.copy()\n",
    "df2['points_price_ratio'] = df2['points'] / df2['price']\n",
    "\n",
    "plt.figure(figsize=(15, 10))\n",
    "df2['points_price_ratio'].hist(bins = 100)\n",
    "\n",
    "# best wines by points and price ratio\n",
    "df2.sort_values('points_price_ratio', ascending = False)"
   ]
  },
  {
   "cell_type": "code",
   "execution_count": 33,
   "metadata": {},
   "outputs": [
    {
     "data": {
      "text/plain": [
       "88.73486723672367"
      ]
     },
     "execution_count": 33,
     "metadata": {},
     "output_type": "execute_result"
    }
   ],
   "source": [
    "df[df[\"country\"] == \"France\"].points.mean()"
   ]
  },
  {
   "cell_type": "code",
   "execution_count": 34,
   "metadata": {},
   "outputs": [
    {
     "data": {
      "text/plain": [
       "88.61818611800875"
      ]
     },
     "execution_count": 34,
     "metadata": {},
     "output_type": "execute_result"
    }
   ],
   "source": [
    "df[df[\"country\"] == \"Italy\"].points.mean()"
   ]
  },
  {
   "cell_type": "code",
   "execution_count": 35,
   "metadata": {},
   "outputs": [
    {
     "data": {
      "text/plain": [
       "87.93617021276596"
      ]
     },
     "execution_count": 35,
     "metadata": {},
     "output_type": "execute_result"
    }
   ],
   "source": [
    "df[df[\"country\"] == \"Bulgaria\"].points.mean()"
   ]
  },
  {
   "cell_type": "code",
   "execution_count": 36,
   "metadata": {},
   "outputs": [
    {
     "data": {
      "text/plain": [
       "88.56638717405326"
      ]
     },
     "execution_count": 36,
     "metadata": {},
     "output_type": "execute_result"
    }
   ],
   "source": [
    "df[df[\"country\"] == \"US\"].points.mean()"
   ]
  },
  {
   "cell_type": "code",
   "execution_count": 37,
   "metadata": {},
   "outputs": [
    {
     "data": {
      "text/plain": [
       "86.49513023782559"
      ]
     },
     "execution_count": 37,
     "metadata": {},
     "output_type": "execute_result"
    }
   ],
   "source": [
    "df[df[\"country\"] == \"Chile\"].points.mean()"
   ]
  },
  {
   "cell_type": "code",
   "execution_count": 38,
   "metadata": {},
   "outputs": [
    {
     "data": {
      "text/plain": [
       "Pinot Noir                  12785\n",
       "Chardonnay                  11077\n",
       "Cabernet Sauvignon           9384\n",
       "Red Blend                    8466\n",
       "Bordeaux-style Red Blend     5340\n",
       "Riesling                     4971\n",
       "Sauvignon Blanc              4780\n",
       "Syrah                        4086\n",
       "Rosé                         3261\n",
       "Merlot                       3061\n",
       "Name: variety, dtype: int64"
      ]
     },
     "execution_count": 38,
     "metadata": {},
     "output_type": "execute_result"
    }
   ],
   "source": [
    "df.variety.value_counts().head(10)"
   ]
  },
  {
   "cell_type": "code",
   "execution_count": 39,
   "metadata": {},
   "outputs": [],
   "source": [
    "import itertools\n",
    "\n",
    "x = []\n",
    "y = []\n",
    "x.append(\"Pinot Noir\")\n",
    "y.append(df[df[\"variety\"] == \"Pinot Noir\"].points.mean())\n",
    "x.append(\"Chardonnay\")\n",
    "y.append(df[df[\"variety\"] == \"Chardonnay\"].points.mean())\n",
    "x.append(\"Cabernet Sauvignon\")\n",
    "y.append(df[df[\"variety\"] == \"Cabernet Sauvignon\"].points.mean())\n",
    "x.append(\"Red Blend\")\n",
    "y.append(df[df[\"variety\"] == \"Red Blend\"].points.mean())\n",
    "x.append(\"Bordeaux-style Red Blend\")\n",
    "y.append(df[df[\"variety\"] == \"Bordeaux-style Red Blend\"].points.mean())\n",
    "x.append(\"Riesling\")\n",
    "y.append(df[df[\"variety\"] == \"Riesling\"].points.mean())\n",
    "x.append(\"Sauvignon Blanc\")\n",
    "y.append(df[df[\"variety\"] == \"Sauvignon Blanc\"].points.mean())\n",
    "x.append(\"Syrah\")\n",
    "y.append(df[df[\"variety\"] == \"Syrah\"].points.mean())\n",
    "x.append(\"Rosé\")\n",
    "y.append(df[df[\"variety\"] == \"Rosé\"].points.mean())\n",
    "x.append(\"Merlot\")\n",
    "y.append(df[df[\"variety\"] == \"Merlot\"].points.mean())\n",
    "\n",
    "y, x = zip(*sorted(zip(y, x), reverse = True))"
   ]
  },
  {
   "cell_type": "code",
   "execution_count": 40,
   "metadata": {},
   "outputs": [
    {
     "data": {
      "image/png": "[encoded data removed]",
      "text/plain": [
       "<Figure size 720x1080 with 1 Axes>"
      ]
     },
     "metadata": {
      "needs_background": "light"
     },
     "output_type": "display_data"
    }
   ],
   "source": [
    "plt.figure(figsize=(10,15))\n",
    "plt.bar(x, y, align='center', color = 'maroon')\n",
    "plt.xticks(x, x, rotation = 90)\n",
    "plt.gca().set_ylim([80, 100])\n",
    "plt.ylabel('Average score')\n",
    "plt.xlabel('Wine variety used')\n",
    "plt.suptitle('The average scores of the wines made from the 10 most popular grape varieties')\n",
    "add_value_labels(plt.gca())\n",
    "plt.show()"
   ]
  },
  {
   "cell_type": "code",
   "execution_count": 41,
   "metadata": {},
   "outputs": [],
   "source": [
    "x = []\n",
    "y = []\n",
    "x.append(\"Pinot Noir\")\n",
    "y.append(df[df[\"variety\"] == \"Pinot Noir\"].price.mean())\n",
    "x.append(\"Chardonnay\")\n",
    "y.append(df[df[\"variety\"] == \"Chardonnay\"].price.mean())\n",
    "x.append(\"Cabernet Sauvignon\")\n",
    "y.append(df[df[\"variety\"] == \"Cabernet Sauvignon\"].price.mean())\n",
    "x.append(\"Red Blend\")\n",
    "y.append(df[df[\"variety\"] == \"Red Blend\"].price.mean())\n",
    "x.append(\"Bordeaux-style Red Blend\")\n",
    "y.append(df[df[\"variety\"] == \"Bordeaux-style Red Blend\"].price.mean())\n",
    "x.append(\"Riesling\")\n",
    "y.append(df[df[\"variety\"] == \"Riesling\"].price.mean())\n",
    "x.append(\"Sauvignon Blanc\")\n",
    "y.append(df[df[\"variety\"] == \"Sauvignon Blanc\"].price.mean())\n",
    "x.append(\"Syrah\")\n",
    "y.append(df[df[\"variety\"] == \"Syrah\"].price.mean())\n",
    "x.append(\"Rosé\")\n",
    "y.append(df[df[\"variety\"] == \"Rosé\"].price.mean())\n",
    "x.append(\"Merlot\")\n",
    "y.append(df[df[\"variety\"] == \"Merlot\"].price.mean())\n",
    "\n",
    "y, x = zip(*sorted(zip(y, x), reverse = True))"
   ]
  },
  {
   "cell_type": "code",
   "execution_count": 42,
   "metadata": {},
   "outputs": [
    {
     "data": {
      "image/png": "[encoded data removed]",
      "text/plain": [
       "<Figure size 720x1080 with 1 Axes>"
      ]
     },
     "metadata": {
      "needs_background": "light"
     },
     "output_type": "display_data"
    }
   ],
   "source": [
    "plt.figure(figsize=(10,15))\n",
    "plt.bar(x, y, align='center', color = 'gold')\n",
    "plt.xticks(x, x, rotation = 90)\n",
    "plt.ylabel('Average price')\n",
    "plt.xlabel('Wine variety used')\n",
    "plt.suptitle('The average prices of the wines made from the 10 most popular grape varieties')\n",
    "add_value_labels(plt.gca())\n",
    "plt.show()"
   ]
  },
  {
   "cell_type": "code",
   "execution_count": 43,
   "metadata": {},
   "outputs": [
    {
     "data": {
      "text/plain": [
       "US           54265\n",
       "France       17776\n",
       "Italy        16914\n",
       "Spain         6573\n",
       "Portugal      4875\n",
       "Chile         4415\n",
       "Argentina     3756\n",
       "Austria       2799\n",
       "Australia     2294\n",
       "Germany       2120\n",
       "Name: country, dtype: int64"
      ]
     },
     "execution_count": 43,
     "metadata": {},
     "output_type": "execute_result"
    }
   ],
   "source": [
    "df.country.value_counts().head(10)"
   ]
  },
  {
   "cell_type": "code",
   "execution_count": 44,
   "metadata": {},
   "outputs": [],
   "source": [
    "x = []\n",
    "y = []\n",
    "x.append(\"US\")\n",
    "y.append(df[df[\"country\"] == \"US\"].points.mean())\n",
    "x.append(\"France\")\n",
    "y.append(df[df[\"country\"] == \"France\"].points.mean())\n",
    "x.append(\"Italy\")\n",
    "y.append(df[df[\"country\"] == \"Italy\"].points.mean())\n",
    "x.append(\"Spain\")\n",
    "y.append(df[df[\"country\"] == \"Spain\"].points.mean())\n",
    "x.append(\"Portugal\")\n",
    "y.append(df[df[\"country\"] == \"Portugal\"].points.mean())\n",
    "x.append(\"Chile\")\n",
    "y.append(df[df[\"country\"] == \"Chile\"].points.mean())\n",
    "x.append(\"Argentina\")\n",
    "y.append(df[df[\"country\"] == \"Argentina\"].points.mean())\n",
    "x.append(\"Austria\")\n",
    "y.append(df[df[\"country\"] == \"Austria\"].points.mean())\n",
    "x.append(\"Australia\")\n",
    "y.append(df[df[\"country\"] == \"Australia\"].points.mean())\n",
    "x.append(\"Germany\")\n",
    "y.append(df[df[\"country\"] == \"Germany\"].points.mean())\n",
    "\n",
    "y, x = zip(*sorted(zip(y, x), reverse = True))"
   ]
  },
  {
   "cell_type": "code",
   "execution_count": 45,
   "metadata": {
    "scrolled": false
   },
   "outputs": [
    {
     "data": {
      "image/png": "[encoded data removed]",
      "text/plain": [
       "<Figure size 720x1080 with 1 Axes>"
      ]
     },
     "metadata": {
      "needs_background": "light"
     },
     "output_type": "display_data"
    }
   ],
   "source": [
    "plt.figure(figsize=(10,15))\n",
    "plt.bar(x, y, align='center', color = 'maroon')\n",
    "plt.xticks(x, x, rotation = 90)\n",
    "plt.gca().set_ylim([80, 100])\n",
    "plt.ylabel('Average score')\n",
    "plt.xlabel('Country of origin')\n",
    "plt.suptitle('The average points of the wines produced in the top 10 countries that contributed the most for this dataset')\n",
    "add_value_labels(plt.gca())\n",
    "plt.show()"
   ]
  },
  {
   "cell_type": "code",
   "execution_count": 46,
   "metadata": {},
   "outputs": [],
   "source": [
    "x = []\n",
    "y = []\n",
    "x.append(\"US\")\n",
    "y.append(df[df[\"country\"] == \"US\"].price.mean())\n",
    "x.append(\"France\")\n",
    "y.append(df[df[\"country\"] == \"France\"].price.mean())\n",
    "x.append(\"Italy\")\n",
    "y.append(df[df[\"country\"] == \"Italy\"].price.mean())\n",
    "x.append(\"Spain\")\n",
    "y.append(df[df[\"country\"] == \"Spain\"].price.mean())\n",
    "x.append(\"Portugal\")\n",
    "y.append(df[df[\"country\"] == \"Portugal\"].price.mean())\n",
    "x.append(\"Chile\")\n",
    "y.append(df[df[\"country\"] == \"Chile\"].price.mean())\n",
    "x.append(\"Argentina\")\n",
    "y.append(df[df[\"country\"] == \"Argentina\"].price.mean())\n",
    "x.append(\"Austria\")\n",
    "y.append(df[df[\"country\"] == \"Austria\"].price.mean())\n",
    "x.append(\"Australia\")\n",
    "y.append(df[df[\"country\"] == \"Australia\"].price.mean())\n",
    "x.append(\"Germany\")\n",
    "y.append(df[df[\"country\"] == \"Germany\"].price.mean())\n",
    "\n",
    "y, x = zip(*sorted(zip(y, x), reverse = True))"
   ]
  },
  {
   "cell_type": "code",
   "execution_count": 47,
   "metadata": {},
   "outputs": [
    {
     "data": {
      "image/png": "[encoded data removed]",
      "text/plain": [
       "<Figure size 720x1080 with 1 Axes>"
      ]
     },
     "metadata": {
      "needs_background": "light"
     },
     "output_type": "display_data"
    }
   ],
   "source": [
    "plt.figure(figsize=(10,15))\n",
    "plt.bar(x, y, align='center', color = 'gold')\n",
    "plt.xticks(x, x, rotation = 90)\n",
    "plt.ylabel('Average price')\n",
    "plt.xlabel('Country of origin')\n",
    "plt.suptitle('The average prices of the wines produced in the top 10 countries that contributed the most for this dataset')\n",
    "add_value_labels(plt.gca())\n",
    "plt.show()"
   ]
  },
  {
   "cell_type": "code",
   "execution_count": 48,
   "metadata": {},
   "outputs": [
    {
     "data": {
      "text/html": [
       "<div>\n",
       "<style scoped>\n",
       "    .dataframe tbody tr th:only-of-type {\n",
       "        vertical-align: middle;\n",
       "    }\n",
       "\n",
       "    .dataframe tbody tr th {\n",
       "        vertical-align: top;\n",
       "    }\n",
       "\n",
       "    .dataframe thead th {\n",
       "        text-align: right;\n",
       "    }\n",
       "</style>\n",
       "<table border=\"1\" class=\"dataframe\">\n",
       "  <thead>\n",
       "    <tr style=\"text-align: right;\">\n",
       "      <th></th>\n",
       "      <th>points</th>\n",
       "      <th>price</th>\n",
       "      <th>ratio</th>\n",
       "    </tr>\n",
       "    <tr>\n",
       "      <th>country</th>\n",
       "      <th></th>\n",
       "      <th></th>\n",
       "      <th></th>\n",
       "    </tr>\n",
       "  </thead>\n",
       "  <tbody>\n",
       "    <tr>\n",
       "      <th>Ukraine</th>\n",
       "      <td>84.071429</td>\n",
       "      <td>9.214286</td>\n",
       "      <td>9.124031</td>\n",
       "    </tr>\n",
       "    <tr>\n",
       "      <th>Bosnia and Herzegovina</th>\n",
       "      <td>86.500000</td>\n",
       "      <td>12.500000</td>\n",
       "      <td>6.920000</td>\n",
       "    </tr>\n",
       "    <tr>\n",
       "      <th>India</th>\n",
       "      <td>90.222222</td>\n",
       "      <td>13.333333</td>\n",
       "      <td>6.766667</td>\n",
       "    </tr>\n",
       "    <tr>\n",
       "      <th>Armenia</th>\n",
       "      <td>87.500000</td>\n",
       "      <td>14.500000</td>\n",
       "      <td>6.034483</td>\n",
       "    </tr>\n",
       "    <tr>\n",
       "      <th>Bulgaria</th>\n",
       "      <td>87.936170</td>\n",
       "      <td>14.645390</td>\n",
       "      <td>6.004358</td>\n",
       "    </tr>\n",
       "    <tr>\n",
       "      <th>Romania</th>\n",
       "      <td>86.400000</td>\n",
       "      <td>15.241667</td>\n",
       "      <td>5.668671</td>\n",
       "    </tr>\n",
       "    <tr>\n",
       "      <th>Macedonia</th>\n",
       "      <td>86.833333</td>\n",
       "      <td>15.583333</td>\n",
       "      <td>5.572193</td>\n",
       "    </tr>\n",
       "    <tr>\n",
       "      <th>Slovakia</th>\n",
       "      <td>87.000000</td>\n",
       "      <td>16.000000</td>\n",
       "      <td>5.437500</td>\n",
       "    </tr>\n",
       "    <tr>\n",
       "      <th>Cyprus</th>\n",
       "      <td>87.181818</td>\n",
       "      <td>16.272727</td>\n",
       "      <td>5.357542</td>\n",
       "    </tr>\n",
       "    <tr>\n",
       "      <th>Moldova</th>\n",
       "      <td>87.203390</td>\n",
       "      <td>16.745763</td>\n",
       "      <td>5.207490</td>\n",
       "    </tr>\n",
       "    <tr>\n",
       "      <th>China</th>\n",
       "      <td>89.000000</td>\n",
       "      <td>18.000000</td>\n",
       "      <td>4.944444</td>\n",
       "    </tr>\n",
       "    <tr>\n",
       "      <th>Peru</th>\n",
       "      <td>83.562500</td>\n",
       "      <td>18.062500</td>\n",
       "      <td>4.626298</td>\n",
       "    </tr>\n",
       "    <tr>\n",
       "      <th>Morocco</th>\n",
       "      <td>88.571429</td>\n",
       "      <td>19.500000</td>\n",
       "      <td>4.542125</td>\n",
       "    </tr>\n",
       "    <tr>\n",
       "      <th>Georgia</th>\n",
       "      <td>87.678571</td>\n",
       "      <td>19.321429</td>\n",
       "      <td>4.537893</td>\n",
       "    </tr>\n",
       "    <tr>\n",
       "      <th>Chile</th>\n",
       "      <td>86.495130</td>\n",
       "      <td>20.787316</td>\n",
       "      <td>4.160957</td>\n",
       "    </tr>\n",
       "    <tr>\n",
       "      <th>Greece</th>\n",
       "      <td>87.288503</td>\n",
       "      <td>22.364425</td>\n",
       "      <td>3.903007</td>\n",
       "    </tr>\n",
       "    <tr>\n",
       "      <th>Luxembourg</th>\n",
       "      <td>88.666667</td>\n",
       "      <td>23.333333</td>\n",
       "      <td>3.800000</td>\n",
       "    </tr>\n",
       "    <tr>\n",
       "      <th>Czech Republic</th>\n",
       "      <td>87.250000</td>\n",
       "      <td>24.250000</td>\n",
       "      <td>3.597938</td>\n",
       "    </tr>\n",
       "    <tr>\n",
       "      <th>Turkey</th>\n",
       "      <td>88.088889</td>\n",
       "      <td>24.633333</td>\n",
       "      <td>3.576004</td>\n",
       "    </tr>\n",
       "    <tr>\n",
       "      <th>Serbia</th>\n",
       "      <td>87.500000</td>\n",
       "      <td>24.500000</td>\n",
       "      <td>3.571429</td>\n",
       "    </tr>\n",
       "    <tr>\n",
       "      <th>Brazil</th>\n",
       "      <td>84.659574</td>\n",
       "      <td>23.765957</td>\n",
       "      <td>3.562220</td>\n",
       "    </tr>\n",
       "    <tr>\n",
       "      <th>South Africa</th>\n",
       "      <td>87.831400</td>\n",
       "      <td>24.668987</td>\n",
       "      <td>3.560398</td>\n",
       "    </tr>\n",
       "    <tr>\n",
       "      <th>Slovenia</th>\n",
       "      <td>88.012500</td>\n",
       "      <td>24.812500</td>\n",
       "      <td>3.547103</td>\n",
       "    </tr>\n",
       "    <tr>\n",
       "      <th>Argentina</th>\n",
       "      <td>86.710330</td>\n",
       "      <td>24.510117</td>\n",
       "      <td>3.537736</td>\n",
       "    </tr>\n",
       "    <tr>\n",
       "      <th>Croatia</th>\n",
       "      <td>87.352113</td>\n",
       "      <td>25.450704</td>\n",
       "      <td>3.432208</td>\n",
       "    </tr>\n",
       "    <tr>\n",
       "      <th>Portugal</th>\n",
       "      <td>88.316718</td>\n",
       "      <td>26.218256</td>\n",
       "      <td>3.368520</td>\n",
       "    </tr>\n",
       "    <tr>\n",
       "      <th>Uruguay</th>\n",
       "      <td>86.752294</td>\n",
       "      <td>26.403670</td>\n",
       "      <td>3.285615</td>\n",
       "    </tr>\n",
       "    <tr>\n",
       "      <th>New Zealand</th>\n",
       "      <td>88.308418</td>\n",
       "      <td>26.931785</td>\n",
       "      <td>3.278966</td>\n",
       "    </tr>\n",
       "    <tr>\n",
       "      <th>Mexico</th>\n",
       "      <td>85.257143</td>\n",
       "      <td>26.785714</td>\n",
       "      <td>3.182933</td>\n",
       "    </tr>\n",
       "    <tr>\n",
       "      <th>Spain</th>\n",
       "      <td>87.290735</td>\n",
       "      <td>28.215275</td>\n",
       "      <td>3.093740</td>\n",
       "    </tr>\n",
       "    <tr>\n",
       "      <th>Austria</th>\n",
       "      <td>90.190782</td>\n",
       "      <td>30.762772</td>\n",
       "      <td>2.931816</td>\n",
       "    </tr>\n",
       "    <tr>\n",
       "      <th>Lebanon</th>\n",
       "      <td>87.685714</td>\n",
       "      <td>30.685714</td>\n",
       "      <td>2.857542</td>\n",
       "    </tr>\n",
       "    <tr>\n",
       "      <th>Israel</th>\n",
       "      <td>88.496933</td>\n",
       "      <td>31.768916</td>\n",
       "      <td>2.785645</td>\n",
       "    </tr>\n",
       "    <tr>\n",
       "      <th>Canada</th>\n",
       "      <td>89.377953</td>\n",
       "      <td>35.712598</td>\n",
       "      <td>2.502701</td>\n",
       "    </tr>\n",
       "    <tr>\n",
       "      <th>Australia</th>\n",
       "      <td>88.595466</td>\n",
       "      <td>35.437663</td>\n",
       "      <td>2.500037</td>\n",
       "    </tr>\n",
       "    <tr>\n",
       "      <th>US</th>\n",
       "      <td>88.566387</td>\n",
       "      <td>36.573464</td>\n",
       "      <td>2.421602</td>\n",
       "    </tr>\n",
       "    <tr>\n",
       "      <th>Italy</th>\n",
       "      <td>88.618186</td>\n",
       "      <td>39.663770</td>\n",
       "      <td>2.234235</td>\n",
       "    </tr>\n",
       "    <tr>\n",
       "      <th>Hungary</th>\n",
       "      <td>89.165517</td>\n",
       "      <td>40.648276</td>\n",
       "      <td>2.193587</td>\n",
       "    </tr>\n",
       "    <tr>\n",
       "      <th>France</th>\n",
       "      <td>88.734867</td>\n",
       "      <td>41.139120</td>\n",
       "      <td>2.156946</td>\n",
       "    </tr>\n",
       "    <tr>\n",
       "      <th>Germany</th>\n",
       "      <td>89.836321</td>\n",
       "      <td>42.257547</td>\n",
       "      <td>2.125924</td>\n",
       "    </tr>\n",
       "    <tr>\n",
       "      <th>England</th>\n",
       "      <td>91.550725</td>\n",
       "      <td>51.681159</td>\n",
       "      <td>1.771453</td>\n",
       "    </tr>\n",
       "    <tr>\n",
       "      <th>Switzerland</th>\n",
       "      <td>88.571429</td>\n",
       "      <td>85.285714</td>\n",
       "      <td>1.038526</td>\n",
       "    </tr>\n",
       "  </tbody>\n",
       "</table>\n",
       "</div>"
      ],
      "text/plain": [
       "                           points      price     ratio\n",
       "country                                               \n",
       "Ukraine                 84.071429   9.214286  9.124031\n",
       "Bosnia and Herzegovina  86.500000  12.500000  6.920000\n",
       "India                   90.222222  13.333333  6.766667\n",
       "Armenia                 87.500000  14.500000  6.034483\n",
       "Bulgaria                87.936170  14.645390  6.004358\n",
       "Romania                 86.400000  15.241667  5.668671\n",
       "Macedonia               86.833333  15.583333  5.572193\n",
       "Slovakia                87.000000  16.000000  5.437500\n",
       "Cyprus                  87.181818  16.272727  5.357542\n",
       "Moldova                 87.203390  16.745763  5.207490\n",
       "China                   89.000000  18.000000  4.944444\n",
       "Peru                    83.562500  18.062500  4.626298\n",
       "Morocco                 88.571429  19.500000  4.542125\n",
       "Georgia                 87.678571  19.321429  4.537893\n",
       "Chile                   86.495130  20.787316  4.160957\n",
       "Greece                  87.288503  22.364425  3.903007\n",
       "Luxembourg              88.666667  23.333333  3.800000\n",
       "Czech Republic          87.250000  24.250000  3.597938\n",
       "Turkey                  88.088889  24.633333  3.576004\n",
       "Serbia                  87.500000  24.500000  3.571429\n",
       "Brazil                  84.659574  23.765957  3.562220\n",
       "South Africa            87.831400  24.668987  3.560398\n",
       "Slovenia                88.012500  24.812500  3.547103\n",
       "Argentina               86.710330  24.510117  3.537736\n",
       "Croatia                 87.352113  25.450704  3.432208\n",
       "Portugal                88.316718  26.218256  3.368520\n",
       "Uruguay                 86.752294  26.403670  3.285615\n",
       "New Zealand             88.308418  26.931785  3.278966\n",
       "Mexico                  85.257143  26.785714  3.182933\n",
       "Spain                   87.290735  28.215275  3.093740\n",
       "Austria                 90.190782  30.762772  2.931816\n",
       "Lebanon                 87.685714  30.685714  2.857542\n",
       "Israel                  88.496933  31.768916  2.785645\n",
       "Canada                  89.377953  35.712598  2.502701\n",
       "Australia               88.595466  35.437663  2.500037\n",
       "US                      88.566387  36.573464  2.421602\n",
       "Italy                   88.618186  39.663770  2.234235\n",
       "Hungary                 89.165517  40.648276  2.193587\n",
       "France                  88.734867  41.139120  2.156946\n",
       "Germany                 89.836321  42.257547  2.125924\n",
       "England                 91.550725  51.681159  1.771453\n",
       "Switzerland             88.571429  85.285714  1.038526"
      ]
     },
     "execution_count": 48,
     "metadata": {},
     "output_type": "execute_result"
    }
   ],
   "source": [
    "country_means = df.groupby(\"country\").mean()\n",
    "country_means['ratio'] = country_means['points'] / country_means['price']\n",
    "country_means_sorted = country_means.sort_values('ratio', ascending = False)\n",
    "country_means_sorted"
   ]
  },
  {
   "cell_type": "code",
   "execution_count": 49,
   "metadata": {},
   "outputs": [
    {
     "data": {
      "text/plain": [
       "<matplotlib.axes._subplots.AxesSubplot at 0x1c916beb580>"
      ]
     },
     "execution_count": 49,
     "metadata": {},
     "output_type": "execute_result"
    },
    {
     "data": {
      "image/png": "[encoded data removed]",
      "text/plain": [
       "<Figure size 432x288 with 1 Axes>"
      ]
     },
     "metadata": {
      "needs_background": "light"
     },
     "output_type": "display_data"
    }
   ],
   "source": [
    "country_means_sorted.head(15).plot(y = ['ratio'], use_index=True, kind = 'bar')"
   ]
  },
  {
   "cell_type": "code",
   "execution_count": 50,
   "metadata": {},
   "outputs": [
    {
     "data": {
      "text/html": [
       "<div>\n",
       "<style scoped>\n",
       "    .dataframe tbody tr th:only-of-type {\n",
       "        vertical-align: middle;\n",
       "    }\n",
       "\n",
       "    .dataframe tbody tr th {\n",
       "        vertical-align: top;\n",
       "    }\n",
       "\n",
       "    .dataframe thead th {\n",
       "        text-align: right;\n",
       "    }\n",
       "</style>\n",
       "<table border=\"1\" class=\"dataframe\">\n",
       "  <thead>\n",
       "    <tr style=\"text-align: right;\">\n",
       "      <th></th>\n",
       "      <th>points</th>\n",
       "      <th>price</th>\n",
       "      <th>reviews</th>\n",
       "    </tr>\n",
       "    <tr>\n",
       "      <th>taster_name</th>\n",
       "      <th></th>\n",
       "      <th></th>\n",
       "      <th></th>\n",
       "    </tr>\n",
       "  </thead>\n",
       "  <tbody>\n",
       "    <tr>\n",
       "      <th>Roger Voss</th>\n",
       "      <td>88.606137</td>\n",
       "      <td>38.649960</td>\n",
       "      <td>20172</td>\n",
       "    </tr>\n",
       "    <tr>\n",
       "      <th>Michael Schachner</th>\n",
       "      <td>86.908659</td>\n",
       "      <td>25.230929</td>\n",
       "      <td>14944</td>\n",
       "    </tr>\n",
       "    <tr>\n",
       "      <th>Kerin O’Keefe</th>\n",
       "      <td>88.908750</td>\n",
       "      <td>41.953413</td>\n",
       "      <td>9874</td>\n",
       "    </tr>\n",
       "    <tr>\n",
       "      <th>Virginie Boone</th>\n",
       "      <td>89.216998</td>\n",
       "      <td>46.621963</td>\n",
       "      <td>9507</td>\n",
       "    </tr>\n",
       "    <tr>\n",
       "      <th>Paul Gregutt</th>\n",
       "      <td>89.087396</td>\n",
       "      <td>33.644835</td>\n",
       "      <td>9497</td>\n",
       "    </tr>\n",
       "    <tr>\n",
       "      <th>Matt Kettmann</th>\n",
       "      <td>90.033991</td>\n",
       "      <td>38.642136</td>\n",
       "      <td>6237</td>\n",
       "    </tr>\n",
       "    <tr>\n",
       "      <th>Joe Czerwinski</th>\n",
       "      <td>88.540519</td>\n",
       "      <td>35.182036</td>\n",
       "      <td>5010</td>\n",
       "    </tr>\n",
       "    <tr>\n",
       "      <th>Sean P. Sullivan</th>\n",
       "      <td>88.756751</td>\n",
       "      <td>34.085888</td>\n",
       "      <td>4925</td>\n",
       "    </tr>\n",
       "    <tr>\n",
       "      <th>Anna Lee C. Iijima</th>\n",
       "      <td>88.405127</td>\n",
       "      <td>29.790112</td>\n",
       "      <td>4369</td>\n",
       "    </tr>\n",
       "    <tr>\n",
       "      <th>Jim Gordon</th>\n",
       "      <td>88.625989</td>\n",
       "      <td>26.935507</td>\n",
       "      <td>4171</td>\n",
       "    </tr>\n",
       "    <tr>\n",
       "      <th>Anne Krebiehl MW</th>\n",
       "      <td>90.612570</td>\n",
       "      <td>31.244910</td>\n",
       "      <td>3389</td>\n",
       "    </tr>\n",
       "    <tr>\n",
       "      <th>Lauren Buzzeo</th>\n",
       "      <td>87.564252</td>\n",
       "      <td>24.485981</td>\n",
       "      <td>1712</td>\n",
       "    </tr>\n",
       "    <tr>\n",
       "      <th>Susan Kostrzewa</th>\n",
       "      <td>86.609551</td>\n",
       "      <td>22.897940</td>\n",
       "      <td>1068</td>\n",
       "    </tr>\n",
       "    <tr>\n",
       "      <th>Mike DeSimone</th>\n",
       "      <td>89.095528</td>\n",
       "      <td>28.132114</td>\n",
       "      <td>492</td>\n",
       "    </tr>\n",
       "    <tr>\n",
       "      <th>Jeff Jenssen</th>\n",
       "      <td>88.328358</td>\n",
       "      <td>22.313433</td>\n",
       "      <td>469</td>\n",
       "    </tr>\n",
       "    <tr>\n",
       "      <th>Alexander Peartree</th>\n",
       "      <td>85.854722</td>\n",
       "      <td>29.053269</td>\n",
       "      <td>413</td>\n",
       "    </tr>\n",
       "    <tr>\n",
       "      <th>Carrie Dykes</th>\n",
       "      <td>86.384058</td>\n",
       "      <td>30.753623</td>\n",
       "      <td>138</td>\n",
       "    </tr>\n",
       "    <tr>\n",
       "      <th>Fiona Adams</th>\n",
       "      <td>86.888889</td>\n",
       "      <td>31.148148</td>\n",
       "      <td>27</td>\n",
       "    </tr>\n",
       "    <tr>\n",
       "      <th>Christina Pickard</th>\n",
       "      <td>87.833333</td>\n",
       "      <td>29.333333</td>\n",
       "      <td>6</td>\n",
       "    </tr>\n",
       "  </tbody>\n",
       "</table>\n",
       "</div>"
      ],
      "text/plain": [
       "                       points      price  reviews\n",
       "taster_name                                      \n",
       "Roger Voss          88.606137  38.649960    20172\n",
       "Michael Schachner   86.908659  25.230929    14944\n",
       "Kerin O’Keefe       88.908750  41.953413     9874\n",
       "Virginie Boone      89.216998  46.621963     9507\n",
       "Paul Gregutt        89.087396  33.644835     9497\n",
       "Matt Kettmann       90.033991  38.642136     6237\n",
       "Joe Czerwinski      88.540519  35.182036     5010\n",
       "Sean P. Sullivan    88.756751  34.085888     4925\n",
       "Anna Lee C. Iijima  88.405127  29.790112     4369\n",
       "Jim Gordon          88.625989  26.935507     4171\n",
       "Anne Krebiehl MW    90.612570  31.244910     3389\n",
       "Lauren Buzzeo       87.564252  24.485981     1712\n",
       "Susan Kostrzewa     86.609551  22.897940     1068\n",
       "Mike DeSimone       89.095528  28.132114      492\n",
       "Jeff Jenssen        88.328358  22.313433      469\n",
       "Alexander Peartree  85.854722  29.053269      413\n",
       "Carrie Dykes        86.384058  30.753623      138\n",
       "Fiona Adams         86.888889  31.148148       27\n",
       "Christina Pickard   87.833333  29.333333        6"
      ]
     },
     "execution_count": 50,
     "metadata": {},
     "output_type": "execute_result"
    }
   ],
   "source": [
    "by_taster = df.groupby('taster_name').mean()\n",
    "taster_counts = []\n",
    "for taster in by_taster.index:\n",
    "    taster_counts.append(df[df['taster_name'] == taster].shape[0])\n",
    "by_taster['reviews'] = taster_counts\n",
    "by_taster.sort_values('reviews', ascending = False)"
   ]
  },
  {
   "cell_type": "code",
   "execution_count": 51,
   "metadata": {},
   "outputs": [
    {
     "data": {
      "text/html": [
       "<div>\n",
       "<style scoped>\n",
       "    .dataframe tbody tr th:only-of-type {\n",
       "        vertical-align: middle;\n",
       "    }\n",
       "\n",
       "    .dataframe tbody tr th {\n",
       "        vertical-align: top;\n",
       "    }\n",
       "\n",
       "    .dataframe thead th {\n",
       "        text-align: right;\n",
       "    }\n",
       "</style>\n",
       "<table border=\"1\" class=\"dataframe\">\n",
       "  <thead>\n",
       "    <tr style=\"text-align: right;\">\n",
       "      <th></th>\n",
       "      <th>points</th>\n",
       "      <th>price</th>\n",
       "    </tr>\n",
       "    <tr>\n",
       "      <th>region_1</th>\n",
       "      <th></th>\n",
       "      <th></th>\n",
       "    </tr>\n",
       "  </thead>\n",
       "  <tbody>\n",
       "    <tr>\n",
       "      <th>Ohio</th>\n",
       "      <td>80.000</td>\n",
       "      <td>15.000000</td>\n",
       "    </tr>\n",
       "    <tr>\n",
       "      <th>Ramona Valley</th>\n",
       "      <td>80.500</td>\n",
       "      <td>26.500000</td>\n",
       "    </tr>\n",
       "    <tr>\n",
       "      <th>Monterey-San Luis Obispo-Santa Barbara</th>\n",
       "      <td>82.000</td>\n",
       "      <td>12.000000</td>\n",
       "    </tr>\n",
       "    <tr>\n",
       "      <th>Penisola Sorrentina</th>\n",
       "      <td>82.500</td>\n",
       "      <td>16.500000</td>\n",
       "    </tr>\n",
       "    <tr>\n",
       "      <th>Catalonia</th>\n",
       "      <td>82.750</td>\n",
       "      <td>9.500000</td>\n",
       "    </tr>\n",
       "    <tr>\n",
       "      <th>...</th>\n",
       "      <td>...</td>\n",
       "      <td>...</td>\n",
       "    </tr>\n",
       "    <tr>\n",
       "      <th>Montrachet</th>\n",
       "      <td>96.000</td>\n",
       "      <td>616.142857</td>\n",
       "    </tr>\n",
       "    <tr>\n",
       "      <th>Corton-Pougets</th>\n",
       "      <td>96.500</td>\n",
       "      <td>105.500000</td>\n",
       "    </tr>\n",
       "    <tr>\n",
       "      <th>Bienvenues Bâtard-Montrachet</th>\n",
       "      <td>96.500</td>\n",
       "      <td>443.000000</td>\n",
       "    </tr>\n",
       "    <tr>\n",
       "      <th>Bolgheri Sassicaia</th>\n",
       "      <td>96.625</td>\n",
       "      <td>224.500000</td>\n",
       "    </tr>\n",
       "    <tr>\n",
       "      <th>Clos de Tart</th>\n",
       "      <td>98.000</td>\n",
       "      <td>319.000000</td>\n",
       "    </tr>\n",
       "  </tbody>\n",
       "</table>\n",
       "<p>1204 rows × 2 columns</p>\n",
       "</div>"
      ],
      "text/plain": [
       "                                        points       price\n",
       "region_1                                                  \n",
       "Ohio                                    80.000   15.000000\n",
       "Ramona Valley                           80.500   26.500000\n",
       "Monterey-San Luis Obispo-Santa Barbara  82.000   12.000000\n",
       "Penisola Sorrentina                     82.500   16.500000\n",
       "Catalonia                               82.750    9.500000\n",
       "...                                        ...         ...\n",
       "Montrachet                              96.000  616.142857\n",
       "Corton-Pougets                          96.500  105.500000\n",
       "Bienvenues Bâtard-Montrachet            96.500  443.000000\n",
       "Bolgheri Sassicaia                      96.625  224.500000\n",
       "Clos de Tart                            98.000  319.000000\n",
       "\n",
       "[1204 rows x 2 columns]"
      ]
     },
     "execution_count": 51,
     "metadata": {},
     "output_type": "execute_result"
    }
   ],
   "source": [
    "df.groupby('region_1').mean().sort_values('points')"
   ]
  },
  {
   "cell_type": "code",
   "execution_count": 52,
   "metadata": {},
   "outputs": [
    {
     "data": {
      "text/html": [
       "<div>\n",
       "<style scoped>\n",
       "    .dataframe tbody tr th:only-of-type {\n",
       "        vertical-align: middle;\n",
       "    }\n",
       "\n",
       "    .dataframe tbody tr th {\n",
       "        vertical-align: top;\n",
       "    }\n",
       "\n",
       "    .dataframe thead th {\n",
       "        text-align: right;\n",
       "    }\n",
       "</style>\n",
       "<table border=\"1\" class=\"dataframe\">\n",
       "  <thead>\n",
       "    <tr style=\"text-align: right;\">\n",
       "      <th></th>\n",
       "      <th>country</th>\n",
       "      <th>points</th>\n",
       "      <th>price</th>\n",
       "      <th>province</th>\n",
       "      <th>region_1</th>\n",
       "      <th>region_2</th>\n",
       "      <th>taster_name</th>\n",
       "      <th>variety</th>\n",
       "      <th>winery</th>\n",
       "    </tr>\n",
       "  </thead>\n",
       "  <tbody>\n",
       "    <tr>\n",
       "      <th>0</th>\n",
       "      <td>30</td>\n",
       "      <td>87</td>\n",
       "      <td>15.0</td>\n",
       "      <td>107</td>\n",
       "      <td>-1</td>\n",
       "      <td>-1</td>\n",
       "      <td>15</td>\n",
       "      <td>442</td>\n",
       "      <td>12189</td>\n",
       "    </tr>\n",
       "    <tr>\n",
       "      <th>1</th>\n",
       "      <td>39</td>\n",
       "      <td>87</td>\n",
       "      <td>14.0</td>\n",
       "      <td>266</td>\n",
       "      <td>1192</td>\n",
       "      <td>16</td>\n",
       "      <td>14</td>\n",
       "      <td>428</td>\n",
       "      <td>12249</td>\n",
       "    </tr>\n",
       "    <tr>\n",
       "      <th>2</th>\n",
       "      <td>39</td>\n",
       "      <td>87</td>\n",
       "      <td>13.0</td>\n",
       "      <td>216</td>\n",
       "      <td>538</td>\n",
       "      <td>-1</td>\n",
       "      <td>0</td>\n",
       "      <td>471</td>\n",
       "      <td>13565</td>\n",
       "    </tr>\n",
       "    <tr>\n",
       "      <th>3</th>\n",
       "      <td>39</td>\n",
       "      <td>87</td>\n",
       "      <td>65.0</td>\n",
       "      <td>266</td>\n",
       "      <td>1192</td>\n",
       "      <td>16</td>\n",
       "      <td>14</td>\n",
       "      <td>432</td>\n",
       "      <td>13790</td>\n",
       "    </tr>\n",
       "    <tr>\n",
       "      <th>4</th>\n",
       "      <td>36</td>\n",
       "      <td>87</td>\n",
       "      <td>15.0</td>\n",
       "      <td>260</td>\n",
       "      <td>739</td>\n",
       "      <td>-1</td>\n",
       "      <td>12</td>\n",
       "      <td>579</td>\n",
       "      <td>13870</td>\n",
       "    </tr>\n",
       "    <tr>\n",
       "      <th>...</th>\n",
       "      <td>...</td>\n",
       "      <td>...</td>\n",
       "      <td>...</td>\n",
       "      <td>...</td>\n",
       "      <td>...</td>\n",
       "      <td>...</td>\n",
       "      <td>...</td>\n",
       "      <td>...</td>\n",
       "      <td>...</td>\n",
       "    </tr>\n",
       "    <tr>\n",
       "      <th>120910</th>\n",
       "      <td>16</td>\n",
       "      <td>90</td>\n",
       "      <td>28.0</td>\n",
       "      <td>230</td>\n",
       "      <td>-1</td>\n",
       "      <td>-1</td>\n",
       "      <td>1</td>\n",
       "      <td>471</td>\n",
       "      <td>6126</td>\n",
       "    </tr>\n",
       "    <tr>\n",
       "      <th>120911</th>\n",
       "      <td>39</td>\n",
       "      <td>90</td>\n",
       "      <td>75.0</td>\n",
       "      <td>266</td>\n",
       "      <td>769</td>\n",
       "      <td>10</td>\n",
       "      <td>14</td>\n",
       "      <td>432</td>\n",
       "      <td>4411</td>\n",
       "    </tr>\n",
       "    <tr>\n",
       "      <th>120912</th>\n",
       "      <td>14</td>\n",
       "      <td>90</td>\n",
       "      <td>30.0</td>\n",
       "      <td>11</td>\n",
       "      <td>21</td>\n",
       "      <td>-1</td>\n",
       "      <td>15</td>\n",
       "      <td>205</td>\n",
       "      <td>5493</td>\n",
       "    </tr>\n",
       "    <tr>\n",
       "      <th>120913</th>\n",
       "      <td>14</td>\n",
       "      <td>90</td>\n",
       "      <td>32.0</td>\n",
       "      <td>11</td>\n",
       "      <td>21</td>\n",
       "      <td>-1</td>\n",
       "      <td>15</td>\n",
       "      <td>428</td>\n",
       "      <td>5579</td>\n",
       "    </tr>\n",
       "    <tr>\n",
       "      <th>120914</th>\n",
       "      <td>14</td>\n",
       "      <td>90</td>\n",
       "      <td>21.0</td>\n",
       "      <td>11</td>\n",
       "      <td>21</td>\n",
       "      <td>-1</td>\n",
       "      <td>15</td>\n",
       "      <td>205</td>\n",
       "      <td>5687</td>\n",
       "    </tr>\n",
       "  </tbody>\n",
       "</table>\n",
       "<p>120915 rows × 9 columns</p>\n",
       "</div>"
      ],
      "text/plain": [
       "        country  points  price  province  region_1  region_2  taster_name  \\\n",
       "0            30      87   15.0       107        -1        -1           15   \n",
       "1            39      87   14.0       266      1192        16           14   \n",
       "2            39      87   13.0       216       538        -1            0   \n",
       "3            39      87   65.0       266      1192        16           14   \n",
       "4            36      87   15.0       260       739        -1           12   \n",
       "...         ...     ...    ...       ...       ...       ...          ...   \n",
       "120910       16      90   28.0       230        -1        -1            1   \n",
       "120911       39      90   75.0       266       769        10           14   \n",
       "120912       14      90   30.0        11        21        -1           15   \n",
       "120913       14      90   32.0        11        21        -1           15   \n",
       "120914       14      90   21.0        11        21        -1           15   \n",
       "\n",
       "        variety  winery  \n",
       "0           442   12189  \n",
       "1           428   12249  \n",
       "2           471   13565  \n",
       "3           432   13790  \n",
       "4           579   13870  \n",
       "...         ...     ...  \n",
       "120910      471    6126  \n",
       "120911      432    4411  \n",
       "120912      205    5493  \n",
       "120913      428    5579  \n",
       "120914      205    5687  \n",
       "\n",
       "[120915 rows x 9 columns]"
      ]
     },
     "execution_count": 52,
     "metadata": {},
     "output_type": "execute_result"
    }
   ],
   "source": [
    "# 'one-hot-encoding'\n",
    "#data_dum = pd.get_dummies(df, columns=['country', 'taster_name', 'province', 'region_2', 'variety'])\n",
    "#data_dum = data_dum.drop(columns = ['description', 'designation', 'title', 'winery', 'region_1'])\n",
    "#data_dum\n",
    "\n",
    "encodables = ['country', 'taster_name', 'province', 'region_1', 'region_2', 'variety', 'winery']\n",
    "num_data = df.copy()\n",
    "num_data = num_data.drop(columns = ['description', 'designation', 'title'])\n",
    "\n",
    "for column in encodables:\n",
    "    num_data[column] = num_data[column].astype('category')\n",
    "    num_data[column] = num_data[column].cat.codes\n",
    "\n",
    "\n",
    "num_data"
   ]
  },
  {
   "cell_type": "markdown",
   "metadata": {},
   "source": [
    "# Points prediction"
   ]
  },
  {
   "cell_type": "code",
   "execution_count": 53,
   "metadata": {
    "scrolled": false
   },
   "outputs": [
    {
     "name": "stdout",
     "output_type": "stream",
     "text": [
      "(84640, 8)\n",
      "(84640,)\n"
     ]
    }
   ],
   "source": [
    "from sklearn.model_selection import train_test_split\n",
    "\n",
    "data_x = num_data.copy().drop(columns=['points'])\n",
    "data_y = num_data.copy()['points']\n",
    "\n",
    "X_train, X_test, y_train, y_test = train_test_split(data_x, data_y, test_size = 0.3, random_state=1)\n",
    "\n",
    "print(X_train.shape)\n",
    "print(y_train.shape)"
   ]
  },
  {
   "cell_type": "code",
   "execution_count": 54,
   "metadata": {},
   "outputs": [],
   "source": [
    "from sklearn.ensemble import RandomForestClassifier, AdaBoostClassifier\n",
    "from sklearn.tree import DecisionTreeClassifier\n",
    "from sklearn.svm import SVC\n",
    "from sklearn.linear_model import LinearRegression, Ridge, Lasso\n",
    "from sklearn.neighbors import KNeighborsClassifier\n",
    "from sklearn.neural_network import MLPClassifier\n",
    "from sklearn.gaussian_process import GaussianProcessClassifier\n",
    "from sklearn.gaussian_process.kernels import RBF\n",
    "from sklearn.naive_bayes import GaussianNB\n",
    "from sklearn.discriminant_analysis import QuadraticDiscriminantAnalysis\n",
    "\n",
    "# training different models\n",
    "models = {\"Random forest\" : RandomForestClassifier(n_estimators=100).fit(X_train, y_train), \n",
    "          \"Decision tree\" : DecisionTreeClassifier().fit(X_train, y_train), \n",
    "          \"Linear regression\" : LinearRegression().fit(X_train, y_train), \n",
    "          \"Ridge\" : Ridge().fit(X_train, y_train), \n",
    "          \"Lasso\" : Lasso().fit(X_train, y_train), \n",
    "          \"1 Neighbour\" : KNeighborsClassifier(n_neighbors=1).fit(X_train, y_train), \n",
    "          \"10 Neighbours\" : KNeighborsClassifier(n_neighbors=10).fit(X_train, y_train), \n",
    "          \"Ada boost\" : AdaBoostClassifier().fit(X_train, y_train), \n",
    "          \"Quadratic Discriminant Analysis\" : QuadraticDiscriminantAnalysis().fit(X_train, y_train)}\n",
    "#rf = RandomForestClassifier(n_estimators=100).fit(X_train, y_train)\n",
    "#dt = DecisionTreeClassifier().fit(X_train, y_train)\n",
    "#svm_linear = SVC(kernel='linear', probability=True).fit(X_train, y_train) #takes forever to compute\n",
    "#svm_poly = SVC(kernel='poly', probability=True).fit(X_train, y_train) #takes forever to compute\n",
    "#svm_rbf = SVC(kernel='rbf', probability=True).fit(X_train, y_train) #takes forever to compute\n",
    "#linear_regr = LinearRegression().fit(X_train, y_train)\n",
    "#ridge = Ridge().fit(X_train, y_train)\n",
    "#lasso = Lasso().fit(X_train, y_train)\n",
    "#n_neigh_1 = KNeighborsClassifier(n_neighbors=1).fit(X_train, y_train)\n",
    "#n_neigh_10 = KNeighborsClassifier(n_neighbors=10).fit(X_train, y_train)\n",
    "#mlp = MLPClassifier(max_iter=300).fit(X_train, y_train) #takes forever to compute\n",
    "#gauss = GaussianProcessClassifier(1.0 * RBF(1.0)).fit(X_train, y_train) #Requires insane amount of RAM\n",
    "#ada = AdaBoostClassifier().fit(X_train, y_train)\n",
    "#quad = QuadraticDiscriminantAnalysis().fit(X_train, y_train)"
   ]
  },
  {
   "cell_type": "code",
   "execution_count": 55,
   "metadata": {},
   "outputs": [],
   "source": [
    "import math\n",
    "\n",
    "def MSE(y_target, y_pred):\n",
    "    return (np.sum((y_target - y_pred)**2)) / y_target.shape[0]\n",
    "\n",
    "def RMSE(y_target, y_pred):\n",
    "    return math.sqrt(MSE(y_target, y_pred))"
   ]
  },
  {
   "cell_type": "code",
   "execution_count": 56,
   "metadata": {},
   "outputs": [],
   "source": [
    "def calculate_total_correct(predictions, methodName):\n",
    "    \n",
    "    rounded_predictions = [round(num) for num in predictions]\n",
    "    total_correct = 0\n",
    "    for i in range(len(predictions)):\n",
    "        if rounded_predictions[i] == y_test.iloc[i]:\n",
    "            total_correct += 1\n",
    "        \n",
    "    #print(methodName, \"got\", total_correct, \"assigned points exactly right (\" + str(total_correct / len(y_test) * 100) + \" %)\")\n",
    "    return total_correct\n",
    "\n",
    "predictions = dict()\n",
    "model_names = []\n",
    "mses = []\n",
    "rmses = []\n",
    "total_corrects = []\n",
    "\n",
    "for methodName in models:\n",
    "    model_names.append(methodName)\n",
    "    prediction = models[methodName].predict(X_test)\n",
    "    predictions[methodName] = prediction\n",
    "    total_corrects.append(calculate_total_correct(prediction, methodName))\n",
    "    mses.append(MSE(y_test, prediction))\n",
    "    rmses.append(RMSE(y_test, prediction))\n",
    "    "
   ]
  },
  {
   "cell_type": "code",
   "execution_count": 57,
   "metadata": {},
   "outputs": [
    {
     "data": {
      "text/html": [
       "<div>\n",
       "<style scoped>\n",
       "    .dataframe tbody tr th:only-of-type {\n",
       "        vertical-align: middle;\n",
       "    }\n",
       "\n",
       "    .dataframe tbody tr th {\n",
       "        vertical-align: top;\n",
       "    }\n",
       "\n",
       "    .dataframe thead th {\n",
       "        text-align: right;\n",
       "    }\n",
       "</style>\n",
       "<table border=\"1\" class=\"dataframe\">\n",
       "  <thead>\n",
       "    <tr style=\"text-align: right;\">\n",
       "      <th></th>\n",
       "      <th>model</th>\n",
       "      <th>MSE</th>\n",
       "      <th>RMSE</th>\n",
       "      <th>total correct</th>\n",
       "      <th>precise accuracy</th>\n",
       "    </tr>\n",
       "  </thead>\n",
       "  <tbody>\n",
       "    <tr>\n",
       "      <th>0</th>\n",
       "      <td>Random forest</td>\n",
       "      <td>6.474542</td>\n",
       "      <td>2.544512</td>\n",
       "      <td>9090</td>\n",
       "      <td>25.058580</td>\n",
       "    </tr>\n",
       "    <tr>\n",
       "      <th>1</th>\n",
       "      <td>Decision tree</td>\n",
       "      <td>7.526644</td>\n",
       "      <td>2.743473</td>\n",
       "      <td>8537</td>\n",
       "      <td>23.534114</td>\n",
       "    </tr>\n",
       "    <tr>\n",
       "      <th>8</th>\n",
       "      <td>Quadratic Discriminant Analysis</td>\n",
       "      <td>7.719835</td>\n",
       "      <td>2.778459</td>\n",
       "      <td>5760</td>\n",
       "      <td>15.878704</td>\n",
       "    </tr>\n",
       "    <tr>\n",
       "      <th>5</th>\n",
       "      <td>1 Neighbour</td>\n",
       "      <td>7.812626</td>\n",
       "      <td>2.795107</td>\n",
       "      <td>8654</td>\n",
       "      <td>23.856651</td>\n",
       "    </tr>\n",
       "    <tr>\n",
       "      <th>3</th>\n",
       "      <td>Ridge</td>\n",
       "      <td>7.852932</td>\n",
       "      <td>2.802308</td>\n",
       "      <td>5073</td>\n",
       "      <td>13.984838</td>\n",
       "    </tr>\n",
       "    <tr>\n",
       "      <th>2</th>\n",
       "      <td>Linear regression</td>\n",
       "      <td>7.852932</td>\n",
       "      <td>2.802308</td>\n",
       "      <td>5073</td>\n",
       "      <td>13.984838</td>\n",
       "    </tr>\n",
       "    <tr>\n",
       "      <th>4</th>\n",
       "      <td>Lasso</td>\n",
       "      <td>7.896127</td>\n",
       "      <td>2.810005</td>\n",
       "      <td>4987</td>\n",
       "      <td>13.747760</td>\n",
       "    </tr>\n",
       "    <tr>\n",
       "      <th>6</th>\n",
       "      <td>10 Neighbours</td>\n",
       "      <td>9.611854</td>\n",
       "      <td>3.100299</td>\n",
       "      <td>5828</td>\n",
       "      <td>16.066161</td>\n",
       "    </tr>\n",
       "    <tr>\n",
       "      <th>7</th>\n",
       "      <td>Ada boost</td>\n",
       "      <td>37.345003</td>\n",
       "      <td>6.111056</td>\n",
       "      <td>1975</td>\n",
       "      <td>5.444521</td>\n",
       "    </tr>\n",
       "  </tbody>\n",
       "</table>\n",
       "</div>"
      ],
      "text/plain": [
       "                             model        MSE      RMSE  total correct  \\\n",
       "0                    Random forest   6.474542  2.544512           9090   \n",
       "1                    Decision tree   7.526644  2.743473           8537   \n",
       "8  Quadratic Discriminant Analysis   7.719835  2.778459           5760   \n",
       "5                      1 Neighbour   7.812626  2.795107           8654   \n",
       "3                            Ridge   7.852932  2.802308           5073   \n",
       "2                Linear regression   7.852932  2.802308           5073   \n",
       "4                            Lasso   7.896127  2.810005           4987   \n",
       "6                    10 Neighbours   9.611854  3.100299           5828   \n",
       "7                        Ada boost  37.345003  6.111056           1975   \n",
       "\n",
       "   precise accuracy  \n",
       "0         25.058580  \n",
       "1         23.534114  \n",
       "8         15.878704  \n",
       "5         23.856651  \n",
       "3         13.984838  \n",
       "2         13.984838  \n",
       "4         13.747760  \n",
       "6         16.066161  \n",
       "7          5.444521  "
      ]
     },
     "execution_count": 57,
     "metadata": {},
     "output_type": "execute_result"
    }
   ],
   "source": [
    "points_pred_df = pd.DataFrame({'model': model_names, 'MSE': mses, 'RMSE': rmses, 'total correct': total_corrects})\n",
    "points_pred_df['precise accuracy'] = points_pred_df['total correct'] / len(y_test) * 100\n",
    "points_pred_df.sort_values('RMSE')"
   ]
  },
  {
   "cell_type": "code",
   "execution_count": 58,
   "metadata": {
    "scrolled": false
   },
   "outputs": [
    {
     "data": {
      "image/png": "[encoded data removed]",
      "text/plain": [
       "<Figure size 432x288 with 1 Axes>"
      ]
     },
     "metadata": {
      "needs_background": "light"
     },
     "output_type": "display_data"
    },
    {
     "data": {
      "image/png": "[encoded data removed]",
      "text/plain": [
       "<Figure size 432x288 with 1 Axes>"
      ]
     },
     "metadata": {
      "needs_background": "light"
     },
     "output_type": "display_data"
    },
    {
     "data": {
      "image/png": "[encoded data removed]",
      "text/plain": [
       "<Figure size 432x288 with 1 Axes>"
      ]
     },
     "metadata": {
      "needs_background": "light"
     },
     "output_type": "display_data"
    },
    {
     "data": {
      "image/png": "[encoded data removed]",
      "text/plain": [
       "<Figure size 432x288 with 1 Axes>"
      ]
     },
     "metadata": {
      "needs_background": "light"
     },
     "output_type": "display_data"
    },
    {
     "data": {
      "image/png": "[encoded data removed]",
      "text/plain": [
       "<Figure size 432x288 with 1 Axes>"
      ]
     },
     "metadata": {
      "needs_background": "light"
     },
     "output_type": "display_data"
    },
    {
     "data": {
      "image/png": "[encoded data removed]",
      "text/plain": [
       "<Figure size 432x288 with 1 Axes>"
      ]
     },
     "metadata": {
      "needs_background": "light"
     },
     "output_type": "display_data"
    },
    {
     "data": {
      "image/png": "[encoded data removed]",
      "text/plain": [
       "<Figure size 432x288 with 1 Axes>"
      ]
     },
     "metadata": {
      "needs_background": "light"
     },
     "output_type": "display_data"
    },
    {
     "data": {
      "image/png": "[encoded data removed]",
      "text/plain": [
       "<Figure size 432x288 with 1 Axes>"
      ]
     },
     "metadata": {
      "needs_background": "light"
     },
     "output_type": "display_data"
    },
    {
     "data": {
      "image/png": "[encoded data removed]",
      "text/plain": [
       "<Figure size 432x288 with 1 Axes>"
      ]
     },
     "metadata": {
      "needs_background": "light"
     },
     "output_type": "display_data"
    }
   ],
   "source": [
    "all_errors = dict()\n",
    "for model, prediction in predictions.items():\n",
    "    errors = []\n",
    "    for i in range(len(y_test)):\n",
    "        errors.append(abs(y_test.iloc[i] - prediction[i]))\n",
    "    all_errors[model] = errors\n",
    "\n",
    "all_errors\n",
    "for model_name, errors in all_errors.items():\n",
    "    pd.DataFrame(errors).hist(bins = 12)\n",
    "    plt.title(model_name)\n",
    "    plt.xlabel(\"Error\")\n",
    "    plt.show()"
   ]
  },
  {
   "cell_type": "markdown",
   "metadata": {},
   "source": [
    "# Price prediction"
   ]
  },
  {
   "cell_type": "code",
   "execution_count": 67,
   "metadata": {},
   "outputs": [
    {
     "name": "stdout",
     "output_type": "stream",
     "text": [
      "(84640, 8)\n",
      "(84640,)\n"
     ]
    }
   ],
   "source": [
    "data_x = num_data.copy().drop(columns=['price'])\n",
    "data_y = num_data.copy()['price']\n",
    "\n",
    "X_train, X_test, y_train, y_test = train_test_split(data_x, data_y, test_size = 0.3, random_state=1)\n",
    "\n",
    "print(X_train.shape)\n",
    "print(y_train.shape)"
   ]
  },
  {
   "cell_type": "code",
   "execution_count": 88,
   "metadata": {},
   "outputs": [],
   "source": [
    "from sklearn.ensemble import GradientBoostingRegressor\n",
    "\n",
    "# training different models\n",
    "models = {#\"Random forest\" : RandomForestClassifier(n_estimators=100).fit(X_train, y_train), #Basically a virus, fills the computer's harddrive to the brim\n",
    "          #\"Decision tree\" : DecisionTreeClassifier().fit(X_train, y_train), #Basically a virus, fills the computer's harddrive to the brim\n",
    "          \"Linear regression\" : LinearRegression().fit(X_train, y_train),\n",
    "          \"Gradient boosting regressor\" : GradientBoostingRegressor(random_state=1).fit(X_train, y_train),\n",
    "          \"Ridge\" : Ridge().fit(X_train, y_train), \n",
    "          \"Lasso\" : Lasso().fit(X_train, y_train), \n",
    "          \"1 Neighbour\" : KNeighborsClassifier(n_neighbors=1).fit(X_train, y_train), \n",
    "          \"10 Neighbours\" : KNeighborsClassifier(n_neighbors=10).fit(X_train, y_train), \n",
    "          #\"Ada boost\" : AdaBoostClassifier().fit(X_train, y_train), \n",
    "          #\"Quadratic Discriminant Analysis\" : QuadraticDiscriminantAnalysis().fit(X_train, y_train)\n",
    "          }"
   ]
  },
  {
   "cell_type": "code",
   "execution_count": 89,
   "metadata": {},
   "outputs": [],
   "source": [
    "def calculate_total_correct_prices(predictions, methodName):\n",
    "    \n",
    "    rounded_predictions = [round(num, 2) for num in predictions]\n",
    "    total_correct = 0\n",
    "    for i in range(len(predictions)):\n",
    "        if rounded_predictions[i] == y_test.iloc[i]:\n",
    "            total_correct += 1\n",
    "        \n",
    "    #print(methodName, \"got\", total_correct, \"assigned points exactly right (\" + str(total_correct / len(y_test) * 100) + \" %)\")\n",
    "    return total_correct\n",
    "\n",
    "predictions = dict()\n",
    "model_names = []\n",
    "mses = []\n",
    "rmses = []\n",
    "total_corrects = []\n",
    "\n",
    "for methodName in models:\n",
    "    model_names.append(methodName)\n",
    "    prediction = models[methodName].predict(X_test)\n",
    "    predictions[methodName] = prediction\n",
    "    total_corrects.append(calculate_total_correct_prices(prediction, methodName))\n",
    "    mses.append(MSE(y_test, prediction))\n",
    "    rmses.append(RMSE(y_test, prediction))"
   ]
  },
  {
   "cell_type": "code",
   "execution_count": 90,
   "metadata": {},
   "outputs": [
    {
     "data": {
      "text/html": [
       "<div>\n",
       "<style scoped>\n",
       "    .dataframe tbody tr th:only-of-type {\n",
       "        vertical-align: middle;\n",
       "    }\n",
       "\n",
       "    .dataframe tbody tr th {\n",
       "        vertical-align: top;\n",
       "    }\n",
       "\n",
       "    .dataframe thead th {\n",
       "        text-align: right;\n",
       "    }\n",
       "</style>\n",
       "<table border=\"1\" class=\"dataframe\">\n",
       "  <thead>\n",
       "    <tr style=\"text-align: right;\">\n",
       "      <th></th>\n",
       "      <th>model</th>\n",
       "      <th>MSE</th>\n",
       "      <th>RMSE</th>\n",
       "      <th>total correct</th>\n",
       "      <th>precise accuracy</th>\n",
       "    </tr>\n",
       "  </thead>\n",
       "  <tbody>\n",
       "    <tr>\n",
       "      <th>1</th>\n",
       "      <td>Gradient boosting regressor</td>\n",
       "      <td>1261.678235</td>\n",
       "      <td>35.520110</td>\n",
       "      <td>15</td>\n",
       "      <td>0.041351</td>\n",
       "    </tr>\n",
       "    <tr>\n",
       "      <th>4</th>\n",
       "      <td>1 Neighbour</td>\n",
       "      <td>1683.446919</td>\n",
       "      <td>41.029830</td>\n",
       "      <td>10392</td>\n",
       "      <td>28.647829</td>\n",
       "    </tr>\n",
       "    <tr>\n",
       "      <th>0</th>\n",
       "      <td>Linear regression</td>\n",
       "      <td>1750.827961</td>\n",
       "      <td>41.842896</td>\n",
       "      <td>8</td>\n",
       "      <td>0.022054</td>\n",
       "    </tr>\n",
       "    <tr>\n",
       "      <th>2</th>\n",
       "      <td>Ridge</td>\n",
       "      <td>1750.828016</td>\n",
       "      <td>41.842897</td>\n",
       "      <td>8</td>\n",
       "      <td>0.022054</td>\n",
       "    </tr>\n",
       "    <tr>\n",
       "      <th>3</th>\n",
       "      <td>Lasso</td>\n",
       "      <td>1751.860408</td>\n",
       "      <td>41.855232</td>\n",
       "      <td>12</td>\n",
       "      <td>0.033081</td>\n",
       "    </tr>\n",
       "    <tr>\n",
       "      <th>5</th>\n",
       "      <td>10 Neighbours</td>\n",
       "      <td>2039.665389</td>\n",
       "      <td>45.162655</td>\n",
       "      <td>5300</td>\n",
       "      <td>14.610613</td>\n",
       "    </tr>\n",
       "  </tbody>\n",
       "</table>\n",
       "</div>"
      ],
      "text/plain": [
       "                         model          MSE       RMSE  total correct  \\\n",
       "1  Gradient boosting regressor  1261.678235  35.520110             15   \n",
       "4                  1 Neighbour  1683.446919  41.029830          10392   \n",
       "0            Linear regression  1750.827961  41.842896              8   \n",
       "2                        Ridge  1750.828016  41.842897              8   \n",
       "3                        Lasso  1751.860408  41.855232             12   \n",
       "5                10 Neighbours  2039.665389  45.162655           5300   \n",
       "\n",
       "   precise accuracy  \n",
       "1          0.041351  \n",
       "4         28.647829  \n",
       "0          0.022054  \n",
       "2          0.022054  \n",
       "3          0.033081  \n",
       "5         14.610613  "
      ]
     },
     "execution_count": 90,
     "metadata": {},
     "output_type": "execute_result"
    }
   ],
   "source": [
    "price_pred_df = pd.DataFrame({'model': model_names, 'MSE': mses, 'RMSE': rmses, 'total correct': total_corrects})\n",
    "price_pred_df['precise accuracy'] = price_pred_df['total correct'] / len(y_test) * 100\n",
    "price_pred_df.sort_values('RMSE')"
   ]
  },
  {
   "cell_type": "code",
   "execution_count": 92,
   "metadata": {},
   "outputs": [
    {
     "data": {
      "image/png": "[encoded data removed]",
      "text/plain": [
       "<Figure size 432x288 with 1 Axes>"
      ]
     },
     "metadata": {
      "needs_background": "light"
     },
     "output_type": "display_data"
    },
    {
     "data": {
      "image/png": "[encoded data removed]",
      "text/plain": [
       "<Figure size 432x288 with 1 Axes>"
      ]
     },
     "metadata": {
      "needs_background": "light"
     },
     "output_type": "display_data"
    },
    {
     "data": {
      "image/png": "[encoded data removed]",
      "text/plain": [
       "<Figure size 432x288 with 1 Axes>"
      ]
     },
     "metadata": {
      "needs_background": "light"
     },
     "output_type": "display_data"
    },
    {
     "data": {
      "image/png": "[encoded data removed]",
      "text/plain": [
       "<Figure size 432x288 with 1 Axes>"
      ]
     },
     "metadata": {
      "needs_background": "light"
     },
     "output_type": "display_data"
    },
    {
     "data": {
      "image/png": "[encoded data removed]",
      "text/plain": [
       "<Figure size 432x288 with 1 Axes>"
      ]
     },
     "metadata": {
      "needs_background": "light"
     },
     "output_type": "display_data"
    },
    {
     "data": {
      "image/png": "[encoded data removed]",
      "text/plain": [
       "<Figure size 432x288 with 1 Axes>"
      ]
     },
     "metadata": {
      "needs_background": "light"
     },
     "output_type": "display_data"
    }
   ],
   "source": [
    "all_errors = dict()\n",
    "for model, prediction in predictions.items():\n",
    "    errors = []\n",
    "    for i in range(len(y_test)):\n",
    "        errors.append(abs(y_test.iloc[i] - prediction[i]))\n",
    "    all_errors[model] = errors\n",
    "\n",
    "all_errors\n",
    "for model_name, errors in all_errors.items():\n",
    "    pd.DataFrame(errors).hist(bins = 100)\n",
    "    plt.title(model_name)\n",
    "    plt.xlabel(\"Error\")\n",
    "    plt.show()"
   ]
  },
  {
   "cell_type": "code",
   "execution_count": null,
   "metadata": {},
   "outputs": [],
   "source": []
  }
 ],
 "metadata": {
  "kernelspec": {
   "display_name": "Python 3",
   "language": "python",
   "name": "python3"
  },
  "language_info": {
   "codemirror_mode": {
    "name": "ipython",
    "version": 3
   },
   "file_extension": ".py",
   "mimetype": "text/x-python",
   "name": "python",
   "nbconvert_exporter": "python",
   "pygments_lexer": "ipython3",
   "version": "3.8.3"
  }
 },
 "nbformat": 4,
 "nbformat_minor": 4
}
